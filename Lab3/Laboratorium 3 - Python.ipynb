{
 "cells": [
  {
   "cell_type": "code",
   "execution_count": 2,
   "id": "a806fae3",
   "metadata": {},
   "outputs": [],
   "source": [
    "import numpy as np\n",
    "import scipy.sparse as sp\n",
    "from sklearn.utils.extmath import randomized_svd"
   ]
  },
  {
   "cell_type": "markdown",
   "id": "21909ca3",
   "metadata": {},
   "source": [
    "### Generowanie macierzy rzadkich"
   ]
  },
  {
   "cell_type": "code",
   "execution_count": 3,
   "id": "ebf4fdae",
   "metadata": {},
   "outputs": [],
   "source": [
    "def sparse_matrix(rows, cols, density):\n",
    "    return sp.rand(rows, cols, density=density)"
   ]
  },
  {
   "cell_type": "markdown",
   "id": "f0b586e3",
   "metadata": {},
   "source": [
    "### Klasa węzła"
   ]
  },
  {
   "cell_type": "code",
   "execution_count": 4,
   "id": "56c98f77",
   "metadata": {},
   "outputs": [],
   "source": [
    "class CompressNode:\n",
    "    def __init__(self, rank=0, children=None, singular_values=None, U=None, V=None, size=None):\n",
    "        self.rank = rank\n",
    "        self.children = children\n",
    "        self.s = singular_values\n",
    "        self.U = U\n",
    "        self.V = V\n",
    "        self.size = size\n",
    "        self.val = None\n",
    "        \n",
    "    def append_child(self, child):\n",
    "        self.children.append(child)\n",
    "    \n",
    "    def __str__(self):\n",
    "        return f'Node: rank = {self.rank}; children: {self.children}; s: {self.s}; U = {self.U}; V = {self.V}, size = {self.size}'"
   ]
  },
  {
   "cell_type": "code",
   "execution_count": 5,
   "id": "6c3f58ec",
   "metadata": {},
   "outputs": [],
   "source": [
    "def compress_matrix(m, U, s, V, r, epsilon):\n",
    "    if (m == 0).all():\n",
    "        v = CompressNode(size=m.shape)\n",
    "        return v\n",
    "    else:  \n",
    "        s_no = len(s[s > epsilon])\n",
    "        \n",
    "        rank = max(min(r, s_no), 1) # Tego też nie jestem pewny\n",
    "        \n",
    "        D = np.diag(s[0:rank])\n",
    "        v = CompressNode(rank=rank, singular_values=s[0:rank], U=U[:, 0:rank], V=D@V[0:rank, :], size=m.shape)\n",
    "        return v\n",
    "        "
   ]
  },
  {
   "cell_type": "code",
   "execution_count": 6,
   "id": "2dca04b4",
   "metadata": {},
   "outputs": [],
   "source": [
    "def create_tree(m, r, epsilon):\n",
    "    rank = min(r, m.shape[0])\n",
    "    \n",
    "    svd = TruncatedSVD(n_components=rank)\n",
    "    U = svd.fit_transform(m)\n",
    "    s = svd.singular_values_\n",
    "    V = svd.components_\n",
    "    \n",
    "    if s[rank - 1] < epsilon: # nie wiem czy nie powinno być s[r - 1] < epsilon - tak jest na wykładzie\n",
    "        v = compress_matrix(m, U, s, V, r, epsilon)\n",
    "        return v\n",
    "    else:\n",
    "        v = CompressNode(children=[], singular_values=[],U=[], V=[])\n",
    "        Y, X = m.shape\n",
    "        v.append_child(create_tree(m[0: Y // 2, 0 : X // 2], r, epsilon))\n",
    "        v.append_child(create_tree(m[0: Y // 2, X // 2: X], r, epsilon))\n",
    "        v.append_child(create_tree(m[Y // 2: Y, 0 : X // 2], r, epsilon))\n",
    "        v.append_child(create_tree(m[Y // 2: Y, X // 2: X], r, epsilon))\n",
    "        return v"
   ]
  },
  {
   "cell_type": "markdown",
   "id": "cd45cc02",
   "metadata": {},
   "source": [
    "### Kompresja"
   ]
  },
  {
   "cell_type": "code",
   "execution_count": 7,
   "id": "f4741aa9",
   "metadata": {},
   "outputs": [],
   "source": [
    "def compress_matrix(matrix, U, s, V, r):\n",
    "    node = None\n",
    "    if (matrix == 0).all():\n",
    "        node = CompressNode(rank=0, size=matrix.shape)\n",
    "    \n",
    "    else:\n",
    "        D = np.diag(s)\n",
    "        node = CompressNode(rank=r, singular_values=s[:r], U=U[:, :r], V=D[:r, :r] @ V[:r, ], \n",
    "                            size=matrix.shape)\n",
    "    \n",
    "    return node"
   ]
  },
  {
   "cell_type": "code",
   "execution_count": 8,
   "id": "5acef142",
   "metadata": {},
   "outputs": [],
   "source": [
    "def create_tree(matrix, r, epsilon):\n",
    "    U, s, V = randomized_svd(matrix, n_components=r)\n",
    "    \n",
    "    node = None\n",
    "    if s[-1] < epsilon:\n",
    "        node = compress_matrix(matrix, U, s, V, r)\n",
    "    \n",
    "    else:\n",
    "        Y, X = matrix.shape\n",
    "        \n",
    "        if Y == X == 1:\n",
    "            node = CompressNode(rank=1, size=(1, 1))\n",
    "            node.val = matrix\n",
    "            return node\n",
    "        \n",
    "        node = CompressNode(rank=r, children=[], size=(Y, X))\n",
    "        \n",
    "        # 4 childrens\n",
    "        \n",
    "        node.append_child(create_tree(matrix[0: Y // 2, 0: X // 2], r, epsilon))\n",
    "        node.append_child(create_tree(matrix[0: Y // 2, X // 2: X], r, epsilon))\n",
    "        node.append_child(create_tree(matrix[Y // 2: Y, 0: X // 2], r, epsilon))\n",
    "        node.append_child(create_tree(matrix[Y // 2: Y, X // 2: X], r, epsilon))\n",
    "        \n",
    "    return node\n"
   ]
  },
  {
   "cell_type": "markdown",
   "id": "1a416c15",
   "metadata": {},
   "source": [
    "### Dekompresja"
   ]
  },
  {
   "cell_type": "code",
   "execution_count": 9,
   "id": "9450a05f",
   "metadata": {},
   "outputs": [],
   "source": [
    "def decompression(root):\n",
    "    if root.U is None and root.V is None and root.rank == 0: # Only zeros\n",
    "        return np.zeros(root.size)\n",
    "    \n",
    "    elif root.children is None: # Leaf\n",
    "        if root.val is not None: # Leaf\n",
    "            return root.val\n",
    "        return root.U @ root.V # maybe @singular_values, but I think it has already done\n",
    "    \n",
    "    else:\n",
    "        children_dec = [decompression(child) for child in root.children]\n",
    "        \n",
    "        \n",
    "        return np.vstack((np.hstack((children_dec[0], children_dec[1])),\n",
    "                        np.hstack((children_dec[2], children_dec[3]))))    "
   ]
  },
  {
   "cell_type": "markdown",
   "id": "c4e002d4",
   "metadata": {},
   "source": [
    "### Różnica"
   ]
  },
  {
   "cell_type": "code",
   "execution_count": 10,
   "id": "46d6429d",
   "metadata": {},
   "outputs": [],
   "source": [
    "def diff(original, decompressed):\n",
    "    return np.square(original - decompressed)"
   ]
  },
  {
   "cell_type": "code",
   "execution_count": 25,
   "id": "1b42037e",
   "metadata": {},
   "outputs": [],
   "source": [
    "import matplotlib.pyplot as plt\n",
    "import scipy.sparse as sp\n",
    "\n",
    "# Wizualizacja macierzy\n",
    "def wisualize_matrix(sparse_matrix):\n",
    "    plt.imshow(sparse_matrix.toarray(), cmap='Greys', interpolation='none')\n",
    "    plt.title('Macierz Rzadka')\n",
    "    plt.colorbar(label='Wartość')\n",
    "    plt.show()"
   ]
  },
  {
   "cell_type": "code",
   "execution_count": 24,
   "id": "55d7616c",
   "metadata": {},
   "outputs": [
    {
     "data": {
      "image/png": "[encoded data removed]",
      "text/plain": [
       "<Figure size 640x480 with 2 Axes>"
      ]
     },
     "metadata": {},
     "output_type": "display_data"
    }
   ],
   "source": [
    "matrix = sparse_matrix(8, 8, 1)\n",
    "\n",
    "wisualize_sparsed_matrix(matrix)"
   ]
  }
 ],
 "metadata": {
  "kernelspec": {
   "display_name": "Python 3 (ipykernel)",
   "language": "python",
   "name": "python3"
  },
  "language_info": {
   "codemirror_mode": {
    "name": "ipython",
    "version": 3
   },
   "file_extension": ".py",
   "mimetype": "text/x-python",
   "name": "python",
   "nbconvert_exporter": "python",
   "pygments_lexer": "ipython3",
   "version": "3.11.7"
  }
 },
 "nbformat": 4,
 "nbformat_minor": 5
}
