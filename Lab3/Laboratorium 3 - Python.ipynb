{
 "cells": [
  {
   "cell_type": "code",
   "execution_count": 1,
   "id": "a806fae3",
   "metadata": {},
   "outputs": [],
   "source": [
    "import numpy as np\n",
    "import scipy.sparse as sp\n",
    "from sklearn.utils.extmath import randomized_svd"
   ]
  },
  {
   "cell_type": "markdown",
   "id": "21909ca3",
   "metadata": {},
   "source": [
    "### Generowanie macierzy rzadkich"
   ]
  },
  {
   "cell_type": "code",
   "execution_count": 9,
   "id": "ebf4fdae",
   "metadata": {},
   "outputs": [],
   "source": [
    "def sparse_matrix(rows, cols, density):\n",
    "    return sp.rand(rows, cols, density=density).toarray()"
   ]
  },
  {
   "cell_type": "markdown",
   "id": "f0b586e3",
   "metadata": {},
   "source": [
    "### Klasa węzła"
   ]
  },
  {
   "cell_type": "code",
   "execution_count": 10,
   "id": "56c98f77",
   "metadata": {},
   "outputs": [],
   "source": [
    "class CompressNode:\n",
    "    def __init__(self, rank=0, children=None, singular_values=None, U=None, V=None, size=None):\n",
    "        self.rank = rank\n",
    "        self.children = children\n",
    "        self.s = singular_values\n",
    "        self.U = U\n",
    "        self.V = V\n",
    "        self.size = size\n",
    "        self.val = None\n",
    "        \n",
    "    def append_child(self, child):\n",
    "        self.children.append(child)\n",
    "    \n",
    "    def __str__(self):\n",
    "        return f'Node: rank = {self.rank}; children: {self.children}; s: {self.s}; U = {self.U}; V = {self.V}, size = {self.size}'"
   ]
  },
  {
   "cell_type": "markdown",
   "id": "cd45cc02",
   "metadata": {},
   "source": [
    "### Kompresja"
   ]
  },
  {
   "cell_type": "code",
   "execution_count": 11,
   "id": "f4741aa9",
   "metadata": {},
   "outputs": [],
   "source": [
    "def compress_matrix(matrix, U, s, V, r):\n",
    "    node = None\n",
    "    if (matrix == 0).all():\n",
    "        node = CompressNode(rank=0, size=matrix.shape)\n",
    "    \n",
    "    else:\n",
    "        D = np.diag(s)\n",
    "        node = CompressNode(rank=r, singular_values=s[:r], U=U[:, :r], V=D[:r, :r] @ V[:r, ], \n",
    "                            size=matrix.shape)\n",
    "    \n",
    "    return node"
   ]
  },
  {
   "cell_type": "code",
   "execution_count": 12,
   "id": "5acef142",
   "metadata": {},
   "outputs": [],
   "source": [
    "def create_tree(matrix, r, epsilon):\n",
    "    U, s, V = randomized_svd(matrix, n_components=r)\n",
    "    \n",
    "    node = None\n",
    "    if s[-1] < epsilon:\n",
    "        node = compress_matrix(matrix, U, s, V, r)\n",
    "    \n",
    "    else:\n",
    "        Y, X = matrix.shape\n",
    "        \n",
    "        if Y == X == 1:\n",
    "            node = CompressNode(rank=1, size=(1, 1))\n",
    "            node.val = matrix\n",
    "            return node\n",
    "        \n",
    "        node = CompressNode(rank=r, children=[], size=(Y, X))\n",
    "        \n",
    "        # 4 childrens\n",
    "        \n",
    "        node.append_child(create_tree(matrix[0: Y // 2, 0: X // 2], r, epsilon))\n",
    "        node.append_child(create_tree(matrix[0: Y // 2, X // 2: X], r, epsilon))\n",
    "        node.append_child(create_tree(matrix[Y // 2: Y, 0: X // 2], r, epsilon))\n",
    "        node.append_child(create_tree(matrix[Y // 2: Y, X // 2: X], r, epsilon))\n",
    "        \n",
    "    return node\n"
   ]
  },
  {
   "cell_type": "markdown",
   "id": "1a416c15",
   "metadata": {},
   "source": [
    "### Dekompresja"
   ]
  },
  {
   "cell_type": "code",
   "execution_count": 13,
   "id": "9450a05f",
   "metadata": {},
   "outputs": [],
   "source": [
    "def decompression(root):\n",
    "    if root.U is None and root.V is None and root.rank == 0: # Only zeros\n",
    "        return np.zeros(root.size)\n",
    "    \n",
    "    elif root.children is None: # Leaf\n",
    "        if root.val is not None: # Leaf\n",
    "            return root.val\n",
    "        return root.U @ root.V # maybe @singular_values, but I think it has already done\n",
    "    \n",
    "    else:\n",
    "        children_dec = [decompression(child) for child in root.children]\n",
    "        \n",
    "        \n",
    "        return np.vstack((np.hstack((children_dec[0], children_dec[1])),\n",
    "                        np.hstack((children_dec[2], children_dec[3]))))    "
   ]
  },
  {
   "cell_type": "markdown",
   "id": "c4e002d4",
   "metadata": {},
   "source": [
    "### Różnica"
   ]
  },
  {
   "cell_type": "code",
   "execution_count": 28,
   "id": "46d6429d",
   "metadata": {},
   "outputs": [],
   "source": [
    "def diff(original, decompressed):\n",
    "    return np.sum(np.square(original - decompressed))"
   ]
  },
  {
   "cell_type": "code",
   "execution_count": 19,
   "id": "1b42037e",
   "metadata": {},
   "outputs": [],
   "source": [
    "import matplotlib.pyplot as plt\n",
    "import scipy.sparse as sp\n",
    "\n",
    "# Wizualizacja macierzy\n",
    "def wisualize_matrix(sparse_matrix):\n",
    "    plt.imshow(sparse_matrix, cmap='Greys', interpolation='none')\n",
    "    plt.title('Macierz Rzadka')\n",
    "    plt.colorbar(label='Wartość')\n",
    "    plt.show()"
   ]
  },
  {
   "cell_type": "code",
   "execution_count": 20,
   "id": "55d7616c",
   "metadata": {},
   "outputs": [
    {
     "data": {
      "image/png": "[encoded data removed]",
      "text/plain": [
       "<Figure size 640x480 with 2 Axes>"
      ]
     },
     "metadata": {},
     "output_type": "display_data"
    }
   ],
   "source": [
    "matrix = sparse_matrix(8, 8, 1)\n",
    "\n",
    "wisualize_matrix(matrix)"
   ]
  },
  {
   "cell_type": "code",
   "execution_count": 35,
   "id": "8c5b5de5",
   "metadata": {},
   "outputs": [
    {
     "data": {
      "text/plain": [
       "array([[0.87292654, 0.34712816, 0.33188647, 0.        , 0.87384452,\n",
       "        0.18528125, 0.43051197, 0.        ],\n",
       "       [0.        , 0.01520573, 0.        , 0.        , 0.        ,\n",
       "        0.93605004, 0.        , 0.86608126],\n",
       "       [0.62260958, 0.        , 0.48067952, 0.38761181, 0.        ,\n",
       "        0.        , 0.81403099, 0.67065723],\n",
       "       [0.57310861, 0.        , 0.38504632, 0.        , 0.77563064,\n",
       "        0.        , 0.12156328, 0.        ],\n",
       "       [0.5183385 , 0.        , 0.34417611, 0.14568113, 0.        ,\n",
       "        0.        , 0.40638489, 0.70521945],\n",
       "       [0.47620698, 0.98834122, 0.49923108, 0.        , 0.        ,\n",
       "        0.81331071, 0.03988587, 0.        ],\n",
       "       [0.27303414, 0.        , 0.        , 0.        , 0.        ,\n",
       "        0.        , 0.4812804 , 0.        ],\n",
       "       [0.        , 0.48181027, 0.        , 0.        , 0.        ,\n",
       "        0.        , 0.        , 0.17702039]])"
      ]
     },
     "execution_count": 35,
     "metadata": {},
     "output_type": "execute_result"
    }
   ],
   "source": [
    "matrix = sparse_matrix(8, 8, 0.5)\n",
    "matrix"
   ]
  },
  {
   "cell_type": "code",
   "execution_count": 36,
   "id": "a0d7ff82",
   "metadata": {},
   "outputs": [],
   "source": [
    "compressed = create_tree(matrix, r=2, epsilon=10*-12)"
   ]
  },
  {
   "cell_type": "code",
   "execution_count": 37,
   "id": "ebe7edf7",
   "metadata": {},
   "outputs": [],
   "source": [
    "decompressed = decompression(compressed)"
   ]
  },
  {
   "cell_type": "code",
   "execution_count": 38,
   "id": "e3d0f7aa",
   "metadata": {},
   "outputs": [
    {
     "data": {
      "text/plain": [
       "array([[0.87292654, 0.34712816, 0.33188647, 0.        , 0.87384452,\n",
       "        0.18528125, 0.43051197, 0.        ],\n",
       "       [0.        , 0.01520573, 0.        , 0.        , 0.        ,\n",
       "        0.93605004, 0.        , 0.86608126],\n",
       "       [0.62260958, 0.        , 0.48067952, 0.38761181, 0.        ,\n",
       "        0.        , 0.81403099, 0.67065723],\n",
       "       [0.57310861, 0.        , 0.38504632, 0.        , 0.77563064,\n",
       "        0.        , 0.12156328, 0.        ],\n",
       "       [0.5183385 , 0.        , 0.34417611, 0.14568113, 0.        ,\n",
       "        0.        , 0.40638489, 0.70521945],\n",
       "       [0.47620698, 0.98834122, 0.49923108, 0.        , 0.        ,\n",
       "        0.81331071, 0.03988587, 0.        ],\n",
       "       [0.27303414, 0.        , 0.        , 0.        , 0.        ,\n",
       "        0.        , 0.4812804 , 0.        ],\n",
       "       [0.        , 0.48181027, 0.        , 0.        , 0.        ,\n",
       "        0.        , 0.        , 0.17702039]])"
      ]
     },
     "execution_count": 38,
     "metadata": {},
     "output_type": "execute_result"
    }
   ],
   "source": [
    "decompressed"
   ]
  },
  {
   "cell_type": "code",
   "execution_count": 39,
   "id": "5859af6f",
   "metadata": {},
   "outputs": [
    {
     "name": "stdout",
     "output_type": "stream",
     "text": [
      "0.0\n"
     ]
    }
   ],
   "source": [
    "print(diff(matrix, decompressed))"
   ]
  },
  {
   "cell_type": "code",
   "execution_count": null,
   "id": "b6b2031f",
   "metadata": {},
   "outputs": [],
   "source": []
  }
 ],
 "metadata": {
  "kernelspec": {
   "display_name": "Python 3 (ipykernel)",
   "language": "python",
   "name": "python3"
  },
  "language_info": {
   "codemirror_mode": {
    "name": "ipython",
    "version": 3
   },
   "file_extension": ".py",
   "mimetype": "text/x-python",
   "name": "python",
   "nbconvert_exporter": "python",
   "pygments_lexer": "ipython3",
   "version": "3.11.5"
  }
 },
 "nbformat": 4,
 "nbformat_minor": 5
}
