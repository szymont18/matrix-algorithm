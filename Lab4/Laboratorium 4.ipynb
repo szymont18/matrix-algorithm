{
 "cells": [
  {
   "cell_type": "code",
   "execution_count": 1,
   "id": "61c42450",
   "metadata": {},
   "outputs": [],
   "source": [
    "import numpy as np\n",
    "from heapq import *"
   ]
  },
  {
   "cell_type": "code",
   "execution_count": 2,
   "id": "84bc4416",
   "metadata": {},
   "outputs": [],
   "source": [
    "def generate_matrix(k):\n",
    "    n = 2 ** (3 * k)\n",
    "    coeffs = np.random.random((n, n))\n",
    "    matrix = np.zeros((n, n))\n",
    "    \n",
    "    row_length = 2 ** k\n",
    "    neighbours = [-1, 1, row_length, -row_length, row_length ** 2, -(row_length ** 2)]\n",
    "    \n",
    "    for i in range(n):\n",
    "        for neigh in neighbours:\n",
    "            neight_id = i + neigh\n",
    "            matrix[i, i] = 1\n",
    "            if neight_id < 0 or neight_id >= n: \n",
    "                continue\n",
    "                \n",
    "            # Same row\n",
    "            if neight_id // row_length == i // row_length:\n",
    "                matrix[i, neight_id] = 1\n",
    "            \n",
    "            # Same column\n",
    "            elif neight_id % row_length == i % row_length:\n",
    "                matrix[i, neight_id] = 1\n",
    "            \n",
    "            # Same in third dimension\n",
    "            else:\n",
    "                matrix[i, neight_id] = 1\n",
    "    \n",
    "    matrix = matrix * coeffs\n",
    "    return matrix"
   ]
  },
  {
   "cell_type": "code",
   "execution_count": 5,
   "id": "65ad55f0",
   "metadata": {},
   "outputs": [],
   "source": [
    "def graph(matrix):\n",
    "    n = len(matrix)\n",
    "    V = {}\n",
    "    for i in range(n):\n",
    "        V[i] = set()\n",
    "        for j in range(n):\n",
    "            if matrix[i, j] != 0:\n",
    "                V[i].add(j)\n",
    "    return V\n",
    "\n",
    "def minimum_degree(matrix):\n",
    "    # Create graph\n",
    "    n = len(matrix)\n",
    "    V = graph(matrix)\n",
    "    \n",
    "    pq = [(len(edge), v) for v, edge in V.items()]\n",
    "    heapify(pq)\n",
    "    visited = [False for i in range(n)]\n",
    "    permutation = []\n",
    "    \n",
    "    while pq:\n",
    "        _, v = heappop(pq)\n",
    "        if visited[v]:\n",
    "            continue\n",
    "        \n",
    "        visited[v] = True\n",
    "        permutation.append(v)\n",
    "        \n",
    "        for edge in V[v]:\n",
    "            if not visited[edge]:\n",
    "                V[edge].remove(v)\n",
    "                heappush(pq, (len(V[edge]), edge))\n",
    "    \n",
    "    return permutation  "
   ]
  },
  {
   "cell_type": "code",
   "execution_count": 6,
   "id": "1c756603",
   "metadata": {},
   "outputs": [
    {
     "name": "stdout",
     "output_type": "stream",
     "text": [
      "[1, 0, 2, 3]\n"
     ]
    }
   ],
   "source": [
    "m_test = np.array([[1, 1, 1, 1],\n",
    "                  [1, 1, 0, 0],\n",
    "                  [1, 0, 1, 1],\n",
    "                  [1, 0, 1, 1]])\n",
    "# answer: [1, 0, 2, 3] is acceptable\n",
    "print(minimum_degree(m_test))"
   ]
  },
  {
   "cell_type": "code",
   "execution_count": 16,
   "id": "3c6db1d9",
   "metadata": {},
   "outputs": [],
   "source": [
    "def cuthill_mckee(matrix):\n",
    "    n = len(matrix)\n",
    "    V = graph(matrix) # No need to sort because I use heapque\n",
    "    \n",
    "    \n",
    "    all_vertex = [(-len(edge), v) for v, edge in V.items()] # reverse heap\n",
    "    heapify(all_vertex)\n",
    "    \n",
    "    bfs_pq = [all_vertex[0]]\n",
    "    visited = [False for i in range(n)]\n",
    "    \n",
    "    permutation = []\n",
    "    while bfs_pq:\n",
    "        \n",
    "        # If graph is no consistent - bfs_pq empty but not all vertex visited\n",
    "        while not bfs_pq and all_vertex:\n",
    "            _, u = heappop(all_vertex)\n",
    "            if not visited[u]: heappush(bfs_pq, (-len(V[u]), u))\n",
    "            \n",
    "        \n",
    "        _, v = heappop(bfs_pq)\n",
    "        \n",
    "        if visited[v]:\n",
    "            continue\n",
    "        \n",
    "        visited[v] = True\n",
    "        permutation.append(v)\n",
    "        \n",
    "        for edge in V[v]:\n",
    "            if not visited[edge]:\n",
    "                heappush(bfs_pq, (-len(V[edge]), edge))\n",
    "    \n",
    "    return permutation"
   ]
  },
  {
   "cell_type": "code",
   "execution_count": 23,
   "id": "bb772ec8",
   "metadata": {},
   "outputs": [
    {
     "data": {
      "text/plain": [
       "[3, 0, 1, 2, 4, 5, 6, 7, 8]"
      ]
     },
     "execution_count": 23,
     "metadata": {},
     "output_type": "execute_result"
    }
   ],
   "source": [
    "# Z wykladu\n",
    "test2 = np.array([[1, 1, 1, 1, 0, 0, 0, 0, 0],\n",
    "                 [1, 1, 1, 1, 0, 0, 0, 0, 0],\n",
    "                  [1, 1, 1, 1, 0, 0, 0, 0, 0],\n",
    "                  [1, 1, 1, 1, 1, 0, 0, 0, 0],\n",
    "                  [0, 0, 0, 1, 1, 1, 0, 0, 0],\n",
    "                  [0, 0, 0, 0,1, 1, 1, 1, 1],\n",
    "                  [0, 0, 0, 0, 0, 1, 1, 1, 1],\n",
    "                  [0, 0, 0, 0, 0, 1, 1, 1, 1],\n",
    "                  [0, 0, 0, 0, 0, 1, 1, 1, 1]])\n",
    "\n",
    "cuthill_mckee(test2) # Działa"
   ]
  },
  {
   "cell_type": "code",
   "execution_count": 20,
   "id": "cfe0bd04",
   "metadata": {},
   "outputs": [],
   "source": [
    "def reversed_cuthill_mckee(matrix):\n",
    "    return list(reversed(cuthill_mckee(matrix)))"
   ]
  },
  {
   "cell_type": "code",
   "execution_count": 24,
   "id": "d5591b8d",
   "metadata": {},
   "outputs": [],
   "source": [
    "def permutate(matrix, p_table):\n",
    "    return matrix[p_table, :]"
   ]
  },
  {
   "cell_type": "code",
   "execution_count": null,
   "id": "741066bd",
   "metadata": {},
   "outputs": [],
   "source": []
  }
 ],
 "metadata": {
  "kernelspec": {
   "display_name": "Python 3 (ipykernel)",
   "language": "python",
   "name": "python3"
  },
  "language_info": {
   "codemirror_mode": {
    "name": "ipython",
    "version": 3
   },
   "file_extension": ".py",
   "mimetype": "text/x-python",
   "name": "python",
   "nbconvert_exporter": "python",
   "pygments_lexer": "ipython3",
   "version": "3.11.5"
  }
 },
 "nbformat": 4,
 "nbformat_minor": 5
}
