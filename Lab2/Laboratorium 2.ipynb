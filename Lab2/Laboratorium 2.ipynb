{
 "cells": [
  {
   "cell_type": "markdown",
   "id": "eae994f9",
   "metadata": {},
   "source": [
    "# Laboratorium 2"
   ]
  },
  {
   "cell_type": "markdown",
   "id": "02013d43",
   "metadata": {},
   "source": [
    "### Przypomnienie implementacji algorytmu Strassena"
   ]
  },
  {
   "cell_type": "code",
   "execution_count": 1,
   "id": "c10649fa",
   "metadata": {},
   "outputs": [],
   "source": [
    "using LinearAlgebra, DataFrames, BenchmarkTools, GFlops, Statistics, Plots"
   ]
  },
  {
   "cell_type": "code",
   "execution_count": 2,
   "id": "9842909d",
   "metadata": {},
   "outputs": [
    {
     "data": {
      "text/plain": [
       "divide_matrix (generic function with 1 method)"
      ]
     },
     "metadata": {},
     "output_type": "display_data"
    }
   ],
   "source": [
    "function divide_matrix(M, n)\n",
    "    \"\"\"\n",
    "    :return: Four pieces of Matrix M (divided in half)\n",
    "    This is an auxiliary function for strassen\n",
    "    \"\"\"\n",
    "    m = div(n, 2)\n",
    "    A11 = M[1:m, 1:m]\n",
    "    A12 = M[1:m, m+1:n]\n",
    "    A21 = M[m+1:n, 1:m]\n",
    "    A22 = M[m+1:n, m+1:n]\n",
    "\n",
    "    return A11, A12, A21, A22\n",
    "end"
   ]
  },
  {
   "cell_type": "code",
   "execution_count": 3,
   "id": "0b9ce94e",
   "metadata": {},
   "outputs": [
    {
     "data": {
      "text/plain": [
       "strassen (generic function with 1 method)"
      ]
     },
     "metadata": {},
     "output_type": "display_data"
    }
   ],
   "source": [
    "function strassen(A, B)\n",
    "    \"\"\"\n",
    "    :return: C = A * B where A, B, C are matrices\n",
    "    We can assume that dimensions of A and B are 2 ^ p.\n",
    "    \"\"\"\n",
    "    \n",
    "    n = size(A, 1)\n",
    "\n",
    "    if n == 1\n",
    "        \n",
    "        if typeof(A) == Vector{Float64} && typeof(B) == Vector{Float64}\n",
    "            return A .* B\n",
    "        end\n",
    "        \n",
    "        return A * B\n",
    "    end\n",
    "\n",
    "    A11, A12, A21, A22 = divide_matrix(A, n)\n",
    "    B11, B12, B21, B22 = divide_matrix(B, n)\n",
    "\n",
    "    \n",
    "    P1 = strassen(A11 + A22, B11 + B22)\n",
    "    P2 = strassen(A21 + A22, B11)\n",
    "    P3 = strassen(A11, B12 - B22)\n",
    "    P4 = strassen(A22, B21 - B11)\n",
    "    P5 = strassen(A11 + A12, B22)\n",
    "    P6 = strassen(A21 - A11, B11 + B12)\n",
    "    P7 = strassen(A12 - A22, B21 + B22)\n",
    "\n",
    "    C11 = P1 + P4 - P5 + P7\n",
    "    C12 = P3 + P5\n",
    "    C21 = P2 + P4\n",
    "    C22 = P1 - P2 + P3 + P6\n",
    "\n",
    "    return vcat(hcat(C11, C12), hcat(C21, C22))\n",
    "end"
   ]
  },
  {
   "cell_type": "markdown",
   "id": "9d2b519b",
   "metadata": {},
   "source": [
    "## Rekurencyjne odwracanie macierz\n"
   ]
  },
  {
   "cell_type": "markdown",
   "id": "57f6b7f9",
   "metadata": {},
   "source": [
    "### Opis algorytmu\n",
    "Algorytm przyjmuję na wejściu macierz. Jego zadaniem jest znaleźć macierz odwrotną do zadanej. Robi to metodą rekurencyjną, zgodnie z wzorami:\n",
    "\n",
    "#### Macierz A\n",
    "\\begin{bmatrix}\n",
    "A_{11} & A_{12} \\\\\n",
    "A_{21} & A_{22}\n",
    "\\end{bmatrix}\n",
    "\n",
    "\n",
    "#### Inwersja macierzy A\n",
    "\\begin{bmatrix}\n",
    "A_{11}^{-1} \\left( I + A_{12} S_{22}^{-1} A_{21} A_{11}^{-1} \\right) & -A_{11}^{-1} A_{12} S_{22}^{-1} \\\\\n",
    "-S_{22}^{-1} A_{21} A_{11}^{-1} & S_{22}^{-1}\n",
    "\\end{bmatrix} \n",
    "\n",
    "### Pseudokod\n",
    "Gdy macierzy nie da się już podzielić (macierz 1x1) wówczas jej inwersja liczona jest przy pomocy wzoru: $A^{-1} = \\frac{1}{A}$\n"
   ]
  },
  {
   "cell_type": "markdown",
   "id": "694629cd",
   "metadata": {},
   "source": [
    "### Implementacja"
   ]
  },
  {
   "cell_type": "code",
   "execution_count": 4,
   "id": "0f125d2e",
   "metadata": {},
   "outputs": [
    {
     "data": {
      "text/plain": [
       "matrix_inverse (generic function with 1 method)"
      ]
     },
     "metadata": {},
     "output_type": "display_data"
    }
   ],
   "source": [
    "struct NonSquareMatrixError <: Exception\n",
    "    message::String\n",
    "end\n",
    "\n",
    "function matrix_inverse(A)\n",
    "    \"\"\"\n",
    "    :return matrix B, such that A * B = I\n",
    "    \"\"\"\n",
    "    \n",
    "    n = size(A, 1)\n",
    "    m = size(A, 2)\n",
    "    \n",
    "    if n != m \n",
    "        throw(NonSquareMatrixError(\"Matrix is not the square\"))\n",
    "    end\n",
    "        \n",
    "    if n == 1\n",
    "        return [1 / A[1, 1]]\n",
    "    end\n",
    "    \n",
    "        \n",
    "    m = div(n, 2)\n",
    "    A11, A12, A21, A22 = divide_matrix(A, n)\n",
    "    \n",
    "    A11_inversed = matrix_inverse(A11)\n",
    "    S22 = A22 - strassen(strassen(A21, A11_inversed), A12)\n",
    "    S22_inversed = matrix_inverse(S22)\n",
    "    \n",
    "    \n",
    "    \n",
    "    B = zeros(n, n)\n",
    "    eye = Matrix{Float64}(I, div(n, 2) , div(n, 2))\n",
    "    \n",
    "    B[1:m, 1:m] = strassen(A11_inversed, eye + strassen(strassen(strassen(A12, S22_inversed), A21), A11_inversed))\n",
    "    B[1:m, m+1:n] = strassen(strassen(-A11_inversed, A12), S22_inversed)\n",
    "    B[m+1:n, 1:m] = strassen(strassen(-S22_inversed, A21), A11_inversed)\n",
    "    B[m+1:n, m+1:n] = S22_inversed\n",
    "    \n",
    "    return B\n",
    "    \n",
    "end"
   ]
  },
  {
   "cell_type": "code",
   "execution_count": 8,
   "id": "cf7ffe78",
   "metadata": {},
   "outputs": [
    {
     "name": "stdout",
     "output_type": "stream",
     "text": [
      "FALSE!!!"
     ]
    },
    {
     "name": "stdout",
     "output_type": "stream",
     "text": [
      "128\n"
     ]
    }
   ],
   "source": [
    "# To check corectness\n",
    "# This implementation may be unstable\n",
    "eps = 10 ^ -5\n",
    "min_value = 0.00000001\n",
    "max_value = 1\n",
    "for j in 1:3\n",
    "    for i in 1:8\n",
    "        A = min_value .+ (max_value - min_value) * rand(2 ^ i, 2 ^ i)\n",
    "        \n",
    "        C = matrix_inverse(A)\n",
    "        \n",
    "        B = matrix_inverse(C)\n",
    "\n",
    "        if isapprox(A, B, atol=eps) == false\n",
    "            println(\"FALSE!!!\", size(A, 1))\n",
    "            \n",
    "        end\n",
    "    end\n",
    "end"
   ]
  },
  {
   "cell_type": "markdown",
   "id": "e198dae7",
   "metadata": {},
   "source": [
    "### Pomiary"
   ]
  },
  {
   "cell_type": "code",
   "execution_count": 5,
   "id": "bba8ce9f",
   "metadata": {},
   "outputs": [],
   "source": [
    "min_value = 0.00000001\n",
    "max_value = 1\n",
    "inversion_times = DataFrame(size = [], flops= [], time = [])\n",
    "\n",
    "for i in 1: 5\n",
    "    for size in 1: 5\n",
    "        A = min_value .+ (max_value - min_value) * rand(2 ^ size, 2 ^ size)\n",
    "        m_time = @elapsed matrix_inverse(A)\n",
    "        m_flops = @count_ops matrix_inverse($A)\n",
    "        push!(inversion_times, [size * size, m_flops, m_time])\n",
    "    end\n",
    "end     "
   ]
  },
  {
   "cell_type": "code",
   "execution_count": null,
   "id": "bcd3a27f",
   "metadata": {},
   "outputs": [],
   "source": [
    "for i in 1:nrow(inversion_times)\n",
    "    inversion_times[i, :flops] = inversion_times[i, :flops].add64 + inversion_times[i, :flops].sub64 + inversion_times[i, :flops].div64 + inversion_times[i, :flops].neg64 + inversion_times[i, :flops].mul64\n",
    "end\n",
    "display(inversion_times)"
   ]
  },
  {
   "cell_type": "code",
   "execution_count": null,
   "id": "4269d537",
   "metadata": {},
   "outputs": [],
   "source": [
    "inversion_time_group = groupby(inversion_times, [:size])\n",
    "inversion_time_statistics = combine(inversion_time_group, \"time\" => mean, \"flops\" => mean, \"time\" => std, \"flops\" => std)"
   ]
  },
  {
   "cell_type": "code",
   "execution_count": null,
   "id": "ab398616",
   "metadata": {},
   "outputs": [],
   "source": [
    "plot(inversion_time_statistics.size, inversion_time_statistics.time_mean, \n",
    "    size = (600, 500), yerr=inversion_time_statistics.time_std,\n",
    "    yaxis = \"TIME[s]\", xaxis = \"SIZE\")"
   ]
  },
  {
   "cell_type": "code",
   "execution_count": null,
   "id": "008e02ff",
   "metadata": {},
   "outputs": [],
   "source": [
    "plot(inversion_time_statistics.size, inversion_time_statistics.flops_mean, \n",
    "    size = (600, 500), color=\"red\",yerr=inversion_time_statistics.flops_std,\n",
    "    yaxis = \"FLOPS\", xaxis = \"SIZE\")"
   ]
  },
  {
   "cell_type": "markdown",
   "id": "f01074e7",
   "metadata": {},
   "source": [
    "### Złożoność obliczeniowa\n",
    "Nasza implementacja odwracania macierzy, do mnożenia macierzy używa algorytmu Strassena, którego złożoność wynosi: O(n$^{\\log_2(7)}$). Złożoność obliczeniowa algorytmu to rozwiązanie równania: <br>\n",
    "<center>\n",
    "$O(n) = 2 \\cdot O\\left(\\frac{n}{2}\\right) + 10 \\cdot O(\\frac{n}{2}^{\\log_2(7)}) + d$\n",
    "</center>\n",
    "gdzie n to liczba elementów w jednym wierszu macierzy. <br>\n",
    "\n",
    "Na podstawie [Master Theorem](https://en.wikipedia.org/wiki/Master_theorem_(analysis_of_algorithms)) złożoność obliczeniowa tego  algorytmu wynosi $O({n}^{\\log_2(7)})$\n",
    "\n",
    "\n"
   ]
  },
  {
   "cell_type": "markdown",
   "id": "11e149e6",
   "metadata": {},
   "source": [
    "### Porównanie z MATLABem"
   ]
  },
  {
   "cell_type": "markdown",
   "id": "280f40c6",
   "metadata": {},
   "source": [
    "Kod w Matlab\n",
    "```Matlab\n",
    "A = [0.5488, 0.5929; \n",
    "    0.7094, 0.0734];\n",
    "\n",
    "A_inv = inv(A);\n",
    "fprintf(\"A\");\n",
    "disp(A_inv);\n",
    "\n",
    "fprintf(\"A2\");\n",
    "A2 = [0.2722, 0.1980, 0.1500, 0.4826;\n",
    "    0.6070, 0.3818, 0.2489, 0.6313;\n",
    "    0.1088, 0.9294, 0.1723, 0.5508;\n",
    "    0.3195, 0.5077, 0.3096, 0.9883];\n",
    "disp(A2);\n",
    "```"
   ]
  },
  {
   "attachments": {
    "obraz.png": {
     "image/png": "[encoded data removed]"
    }
   },
   "cell_type": "markdown",
   "id": "7edb8cbc",
   "metadata": {},
   "source": [
    "#### Wyniki\n",
    "![obraz.png](attachment:obraz.png)"
   ]
  },
  {
   "cell_type": "code",
   "execution_count": null,
   "id": "acb13a7c",
   "metadata": {},
   "outputs": [],
   "source": [
    "A = [0.5488 0.5929; \n",
    "    0.7094 0.0734];\n",
    "\n",
    "A2 = [0.2722 0.1980 0.1500 0.4826;\n",
    "    0.6070 0.3818 0.2489 0.6313;\n",
    "    0.1088 0.9294 0.1723 0.5508;\n",
    "    0.3195 0.5077 0.3096 0.9883];\n",
    "\n",
    "display(matrix_inverse(A))\n",
    "display(matrix_inverse(A2))\n"
   ]
  },
  {
   "cell_type": "markdown",
   "id": "01a817fb",
   "metadata": {},
   "source": [
    "Otrzymane macierze zgadzają się z tymi obliczonymi przy użyciu funkcji inv() w Matlabie"
   ]
  },
  {
   "cell_type": "markdown",
   "metadata": {},
   "source": [
    "## Rekurencyjna LU faktoryzacja"
   ]
  },
  {
   "cell_type": "code",
   "execution_count": 7,
   "metadata": {},
   "outputs": [
    {
     "data": {
      "text/plain": [
       "4×2 Matrix{Int64}:\n",
       " 1  2\n",
       " 3  4\n",
       " 5  6\n",
       " 7  8"
      ]
     },
     "metadata": {},
     "output_type": "display_data"
    }
   ],
   "source": [
    "A = [1 2; 3 4]\n",
    "B = [5 6; 7 8]\n",
    "\n",
    "C = vcat(A, B)\n"
   ]
  },
  {
   "cell_type": "code",
   "execution_count": 25,
   "metadata": {},
   "outputs": [
    {
     "data": {
      "text/plain": [
       "matrix_LU_factor (generic function with 1 method)"
      ]
     },
     "metadata": {},
     "output_type": "display_data"
    }
   ],
   "source": [
    "function _matrix_LU_factor(A, n)\n",
    "    if n == 2\n",
    "        a22 = A[2,2] - A[2,1] * A[1,2] / A[1,1]\n",
    "        return LowerTriangular([A[1,1] 0; A[2,1] a22]),  UnitUpperTriangular([1 A[1,2]/A[1,1]; 0 1])\n",
    "    end\n",
    "    \"\"\"\n",
    "    Helping function to matrix_LU_factor() func\n",
    "    \"\"\"\n",
    "    m = div(n, 2)\n",
    "\n",
    "    A11, A12, A21, A22 = divide_matrix(A, n)\n",
    "    L11, U11 = _matrix_LU_factor(A11, m)\n",
    "\n",
    "    U12 = inv(L11) * A12\n",
    "    L21 = A21 * inv(U11)\n",
    "\n",
    "    S = A22 - L21 * U12\n",
    "\n",
    "    L22, U22 = _matrix_LU_factor(S, m)\n",
    "\n",
    "    L = vcat(hcat(L11, zeros(m,m)), hcat(L21, L22))\n",
    "    U = vcat(hcat(U11, U12), hcat(zeros(m,m), U22))\n",
    "    return LowerTriangular(L), UnitUpperTriangular(U)\n",
    "end\n",
    "\n",
    "\n",
    "function matrix_LU_factor(A)\n",
    "    \"\"\"\n",
    "    :return matrixes L, U : L * U = A and L is upper triangular matrix and U is lower triangular matrix\n",
    "    A must be in shape (2^i, 2^i) where i is Natural\n",
    "    \"\"\"\n",
    "    \n",
    "    n = size(A, 1)\n",
    "    m = size(A, 2)\n",
    "    \n",
    "    if n != m \n",
    "        throw(NonSquareMatrixError(\"Matrix is not the square\"))\n",
    "    end\n",
    "    log2_n = log2(n)\n",
    "    if !(trunc(Int, log2_n) - log2_n ≈ 0)\n",
    "        throw(ArgumentError(\"A, not in (2^i, 2^i) shape, shape= $(size(A))\"))\n",
    "    end\n",
    "\n",
    "    return _matrix_LU_factor(A, n)\n",
    "end"
   ]
  },
  {
   "cell_type": "code",
   "execution_count": 32,
   "metadata": {},
   "outputs": [],
   "source": [
    "# To check corectness\n",
    "# This implementation may be unstable\n",
    "eps = 10 ^ -5\n",
    "min_value = 0.00000001\n",
    "max_value = 1\n",
    "for j in 1:2\n",
    "    for i in 1:8\n",
    "        A = min_value .+ (max_value - min_value) * rand(2 ^ i, 2 ^ i)\n",
    "        \n",
    "        L, U = matrix_LU_factor(A)\n",
    "        \n",
    "        B = L * U\n",
    "\n",
    "        if isapprox(A, B, atol=eps) == false\n",
    "            println(\"FALSE!!!\", size(A, 1))\n",
    "            \n",
    "        end\n",
    "    end\n",
    "end"
   ]
  },
  {
   "cell_type": "markdown",
   "metadata": {},
   "source": [
    "## Rekursywne obliczanie wyznacznika"
   ]
  },
  {
   "cell_type": "code",
   "execution_count": null,
   "metadata": {},
   "outputs": [],
   "source": [
    "function _matrix_determinant(A, n)\n",
    "    \n",
    "end\n",
    "\n",
    "function matrix_determinant(A)\n",
    "    \"\"\"\n",
    "    :return determinant of matrix\n",
    "    A must be in shape (2^i, 2^i) where i is Natural\n",
    "    \"\"\"\n",
    "    \n",
    "    n = size(A, 1)\n",
    "    m = size(A, 2)\n",
    "    \n",
    "    if n != m \n",
    "        throw(NonSquareMatrixError(\"Matrix is not the square\"))\n",
    "    end\n",
    "    log2_n = log2(n)\n",
    "    if !(trunc(Int, log2_n) - log2_n ≈ 0)\n",
    "        throw(ArgumentError(\"A, not in (2^i, 2^i) shape, shape= $(size(A))\"))\n",
    "    end\n",
    "\n",
    "    return _matrix_LU_factor(A, n)\n",
    "end"
   ]
  }
 ],
 "metadata": {
  "kernelspec": {
   "display_name": "Julia 1.9.3",
   "language": "julia",
   "name": "julia-1.9"
  },
  "language_info": {
   "file_extension": ".jl",
   "mimetype": "application/julia",
   "name": "julia",
   "version": "1.9.3"
  }
 },
 "nbformat": 4,
 "nbformat_minor": 5
}
