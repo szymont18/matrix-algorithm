{
 "cells": [
  {
   "cell_type": "markdown",
   "id": "eae994f9",
   "metadata": {},
   "source": [
    "# Laboratorium 2"
   ]
  },
  {
   "cell_type": "markdown",
   "id": "02013d43",
   "metadata": {},
   "source": [
    "### Przypomnienie implementacji algorytmu Strassena"
   ]
  },
  {
   "cell_type": "code",
   "execution_count": 45,
   "id": "c10649fa",
   "metadata": {},
   "outputs": [],
   "source": [
    "using LinearAlgebra, DataFrames, BenchmarkTools, GFlops, Statistics, Plots"
   ]
  },
  {
   "cell_type": "code",
   "execution_count": 2,
   "id": "9842909d",
   "metadata": {},
   "outputs": [
    {
     "data": {
      "text/plain": [
       "divide_matrix (generic function with 1 method)"
      ]
     },
     "execution_count": 2,
     "metadata": {},
     "output_type": "execute_result"
    }
   ],
   "source": [
    "function divide_matrix(M, n)\n",
    "    \"\"\"\n",
    "    :return: Four pieces of Matrix M (divided in half)\n",
    "    This is an auxiliary function for strassen\n",
    "    \"\"\"\n",
    "    m = div(n, 2)\n",
    "    A11 = M[1:m, 1:m]\n",
    "    A12 = M[1:m, m+1:n]\n",
    "    A21 = M[m+1:n, 1:m]\n",
    "    A22 = M[m+1:n, m+1:n]\n",
    "\n",
    "    return A11, A12, A21, A22\n",
    "end"
   ]
  },
  {
   "cell_type": "code",
   "execution_count": 3,
   "id": "0b9ce94e",
   "metadata": {},
   "outputs": [
    {
     "data": {
      "text/plain": [
       "strassen (generic function with 1 method)"
      ]
     },
     "execution_count": 3,
     "metadata": {},
     "output_type": "execute_result"
    }
   ],
   "source": [
    "function strassen(A, B)\n",
    "    \"\"\"\n",
    "    :return: C = A * B where A, B, C are matrices\n",
    "    We can assume that dimensions of A and B are 2 ^ p.\n",
    "    \"\"\"\n",
    "    \n",
    "    n = size(A, 1)\n",
    "\n",
    "    if n == 1\n",
    "        \n",
    "        if typeof(A) == Vector{Float64} && typeof(B) == Vector{Float64}\n",
    "            return A .* B\n",
    "        end\n",
    "        \n",
    "        return A * B\n",
    "    end\n",
    "\n",
    "    A11, A12, A21, A22 = divide_matrix(A, n)\n",
    "    B11, B12, B21, B22 = divide_matrix(B, n)\n",
    "\n",
    "    \n",
    "    P1 = strassen(A11 + A22, B11 + B22)\n",
    "    P2 = strassen(A21 + A22, B11)\n",
    "    P3 = strassen(A11, B12 - B22)\n",
    "    P4 = strassen(A22, B21 - B11)\n",
    "    P5 = strassen(A11 + A12, B22)\n",
    "    P6 = strassen(A21 - A11, B11 + B12)\n",
    "    P7 = strassen(A12 - A22, B21 + B22)\n",
    "\n",
    "    C11 = P1 + P4 - P5 + P7\n",
    "    C12 = P3 + P5\n",
    "    C21 = P2 + P4\n",
    "    C22 = P1 - P2 + P3 + P6\n",
    "\n",
    "    return vcat(hcat(C11, C12), hcat(C21, C22))\n",
    "end"
   ]
  },
  {
   "cell_type": "markdown",
   "id": "9d2b519b",
   "metadata": {},
   "source": [
    "## Rekurencyjne odwracanie macierz\n"
   ]
  },
  {
   "cell_type": "markdown",
   "id": "57f6b7f9",
   "metadata": {},
   "source": [
    "### Opis algorytmu\n",
    "Algorytm przyjmuję na wejściu macierz. Jego zadaniem jest znaleźć macierz odwrotną do zadanej. Robi to metodą rekurencyjną, zgodnie z wzorami:\n",
    "\n",
    "#### Macierz A\n",
    "\\begin{bmatrix}\n",
    "A_{11} & A_{12} \\\\\n",
    "A_{21} & A_{22}\n",
    "\\end{bmatrix}\n",
    "\n",
    "\n",
    "#### Inwersja macierzy A\n",
    "\\begin{bmatrix}\n",
    "A_{11}^{-1} \\left( I + A_{12} S_{22}^{-1} A_{21} A_{11}^{-1} \\right) & -A_{11}^{-1} A_{12} S_{22}^{-1} \\\\\n",
    "-S_{22}^{-1} A_{21} A_{11}^{-1} & S_{22}^{-1}\n",
    "\\end{bmatrix} \n",
    "\n",
    "### Pseudokod\n",
    "Gdy macierzy nie da się już podzielić (macierz 1x1) wówczas jej inwersja liczona jest przy pomocy wzoru: $A^{-1} = \\frac{1}{A}$\n"
   ]
  },
  {
   "cell_type": "markdown",
   "id": "694629cd",
   "metadata": {},
   "source": [
    "### Implementacja"
   ]
  },
  {
   "cell_type": "code",
   "execution_count": 4,
   "id": "0f125d2e",
   "metadata": {},
   "outputs": [
    {
     "data": {
      "text/plain": [
       "matrix_inverse (generic function with 1 method)"
      ]
     },
     "execution_count": 4,
     "metadata": {},
     "output_type": "execute_result"
    }
   ],
   "source": [
    "struct NonSquareMatrixError <: Exception\n",
    "    message::String\n",
    "end\n",
    "\n",
    "function matrix_inverse(A)\n",
    "    \"\"\"\n",
    "    :return matrix B, such that A * B = I\n",
    "    \"\"\"\n",
    "    \n",
    "    n = size(A, 1)\n",
    "    m = size(A, 2)\n",
    "    \n",
    "    if n != m \n",
    "        throw(NonSquareMatrixError(\"Matrix is not the square\"))\n",
    "    end\n",
    "        \n",
    "    if n == 1\n",
    "        return [1 / A[1, 1]]\n",
    "    end\n",
    "    \n",
    "        \n",
    "    m = div(n, 2)\n",
    "    A11, A12, A21, A22 = divide_matrix(A, n)\n",
    "    \n",
    "    A11_inversed = matrix_inverse(A11)\n",
    "    S22 = A22 - strassen(strassen(A21, A11_inversed), A12)\n",
    "    S22_inversed = matrix_inverse(S22)\n",
    "    \n",
    "    \n",
    "    \n",
    "    B = zeros(n, n)\n",
    "    eye = Matrix{Float64}(I, div(n, 2) , div(n, 2))\n",
    "    \n",
    "    B[1:m, 1:m] = strassen(A11_inversed, eye + strassen(strassen(strassen(A12, S22_inversed), A21), A11_inversed))\n",
    "    B[1:m, m+1:n] = strassen(strassen(-A11_inversed, A12), S22_inversed)\n",
    "    B[m+1:n, 1:m] = strassen(strassen(-S22_inversed, A21), A11_inversed)\n",
    "    B[m+1:n, m+1:n] = S22_inversed\n",
    "    \n",
    "    return B\n",
    "    \n",
    "end"
   ]
  },
  {
   "cell_type": "code",
   "execution_count": null,
   "id": "cf7ffe78",
   "metadata": {},
   "outputs": [],
   "source": [
    "# To check corectness\n",
    "# This implementation may be unstable\n",
    "eps = 10 ^ -5\n",
    "min_value = 0.00000001\n",
    "max_value = 1\n",
    "for j in 1:3\n",
    "    for i in 1:8\n",
    "        A = min_value .+ (max_value - min_value) * rand(2 ^ i, 2 ^ i)\n",
    "        \n",
    "        C = matrix_inverse(A)\n",
    "        \n",
    "        B = matrix_inverse(C)\n",
    "\n",
    "        if isapprox(A, B, atol=eps) == false\n",
    "            println(\"FALSE!!!\", size(A, 1))\n",
    "            \n",
    "        end\n",
    "    end\n",
    "end"
   ]
  },
  {
   "cell_type": "markdown",
   "id": "e198dae7",
   "metadata": {},
   "source": [
    "### Pomiary"
   ]
  },
  {
   "cell_type": "code",
   "execution_count": 41,
   "id": "bba8ce9f",
   "metadata": {},
   "outputs": [],
   "source": [
    "min_value = 0.00000001\n",
    "max_value = 1\n",
    "inversion_times = DataFrame(size = [], flops= [], time = [])\n",
    "\n",
    "for i in 1: 5\n",
    "    for size in 1: 8\n",
    "        A = min_value .+ (max_value - min_value) * rand(2 ^ size, 2 ^ size)\n",
    "        m_time = @elapsed matrix_inverse(A)\n",
    "        m_flops = @count_ops matrix_inverse($A)\n",
    "        push!(inversion_times, [size * size, m_flops, m_time])\n",
    "    end\n",
    "end     "
   ]
  },
  {
   "cell_type": "code",
   "execution_count": 42,
   "id": "bcd3a27f",
   "metadata": {},
   "outputs": [
    {
     "data": {
      "text/html": [
       "<div class=\"data-frame\"><p>40 rows × 3 columns</p><table class=\"data-frame\"><thead><tr><th></th><th>size</th><th>flops</th><th>time</th></tr><tr><th></th><th title=\"Any\">Any</th><th title=\"Any\">Any</th><th title=\"Any\">Any</th></tr></thead><tbody><tr><th>1</th><td>1</td><td>6</td><td>0.000372</td></tr><tr><th>2</th><td>4</td><td>208</td><td>0.0141748</td></tr><tr><th>3</th><td>9</td><td>2460</td><td>0.0003199</td></tr><tr><th>4</th><td>16</td><td>21916</td><td>0.0024123</td></tr><tr><th>5</th><td>25</td><td>173556</td><td>0.014207</td></tr><tr><th>6</th><td>36</td><td>1298188</td><td>0.134042</td></tr><tr><th>7</th><td>49</td><td>9425940</td><td>0.886557</td></tr><tr><th>8</th><td>64</td><td>67346956</td><td>7.52373</td></tr><tr><th>9</th><td>1</td><td>6</td><td>1.95e-5</td></tr><tr><th>10</th><td>4</td><td>208</td><td>4.06e-5</td></tr><tr><th>11</th><td>9</td><td>2460</td><td>0.0002941</td></tr><tr><th>12</th><td>16</td><td>21916</td><td>0.0036508</td></tr><tr><th>13</th><td>25</td><td>173556</td><td>0.048222</td></tr><tr><th>14</th><td>36</td><td>1298188</td><td>0.301835</td></tr><tr><th>15</th><td>49</td><td>9425940</td><td>1.15575</td></tr><tr><th>16</th><td>64</td><td>67346956</td><td>7.45513</td></tr><tr><th>17</th><td>1</td><td>6</td><td>1.7e-5</td></tr><tr><th>18</th><td>4</td><td>208</td><td>4.18e-5</td></tr><tr><th>19</th><td>9</td><td>2460</td><td>0.000324</td></tr><tr><th>20</th><td>16</td><td>21916</td><td>0.0060364</td></tr><tr><th>21</th><td>25</td><td>173556</td><td>0.018824</td></tr><tr><th>22</th><td>36</td><td>1298188</td><td>0.14673</td></tr><tr><th>23</th><td>49</td><td>9425940</td><td>1.0181</td></tr><tr><th>24</th><td>64</td><td>67346956</td><td>7.29876</td></tr><tr><th>25</th><td>1</td><td>6</td><td>1.96e-5</td></tr><tr><th>26</th><td>4</td><td>208</td><td>4.14e-5</td></tr><tr><th>27</th><td>9</td><td>2460</td><td>0.0003273</td></tr><tr><th>28</th><td>16</td><td>21916</td><td>0.0023597</td></tr><tr><th>29</th><td>25</td><td>173556</td><td>0.0174161</td></tr><tr><th>30</th><td>36</td><td>1298188</td><td>0.158495</td></tr><tr><th>&vellip;</th><td>&vellip;</td><td>&vellip;</td><td>&vellip;</td></tr></tbody></table></div>"
      ],
      "text/latex": [
       "\\begin{tabular}{r|ccc}\n",
       "\t& size & flops & time\\\\\n",
       "\t\\hline\n",
       "\t& Any & Any & Any\\\\\n",
       "\t\\hline\n",
       "\t1 & 1 & 6 & 0.000372 \\\\\n",
       "\t2 & 4 & 208 & 0.0141748 \\\\\n",
       "\t3 & 9 & 2460 & 0.0003199 \\\\\n",
       "\t4 & 16 & 21916 & 0.0024123 \\\\\n",
       "\t5 & 25 & 173556 & 0.014207 \\\\\n",
       "\t6 & 36 & 1298188 & 0.134042 \\\\\n",
       "\t7 & 49 & 9425940 & 0.886557 \\\\\n",
       "\t8 & 64 & 67346956 & 7.52373 \\\\\n",
       "\t9 & 1 & 6 & 1.95e-5 \\\\\n",
       "\t10 & 4 & 208 & 4.06e-5 \\\\\n",
       "\t11 & 9 & 2460 & 0.0002941 \\\\\n",
       "\t12 & 16 & 21916 & 0.0036508 \\\\\n",
       "\t13 & 25 & 173556 & 0.048222 \\\\\n",
       "\t14 & 36 & 1298188 & 0.301835 \\\\\n",
       "\t15 & 49 & 9425940 & 1.15575 \\\\\n",
       "\t16 & 64 & 67346956 & 7.45513 \\\\\n",
       "\t17 & 1 & 6 & 1.7e-5 \\\\\n",
       "\t18 & 4 & 208 & 4.18e-5 \\\\\n",
       "\t19 & 9 & 2460 & 0.000324 \\\\\n",
       "\t20 & 16 & 21916 & 0.0060364 \\\\\n",
       "\t21 & 25 & 173556 & 0.018824 \\\\\n",
       "\t22 & 36 & 1298188 & 0.14673 \\\\\n",
       "\t23 & 49 & 9425940 & 1.0181 \\\\\n",
       "\t24 & 64 & 67346956 & 7.29876 \\\\\n",
       "\t25 & 1 & 6 & 1.96e-5 \\\\\n",
       "\t26 & 4 & 208 & 4.14e-5 \\\\\n",
       "\t27 & 9 & 2460 & 0.0003273 \\\\\n",
       "\t28 & 16 & 21916 & 0.0023597 \\\\\n",
       "\t29 & 25 & 173556 & 0.0174161 \\\\\n",
       "\t30 & 36 & 1298188 & 0.158495 \\\\\n",
       "\t$\\dots$ & $\\dots$ & $\\dots$ & $\\dots$ \\\\\n",
       "\\end{tabular}\n"
      ],
      "text/plain": [
       "\u001b[1m40×3 DataFrame\u001b[0m\n",
       "\u001b[1m Row \u001b[0m│\u001b[1m size \u001b[0m\u001b[1m flops    \u001b[0m\u001b[1m time      \u001b[0m\n",
       "\u001b[1m     \u001b[0m│\u001b[90m Any  \u001b[0m\u001b[90m Any      \u001b[0m\u001b[90m Any       \u001b[0m\n",
       "─────┼───────────────────────────\n",
       "   1 │ 1     6         0.000372\n",
       "   2 │ 4     208       0.0141748\n",
       "   3 │ 9     2460      0.0003199\n",
       "   4 │ 16    21916     0.0024123\n",
       "   5 │ 25    173556    0.014207\n",
       "   6 │ 36    1298188   0.134042\n",
       "   7 │ 49    9425940   0.886557\n",
       "   8 │ 64    67346956  7.52373\n",
       "   9 │ 1     6         1.95e-5\n",
       "  10 │ 4     208       4.06e-5\n",
       "  11 │ 9     2460      0.0002941\n",
       "  ⋮  │  ⋮       ⋮          ⋮\n",
       "  31 │ 49    9425940   1.15868\n",
       "  32 │ 64    67346956  7.8744\n",
       "  33 │ 1     6         1.75e-5\n",
       "  34 │ 4     208       4.24e-5\n",
       "  35 │ 9     2460      0.0003216\n",
       "  36 │ 16    21916     0.0023895\n",
       "  37 │ 25    173556    0.0221717\n",
       "  38 │ 36    1298188   0.147787\n",
       "  39 │ 49    9425940   1.09054\n",
       "  40 │ 64    67346956  7.8373\n",
       "\u001b[36m                  19 rows omitted\u001b[0m"
      ]
     },
     "metadata": {},
     "output_type": "display_data"
    }
   ],
   "source": [
    "for i in 1:nrow(inversion_times)\n",
    "    inversion_times[i, :flops] = inversion_times[i, :flops].add64 + inversion_times[i, :flops].sub64 + inversion_times[i, :flops].div64 + inversion_times[i, :flops].neg64 + inversion_times[i, :flops].mul64\n",
    "end\n",
    "display(inversion_times)"
   ]
  },
  {
   "cell_type": "code",
   "execution_count": 43,
   "id": "4269d537",
   "metadata": {},
   "outputs": [
    {
     "data": {
      "text/html": [
       "<div class=\"data-frame\"><p>8 rows × 5 columns</p><table class=\"data-frame\"><thead><tr><th></th><th>size</th><th>time_mean</th><th>flops_mean</th><th>time_std</th><th>flops_std</th></tr><tr><th></th><th title=\"Any\">Any</th><th title=\"Float64\">Float64</th><th title=\"Float64\">Float64</th><th title=\"Float64\">Float64</th><th title=\"Float64\">Float64</th></tr></thead><tbody><tr><th>1</th><td>1</td><td>8.912e-5</td><td>6.0</td><td>0.000158139</td><td>0.0</td></tr><tr><th>2</th><td>4</td><td>0.0028682</td><td>208.0</td><td>0.00632058</td><td>0.0</td></tr><tr><th>3</th><td>9</td><td>0.00031738</td><td>2460.0</td><td>1.33074e-5</td><td>0.0</td></tr><tr><th>4</th><td>16</td><td>0.00336974</td><td>21916.0</td><td>0.00158807</td><td>0.0</td></tr><tr><th>5</th><td>25</td><td>0.0241682</td><td>173556.0</td><td>0.0137473</td><td>0.0</td></tr><tr><th>6</th><td>36</td><td>0.177778</td><td>1.29819e6</td><td>0.0698896</td><td>0.0</td></tr><tr><th>7</th><td>49</td><td>1.06193</td><td>9.42594e6</td><td>0.113642</td><td>0.0</td></tr><tr><th>8</th><td>64</td><td>7.59787</td><td>6.7347e7</td><td>0.249568</td><td>0.0</td></tr></tbody></table></div>"
      ],
      "text/latex": [
       "\\begin{tabular}{r|ccccc}\n",
       "\t& size & time\\_mean & flops\\_mean & time\\_std & flops\\_std\\\\\n",
       "\t\\hline\n",
       "\t& Any & Float64 & Float64 & Float64 & Float64\\\\\n",
       "\t\\hline\n",
       "\t1 & 1 & 8.912e-5 & 6.0 & 0.000158139 & 0.0 \\\\\n",
       "\t2 & 4 & 0.0028682 & 208.0 & 0.00632058 & 0.0 \\\\\n",
       "\t3 & 9 & 0.00031738 & 2460.0 & 1.33074e-5 & 0.0 \\\\\n",
       "\t4 & 16 & 0.00336974 & 21916.0 & 0.00158807 & 0.0 \\\\\n",
       "\t5 & 25 & 0.0241682 & 173556.0 & 0.0137473 & 0.0 \\\\\n",
       "\t6 & 36 & 0.177778 & 1.29819e6 & 0.0698896 & 0.0 \\\\\n",
       "\t7 & 49 & 1.06193 & 9.42594e6 & 0.113642 & 0.0 \\\\\n",
       "\t8 & 64 & 7.59787 & 6.7347e7 & 0.249568 & 0.0 \\\\\n",
       "\\end{tabular}\n"
      ],
      "text/plain": [
       "\u001b[1m8×5 DataFrame\u001b[0m\n",
       "\u001b[1m Row \u001b[0m│\u001b[1m size \u001b[0m\u001b[1m time_mean  \u001b[0m\u001b[1m flops_mean     \u001b[0m\u001b[1m time_std    \u001b[0m\u001b[1m flops_std \u001b[0m\n",
       "\u001b[1m     \u001b[0m│\u001b[90m Any  \u001b[0m\u001b[90m Float64    \u001b[0m\u001b[90m Float64        \u001b[0m\u001b[90m Float64     \u001b[0m\u001b[90m Float64   \u001b[0m\n",
       "─────┼──────────────────────────────────────────────────────────\n",
       "   1 │ 1     8.912e-5         6.0        0.000158139        0.0\n",
       "   2 │ 4     0.0028682      208.0        0.00632058         0.0\n",
       "   3 │ 9     0.00031738    2460.0        1.33074e-5         0.0\n",
       "   4 │ 16    0.00336974   21916.0        0.00158807         0.0\n",
       "   5 │ 25    0.0241682   173556.0        0.0137473          0.0\n",
       "   6 │ 36    0.177778         1.29819e6  0.0698896          0.0\n",
       "   7 │ 49    1.06193          9.42594e6  0.113642           0.0\n",
       "   8 │ 64    7.59787          6.7347e7   0.249568           0.0"
      ]
     },
     "execution_count": 43,
     "metadata": {},
     "output_type": "execute_result"
    }
   ],
   "source": [
    "inversion_time_group = groupby(inversion_times, [:size])\n",
    "inversion_time_statistics = combine(inversion_time_group, \"time\" => mean, \"flops\" => mean, \"time\" => std, \"flops\" => std)"
   ]
  },
  {
   "cell_type": "code",
   "execution_count": 57,
   "id": "ab398616",
   "metadata": {},
   "outputs": [
    {
     "data": {
      "image/svg+xml": [
       "<?xml version=\"1.0\" encoding=\"utf-8\"?>\n",
       "<svg xmlns=\"http://www.w3.org/2000/svg\" xmlns:xlink=\"http://www.w3.org/1999/xlink\" width=\"600\" height=\"500\" viewBox=\"0 0 2400 2000\">\n",
       "<defs>\n",
       "  <clipPath id=\"clip810\">\n",
       "    <rect x=\"0\" y=\"0\" width=\"2400\" height=\"2000\"/>\n",
       "  </clipPath>\n",
       "</defs>\n",
       "<path clip-path=\"url(#clip810)\" d=\"M0 2000 L2400 2000 L2400 0 L0 0  Z\" fill=\"#ffffff\" fill-rule=\"evenodd\" fill-opacity=\"1\"/>\n",
       "<defs>\n",
       "  <clipPath id=\"clip811\">\n",
       "    <rect x=\"480\" y=\"0\" width=\"1681\" height=\"1681\"/>\n",
       "  </clipPath>\n",
       "</defs>\n",
       "<path clip-path=\"url(#clip810)\" d=\"M187.325 1798.66 L2352.76 1798.66 L2352.76 47.2441 L187.325 47.2441  Z\" fill=\"#ffffff\" fill-rule=\"evenodd\" fill-opacity=\"1\"/>\n",
       "<defs>\n",
       "  <clipPath id=\"clip812\">\n",
       "    <rect x=\"187\" y=\"47\" width=\"2166\" height=\"1752\"/>\n",
       "  </clipPath>\n",
       "</defs>\n",
       "<polyline clip-path=\"url(#clip812)\" style=\"stroke:#000000; stroke-linecap:round; stroke-linejoin:round; stroke-width:2; stroke-opacity:0.1; fill:none\" points=\"216.185,1798.66 216.185,47.2441 \"/>\n",
       "<polyline clip-path=\"url(#clip812)\" style=\"stroke:#000000; stroke-linecap:round; stroke-linejoin:round; stroke-width:2; stroke-opacity:0.1; fill:none\" points=\"540.448,1798.66 540.448,47.2441 \"/>\n",
       "<polyline clip-path=\"url(#clip812)\" style=\"stroke:#000000; stroke-linecap:round; stroke-linejoin:round; stroke-width:2; stroke-opacity:0.1; fill:none\" points=\"864.711,1798.66 864.711,47.2441 \"/>\n",
       "<polyline clip-path=\"url(#clip812)\" style=\"stroke:#000000; stroke-linecap:round; stroke-linejoin:round; stroke-width:2; stroke-opacity:0.1; fill:none\" points=\"1188.97,1798.66 1188.97,47.2441 \"/>\n",
       "<polyline clip-path=\"url(#clip812)\" style=\"stroke:#000000; stroke-linecap:round; stroke-linejoin:round; stroke-width:2; stroke-opacity:0.1; fill:none\" points=\"1513.24,1798.66 1513.24,47.2441 \"/>\n",
       "<polyline clip-path=\"url(#clip812)\" style=\"stroke:#000000; stroke-linecap:round; stroke-linejoin:round; stroke-width:2; stroke-opacity:0.1; fill:none\" points=\"1837.5,1798.66 1837.5,47.2441 \"/>\n",
       "<polyline clip-path=\"url(#clip812)\" style=\"stroke:#000000; stroke-linecap:round; stroke-linejoin:round; stroke-width:2; stroke-opacity:0.1; fill:none\" points=\"2161.76,1798.66 2161.76,47.2441 \"/>\n",
       "<polyline clip-path=\"url(#clip810)\" style=\"stroke:#000000; stroke-linecap:round; stroke-linejoin:round; stroke-width:4; stroke-opacity:1; fill:none\" points=\"187.325,1798.66 2352.76,1798.66 \"/>\n",
       "<polyline clip-path=\"url(#clip810)\" style=\"stroke:#000000; stroke-linecap:round; stroke-linejoin:round; stroke-width:4; stroke-opacity:1; fill:none\" points=\"216.185,1798.66 216.185,1779.76 \"/>\n",
       "<polyline clip-path=\"url(#clip810)\" style=\"stroke:#000000; stroke-linecap:round; stroke-linejoin:round; stroke-width:4; stroke-opacity:1; fill:none\" points=\"540.448,1798.66 540.448,1779.76 \"/>\n",
       "<polyline clip-path=\"url(#clip810)\" style=\"stroke:#000000; stroke-linecap:round; stroke-linejoin:round; stroke-width:4; stroke-opacity:1; fill:none\" points=\"864.711,1798.66 864.711,1779.76 \"/>\n",
       "<polyline clip-path=\"url(#clip810)\" style=\"stroke:#000000; stroke-linecap:round; stroke-linejoin:round; stroke-width:4; stroke-opacity:1; fill:none\" points=\"1188.97,1798.66 1188.97,1779.76 \"/>\n",
       "<polyline clip-path=\"url(#clip810)\" style=\"stroke:#000000; stroke-linecap:round; stroke-linejoin:round; stroke-width:4; stroke-opacity:1; fill:none\" points=\"1513.24,1798.66 1513.24,1779.76 \"/>\n",
       "<polyline clip-path=\"url(#clip810)\" style=\"stroke:#000000; stroke-linecap:round; stroke-linejoin:round; stroke-width:4; stroke-opacity:1; fill:none\" points=\"1837.5,1798.66 1837.5,1779.76 \"/>\n",
       "<polyline clip-path=\"url(#clip810)\" style=\"stroke:#000000; stroke-linecap:round; stroke-linejoin:round; stroke-width:4; stroke-opacity:1; fill:none\" points=\"2161.76,1798.66 2161.76,1779.76 \"/>\n",
       "<path clip-path=\"url(#clip810)\" d=\"M216.185 1829.58 Q212.574 1829.58 210.745 1833.14 Q208.939 1836.68 208.939 1843.81 Q208.939 1850.92 210.745 1854.49 Q212.574 1858.03 216.185 1858.03 Q219.819 1858.03 221.624 1854.49 Q223.453 1850.92 223.453 1843.81 Q223.453 1836.68 221.624 1833.14 Q219.819 1829.58 216.185 1829.58 M216.185 1825.87 Q221.995 1825.87 225.05 1830.48 Q228.129 1835.06 228.129 1843.81 Q228.129 1852.54 225.05 1857.15 Q221.995 1861.73 216.185 1861.73 Q210.374 1861.73 207.296 1857.15 Q204.24 1852.54 204.24 1843.81 Q204.24 1835.06 207.296 1830.48 Q210.374 1825.87 216.185 1825.87 Z\" fill=\"#000000\" fill-rule=\"nonzero\" fill-opacity=\"1\" /><path clip-path=\"url(#clip810)\" d=\"M515.136 1857.12 L522.774 1857.12 L522.774 1830.76 L514.464 1832.43 L514.464 1828.17 L522.728 1826.5 L527.404 1826.5 L527.404 1857.12 L535.043 1857.12 L535.043 1861.06 L515.136 1861.06 L515.136 1857.12 Z\" fill=\"#000000\" fill-rule=\"nonzero\" fill-opacity=\"1\" /><path clip-path=\"url(#clip810)\" d=\"M554.487 1829.58 Q550.876 1829.58 549.047 1833.14 Q547.242 1836.68 547.242 1843.81 Q547.242 1850.92 549.047 1854.49 Q550.876 1858.03 554.487 1858.03 Q558.122 1858.03 559.927 1854.49 Q561.756 1850.92 561.756 1843.81 Q561.756 1836.68 559.927 1833.14 Q558.122 1829.58 554.487 1829.58 M554.487 1825.87 Q560.297 1825.87 563.353 1830.48 Q566.432 1835.06 566.432 1843.81 Q566.432 1852.54 563.353 1857.15 Q560.297 1861.73 554.487 1861.73 Q548.677 1861.73 545.598 1857.15 Q542.543 1852.54 542.543 1843.81 Q542.543 1835.06 545.598 1830.48 Q548.677 1825.87 554.487 1825.87 Z\" fill=\"#000000\" fill-rule=\"nonzero\" fill-opacity=\"1\" /><path clip-path=\"url(#clip810)\" d=\"M843.485 1857.12 L859.804 1857.12 L859.804 1861.06 L837.86 1861.06 L837.86 1857.12 Q840.522 1854.37 845.105 1849.74 Q849.711 1845.09 850.892 1843.75 Q853.137 1841.22 854.017 1839.49 Q854.92 1837.73 854.92 1836.04 Q854.92 1833.28 852.975 1831.55 Q851.054 1829.81 847.952 1829.81 Q845.753 1829.81 843.299 1830.57 Q840.869 1831.34 838.091 1832.89 L838.091 1828.17 Q840.915 1827.03 843.369 1826.45 Q845.823 1825.87 847.86 1825.87 Q853.23 1825.87 856.424 1828.56 Q859.619 1831.25 859.619 1835.74 Q859.619 1837.87 858.809 1839.79 Q858.022 1841.68 855.915 1844.28 Q855.336 1844.95 852.235 1848.17 Q849.133 1851.36 843.485 1857.12 Z\" fill=\"#000000\" fill-rule=\"nonzero\" fill-opacity=\"1\" /><path clip-path=\"url(#clip810)\" d=\"M879.619 1829.58 Q876.008 1829.58 874.179 1833.14 Q872.373 1836.68 872.373 1843.81 Q872.373 1850.92 874.179 1854.49 Q876.008 1858.03 879.619 1858.03 Q883.253 1858.03 885.058 1854.49 Q886.887 1850.92 886.887 1843.81 Q886.887 1836.68 885.058 1833.14 Q883.253 1829.58 879.619 1829.58 M879.619 1825.87 Q885.429 1825.87 888.484 1830.48 Q891.563 1835.06 891.563 1843.81 Q891.563 1852.54 888.484 1857.15 Q885.429 1861.73 879.619 1861.73 Q873.809 1861.73 870.73 1857.15 Q867.674 1852.54 867.674 1843.81 Q867.674 1835.06 870.73 1830.48 Q873.809 1825.87 879.619 1825.87 Z\" fill=\"#000000\" fill-rule=\"nonzero\" fill-opacity=\"1\" /><path clip-path=\"url(#clip810)\" d=\"M1177.82 1842.43 Q1181.17 1843.14 1183.05 1845.41 Q1184.95 1847.68 1184.95 1851.01 Q1184.95 1856.13 1181.43 1858.93 Q1177.91 1861.73 1171.43 1861.73 Q1169.25 1861.73 1166.94 1861.29 Q1164.65 1860.87 1162.19 1860.02 L1162.19 1855.5 Q1164.14 1856.64 1166.45 1857.22 Q1168.77 1857.8 1171.29 1857.8 Q1175.69 1857.8 1177.98 1856.06 Q1180.29 1854.32 1180.29 1851.01 Q1180.29 1847.96 1178.14 1846.25 Q1176.01 1844.51 1172.19 1844.51 L1168.16 1844.51 L1168.16 1840.67 L1172.38 1840.67 Q1175.83 1840.67 1177.66 1839.3 Q1179.48 1837.91 1179.48 1835.32 Q1179.48 1832.66 1177.59 1831.25 Q1175.71 1829.81 1172.19 1829.81 Q1170.27 1829.81 1168.07 1830.23 Q1165.87 1830.64 1163.23 1831.52 L1163.23 1827.36 Q1165.9 1826.62 1168.21 1826.25 Q1170.55 1825.87 1172.61 1825.87 Q1177.93 1825.87 1181.03 1828.31 Q1184.14 1830.71 1184.14 1834.83 Q1184.14 1837.7 1182.49 1839.69 Q1180.85 1841.66 1177.82 1842.43 Z\" fill=\"#000000\" fill-rule=\"nonzero\" fill-opacity=\"1\" /><path clip-path=\"url(#clip810)\" d=\"M1203.81 1829.58 Q1200.2 1829.58 1198.37 1833.14 Q1196.57 1836.68 1196.57 1843.81 Q1196.57 1850.92 1198.37 1854.49 Q1200.2 1858.03 1203.81 1858.03 Q1207.45 1858.03 1209.25 1854.49 Q1211.08 1850.92 1211.08 1843.81 Q1211.08 1836.68 1209.25 1833.14 Q1207.45 1829.58 1203.81 1829.58 M1203.81 1825.87 Q1209.62 1825.87 1212.68 1830.48 Q1215.76 1835.06 1215.76 1843.81 Q1215.76 1852.54 1212.68 1857.15 Q1209.62 1861.73 1203.81 1861.73 Q1198 1861.73 1194.92 1857.15 Q1191.87 1852.54 1191.87 1843.81 Q1191.87 1835.06 1194.92 1830.48 Q1198 1825.87 1203.81 1825.87 Z\" fill=\"#000000\" fill-rule=\"nonzero\" fill-opacity=\"1\" /><path clip-path=\"url(#clip810)\" d=\"M1501.41 1830.57 L1489.6 1849.02 L1501.41 1849.02 L1501.41 1830.57 M1500.18 1826.5 L1506.06 1826.5 L1506.06 1849.02 L1510.99 1849.02 L1510.99 1852.91 L1506.06 1852.91 L1506.06 1861.06 L1501.41 1861.06 L1501.41 1852.91 L1485.81 1852.91 L1485.81 1848.4 L1500.18 1826.5 Z\" fill=\"#000000\" fill-rule=\"nonzero\" fill-opacity=\"1\" /><path clip-path=\"url(#clip810)\" d=\"M1528.72 1829.58 Q1525.11 1829.58 1523.28 1833.14 Q1521.48 1836.68 1521.48 1843.81 Q1521.48 1850.92 1523.28 1854.49 Q1525.11 1858.03 1528.72 1858.03 Q1532.36 1858.03 1534.16 1854.49 Q1535.99 1850.92 1535.99 1843.81 Q1535.99 1836.68 1534.16 1833.14 Q1532.36 1829.58 1528.72 1829.58 M1528.72 1825.87 Q1534.53 1825.87 1537.59 1830.48 Q1540.67 1835.06 1540.67 1843.81 Q1540.67 1852.54 1537.59 1857.15 Q1534.53 1861.73 1528.72 1861.73 Q1522.91 1861.73 1519.84 1857.15 Q1516.78 1852.54 1516.78 1843.81 Q1516.78 1835.06 1519.84 1830.48 Q1522.91 1825.87 1528.72 1825.87 Z\" fill=\"#000000\" fill-rule=\"nonzero\" fill-opacity=\"1\" /><path clip-path=\"url(#clip810)\" d=\"M1812.2 1826.5 L1830.56 1826.5 L1830.56 1830.44 L1816.48 1830.44 L1816.48 1838.91 Q1817.5 1838.56 1818.52 1838.4 Q1819.54 1838.21 1820.56 1838.21 Q1826.34 1838.21 1829.72 1841.38 Q1833.1 1844.56 1833.1 1849.97 Q1833.1 1855.55 1829.63 1858.65 Q1826.16 1861.73 1819.84 1861.73 Q1817.66 1861.73 1815.4 1861.36 Q1813.15 1860.99 1810.74 1860.25 L1810.74 1855.55 Q1812.83 1856.68 1815.05 1857.24 Q1817.27 1857.8 1819.75 1857.8 Q1823.75 1857.8 1826.09 1855.69 Q1828.43 1853.58 1828.43 1849.97 Q1828.43 1846.36 1826.09 1844.25 Q1823.75 1842.15 1819.75 1842.15 Q1817.87 1842.15 1816 1842.56 Q1814.15 1842.98 1812.2 1843.86 L1812.2 1826.5 Z\" fill=\"#000000\" fill-rule=\"nonzero\" fill-opacity=\"1\" /><path clip-path=\"url(#clip810)\" d=\"M1852.32 1829.58 Q1848.71 1829.58 1846.88 1833.14 Q1845.07 1836.68 1845.07 1843.81 Q1845.07 1850.92 1846.88 1854.49 Q1848.71 1858.03 1852.32 1858.03 Q1855.95 1858.03 1857.76 1854.49 Q1859.58 1850.92 1859.58 1843.81 Q1859.58 1836.68 1857.76 1833.14 Q1855.95 1829.58 1852.32 1829.58 M1852.32 1825.87 Q1858.13 1825.87 1861.18 1830.48 Q1864.26 1835.06 1864.26 1843.81 Q1864.26 1852.54 1861.18 1857.15 Q1858.13 1861.73 1852.32 1861.73 Q1846.51 1861.73 1843.43 1857.15 Q1840.37 1852.54 1840.37 1843.81 Q1840.37 1835.06 1843.43 1830.48 Q1846.51 1825.87 1852.32 1825.87 Z\" fill=\"#000000\" fill-rule=\"nonzero\" fill-opacity=\"1\" /><path clip-path=\"url(#clip810)\" d=\"M2147.17 1841.92 Q2144.02 1841.92 2142.17 1844.07 Q2140.34 1846.22 2140.34 1849.97 Q2140.34 1853.7 2142.17 1855.87 Q2144.02 1858.03 2147.17 1858.03 Q2150.32 1858.03 2152.15 1855.87 Q2154 1853.7 2154 1849.97 Q2154 1846.22 2152.15 1844.07 Q2150.32 1841.92 2147.17 1841.92 M2156.45 1827.26 L2156.45 1831.52 Q2154.69 1830.69 2152.89 1830.25 Q2151.11 1829.81 2149.35 1829.81 Q2144.72 1829.81 2142.26 1832.93 Q2139.83 1836.06 2139.48 1842.38 Q2140.85 1840.37 2142.91 1839.3 Q2144.97 1838.21 2147.45 1838.21 Q2152.66 1838.21 2155.67 1841.38 Q2158.7 1844.53 2158.7 1849.97 Q2158.7 1855.3 2155.55 1858.51 Q2152.4 1861.73 2147.17 1861.73 Q2141.17 1861.73 2138 1857.15 Q2134.83 1852.54 2134.83 1843.81 Q2134.83 1835.62 2138.72 1830.76 Q2142.61 1825.87 2149.16 1825.87 Q2150.92 1825.87 2152.7 1826.22 Q2154.51 1826.57 2156.45 1827.26 Z\" fill=\"#000000\" fill-rule=\"nonzero\" fill-opacity=\"1\" /><path clip-path=\"url(#clip810)\" d=\"M2176.75 1829.58 Q2173.14 1829.58 2171.31 1833.14 Q2169.51 1836.68 2169.51 1843.81 Q2169.51 1850.92 2171.31 1854.49 Q2173.14 1858.03 2176.75 1858.03 Q2180.39 1858.03 2182.19 1854.49 Q2184.02 1850.92 2184.02 1843.81 Q2184.02 1836.68 2182.19 1833.14 Q2180.39 1829.58 2176.75 1829.58 M2176.75 1825.87 Q2182.56 1825.87 2185.62 1830.48 Q2188.7 1835.06 2188.7 1843.81 Q2188.7 1852.54 2185.62 1857.15 Q2182.56 1861.73 2176.75 1861.73 Q2170.94 1861.73 2167.86 1857.15 Q2164.81 1852.54 2164.81 1843.81 Q2164.81 1835.06 2167.86 1830.48 Q2170.94 1825.87 2176.75 1825.87 Z\" fill=\"#000000\" fill-rule=\"nonzero\" fill-opacity=\"1\" /><path clip-path=\"url(#clip810)\" d=\"M1231.64 1897.56 L1231.64 1903.83 Q1227.98 1902.08 1224.73 1901.22 Q1221.49 1900.36 1218.46 1900.36 Q1213.21 1900.36 1210.35 1902.4 Q1207.51 1904.44 1207.51 1908.19 Q1207.51 1911.35 1209.39 1912.97 Q1211.3 1914.56 1216.58 1915.55 L1220.47 1916.34 Q1227.66 1917.71 1231.07 1921.18 Q1234.5 1924.62 1234.5 1930.41 Q1234.5 1937.32 1229.86 1940.88 Q1225.24 1944.45 1216.3 1944.45 Q1212.92 1944.45 1209.1 1943.68 Q1205.32 1942.92 1201.24 1941.42 L1201.24 1934.8 Q1205.16 1937 1208.91 1938.11 Q1212.67 1939.23 1216.3 1939.23 Q1221.8 1939.23 1224.8 1937.06 Q1227.79 1934.9 1227.79 1930.89 Q1227.79 1927.39 1225.62 1925.41 Q1223.49 1923.44 1218.59 1922.45 L1214.67 1921.69 Q1207.48 1920.26 1204.27 1917.2 Q1201.05 1914.15 1201.05 1908.7 Q1201.05 1902.4 1205.48 1898.77 Q1209.93 1895.14 1217.73 1895.14 Q1221.07 1895.14 1224.54 1895.75 Q1228.01 1896.35 1231.64 1897.56 Z\" fill=\"#000000\" fill-rule=\"nonzero\" fill-opacity=\"1\" /><path clip-path=\"url(#clip810)\" d=\"M1244.53 1896 L1250.96 1896 L1250.96 1943.52 L1244.53 1943.52 L1244.53 1896 Z\" fill=\"#000000\" fill-rule=\"nonzero\" fill-opacity=\"1\" /><path clip-path=\"url(#clip810)\" d=\"M1261.02 1896 L1298.35 1896 L1298.35 1900.91 L1268.31 1938.11 L1299.08 1938.11 L1299.08 1943.52 L1260.29 1943.52 L1260.29 1938.62 L1290.33 1901.41 L1261.02 1901.41 L1261.02 1896 Z\" fill=\"#000000\" fill-rule=\"nonzero\" fill-opacity=\"1\" /><path clip-path=\"url(#clip810)\" d=\"M1308.41 1896 L1338.46 1896 L1338.46 1901.41 L1314.84 1901.41 L1314.84 1915.48 L1337.47 1915.48 L1337.47 1920.89 L1314.84 1920.89 L1314.84 1938.11 L1339.03 1938.11 L1339.03 1943.52 L1308.41 1943.52 L1308.41 1896 Z\" fill=\"#000000\" fill-rule=\"nonzero\" fill-opacity=\"1\" /><polyline clip-path=\"url(#clip812)\" style=\"stroke:#000000; stroke-linecap:round; stroke-linejoin:round; stroke-width:2; stroke-opacity:0.1; fill:none\" points=\"187.325,1748.36 2352.76,1748.36 \"/>\n",
       "<polyline clip-path=\"url(#clip812)\" style=\"stroke:#000000; stroke-linecap:round; stroke-linejoin:round; stroke-width:2; stroke-opacity:0.1; fill:none\" points=\"187.325,1327.45 2352.76,1327.45 \"/>\n",
       "<polyline clip-path=\"url(#clip812)\" style=\"stroke:#000000; stroke-linecap:round; stroke-linejoin:round; stroke-width:2; stroke-opacity:0.1; fill:none\" points=\"187.325,906.534 2352.76,906.534 \"/>\n",
       "<polyline clip-path=\"url(#clip812)\" style=\"stroke:#000000; stroke-linecap:round; stroke-linejoin:round; stroke-width:2; stroke-opacity:0.1; fill:none\" points=\"187.325,485.619 2352.76,485.619 \"/>\n",
       "<polyline clip-path=\"url(#clip812)\" style=\"stroke:#000000; stroke-linecap:round; stroke-linejoin:round; stroke-width:2; stroke-opacity:0.1; fill:none\" points=\"187.325,64.7039 2352.76,64.7039 \"/>\n",
       "<polyline clip-path=\"url(#clip810)\" style=\"stroke:#000000; stroke-linecap:round; stroke-linejoin:round; stroke-width:4; stroke-opacity:1; fill:none\" points=\"187.325,1798.66 187.325,47.2441 \"/>\n",
       "<polyline clip-path=\"url(#clip810)\" style=\"stroke:#000000; stroke-linecap:round; stroke-linejoin:round; stroke-width:4; stroke-opacity:1; fill:none\" points=\"187.325,1748.36 206.223,1748.36 \"/>\n",
       "<polyline clip-path=\"url(#clip810)\" style=\"stroke:#000000; stroke-linecap:round; stroke-linejoin:round; stroke-width:4; stroke-opacity:1; fill:none\" points=\"187.325,1327.45 206.223,1327.45 \"/>\n",
       "<polyline clip-path=\"url(#clip810)\" style=\"stroke:#000000; stroke-linecap:round; stroke-linejoin:round; stroke-width:4; stroke-opacity:1; fill:none\" points=\"187.325,906.534 206.223,906.534 \"/>\n",
       "<polyline clip-path=\"url(#clip810)\" style=\"stroke:#000000; stroke-linecap:round; stroke-linejoin:round; stroke-width:4; stroke-opacity:1; fill:none\" points=\"187.325,485.619 206.223,485.619 \"/>\n",
       "<polyline clip-path=\"url(#clip810)\" style=\"stroke:#000000; stroke-linecap:round; stroke-linejoin:round; stroke-width:4; stroke-opacity:1; fill:none\" points=\"187.325,64.7039 206.223,64.7039 \"/>\n",
       "<path clip-path=\"url(#clip810)\" d=\"M139.381 1734.16 Q135.77 1734.16 133.941 1737.73 Q132.135 1741.27 132.135 1748.4 Q132.135 1755.51 133.941 1759.07 Q135.77 1762.61 139.381 1762.61 Q143.015 1762.61 144.821 1759.07 Q146.649 1755.51 146.649 1748.4 Q146.649 1741.27 144.821 1737.73 Q143.015 1734.16 139.381 1734.16 M139.381 1730.46 Q145.191 1730.46 148.247 1735.07 Q151.325 1739.65 151.325 1748.4 Q151.325 1757.13 148.247 1761.73 Q145.191 1766.32 139.381 1766.32 Q133.571 1766.32 130.492 1761.73 Q127.436 1757.13 127.436 1748.4 Q127.436 1739.65 130.492 1735.07 Q133.571 1730.46 139.381 1730.46 Z\" fill=\"#000000\" fill-rule=\"nonzero\" fill-opacity=\"1\" /><path clip-path=\"url(#clip810)\" d=\"M135.006 1340.79 L151.325 1340.79 L151.325 1344.73 L129.381 1344.73 L129.381 1340.79 Q132.043 1338.04 136.626 1333.41 Q141.233 1328.76 142.413 1327.41 Q144.659 1324.89 145.538 1323.16 Q146.441 1321.4 146.441 1319.71 Q146.441 1316.95 144.497 1315.22 Q142.575 1313.48 139.473 1313.48 Q137.274 1313.48 134.821 1314.24 Q132.39 1315.01 129.612 1316.56 L129.612 1311.84 Q132.436 1310.7 134.89 1310.12 Q137.344 1309.54 139.381 1309.54 Q144.751 1309.54 147.946 1312.23 Q151.14 1314.91 151.14 1319.41 Q151.14 1321.54 150.33 1323.46 Q149.543 1325.35 147.436 1327.95 Q146.858 1328.62 143.756 1331.84 Q140.654 1335.03 135.006 1340.79 Z\" fill=\"#000000\" fill-rule=\"nonzero\" fill-opacity=\"1\" /><path clip-path=\"url(#clip810)\" d=\"M141.742 893.328 L129.936 911.777 L141.742 911.777 L141.742 893.328 M140.515 889.254 L146.395 889.254 L146.395 911.777 L151.325 911.777 L151.325 915.666 L146.395 915.666 L146.395 923.814 L141.742 923.814 L141.742 915.666 L126.14 915.666 L126.14 911.152 L140.515 889.254 Z\" fill=\"#000000\" fill-rule=\"nonzero\" fill-opacity=\"1\" /><path clip-path=\"url(#clip810)\" d=\"M139.797 483.756 Q136.649 483.756 134.798 485.908 Q132.969 488.061 132.969 491.811 Q132.969 495.538 134.798 497.714 Q136.649 499.867 139.797 499.867 Q142.946 499.867 144.774 497.714 Q146.626 495.538 146.626 491.811 Q146.626 488.061 144.774 485.908 Q142.946 483.756 139.797 483.756 M149.08 469.103 L149.08 473.362 Q147.321 472.529 145.515 472.089 Q143.733 471.649 141.973 471.649 Q137.344 471.649 134.89 474.774 Q132.46 477.899 132.112 484.219 Q133.478 482.205 135.538 481.14 Q137.598 480.052 140.075 480.052 Q145.284 480.052 148.293 483.223 Q151.325 486.371 151.325 491.811 Q151.325 497.135 148.177 500.353 Q145.029 503.57 139.797 503.57 Q133.802 503.57 130.631 498.987 Q127.46 494.381 127.46 485.654 Q127.46 477.459 131.348 472.598 Q135.237 467.714 141.788 467.714 Q143.547 467.714 145.33 468.061 Q147.135 468.409 149.08 469.103 Z\" fill=\"#000000\" fill-rule=\"nonzero\" fill-opacity=\"1\" /><path clip-path=\"url(#clip810)\" d=\"M139.473 65.5719 Q136.14 65.5719 134.219 67.3543 Q132.321 69.1367 132.321 72.2617 Q132.321 75.3867 134.219 77.1691 Q136.14 78.9515 139.473 78.9515 Q142.807 78.9515 144.728 77.1691 Q146.649 75.3635 146.649 72.2617 Q146.649 69.1367 144.728 67.3543 Q142.83 65.5719 139.473 65.5719 M134.798 63.5812 Q131.788 62.8405 130.098 60.7803 Q128.432 58.7201 128.432 55.7572 Q128.432 51.6137 131.372 49.2063 Q134.335 46.7989 139.473 46.7989 Q144.635 46.7989 147.575 49.2063 Q150.515 51.6137 150.515 55.7572 Q150.515 58.7201 148.825 60.7803 Q147.159 62.8405 144.172 63.5812 Q147.552 64.3682 149.427 66.6599 Q151.325 68.9515 151.325 72.2617 Q151.325 77.2848 148.247 79.97 Q145.191 82.6552 139.473 82.6552 Q133.756 82.6552 130.677 79.97 Q127.622 77.2848 127.622 72.2617 Q127.622 68.9515 129.52 66.6599 Q131.418 64.3682 134.798 63.5812 M133.085 56.197 Q133.085 58.8822 134.751 60.3868 Q136.441 61.8914 139.473 61.8914 Q142.483 61.8914 144.172 60.3868 Q145.885 58.8822 145.885 56.197 Q145.885 53.5118 144.172 52.0072 Q142.483 50.5026 139.473 50.5026 Q136.441 50.5026 134.751 52.0072 Q133.085 53.5118 133.085 56.197 Z\" fill=\"#000000\" fill-rule=\"nonzero\" fill-opacity=\"1\" /><path clip-path=\"url(#clip810)\" d=\"M28.3642 1040.89 L28.3642 1000.69 L33.775 1000.69 L33.775 1017.56 L75.8842 1017.56 L75.8842 1024.02 L33.775 1024.02 L33.775 1040.89 L28.3642 1040.89 Z\" fill=\"#000000\" fill-rule=\"nonzero\" fill-opacity=\"1\" /><path clip-path=\"url(#clip810)\" d=\"M28.3642 994.487 L28.3642 988.057 L75.8842 988.057 L75.8842 994.487 L28.3642 994.487 Z\" fill=\"#000000\" fill-rule=\"nonzero\" fill-opacity=\"1\" /><path clip-path=\"url(#clip810)\" d=\"M28.3642 975.262 L28.3642 965.682 L60.7019 953.555 L28.3642 941.365 L28.3642 931.784 L75.8842 931.784 L75.8842 938.055 L34.157 938.055 L66.7494 950.309 L66.7494 956.77 L34.157 969.024 L75.8842 969.024 L75.8842 975.262 L28.3642 975.262 Z\" fill=\"#000000\" fill-rule=\"nonzero\" fill-opacity=\"1\" /><path clip-path=\"url(#clip810)\" d=\"M28.3642 919.021 L28.3642 888.975 L33.775 888.975 L33.775 912.592 L47.8432 912.592 L47.8432 889.962 L53.2541 889.962 L53.2541 912.592 L70.4733 912.592 L70.4733 888.402 L75.8842 888.402 L75.8842 919.021 L28.3642 919.021 Z\" fill=\"#000000\" fill-rule=\"nonzero\" fill-opacity=\"1\" /><path clip-path=\"url(#clip810)\" d=\"M26.359 878.631 L26.359 865.135 L30.9104 865.135 L30.9104 872.774 L79.9264 872.774 L79.9264 865.135 L84.4779 865.135 L84.4779 878.631 L26.359 878.631 Z\" fill=\"#000000\" fill-rule=\"nonzero\" fill-opacity=\"1\" /><path clip-path=\"url(#clip810)\" d=\"M41.2865 829.933 L46.8247 829.933 Q45.5516 832.416 44.915 835.089 Q44.2784 837.763 44.2784 840.627 Q44.2784 844.988 45.6152 847.184 Q46.952 849.348 49.6256 849.348 Q51.6626 849.348 52.8403 847.789 Q53.9861 846.229 55.0365 841.519 L55.4821 839.513 Q56.8189 833.275 59.2697 830.665 Q61.6886 828.023 66.0491 828.023 Q71.0144 828.023 73.9108 831.97 Q76.8072 835.885 76.8072 842.76 Q76.8072 845.625 76.2343 848.744 Q75.6932 851.831 74.5792 855.269 L68.5318 855.269 Q70.2187 852.022 71.078 848.871 Q71.9056 845.72 71.9056 842.633 Q71.9056 838.495 70.5051 836.267 Q69.0729 834.039 66.4947 834.039 Q64.1076 834.039 62.8345 835.662 Q61.5613 837.254 60.3837 842.696 L59.9062 844.733 Q58.7604 850.176 56.4051 852.595 Q54.018 855.014 49.8802 855.014 Q44.8513 855.014 42.1141 851.449 Q39.3768 847.884 39.3768 841.328 Q39.3768 838.081 39.8543 835.217 Q40.3317 832.352 41.2865 829.933 Z\" fill=\"#000000\" fill-rule=\"nonzero\" fill-opacity=\"1\" /><path clip-path=\"url(#clip810)\" d=\"M26.359 805.011 L84.4779 805.011 L84.4779 818.507 L79.9264 818.507 L79.9264 810.9 L30.9104 810.9 L30.9104 818.507 L26.359 818.507 L26.359 805.011 Z\" fill=\"#000000\" fill-rule=\"nonzero\" fill-opacity=\"1\" /><polyline clip-path=\"url(#clip812)\" style=\"stroke:#009af9; stroke-linecap:round; stroke-linejoin:round; stroke-width:4; stroke-opacity:1; fill:none\" points=\"248.611,1748.35 345.89,1747.76 508.022,1748.3 735.006,1747.66 1026.84,1743.28 1383.53,1710.95 1805.08,1524.87 2291.47,149.336 \"/>\n",
       "<polyline clip-path=\"url(#clip812)\" style=\"stroke:#000000; stroke-linecap:round; stroke-linejoin:round; stroke-width:4; stroke-opacity:1; fill:none\" points=\"248.611,1748.38 248.611,1748.31 \"/>\n",
       "<polyline clip-path=\"url(#clip812)\" style=\"stroke:#000000; stroke-linecap:round; stroke-linejoin:round; stroke-width:4; stroke-opacity:1; fill:none\" points=\"345.89,1749.09 345.89,1746.43 \"/>\n",
       "<polyline clip-path=\"url(#clip812)\" style=\"stroke:#000000; stroke-linecap:round; stroke-linejoin:round; stroke-width:4; stroke-opacity:1; fill:none\" points=\"508.022,1748.3 508.022,1748.3 \"/>\n",
       "<polyline clip-path=\"url(#clip812)\" style=\"stroke:#000000; stroke-linecap:round; stroke-linejoin:round; stroke-width:4; stroke-opacity:1; fill:none\" points=\"735.006,1747.99 735.006,1747.32 \"/>\n",
       "<polyline clip-path=\"url(#clip812)\" style=\"stroke:#000000; stroke-linecap:round; stroke-linejoin:round; stroke-width:4; stroke-opacity:1; fill:none\" points=\"1026.84,1746.17 1026.84,1740.39 \"/>\n",
       "<polyline clip-path=\"url(#clip812)\" style=\"stroke:#000000; stroke-linecap:round; stroke-linejoin:round; stroke-width:4; stroke-opacity:1; fill:none\" points=\"1383.53,1725.66 1383.53,1696.24 \"/>\n",
       "<polyline clip-path=\"url(#clip812)\" style=\"stroke:#000000; stroke-linecap:round; stroke-linejoin:round; stroke-width:4; stroke-opacity:1; fill:none\" points=\"1805.08,1548.79 1805.08,1500.96 \"/>\n",
       "<polyline clip-path=\"url(#clip812)\" style=\"stroke:#000000; stroke-linecap:round; stroke-linejoin:round; stroke-width:4; stroke-opacity:1; fill:none\" points=\"2291.47,201.859 2291.47,96.8125 \"/>\n",
       "<line clip-path=\"url(#clip812)\" x1=\"264.611\" y1=\"1748.38\" x2=\"232.611\" y2=\"1748.38\" style=\"stroke:#000000; stroke-width:4; stroke-opacity:1\"/>\n",
       "<line clip-path=\"url(#clip812)\" x1=\"264.611\" y1=\"1748.31\" x2=\"232.611\" y2=\"1748.31\" style=\"stroke:#000000; stroke-width:4; stroke-opacity:1\"/>\n",
       "<line clip-path=\"url(#clip812)\" x1=\"361.89\" y1=\"1749.09\" x2=\"329.89\" y2=\"1749.09\" style=\"stroke:#000000; stroke-width:4; stroke-opacity:1\"/>\n",
       "<line clip-path=\"url(#clip812)\" x1=\"361.89\" y1=\"1746.43\" x2=\"329.89\" y2=\"1746.43\" style=\"stroke:#000000; stroke-width:4; stroke-opacity:1\"/>\n",
       "<line clip-path=\"url(#clip812)\" x1=\"524.022\" y1=\"1748.3\" x2=\"492.022\" y2=\"1748.3\" style=\"stroke:#000000; stroke-width:4; stroke-opacity:1\"/>\n",
       "<line clip-path=\"url(#clip812)\" x1=\"524.022\" y1=\"1748.3\" x2=\"492.022\" y2=\"1748.3\" style=\"stroke:#000000; stroke-width:4; stroke-opacity:1\"/>\n",
       "<line clip-path=\"url(#clip812)\" x1=\"751.006\" y1=\"1747.99\" x2=\"719.006\" y2=\"1747.99\" style=\"stroke:#000000; stroke-width:4; stroke-opacity:1\"/>\n",
       "<line clip-path=\"url(#clip812)\" x1=\"751.006\" y1=\"1747.32\" x2=\"719.006\" y2=\"1747.32\" style=\"stroke:#000000; stroke-width:4; stroke-opacity:1\"/>\n",
       "<line clip-path=\"url(#clip812)\" x1=\"1042.84\" y1=\"1746.17\" x2=\"1010.84\" y2=\"1746.17\" style=\"stroke:#000000; stroke-width:4; stroke-opacity:1\"/>\n",
       "<line clip-path=\"url(#clip812)\" x1=\"1042.84\" y1=\"1740.39\" x2=\"1010.84\" y2=\"1740.39\" style=\"stroke:#000000; stroke-width:4; stroke-opacity:1\"/>\n",
       "<line clip-path=\"url(#clip812)\" x1=\"1399.53\" y1=\"1725.66\" x2=\"1367.53\" y2=\"1725.66\" style=\"stroke:#000000; stroke-width:4; stroke-opacity:1\"/>\n",
       "<line clip-path=\"url(#clip812)\" x1=\"1399.53\" y1=\"1696.24\" x2=\"1367.53\" y2=\"1696.24\" style=\"stroke:#000000; stroke-width:4; stroke-opacity:1\"/>\n",
       "<line clip-path=\"url(#clip812)\" x1=\"1821.08\" y1=\"1548.79\" x2=\"1789.08\" y2=\"1548.79\" style=\"stroke:#000000; stroke-width:4; stroke-opacity:1\"/>\n",
       "<line clip-path=\"url(#clip812)\" x1=\"1821.08\" y1=\"1500.96\" x2=\"1789.08\" y2=\"1500.96\" style=\"stroke:#000000; stroke-width:4; stroke-opacity:1\"/>\n",
       "<line clip-path=\"url(#clip812)\" x1=\"2307.47\" y1=\"201.859\" x2=\"2275.47\" y2=\"201.859\" style=\"stroke:#000000; stroke-width:4; stroke-opacity:1\"/>\n",
       "<line clip-path=\"url(#clip812)\" x1=\"2307.47\" y1=\"96.8125\" x2=\"2275.47\" y2=\"96.8125\" style=\"stroke:#000000; stroke-width:4; stroke-opacity:1\"/>\n",
       "<path clip-path=\"url(#clip810)\" d=\"M259.506 209.305 L528.48 209.305 L528.48 105.625 L259.506 105.625  Z\" fill=\"#ffffff\" fill-rule=\"evenodd\" fill-opacity=\"1\"/>\n",
       "<polyline clip-path=\"url(#clip810)\" style=\"stroke:#000000; stroke-linecap:round; stroke-linejoin:round; stroke-width:4; stroke-opacity:1; fill:none\" points=\"259.506,209.305 528.48,209.305 528.48,105.625 259.506,105.625 259.506,209.305 \"/>\n",
       "<polyline clip-path=\"url(#clip810)\" style=\"stroke:#009af9; stroke-linecap:round; stroke-linejoin:round; stroke-width:4; stroke-opacity:1; fill:none\" points=\"283.567,157.465 427.929,157.465 \"/>\n",
       "<path clip-path=\"url(#clip810)\" d=\"M465.831 177.152 Q464.026 181.782 462.313 183.194 Q460.6 184.606 457.73 184.606 L454.327 184.606 L454.327 181.041 L456.827 181.041 Q458.586 181.041 459.558 180.208 Q460.531 179.374 461.711 176.272 L462.475 174.328 L451.989 148.819 L456.503 148.819 L464.605 169.097 L472.706 148.819 L477.22 148.819 L465.831 177.152 Z\" fill=\"#000000\" fill-rule=\"nonzero\" fill-opacity=\"1\" /><path clip-path=\"url(#clip810)\" d=\"M484.512 170.809 L492.151 170.809 L492.151 144.444 L483.841 146.111 L483.841 141.851 L492.104 140.185 L496.78 140.185 L496.78 170.809 L504.419 170.809 L504.419 174.745 L484.512 174.745 L484.512 170.809 Z\" fill=\"#000000\" fill-rule=\"nonzero\" fill-opacity=\"1\" /></svg>\n"
      ]
     },
     "execution_count": 57,
     "metadata": {},
     "output_type": "execute_result"
    }
   ],
   "source": [
    "plot(inversion_time_statistics.size, inversion_time_statistics.time_mean, \n",
    "    size = (600, 500), yerr=inversion_time_statistics.time_std,\n",
    "    yaxis = \"TIME[s]\", xaxis = \"SIZE\")"
   ]
  },
  {
   "cell_type": "code",
   "execution_count": 58,
   "id": "008e02ff",
   "metadata": {},
   "outputs": [
    {
     "data": {
      "image/svg+xml": [
       "<?xml version=\"1.0\" encoding=\"utf-8\"?>\n",
       "<svg xmlns=\"http://www.w3.org/2000/svg\" xmlns:xlink=\"http://www.w3.org/1999/xlink\" width=\"600\" height=\"500\" viewBox=\"0 0 2400 2000\">\n",
       "<defs>\n",
       "  <clipPath id=\"clip850\">\n",
       "    <rect x=\"0\" y=\"0\" width=\"2400\" height=\"2000\"/>\n",
       "  </clipPath>\n",
       "</defs>\n",
       "<path clip-path=\"url(#clip850)\" d=\"M0 2000 L2400 2000 L2400 0 L0 0  Z\" fill=\"#ffffff\" fill-rule=\"evenodd\" fill-opacity=\"1\"/>\n",
       "<defs>\n",
       "  <clipPath id=\"clip851\">\n",
       "    <rect x=\"480\" y=\"0\" width=\"1681\" height=\"1681\"/>\n",
       "  </clipPath>\n",
       "</defs>\n",
       "<path clip-path=\"url(#clip850)\" d=\"M350.172 1798.66 L2352.76 1798.66 L2352.76 47.2441 L350.172 47.2441  Z\" fill=\"#ffffff\" fill-rule=\"evenodd\" fill-opacity=\"1\"/>\n",
       "<defs>\n",
       "  <clipPath id=\"clip852\">\n",
       "    <rect x=\"350\" y=\"47\" width=\"2004\" height=\"1752\"/>\n",
       "  </clipPath>\n",
       "</defs>\n",
       "<polyline clip-path=\"url(#clip852)\" style=\"stroke:#000000; stroke-linecap:round; stroke-linejoin:round; stroke-width:2; stroke-opacity:0.1; fill:none\" points=\"376.861,1798.66 376.861,47.2441 \"/>\n",
       "<polyline clip-path=\"url(#clip852)\" style=\"stroke:#000000; stroke-linecap:round; stroke-linejoin:round; stroke-width:2; stroke-opacity:0.1; fill:none\" points=\"676.739,1798.66 676.739,47.2441 \"/>\n",
       "<polyline clip-path=\"url(#clip852)\" style=\"stroke:#000000; stroke-linecap:round; stroke-linejoin:round; stroke-width:2; stroke-opacity:0.1; fill:none\" points=\"976.616,1798.66 976.616,47.2441 \"/>\n",
       "<polyline clip-path=\"url(#clip852)\" style=\"stroke:#000000; stroke-linecap:round; stroke-linejoin:round; stroke-width:2; stroke-opacity:0.1; fill:none\" points=\"1276.49,1798.66 1276.49,47.2441 \"/>\n",
       "<polyline clip-path=\"url(#clip852)\" style=\"stroke:#000000; stroke-linecap:round; stroke-linejoin:round; stroke-width:2; stroke-opacity:0.1; fill:none\" points=\"1576.37,1798.66 1576.37,47.2441 \"/>\n",
       "<polyline clip-path=\"url(#clip852)\" style=\"stroke:#000000; stroke-linecap:round; stroke-linejoin:round; stroke-width:2; stroke-opacity:0.1; fill:none\" points=\"1876.25,1798.66 1876.25,47.2441 \"/>\n",
       "<polyline clip-path=\"url(#clip852)\" style=\"stroke:#000000; stroke-linecap:round; stroke-linejoin:round; stroke-width:2; stroke-opacity:0.1; fill:none\" points=\"2176.13,1798.66 2176.13,47.2441 \"/>\n",
       "<polyline clip-path=\"url(#clip850)\" style=\"stroke:#000000; stroke-linecap:round; stroke-linejoin:round; stroke-width:4; stroke-opacity:1; fill:none\" points=\"350.172,1798.66 2352.76,1798.66 \"/>\n",
       "<polyline clip-path=\"url(#clip850)\" style=\"stroke:#000000; stroke-linecap:round; stroke-linejoin:round; stroke-width:4; stroke-opacity:1; fill:none\" points=\"376.861,1798.66 376.861,1779.76 \"/>\n",
       "<polyline clip-path=\"url(#clip850)\" style=\"stroke:#000000; stroke-linecap:round; stroke-linejoin:round; stroke-width:4; stroke-opacity:1; fill:none\" points=\"676.739,1798.66 676.739,1779.76 \"/>\n",
       "<polyline clip-path=\"url(#clip850)\" style=\"stroke:#000000; stroke-linecap:round; stroke-linejoin:round; stroke-width:4; stroke-opacity:1; fill:none\" points=\"976.616,1798.66 976.616,1779.76 \"/>\n",
       "<polyline clip-path=\"url(#clip850)\" style=\"stroke:#000000; stroke-linecap:round; stroke-linejoin:round; stroke-width:4; stroke-opacity:1; fill:none\" points=\"1276.49,1798.66 1276.49,1779.76 \"/>\n",
       "<polyline clip-path=\"url(#clip850)\" style=\"stroke:#000000; stroke-linecap:round; stroke-linejoin:round; stroke-width:4; stroke-opacity:1; fill:none\" points=\"1576.37,1798.66 1576.37,1779.76 \"/>\n",
       "<polyline clip-path=\"url(#clip850)\" style=\"stroke:#000000; stroke-linecap:round; stroke-linejoin:round; stroke-width:4; stroke-opacity:1; fill:none\" points=\"1876.25,1798.66 1876.25,1779.76 \"/>\n",
       "<polyline clip-path=\"url(#clip850)\" style=\"stroke:#000000; stroke-linecap:round; stroke-linejoin:round; stroke-width:4; stroke-opacity:1; fill:none\" points=\"2176.13,1798.66 2176.13,1779.76 \"/>\n",
       "<path clip-path=\"url(#clip850)\" d=\"M376.861 1829.58 Q373.25 1829.58 371.421 1833.14 Q369.615 1836.68 369.615 1843.81 Q369.615 1850.92 371.421 1854.49 Q373.25 1858.03 376.861 1858.03 Q380.495 1858.03 382.3 1854.49 Q384.129 1850.92 384.129 1843.81 Q384.129 1836.68 382.3 1833.14 Q380.495 1829.58 376.861 1829.58 M376.861 1825.87 Q382.671 1825.87 385.726 1830.48 Q388.805 1835.06 388.805 1843.81 Q388.805 1852.54 385.726 1857.15 Q382.671 1861.73 376.861 1861.73 Q371.051 1861.73 367.972 1857.15 Q364.916 1852.54 364.916 1843.81 Q364.916 1835.06 367.972 1830.48 Q371.051 1825.87 376.861 1825.87 Z\" fill=\"#000000\" fill-rule=\"nonzero\" fill-opacity=\"1\" /><path clip-path=\"url(#clip850)\" d=\"M651.426 1857.12 L659.065 1857.12 L659.065 1830.76 L650.755 1832.43 L650.755 1828.17 L659.019 1826.5 L663.695 1826.5 L663.695 1857.12 L671.333 1857.12 L671.333 1861.06 L651.426 1861.06 L651.426 1857.12 Z\" fill=\"#000000\" fill-rule=\"nonzero\" fill-opacity=\"1\" /><path clip-path=\"url(#clip850)\" d=\"M690.778 1829.58 Q687.167 1829.58 685.338 1833.14 Q683.532 1836.68 683.532 1843.81 Q683.532 1850.92 685.338 1854.49 Q687.167 1858.03 690.778 1858.03 Q694.412 1858.03 696.218 1854.49 Q698.046 1850.92 698.046 1843.81 Q698.046 1836.68 696.218 1833.14 Q694.412 1829.58 690.778 1829.58 M690.778 1825.87 Q696.588 1825.87 699.644 1830.48 Q702.722 1835.06 702.722 1843.81 Q702.722 1852.54 699.644 1857.15 Q696.588 1861.73 690.778 1861.73 Q684.968 1861.73 681.889 1857.15 Q678.833 1852.54 678.833 1843.81 Q678.833 1835.06 681.889 1830.48 Q684.968 1825.87 690.778 1825.87 Z\" fill=\"#000000\" fill-rule=\"nonzero\" fill-opacity=\"1\" /><path clip-path=\"url(#clip850)\" d=\"M955.39 1857.12 L971.709 1857.12 L971.709 1861.06 L949.765 1861.06 L949.765 1857.12 Q952.427 1854.37 957.01 1849.74 Q961.616 1845.09 962.797 1843.75 Q965.042 1841.22 965.922 1839.49 Q966.825 1837.73 966.825 1836.04 Q966.825 1833.28 964.88 1831.55 Q962.959 1829.81 959.857 1829.81 Q957.658 1829.81 955.204 1830.57 Q952.774 1831.34 949.996 1832.89 L949.996 1828.17 Q952.82 1827.03 955.274 1826.45 Q957.728 1825.87 959.765 1825.87 Q965.135 1825.87 968.329 1828.56 Q971.524 1831.25 971.524 1835.74 Q971.524 1837.87 970.714 1839.79 Q969.927 1841.68 967.82 1844.28 Q967.241 1844.95 964.14 1848.17 Q961.038 1851.36 955.39 1857.12 Z\" fill=\"#000000\" fill-rule=\"nonzero\" fill-opacity=\"1\" /><path clip-path=\"url(#clip850)\" d=\"M991.524 1829.58 Q987.913 1829.58 986.084 1833.14 Q984.278 1836.68 984.278 1843.81 Q984.278 1850.92 986.084 1854.49 Q987.913 1858.03 991.524 1858.03 Q995.158 1858.03 996.964 1854.49 Q998.792 1850.92 998.792 1843.81 Q998.792 1836.68 996.964 1833.14 Q995.158 1829.58 991.524 1829.58 M991.524 1825.87 Q997.334 1825.87 1000.39 1830.48 Q1003.47 1835.06 1003.47 1843.81 Q1003.47 1852.54 1000.39 1857.15 Q997.334 1861.73 991.524 1861.73 Q985.714 1861.73 982.635 1857.15 Q979.579 1852.54 979.579 1843.81 Q979.579 1835.06 982.635 1830.48 Q985.714 1825.87 991.524 1825.87 Z\" fill=\"#000000\" fill-rule=\"nonzero\" fill-opacity=\"1\" /><path clip-path=\"url(#clip850)\" d=\"M1265.34 1842.43 Q1268.69 1843.14 1270.57 1845.41 Q1272.47 1847.68 1272.47 1851.01 Q1272.47 1856.13 1268.95 1858.93 Q1265.43 1861.73 1258.95 1861.73 Q1256.77 1861.73 1254.46 1861.29 Q1252.17 1860.87 1249.71 1860.02 L1249.71 1855.5 Q1251.66 1856.64 1253.97 1857.22 Q1256.29 1857.8 1258.81 1857.8 Q1263.21 1857.8 1265.5 1856.06 Q1267.81 1854.32 1267.81 1851.01 Q1267.81 1847.96 1265.66 1846.25 Q1263.53 1844.51 1259.71 1844.51 L1255.68 1844.51 L1255.68 1840.67 L1259.9 1840.67 Q1263.35 1840.67 1265.17 1839.3 Q1267 1837.91 1267 1835.32 Q1267 1832.66 1265.11 1831.25 Q1263.23 1829.81 1259.71 1829.81 Q1257.79 1829.81 1255.59 1830.23 Q1253.39 1830.64 1250.75 1831.52 L1250.75 1827.36 Q1253.42 1826.62 1255.73 1826.25 Q1258.07 1825.87 1260.13 1825.87 Q1265.45 1825.87 1268.55 1828.31 Q1271.66 1830.71 1271.66 1834.83 Q1271.66 1837.7 1270.01 1839.69 Q1268.37 1841.66 1265.34 1842.43 Z\" fill=\"#000000\" fill-rule=\"nonzero\" fill-opacity=\"1\" /><path clip-path=\"url(#clip850)\" d=\"M1291.33 1829.58 Q1287.72 1829.58 1285.89 1833.14 Q1284.09 1836.68 1284.09 1843.81 Q1284.09 1850.92 1285.89 1854.49 Q1287.72 1858.03 1291.33 1858.03 Q1294.97 1858.03 1296.77 1854.49 Q1298.6 1850.92 1298.6 1843.81 Q1298.6 1836.68 1296.77 1833.14 Q1294.97 1829.58 1291.33 1829.58 M1291.33 1825.87 Q1297.14 1825.87 1300.2 1830.48 Q1303.28 1835.06 1303.28 1843.81 Q1303.28 1852.54 1300.2 1857.15 Q1297.14 1861.73 1291.33 1861.73 Q1285.52 1861.73 1282.44 1857.15 Q1279.39 1852.54 1279.39 1843.81 Q1279.39 1835.06 1282.44 1830.48 Q1285.52 1825.87 1291.33 1825.87 Z\" fill=\"#000000\" fill-rule=\"nonzero\" fill-opacity=\"1\" /><path clip-path=\"url(#clip850)\" d=\"M1564.54 1830.57 L1552.74 1849.02 L1564.54 1849.02 L1564.54 1830.57 M1563.32 1826.5 L1569.2 1826.5 L1569.2 1849.02 L1574.13 1849.02 L1574.13 1852.91 L1569.2 1852.91 L1569.2 1861.06 L1564.54 1861.06 L1564.54 1852.91 L1548.94 1852.91 L1548.94 1848.4 L1563.32 1826.5 Z\" fill=\"#000000\" fill-rule=\"nonzero\" fill-opacity=\"1\" /><path clip-path=\"url(#clip850)\" d=\"M1591.86 1829.58 Q1588.25 1829.58 1586.42 1833.14 Q1584.61 1836.68 1584.61 1843.81 Q1584.61 1850.92 1586.42 1854.49 Q1588.25 1858.03 1591.86 1858.03 Q1595.49 1858.03 1597.3 1854.49 Q1599.13 1850.92 1599.13 1843.81 Q1599.13 1836.68 1597.3 1833.14 Q1595.49 1829.58 1591.86 1829.58 M1591.86 1825.87 Q1597.67 1825.87 1600.72 1830.48 Q1603.8 1835.06 1603.8 1843.81 Q1603.8 1852.54 1600.72 1857.15 Q1597.67 1861.73 1591.86 1861.73 Q1586.05 1861.73 1582.97 1857.15 Q1579.91 1852.54 1579.91 1843.81 Q1579.91 1835.06 1582.97 1830.48 Q1586.05 1825.87 1591.86 1825.87 Z\" fill=\"#000000\" fill-rule=\"nonzero\" fill-opacity=\"1\" /><path clip-path=\"url(#clip850)\" d=\"M1850.95 1826.5 L1869.31 1826.5 L1869.31 1830.44 L1855.23 1830.44 L1855.23 1838.91 Q1856.25 1838.56 1857.27 1838.4 Q1858.29 1838.21 1859.31 1838.21 Q1865.09 1838.21 1868.47 1841.38 Q1871.85 1844.56 1871.85 1849.97 Q1871.85 1855.55 1868.38 1858.65 Q1864.91 1861.73 1858.59 1861.73 Q1856.41 1861.73 1854.14 1861.36 Q1851.9 1860.99 1849.49 1860.25 L1849.49 1855.55 Q1851.57 1856.68 1853.8 1857.24 Q1856.02 1857.8 1858.5 1857.8 Q1862.5 1857.8 1864.84 1855.69 Q1867.18 1853.58 1867.18 1849.97 Q1867.18 1846.36 1864.84 1844.25 Q1862.5 1842.15 1858.5 1842.15 Q1856.62 1842.15 1854.75 1842.56 Q1852.89 1842.98 1850.95 1843.86 L1850.95 1826.5 Z\" fill=\"#000000\" fill-rule=\"nonzero\" fill-opacity=\"1\" /><path clip-path=\"url(#clip850)\" d=\"M1891.06 1829.58 Q1887.45 1829.58 1885.62 1833.14 Q1883.82 1836.68 1883.82 1843.81 Q1883.82 1850.92 1885.62 1854.49 Q1887.45 1858.03 1891.06 1858.03 Q1894.7 1858.03 1896.5 1854.49 Q1898.33 1850.92 1898.33 1843.81 Q1898.33 1836.68 1896.5 1833.14 Q1894.7 1829.58 1891.06 1829.58 M1891.06 1825.87 Q1896.87 1825.87 1899.93 1830.48 Q1903.01 1835.06 1903.01 1843.81 Q1903.01 1852.54 1899.93 1857.15 Q1896.87 1861.73 1891.06 1861.73 Q1885.25 1861.73 1882.18 1857.15 Q1879.12 1852.54 1879.12 1843.81 Q1879.12 1835.06 1882.18 1830.48 Q1885.25 1825.87 1891.06 1825.87 Z\" fill=\"#000000\" fill-rule=\"nonzero\" fill-opacity=\"1\" /><path clip-path=\"url(#clip850)\" d=\"M2161.53 1841.92 Q2158.38 1841.92 2156.53 1844.07 Q2154.7 1846.22 2154.7 1849.97 Q2154.7 1853.7 2156.53 1855.87 Q2158.38 1858.03 2161.53 1858.03 Q2164.68 1858.03 2166.51 1855.87 Q2168.36 1853.7 2168.36 1849.97 Q2168.36 1846.22 2166.51 1844.07 Q2164.68 1841.92 2161.53 1841.92 M2170.82 1827.26 L2170.82 1831.52 Q2169.06 1830.69 2167.25 1830.25 Q2165.47 1829.81 2163.71 1829.81 Q2159.08 1829.81 2156.63 1832.93 Q2154.2 1836.06 2153.85 1842.38 Q2155.21 1840.37 2157.27 1839.3 Q2159.33 1838.21 2161.81 1838.21 Q2167.02 1838.21 2170.03 1841.38 Q2173.06 1844.53 2173.06 1849.97 Q2173.06 1855.3 2169.91 1858.51 Q2166.76 1861.73 2161.53 1861.73 Q2155.54 1861.73 2152.37 1857.15 Q2149.2 1852.54 2149.2 1843.81 Q2149.2 1835.62 2153.08 1830.76 Q2156.97 1825.87 2163.52 1825.87 Q2165.28 1825.87 2167.07 1826.22 Q2168.87 1826.57 2170.82 1827.26 Z\" fill=\"#000000\" fill-rule=\"nonzero\" fill-opacity=\"1\" /><path clip-path=\"url(#clip850)\" d=\"M2191.12 1829.58 Q2187.51 1829.58 2185.68 1833.14 Q2183.87 1836.68 2183.87 1843.81 Q2183.87 1850.92 2185.68 1854.49 Q2187.51 1858.03 2191.12 1858.03 Q2194.75 1858.03 2196.56 1854.49 Q2198.38 1850.92 2198.38 1843.81 Q2198.38 1836.68 2196.56 1833.14 Q2194.75 1829.58 2191.12 1829.58 M2191.12 1825.87 Q2196.93 1825.87 2199.98 1830.48 Q2203.06 1835.06 2203.06 1843.81 Q2203.06 1852.54 2199.98 1857.15 Q2196.93 1861.73 2191.12 1861.73 Q2185.31 1861.73 2182.23 1857.15 Q2179.17 1852.54 2179.17 1843.81 Q2179.17 1835.06 2182.23 1830.48 Q2185.31 1825.87 2191.12 1825.87 Z\" fill=\"#000000\" fill-rule=\"nonzero\" fill-opacity=\"1\" /><path clip-path=\"url(#clip850)\" d=\"M1313.06 1897.56 L1313.06 1903.83 Q1309.4 1902.08 1306.16 1901.22 Q1302.91 1900.36 1299.89 1900.36 Q1294.63 1900.36 1291.77 1902.4 Q1288.94 1904.44 1288.94 1908.19 Q1288.94 1911.35 1290.81 1912.97 Q1292.72 1914.56 1298.01 1915.55 L1301.89 1916.34 Q1309.08 1917.71 1312.49 1921.18 Q1315.93 1924.62 1315.93 1930.41 Q1315.93 1937.32 1311.28 1940.88 Q1306.67 1944.45 1297.72 1944.45 Q1294.35 1944.45 1290.53 1943.68 Q1286.74 1942.92 1282.67 1941.42 L1282.67 1934.8 Q1286.58 1937 1290.34 1938.11 Q1294.09 1939.23 1297.72 1939.23 Q1303.23 1939.23 1306.22 1937.06 Q1309.21 1934.9 1309.21 1930.89 Q1309.21 1927.39 1307.05 1925.41 Q1304.91 1923.44 1300.01 1922.45 L1296.1 1921.69 Q1288.9 1920.26 1285.69 1917.2 Q1282.48 1914.15 1282.48 1908.7 Q1282.48 1902.4 1286.9 1898.77 Q1291.36 1895.14 1299.15 1895.14 Q1302.5 1895.14 1305.96 1895.75 Q1309.43 1896.35 1313.06 1897.56 Z\" fill=\"#000000\" fill-rule=\"nonzero\" fill-opacity=\"1\" /><path clip-path=\"url(#clip850)\" d=\"M1325.95 1896 L1332.38 1896 L1332.38 1943.52 L1325.95 1943.52 L1325.95 1896 Z\" fill=\"#000000\" fill-rule=\"nonzero\" fill-opacity=\"1\" /><path clip-path=\"url(#clip850)\" d=\"M1342.44 1896 L1379.78 1896 L1379.78 1900.91 L1349.73 1938.11 L1380.51 1938.11 L1380.51 1943.52 L1341.71 1943.52 L1341.71 1938.62 L1371.75 1901.41 L1342.44 1901.41 L1342.44 1896 Z\" fill=\"#000000\" fill-rule=\"nonzero\" fill-opacity=\"1\" /><path clip-path=\"url(#clip850)\" d=\"M1389.83 1896 L1419.88 1896 L1419.88 1901.41 L1396.26 1901.41 L1396.26 1915.48 L1418.89 1915.48 L1418.89 1920.89 L1396.26 1920.89 L1396.26 1938.11 L1420.45 1938.11 L1420.45 1943.52 L1389.83 1943.52 L1389.83 1896 Z\" fill=\"#000000\" fill-rule=\"nonzero\" fill-opacity=\"1\" /><polyline clip-path=\"url(#clip852)\" style=\"stroke:#000000; stroke-linecap:round; stroke-linejoin:round; stroke-width:2; stroke-opacity:0.1; fill:none\" points=\"350.172,1749.09 2352.76,1749.09 \"/>\n",
       "<polyline clip-path=\"url(#clip852)\" style=\"stroke:#000000; stroke-linecap:round; stroke-linejoin:round; stroke-width:2; stroke-opacity:0.1; fill:none\" points=\"350.172,1503.75 2352.76,1503.75 \"/>\n",
       "<polyline clip-path=\"url(#clip852)\" style=\"stroke:#000000; stroke-linecap:round; stroke-linejoin:round; stroke-width:2; stroke-opacity:0.1; fill:none\" points=\"350.172,1258.41 2352.76,1258.41 \"/>\n",
       "<polyline clip-path=\"url(#clip852)\" style=\"stroke:#000000; stroke-linecap:round; stroke-linejoin:round; stroke-width:2; stroke-opacity:0.1; fill:none\" points=\"350.172,1013.08 2352.76,1013.08 \"/>\n",
       "<polyline clip-path=\"url(#clip852)\" style=\"stroke:#000000; stroke-linecap:round; stroke-linejoin:round; stroke-width:2; stroke-opacity:0.1; fill:none\" points=\"350.172,767.738 2352.76,767.738 \"/>\n",
       "<polyline clip-path=\"url(#clip852)\" style=\"stroke:#000000; stroke-linecap:round; stroke-linejoin:round; stroke-width:2; stroke-opacity:0.1; fill:none\" points=\"350.172,522.4 2352.76,522.4 \"/>\n",
       "<polyline clip-path=\"url(#clip852)\" style=\"stroke:#000000; stroke-linecap:round; stroke-linejoin:round; stroke-width:2; stroke-opacity:0.1; fill:none\" points=\"350.172,277.061 2352.76,277.061 \"/>\n",
       "<polyline clip-path=\"url(#clip850)\" style=\"stroke:#000000; stroke-linecap:round; stroke-linejoin:round; stroke-width:4; stroke-opacity:1; fill:none\" points=\"350.172,1798.66 350.172,47.2441 \"/>\n",
       "<polyline clip-path=\"url(#clip850)\" style=\"stroke:#000000; stroke-linecap:round; stroke-linejoin:round; stroke-width:4; stroke-opacity:1; fill:none\" points=\"350.172,1749.09 369.069,1749.09 \"/>\n",
       "<polyline clip-path=\"url(#clip850)\" style=\"stroke:#000000; stroke-linecap:round; stroke-linejoin:round; stroke-width:4; stroke-opacity:1; fill:none\" points=\"350.172,1503.75 369.069,1503.75 \"/>\n",
       "<polyline clip-path=\"url(#clip850)\" style=\"stroke:#000000; stroke-linecap:round; stroke-linejoin:round; stroke-width:4; stroke-opacity:1; fill:none\" points=\"350.172,1258.41 369.069,1258.41 \"/>\n",
       "<polyline clip-path=\"url(#clip850)\" style=\"stroke:#000000; stroke-linecap:round; stroke-linejoin:round; stroke-width:4; stroke-opacity:1; fill:none\" points=\"350.172,1013.08 369.069,1013.08 \"/>\n",
       "<polyline clip-path=\"url(#clip850)\" style=\"stroke:#000000; stroke-linecap:round; stroke-linejoin:round; stroke-width:4; stroke-opacity:1; fill:none\" points=\"350.172,767.738 369.069,767.738 \"/>\n",
       "<polyline clip-path=\"url(#clip850)\" style=\"stroke:#000000; stroke-linecap:round; stroke-linejoin:round; stroke-width:4; stroke-opacity:1; fill:none\" points=\"350.172,522.4 369.069,522.4 \"/>\n",
       "<polyline clip-path=\"url(#clip850)\" style=\"stroke:#000000; stroke-linecap:round; stroke-linejoin:round; stroke-width:4; stroke-opacity:1; fill:none\" points=\"350.172,277.061 369.069,277.061 \"/>\n",
       "<path clip-path=\"url(#clip850)\" d=\"M302.227 1734.89 Q298.616 1734.89 296.787 1738.46 Q294.982 1742 294.982 1749.13 Q294.982 1756.23 296.787 1759.8 Q298.616 1763.34 302.227 1763.34 Q305.861 1763.34 307.667 1759.8 Q309.496 1756.23 309.496 1749.13 Q309.496 1742 307.667 1738.46 Q305.861 1734.89 302.227 1734.89 M302.227 1731.19 Q308.037 1731.19 311.093 1735.79 Q314.172 1740.38 314.172 1749.13 Q314.172 1757.85 311.093 1762.46 Q308.037 1767.04 302.227 1767.04 Q296.417 1767.04 293.338 1762.46 Q290.283 1757.85 290.283 1749.13 Q290.283 1740.38 293.338 1735.79 Q296.417 1731.19 302.227 1731.19 Z\" fill=\"#000000\" fill-rule=\"nonzero\" fill-opacity=\"1\" /><path clip-path=\"url(#clip850)\" d=\"M129.705 1523.55 L137.344 1523.55 L137.344 1497.18 L129.034 1498.85 L129.034 1494.59 L137.298 1492.92 L141.973 1492.92 L141.973 1523.55 L149.612 1523.55 L149.612 1527.48 L129.705 1527.48 L129.705 1523.55 Z\" fill=\"#000000\" fill-rule=\"nonzero\" fill-opacity=\"1\" /><path clip-path=\"url(#clip850)\" d=\"M159.057 1521.6 L163.941 1521.6 L163.941 1527.48 L159.057 1527.48 L159.057 1521.6 Z\" fill=\"#000000\" fill-rule=\"nonzero\" fill-opacity=\"1\" /><path clip-path=\"url(#clip850)\" d=\"M184.126 1496 Q180.515 1496 178.686 1499.56 Q176.881 1503.11 176.881 1510.24 Q176.881 1517.34 178.686 1520.91 Q180.515 1524.45 184.126 1524.45 Q187.76 1524.45 189.566 1520.91 Q191.394 1517.34 191.394 1510.24 Q191.394 1503.11 189.566 1499.56 Q187.76 1496 184.126 1496 M184.126 1492.3 Q189.936 1492.3 192.992 1496.9 Q196.07 1501.49 196.07 1510.24 Q196.07 1518.96 192.992 1523.57 Q189.936 1528.15 184.126 1528.15 Q178.316 1528.15 175.237 1523.57 Q172.182 1518.96 172.182 1510.24 Q172.182 1501.49 175.237 1496.9 Q178.316 1492.3 184.126 1492.3 Z\" fill=\"#000000\" fill-rule=\"nonzero\" fill-opacity=\"1\" /><path clip-path=\"url(#clip850)\" d=\"M232.459 1502.02 L221.88 1512.64 L232.459 1523.22 L229.704 1526.02 L219.079 1515.4 L208.455 1526.02 L205.723 1523.22 L216.279 1512.64 L205.723 1502.02 L208.455 1499.22 L219.079 1509.84 L229.704 1499.22 L232.459 1502.02 Z\" fill=\"#000000\" fill-rule=\"nonzero\" fill-opacity=\"1\" /><path clip-path=\"url(#clip850)\" d=\"M244.82 1523.55 L252.459 1523.55 L252.459 1497.18 L244.149 1498.85 L244.149 1494.59 L252.413 1492.92 L257.089 1492.92 L257.089 1523.55 L264.727 1523.55 L264.727 1527.48 L244.82 1527.48 L244.82 1523.55 Z\" fill=\"#000000\" fill-rule=\"nonzero\" fill-opacity=\"1\" /><path clip-path=\"url(#clip850)\" d=\"M284.172 1496 Q280.561 1496 278.732 1499.56 Q276.926 1503.11 276.926 1510.24 Q276.926 1517.34 278.732 1520.91 Q280.561 1524.45 284.172 1524.45 Q287.806 1524.45 289.612 1520.91 Q291.44 1517.34 291.44 1510.24 Q291.44 1503.11 289.612 1499.56 Q287.806 1496 284.172 1496 M284.172 1492.3 Q289.982 1492.3 293.037 1496.9 Q296.116 1501.49 296.116 1510.24 Q296.116 1518.96 293.037 1523.57 Q289.982 1528.15 284.172 1528.15 Q278.362 1528.15 275.283 1523.57 Q272.227 1518.96 272.227 1510.24 Q272.227 1501.49 275.283 1496.9 Q278.362 1492.3 284.172 1492.3 Z\" fill=\"#000000\" fill-rule=\"nonzero\" fill-opacity=\"1\" /><path clip-path=\"url(#clip850)\" d=\"M296.116 1471.99 L314.172 1471.99 L314.172 1473.61 L303.978 1500.07 L300.009 1500.07 L309.601 1475.19 L296.116 1475.19 L296.116 1471.99 Z\" fill=\"#000000\" fill-rule=\"nonzero\" fill-opacity=\"1\" /><path clip-path=\"url(#clip850)\" d=\"M132.923 1278.21 L149.242 1278.21 L149.242 1282.14 L127.298 1282.14 L127.298 1278.21 Q129.96 1275.45 134.543 1270.82 Q139.149 1266.17 140.33 1264.83 Q142.575 1262.3 143.455 1260.57 Q144.358 1258.81 144.358 1257.12 Q144.358 1254.36 142.413 1252.63 Q140.492 1250.89 137.39 1250.89 Q135.191 1250.89 132.737 1251.66 Q130.307 1252.42 127.529 1253.97 L127.529 1249.25 Q130.353 1248.11 132.807 1247.54 Q135.26 1246.96 137.298 1246.96 Q142.668 1246.96 145.862 1249.64 Q149.057 1252.33 149.057 1256.82 Q149.057 1258.95 148.247 1260.87 Q147.459 1262.77 145.353 1265.36 Q144.774 1266.03 141.672 1269.25 Q138.571 1272.44 132.923 1278.21 Z\" fill=\"#000000\" fill-rule=\"nonzero\" fill-opacity=\"1\" /><path clip-path=\"url(#clip850)\" d=\"M159.057 1276.26 L163.941 1276.26 L163.941 1282.14 L159.057 1282.14 L159.057 1276.26 Z\" fill=\"#000000\" fill-rule=\"nonzero\" fill-opacity=\"1\" /><path clip-path=\"url(#clip850)\" d=\"M184.126 1250.66 Q180.515 1250.66 178.686 1254.23 Q176.881 1257.77 176.881 1264.9 Q176.881 1272 178.686 1275.57 Q180.515 1279.11 184.126 1279.11 Q187.76 1279.11 189.566 1275.57 Q191.394 1272 191.394 1264.9 Q191.394 1257.77 189.566 1254.23 Q187.76 1250.66 184.126 1250.66 M184.126 1246.96 Q189.936 1246.96 192.992 1251.56 Q196.07 1256.15 196.07 1264.9 Q196.07 1273.62 192.992 1278.23 Q189.936 1282.81 184.126 1282.81 Q178.316 1282.81 175.237 1278.23 Q172.182 1273.62 172.182 1264.9 Q172.182 1256.15 175.237 1251.56 Q178.316 1246.96 184.126 1246.96 Z\" fill=\"#000000\" fill-rule=\"nonzero\" fill-opacity=\"1\" /><path clip-path=\"url(#clip850)\" d=\"M232.459 1256.68 L221.88 1267.3 L232.459 1277.88 L229.704 1280.68 L219.079 1270.06 L208.455 1280.68 L205.723 1277.88 L216.279 1267.3 L205.723 1256.68 L208.455 1253.88 L219.079 1264.5 L229.704 1253.88 L232.459 1256.68 Z\" fill=\"#000000\" fill-rule=\"nonzero\" fill-opacity=\"1\" /><path clip-path=\"url(#clip850)\" d=\"M244.82 1278.21 L252.459 1278.21 L252.459 1251.84 L244.149 1253.51 L244.149 1249.25 L252.413 1247.58 L257.089 1247.58 L257.089 1278.21 L264.727 1278.21 L264.727 1282.14 L244.82 1282.14 L244.82 1278.21 Z\" fill=\"#000000\" fill-rule=\"nonzero\" fill-opacity=\"1\" /><path clip-path=\"url(#clip850)\" d=\"M284.172 1250.66 Q280.561 1250.66 278.732 1254.23 Q276.926 1257.77 276.926 1264.9 Q276.926 1272 278.732 1275.57 Q280.561 1279.11 284.172 1279.11 Q287.806 1279.11 289.612 1275.57 Q291.44 1272 291.44 1264.9 Q291.44 1257.77 289.612 1254.23 Q287.806 1250.66 284.172 1250.66 M284.172 1246.96 Q289.982 1246.96 293.037 1251.56 Q296.116 1256.15 296.116 1264.9 Q296.116 1273.62 293.037 1278.23 Q289.982 1282.81 284.172 1282.81 Q278.362 1282.81 275.283 1278.23 Q272.227 1273.62 272.227 1264.9 Q272.227 1256.15 275.283 1251.56 Q278.362 1246.96 284.172 1246.96 Z\" fill=\"#000000\" fill-rule=\"nonzero\" fill-opacity=\"1\" /><path clip-path=\"url(#clip850)\" d=\"M296.116 1226.65 L314.172 1226.65 L314.172 1228.27 L303.978 1254.73 L300.009 1254.73 L309.601 1229.85 L296.116 1229.85 L296.116 1226.65 Z\" fill=\"#000000\" fill-rule=\"nonzero\" fill-opacity=\"1\" /><path clip-path=\"url(#clip850)\" d=\"M143.061 1018.17 Q146.418 1018.89 148.293 1021.16 Q150.191 1023.42 150.191 1026.76 Q150.191 1031.87 146.672 1034.67 Q143.154 1037.48 136.673 1037.48 Q134.497 1037.48 132.182 1037.04 Q129.89 1036.62 127.436 1035.76 L127.436 1031.25 Q129.381 1032.38 131.696 1032.96 Q134.01 1033.54 136.534 1033.54 Q140.932 1033.54 143.223 1031.8 Q145.538 1030.07 145.538 1026.76 Q145.538 1023.7 143.385 1021.99 Q141.256 1020.25 137.436 1020.25 L133.409 1020.25 L133.409 1016.41 L137.622 1016.41 Q141.071 1016.41 142.899 1015.05 Q144.728 1013.66 144.728 1011.06 Q144.728 1008.4 142.83 1006.99 Q140.955 1005.55 137.436 1005.55 Q135.515 1005.55 133.316 1005.97 Q131.117 1006.39 128.478 1007.27 L128.478 1003.1 Q131.14 1002.36 133.455 1001.99 Q135.793 1001.62 137.853 1001.62 Q143.177 1001.62 146.279 1004.05 Q149.381 1006.46 149.381 1010.58 Q149.381 1013.45 147.737 1015.44 Q146.094 1017.41 143.061 1018.17 Z\" fill=\"#000000\" fill-rule=\"nonzero\" fill-opacity=\"1\" /><path clip-path=\"url(#clip850)\" d=\"M159.057 1030.92 L163.941 1030.92 L163.941 1036.8 L159.057 1036.8 L159.057 1030.92 Z\" fill=\"#000000\" fill-rule=\"nonzero\" fill-opacity=\"1\" /><path clip-path=\"url(#clip850)\" d=\"M184.126 1005.32 Q180.515 1005.32 178.686 1008.89 Q176.881 1012.43 176.881 1019.56 Q176.881 1026.67 178.686 1030.23 Q180.515 1033.77 184.126 1033.77 Q187.76 1033.77 189.566 1030.23 Q191.394 1026.67 191.394 1019.56 Q191.394 1012.43 189.566 1008.89 Q187.76 1005.32 184.126 1005.32 M184.126 1001.62 Q189.936 1001.62 192.992 1006.23 Q196.07 1010.81 196.07 1019.56 Q196.07 1028.29 192.992 1032.89 Q189.936 1037.48 184.126 1037.48 Q178.316 1037.48 175.237 1032.89 Q172.182 1028.29 172.182 1019.56 Q172.182 1010.81 175.237 1006.23 Q178.316 1001.62 184.126 1001.62 Z\" fill=\"#000000\" fill-rule=\"nonzero\" fill-opacity=\"1\" /><path clip-path=\"url(#clip850)\" d=\"M232.459 1011.34 L221.88 1021.97 L232.459 1032.54 L229.704 1035.35 L219.079 1024.72 L208.455 1035.35 L205.723 1032.54 L216.279 1021.97 L205.723 1011.34 L208.455 1008.54 L219.079 1019.17 L229.704 1008.54 L232.459 1011.34 Z\" fill=\"#000000\" fill-rule=\"nonzero\" fill-opacity=\"1\" /><path clip-path=\"url(#clip850)\" d=\"M244.82 1032.87 L252.459 1032.87 L252.459 1006.5 L244.149 1008.17 L244.149 1003.91 L252.413 1002.24 L257.089 1002.24 L257.089 1032.87 L264.727 1032.87 L264.727 1036.8 L244.82 1036.8 L244.82 1032.87 Z\" fill=\"#000000\" fill-rule=\"nonzero\" fill-opacity=\"1\" /><path clip-path=\"url(#clip850)\" d=\"M284.172 1005.32 Q280.561 1005.32 278.732 1008.89 Q276.926 1012.43 276.926 1019.56 Q276.926 1026.67 278.732 1030.23 Q280.561 1033.77 284.172 1033.77 Q287.806 1033.77 289.612 1030.23 Q291.44 1026.67 291.44 1019.56 Q291.44 1012.43 289.612 1008.89 Q287.806 1005.32 284.172 1005.32 M284.172 1001.62 Q289.982 1001.62 293.037 1006.23 Q296.116 1010.81 296.116 1019.56 Q296.116 1028.29 293.037 1032.89 Q289.982 1037.48 284.172 1037.48 Q278.362 1037.48 275.283 1032.89 Q272.227 1028.29 272.227 1019.56 Q272.227 1010.81 275.283 1006.23 Q278.362 1001.62 284.172 1001.62 Z\" fill=\"#000000\" fill-rule=\"nonzero\" fill-opacity=\"1\" /><path clip-path=\"url(#clip850)\" d=\"M296.116 981.314 L314.172 981.314 L314.172 982.931 L303.978 1009.39 L300.009 1009.39 L309.601 984.511 L296.116 984.511 L296.116 981.314 Z\" fill=\"#000000\" fill-rule=\"nonzero\" fill-opacity=\"1\" /><path clip-path=\"url(#clip850)\" d=\"M141.742 760.98 L129.936 779.429 L141.742 779.429 L141.742 760.98 M140.515 756.906 L146.395 756.906 L146.395 779.429 L151.325 779.429 L151.325 783.318 L146.395 783.318 L146.395 791.466 L141.742 791.466 L141.742 783.318 L126.14 783.318 L126.14 778.804 L140.515 756.906 Z\" fill=\"#000000\" fill-rule=\"nonzero\" fill-opacity=\"1\" /><path clip-path=\"url(#clip850)\" d=\"M159.057 785.586 L163.941 785.586 L163.941 791.466 L159.057 791.466 L159.057 785.586 Z\" fill=\"#000000\" fill-rule=\"nonzero\" fill-opacity=\"1\" /><path clip-path=\"url(#clip850)\" d=\"M184.126 759.984 Q180.515 759.984 178.686 763.549 Q176.881 767.091 176.881 774.221 Q176.881 781.327 178.686 784.892 Q180.515 788.433 184.126 788.433 Q187.76 788.433 189.566 784.892 Q191.394 781.327 191.394 774.221 Q191.394 767.091 189.566 763.549 Q187.76 759.984 184.126 759.984 M184.126 756.281 Q189.936 756.281 192.992 760.887 Q196.07 765.471 196.07 774.221 Q196.07 782.947 192.992 787.554 Q189.936 792.137 184.126 792.137 Q178.316 792.137 175.237 787.554 Q172.182 782.947 172.182 774.221 Q172.182 765.471 175.237 760.887 Q178.316 756.281 184.126 756.281 Z\" fill=\"#000000\" fill-rule=\"nonzero\" fill-opacity=\"1\" /><path clip-path=\"url(#clip850)\" d=\"M232.459 766.003 L221.88 776.628 L232.459 787.207 L229.704 790.007 L219.079 779.383 L208.455 790.007 L205.723 787.207 L216.279 776.628 L205.723 766.003 L208.455 763.202 L219.079 773.827 L229.704 763.202 L232.459 766.003 Z\" fill=\"#000000\" fill-rule=\"nonzero\" fill-opacity=\"1\" /><path clip-path=\"url(#clip850)\" d=\"M244.82 787.531 L252.459 787.531 L252.459 761.165 L244.149 762.832 L244.149 758.572 L252.413 756.906 L257.089 756.906 L257.089 787.531 L264.727 787.531 L264.727 791.466 L244.82 791.466 L244.82 787.531 Z\" fill=\"#000000\" fill-rule=\"nonzero\" fill-opacity=\"1\" /><path clip-path=\"url(#clip850)\" d=\"M284.172 759.984 Q280.561 759.984 278.732 763.549 Q276.926 767.091 276.926 774.221 Q276.926 781.327 278.732 784.892 Q280.561 788.433 284.172 788.433 Q287.806 788.433 289.612 784.892 Q291.44 781.327 291.44 774.221 Q291.44 767.091 289.612 763.549 Q287.806 759.984 284.172 759.984 M284.172 756.281 Q289.982 756.281 293.037 760.887 Q296.116 765.471 296.116 774.221 Q296.116 782.947 293.037 787.554 Q289.982 792.137 284.172 792.137 Q278.362 792.137 275.283 787.554 Q272.227 782.947 272.227 774.221 Q272.227 765.471 275.283 760.887 Q278.362 756.281 284.172 756.281 Z\" fill=\"#000000\" fill-rule=\"nonzero\" fill-opacity=\"1\" /><path clip-path=\"url(#clip850)\" d=\"M296.116 735.975 L314.172 735.975 L314.172 737.593 L303.978 764.055 L300.009 764.055 L309.601 739.173 L296.116 739.173 L296.116 735.975 Z\" fill=\"#000000\" fill-rule=\"nonzero\" fill-opacity=\"1\" /><path clip-path=\"url(#clip850)\" d=\"M128.941 511.567 L147.297 511.567 L147.297 515.503 L133.223 515.503 L133.223 523.975 Q134.242 523.628 135.26 523.466 Q136.279 523.28 137.298 523.28 Q143.085 523.28 146.464 526.452 Q149.844 529.623 149.844 535.04 Q149.844 540.618 146.372 543.72 Q142.899 546.799 136.58 546.799 Q134.404 546.799 132.135 546.428 Q129.89 546.058 127.483 545.317 L127.483 540.618 Q129.566 541.752 131.788 542.308 Q134.01 542.864 136.487 542.864 Q140.492 542.864 142.83 540.757 Q145.168 538.651 145.168 535.04 Q145.168 531.428 142.83 529.322 Q140.492 527.215 136.487 527.215 Q134.612 527.215 132.737 527.632 Q130.886 528.049 128.941 528.928 L128.941 511.567 Z\" fill=\"#000000\" fill-rule=\"nonzero\" fill-opacity=\"1\" /><path clip-path=\"url(#clip850)\" d=\"M159.057 540.248 L163.941 540.248 L163.941 546.127 L159.057 546.127 L159.057 540.248 Z\" fill=\"#000000\" fill-rule=\"nonzero\" fill-opacity=\"1\" /><path clip-path=\"url(#clip850)\" d=\"M184.126 514.646 Q180.515 514.646 178.686 518.211 Q176.881 521.753 176.881 528.882 Q176.881 535.989 178.686 539.553 Q180.515 543.095 184.126 543.095 Q187.76 543.095 189.566 539.553 Q191.394 535.989 191.394 528.882 Q191.394 521.753 189.566 518.211 Q187.76 514.646 184.126 514.646 M184.126 510.942 Q189.936 510.942 192.992 515.549 Q196.07 520.132 196.07 528.882 Q196.07 537.609 192.992 542.215 Q189.936 546.799 184.126 546.799 Q178.316 546.799 175.237 542.215 Q172.182 537.609 172.182 528.882 Q172.182 520.132 175.237 515.549 Q178.316 510.942 184.126 510.942 Z\" fill=\"#000000\" fill-rule=\"nonzero\" fill-opacity=\"1\" /><path clip-path=\"url(#clip850)\" d=\"M232.459 520.665 L221.88 531.29 L232.459 541.868 L229.704 544.669 L219.079 534.044 L208.455 544.669 L205.723 541.868 L216.279 531.29 L205.723 520.665 L208.455 517.864 L219.079 528.489 L229.704 517.864 L232.459 520.665 Z\" fill=\"#000000\" fill-rule=\"nonzero\" fill-opacity=\"1\" /><path clip-path=\"url(#clip850)\" d=\"M244.82 542.192 L252.459 542.192 L252.459 515.827 L244.149 517.493 L244.149 513.234 L252.413 511.567 L257.089 511.567 L257.089 542.192 L264.727 542.192 L264.727 546.127 L244.82 546.127 L244.82 542.192 Z\" fill=\"#000000\" fill-rule=\"nonzero\" fill-opacity=\"1\" /><path clip-path=\"url(#clip850)\" d=\"M284.172 514.646 Q280.561 514.646 278.732 518.211 Q276.926 521.753 276.926 528.882 Q276.926 535.989 278.732 539.553 Q280.561 543.095 284.172 543.095 Q287.806 543.095 289.612 539.553 Q291.44 535.989 291.44 528.882 Q291.44 521.753 289.612 518.211 Q287.806 514.646 284.172 514.646 M284.172 510.942 Q289.982 510.942 293.037 515.549 Q296.116 520.132 296.116 528.882 Q296.116 537.609 293.037 542.215 Q289.982 546.799 284.172 546.799 Q278.362 546.799 275.283 542.215 Q272.227 537.609 272.227 528.882 Q272.227 520.132 275.283 515.549 Q278.362 510.942 284.172 510.942 Z\" fill=\"#000000\" fill-rule=\"nonzero\" fill-opacity=\"1\" /><path clip-path=\"url(#clip850)\" d=\"M296.116 490.637 L314.172 490.637 L314.172 492.255 L303.978 518.717 L300.009 518.717 L309.601 493.834 L296.116 493.834 L296.116 490.637 Z\" fill=\"#000000\" fill-rule=\"nonzero\" fill-opacity=\"1\" /><path clip-path=\"url(#clip850)\" d=\"M139.473 281.646 Q136.325 281.646 134.473 283.798 Q132.645 285.951 132.645 289.701 Q132.645 293.428 134.473 295.604 Q136.325 297.757 139.473 297.757 Q142.622 297.757 144.45 295.604 Q146.302 293.428 146.302 289.701 Q146.302 285.951 144.45 283.798 Q142.622 281.646 139.473 281.646 M148.756 266.993 L148.756 271.252 Q146.997 270.419 145.191 269.979 Q143.409 269.539 141.649 269.539 Q137.02 269.539 134.566 272.664 Q132.135 275.789 131.788 282.109 Q133.154 280.095 135.214 279.03 Q137.274 277.942 139.751 277.942 Q144.96 277.942 147.969 281.113 Q151.001 284.261 151.001 289.701 Q151.001 295.025 147.853 298.243 Q144.705 301.46 139.473 301.46 Q133.478 301.46 130.307 296.877 Q127.136 292.271 127.136 283.544 Q127.136 275.349 131.024 270.488 Q134.913 265.604 141.464 265.604 Q143.223 265.604 145.006 265.951 Q146.811 266.299 148.756 266.993 Z\" fill=\"#000000\" fill-rule=\"nonzero\" fill-opacity=\"1\" /><path clip-path=\"url(#clip850)\" d=\"M159.057 294.909 L163.941 294.909 L163.941 300.789 L159.057 300.789 L159.057 294.909 Z\" fill=\"#000000\" fill-rule=\"nonzero\" fill-opacity=\"1\" /><path clip-path=\"url(#clip850)\" d=\"M184.126 269.308 Q180.515 269.308 178.686 272.873 Q176.881 276.414 176.881 283.544 Q176.881 290.65 178.686 294.215 Q180.515 297.757 184.126 297.757 Q187.76 297.757 189.566 294.215 Q191.394 290.65 191.394 283.544 Q191.394 276.414 189.566 272.873 Q187.76 269.308 184.126 269.308 M184.126 265.604 Q189.936 265.604 192.992 270.211 Q196.07 274.794 196.07 283.544 Q196.07 292.271 192.992 296.877 Q189.936 301.46 184.126 301.46 Q178.316 301.46 175.237 296.877 Q172.182 292.271 172.182 283.544 Q172.182 274.794 175.237 270.211 Q178.316 265.604 184.126 265.604 Z\" fill=\"#000000\" fill-rule=\"nonzero\" fill-opacity=\"1\" /><path clip-path=\"url(#clip850)\" d=\"M232.459 275.326 L221.88 285.951 L232.459 296.53 L229.704 299.331 L219.079 288.706 L208.455 299.331 L205.723 296.53 L216.279 285.951 L205.723 275.326 L208.455 272.525 L219.079 283.15 L229.704 272.525 L232.459 275.326 Z\" fill=\"#000000\" fill-rule=\"nonzero\" fill-opacity=\"1\" /><path clip-path=\"url(#clip850)\" d=\"M244.82 296.854 L252.459 296.854 L252.459 270.488 L244.149 272.155 L244.149 267.896 L252.413 266.229 L257.089 266.229 L257.089 296.854 L264.727 296.854 L264.727 300.789 L244.82 300.789 L244.82 296.854 Z\" fill=\"#000000\" fill-rule=\"nonzero\" fill-opacity=\"1\" /><path clip-path=\"url(#clip850)\" d=\"M284.172 269.308 Q280.561 269.308 278.732 272.873 Q276.926 276.414 276.926 283.544 Q276.926 290.65 278.732 294.215 Q280.561 297.757 284.172 297.757 Q287.806 297.757 289.612 294.215 Q291.44 290.65 291.44 283.544 Q291.44 276.414 289.612 272.873 Q287.806 269.308 284.172 269.308 M284.172 265.604 Q289.982 265.604 293.037 270.211 Q296.116 274.794 296.116 283.544 Q296.116 292.271 293.037 296.877 Q289.982 301.46 284.172 301.46 Q278.362 301.46 275.283 296.877 Q272.227 292.271 272.227 283.544 Q272.227 274.794 275.283 270.211 Q278.362 265.604 284.172 265.604 Z\" fill=\"#000000\" fill-rule=\"nonzero\" fill-opacity=\"1\" /><path clip-path=\"url(#clip850)\" d=\"M296.116 245.299 L314.172 245.299 L314.172 246.916 L303.978 273.379 L300.009 273.379 L309.601 248.496 L296.116 248.496 L296.116 245.299 Z\" fill=\"#000000\" fill-rule=\"nonzero\" fill-opacity=\"1\" /><path clip-path=\"url(#clip850)\" d=\"M28.3642 1019.68 L28.3642 992.37 L33.775 992.37 L33.775 1013.25 L47.7796 1013.25 L47.7796 994.407 L53.1904 994.407 L53.1904 1013.25 L75.8842 1013.25 L75.8842 1019.68 L28.3642 1019.68 Z\" fill=\"#000000\" fill-rule=\"nonzero\" fill-opacity=\"1\" /><path clip-path=\"url(#clip850)\" d=\"M28.3642 982.185 L28.3642 975.756 L70.4733 975.756 L70.4733 952.616 L75.8842 952.616 L75.8842 982.185 L28.3642 982.185 Z\" fill=\"#000000\" fill-rule=\"nonzero\" fill-opacity=\"1\" /><path clip-path=\"url(#clip850)\" d=\"M32.7247 928.904 Q32.7247 935.906 37.9445 940.044 Q43.1644 944.15 52.1719 944.15 Q61.1475 944.15 66.3674 940.044 Q71.5873 935.906 71.5873 928.904 Q71.5873 921.902 66.3674 917.828 Q61.1475 913.722 52.1719 913.722 Q43.1644 913.722 37.9445 917.828 Q32.7247 921.902 32.7247 928.904 M27.5048 928.904 Q27.5048 918.91 34.2206 912.926 Q40.9046 906.942 52.1719 906.942 Q63.4074 906.942 70.1232 912.926 Q76.8072 918.91 76.8072 928.904 Q76.8072 938.93 70.1232 944.945 Q63.4392 950.929 52.1719 950.929 Q40.9046 950.929 34.2206 944.945 Q27.5048 938.93 27.5048 928.904 Z\" fill=\"#000000\" fill-rule=\"nonzero\" fill-opacity=\"1\" /><path clip-path=\"url(#clip850)\" d=\"M33.6477 890.455 L51.5035 890.455 L51.5035 882.371 Q51.5035 877.883 49.18 875.432 Q46.8565 872.981 42.5597 872.981 Q38.2947 872.981 35.9712 875.432 Q33.6477 877.883 33.6477 882.371 L33.6477 890.455 M28.3642 896.884 L28.3642 882.371 Q28.3642 874.382 31.9926 870.308 Q35.5892 866.202 42.5597 866.202 Q49.5938 866.202 53.1904 870.308 Q56.787 874.382 56.787 882.371 L56.787 890.455 L75.8842 890.455 L75.8842 896.884 L28.3642 896.884 Z\" fill=\"#000000\" fill-rule=\"nonzero\" fill-opacity=\"1\" /><path clip-path=\"url(#clip850)\" d=\"M29.9238 829.09 L36.194 829.09 Q34.4434 832.75 33.584 835.996 Q32.7247 839.243 32.7247 842.267 Q32.7247 847.518 34.7617 850.383 Q36.7987 853.216 40.5545 853.216 Q43.7055 853.216 45.3288 851.338 Q46.9202 849.428 47.9069 844.145 L48.7026 840.261 Q50.0712 833.068 53.5405 829.663 Q56.978 826.225 62.7708 826.225 Q69.6776 826.225 73.2424 830.872 Q76.8072 835.487 76.8072 844.431 Q76.8072 847.805 76.0433 851.624 Q75.2794 855.412 73.7835 859.486 L67.1631 859.486 Q69.3593 855.571 70.4733 851.815 Q71.5873 848.059 71.5873 844.431 Q71.5873 838.925 69.423 835.933 Q67.2586 832.941 63.2482 832.941 Q59.7471 832.941 57.7737 835.105 Q55.8004 837.238 54.8137 842.139 L54.0498 846.054 Q52.6175 853.247 49.562 856.462 Q46.5064 859.677 41.0637 859.677 Q34.7617 859.677 31.1332 855.253 Q27.5048 850.797 27.5048 842.999 Q27.5048 839.657 28.1095 836.187 Q28.7143 832.718 29.9238 829.09 Z\" fill=\"#000000\" fill-rule=\"nonzero\" fill-opacity=\"1\" /><polyline clip-path=\"url(#clip852)\" style=\"stroke:#ff0000; stroke-linecap:round; stroke-linejoin:round; stroke-width:4; stroke-opacity:1; fill:none\" points=\"406.848,1749.09 496.812,1749.09 646.751,1749.03 856.665,1748.55 1126.56,1744.83 1456.42,1717.24 1846.26,1517.84 2296.08,96.8125 \"/>\n",
       "<polyline clip-path=\"url(#clip852)\" style=\"stroke:#000000; stroke-linecap:round; stroke-linejoin:round; stroke-width:4; stroke-opacity:1; fill:none\" points=\"406.848,1749.09 406.848,1749.09 \"/>\n",
       "<polyline clip-path=\"url(#clip852)\" style=\"stroke:#000000; stroke-linecap:round; stroke-linejoin:round; stroke-width:4; stroke-opacity:1; fill:none\" points=\"496.812,1749.09 496.812,1749.09 \"/>\n",
       "<polyline clip-path=\"url(#clip852)\" style=\"stroke:#000000; stroke-linecap:round; stroke-linejoin:round; stroke-width:4; stroke-opacity:1; fill:none\" points=\"646.751,1749.03 646.751,1749.03 \"/>\n",
       "<polyline clip-path=\"url(#clip852)\" style=\"stroke:#000000; stroke-linecap:round; stroke-linejoin:round; stroke-width:4; stroke-opacity:1; fill:none\" points=\"856.665,1748.55 856.665,1748.55 \"/>\n",
       "<polyline clip-path=\"url(#clip852)\" style=\"stroke:#000000; stroke-linecap:round; stroke-linejoin:round; stroke-width:4; stroke-opacity:1; fill:none\" points=\"1126.56,1744.83 1126.56,1744.83 \"/>\n",
       "<polyline clip-path=\"url(#clip852)\" style=\"stroke:#000000; stroke-linecap:round; stroke-linejoin:round; stroke-width:4; stroke-opacity:1; fill:none\" points=\"1456.42,1717.24 1456.42,1717.24 \"/>\n",
       "<polyline clip-path=\"url(#clip852)\" style=\"stroke:#000000; stroke-linecap:round; stroke-linejoin:round; stroke-width:4; stroke-opacity:1; fill:none\" points=\"1846.26,1517.84 1846.26,1517.84 \"/>\n",
       "<polyline clip-path=\"url(#clip852)\" style=\"stroke:#000000; stroke-linecap:round; stroke-linejoin:round; stroke-width:4; stroke-opacity:1; fill:none\" points=\"2296.08,96.8125 2296.08,96.8125 \"/>\n",
       "<line clip-path=\"url(#clip852)\" x1=\"422.848\" y1=\"1749.09\" x2=\"390.848\" y2=\"1749.09\" style=\"stroke:#000000; stroke-width:4; stroke-opacity:1\"/>\n",
       "<line clip-path=\"url(#clip852)\" x1=\"422.848\" y1=\"1749.09\" x2=\"390.848\" y2=\"1749.09\" style=\"stroke:#000000; stroke-width:4; stroke-opacity:1\"/>\n",
       "<line clip-path=\"url(#clip852)\" x1=\"512.812\" y1=\"1749.09\" x2=\"480.812\" y2=\"1749.09\" style=\"stroke:#000000; stroke-width:4; stroke-opacity:1\"/>\n",
       "<line clip-path=\"url(#clip852)\" x1=\"512.812\" y1=\"1749.09\" x2=\"480.812\" y2=\"1749.09\" style=\"stroke:#000000; stroke-width:4; stroke-opacity:1\"/>\n",
       "<line clip-path=\"url(#clip852)\" x1=\"662.751\" y1=\"1749.03\" x2=\"630.751\" y2=\"1749.03\" style=\"stroke:#000000; stroke-width:4; stroke-opacity:1\"/>\n",
       "<line clip-path=\"url(#clip852)\" x1=\"662.751\" y1=\"1749.03\" x2=\"630.751\" y2=\"1749.03\" style=\"stroke:#000000; stroke-width:4; stroke-opacity:1\"/>\n",
       "<line clip-path=\"url(#clip852)\" x1=\"872.665\" y1=\"1748.55\" x2=\"840.665\" y2=\"1748.55\" style=\"stroke:#000000; stroke-width:4; stroke-opacity:1\"/>\n",
       "<line clip-path=\"url(#clip852)\" x1=\"872.665\" y1=\"1748.55\" x2=\"840.665\" y2=\"1748.55\" style=\"stroke:#000000; stroke-width:4; stroke-opacity:1\"/>\n",
       "<line clip-path=\"url(#clip852)\" x1=\"1142.56\" y1=\"1744.83\" x2=\"1110.56\" y2=\"1744.83\" style=\"stroke:#000000; stroke-width:4; stroke-opacity:1\"/>\n",
       "<line clip-path=\"url(#clip852)\" x1=\"1142.56\" y1=\"1744.83\" x2=\"1110.56\" y2=\"1744.83\" style=\"stroke:#000000; stroke-width:4; stroke-opacity:1\"/>\n",
       "<line clip-path=\"url(#clip852)\" x1=\"1472.42\" y1=\"1717.24\" x2=\"1440.42\" y2=\"1717.24\" style=\"stroke:#000000; stroke-width:4; stroke-opacity:1\"/>\n",
       "<line clip-path=\"url(#clip852)\" x1=\"1472.42\" y1=\"1717.24\" x2=\"1440.42\" y2=\"1717.24\" style=\"stroke:#000000; stroke-width:4; stroke-opacity:1\"/>\n",
       "<line clip-path=\"url(#clip852)\" x1=\"1862.26\" y1=\"1517.84\" x2=\"1830.26\" y2=\"1517.84\" style=\"stroke:#000000; stroke-width:4; stroke-opacity:1\"/>\n",
       "<line clip-path=\"url(#clip852)\" x1=\"1862.26\" y1=\"1517.84\" x2=\"1830.26\" y2=\"1517.84\" style=\"stroke:#000000; stroke-width:4; stroke-opacity:1\"/>\n",
       "<line clip-path=\"url(#clip852)\" x1=\"2312.08\" y1=\"96.8125\" x2=\"2280.08\" y2=\"96.8125\" style=\"stroke:#000000; stroke-width:4; stroke-opacity:1\"/>\n",
       "<line clip-path=\"url(#clip852)\" x1=\"2312.08\" y1=\"96.8125\" x2=\"2280.08\" y2=\"96.8125\" style=\"stroke:#000000; stroke-width:4; stroke-opacity:1\"/>\n",
       "<path clip-path=\"url(#clip850)\" d=\"M416.924 209.305 L669.613 209.305 L669.613 105.625 L416.924 105.625  Z\" fill=\"#ffffff\" fill-rule=\"evenodd\" fill-opacity=\"1\"/>\n",
       "<polyline clip-path=\"url(#clip850)\" style=\"stroke:#000000; stroke-linecap:round; stroke-linejoin:round; stroke-width:4; stroke-opacity:1; fill:none\" points=\"416.924,209.305 669.613,209.305 669.613,105.625 416.924,105.625 416.924,209.305 \"/>\n",
       "<polyline clip-path=\"url(#clip850)\" style=\"stroke:#ff0000; stroke-linecap:round; stroke-linejoin:round; stroke-width:4; stroke-opacity:1; fill:none\" points=\"439.175,157.465 572.681,157.465 \"/>\n",
       "<path clip-path=\"url(#clip850)\" d=\"M608.774 177.152 Q606.969 181.782 605.256 183.194 Q603.543 184.606 600.673 184.606 L597.27 184.606 L597.27 181.041 L599.77 181.041 Q601.529 181.041 602.501 180.208 Q603.473 179.374 604.654 176.272 L605.418 174.328 L594.932 148.819 L599.446 148.819 L607.548 169.097 L615.649 148.819 L620.163 148.819 L608.774 177.152 Z\" fill=\"#000000\" fill-rule=\"nonzero\" fill-opacity=\"1\" /><path clip-path=\"url(#clip850)\" d=\"M627.455 170.809 L635.094 170.809 L635.094 144.444 L626.784 146.111 L626.784 141.851 L635.047 140.185 L639.723 140.185 L639.723 170.809 L647.362 170.809 L647.362 174.745 L627.455 174.745 L627.455 170.809 Z\" fill=\"#000000\" fill-rule=\"nonzero\" fill-opacity=\"1\" /></svg>\n"
      ]
     },
     "execution_count": 58,
     "metadata": {},
     "output_type": "execute_result"
    }
   ],
   "source": [
    "plot(inversion_time_statistics.size, inversion_time_statistics.flops_mean, \n",
    "    size = (600, 500), color=\"red\",yerr=inversion_time_statistics.flops_std,\n",
    "    yaxis = \"FLOPS\", xaxis = \"SIZE\")"
   ]
  },
  {
   "cell_type": "markdown",
   "id": "f01074e7",
   "metadata": {},
   "source": [
    "### Złożoność obliczeniowa\n",
    "Nasza implementacja odwracania macierzy, do mnożenia macierzy używa algorytmu Strassena, którego złożoność wynosi: O(n$^{\\log_2(7)}$). Złożoność obliczeniowa algorytmu to rozwiązanie równania: <br>\n",
    "<center>\n",
    "$O(n) = 2 \\cdot O\\left(\\frac{n}{2}\\right) + 10 \\cdot O(\\frac{n}{2}^{\\log_2(7)}) + d$\n",
    "</center>\n",
    "gdzie n to liczba elementów w jednym wierszu macierzy. <br>\n",
    "\n",
    "Na podstawie [Master Theorem](https://en.wikipedia.org/wiki/Master_theorem_(analysis_of_algorithms)) złożoność obliczeniowa tego  algorytmu wynosi $O({n}^{\\log_2(7)})$\n",
    "\n",
    "\n"
   ]
  },
  {
   "cell_type": "markdown",
   "id": "11e149e6",
   "metadata": {},
   "source": [
    "### Porównanie z MATLABem"
   ]
  },
  {
   "cell_type": "markdown",
   "id": "280f40c6",
   "metadata": {},
   "source": [
    "Kod w Matlab\n",
    "```Matlab\n",
    "A = [0.5488, 0.5929; \n",
    "    0.7094, 0.0734];\n",
    "\n",
    "A_inv = inv(A);\n",
    "fprintf(\"A\");\n",
    "disp(A_inv);\n",
    "\n",
    "fprintf(\"A2\");\n",
    "A2 = [0.2722, 0.1980, 0.1500, 0.4826;\n",
    "    0.6070, 0.3818, 0.2489, 0.6313;\n",
    "    0.1088, 0.9294, 0.1723, 0.5508;\n",
    "    0.3195, 0.5077, 0.3096, 0.9883];\n",
    "disp(A2);\n",
    "```"
   ]
  },
  {
   "attachments": {
    "obraz.png": {
     "image/png": "[encoded data removed]"
    }
   },
   "cell_type": "markdown",
   "id": "7edb8cbc",
   "metadata": {},
   "source": [
    "#### Wyniki\n",
    "![obraz.png](attachment:obraz.png)"
   ]
  },
  {
   "cell_type": "code",
   "execution_count": 59,
   "id": "acb13a7c",
   "metadata": {},
   "outputs": [
    {
     "data": {
      "text/plain": [
       "2×2 Matrix{Float64}:\n",
       " -0.192995   1.55894\n",
       "  1.86526   -1.44299"
      ]
     },
     "metadata": {},
     "output_type": "display_data"
    },
    {
     "data": {
      "text/plain": [
       "4×4 Matrix{Float64}:\n",
       "   8.30305    0.194897   0.623801  -4.52664\n",
       "   0.864319   0.027741   1.61119   -1.33773\n",
       " -66.3938    17.989     -6.72664   24.679\n",
       "  17.6706    -5.71258    1.07787   -4.56863"
      ]
     },
     "metadata": {},
     "output_type": "display_data"
    }
   ],
   "source": [
    "A = [0.5488 0.5929; \n",
    "    0.7094 0.0734];\n",
    "\n",
    "A2 = [0.2722 0.1980 0.1500 0.4826;\n",
    "    0.6070 0.3818 0.2489 0.6313;\n",
    "    0.1088 0.9294 0.1723 0.5508;\n",
    "    0.3195 0.5077 0.3096 0.9883];\n",
    "\n",
    "display(matrix_inverse(A))\n",
    "display(matrix_inverse(A2))\n"
   ]
  },
  {
   "cell_type": "markdown",
   "id": "01a817fb",
   "metadata": {},
   "source": [
    "Otrzymane macierze zgadzają się z tymi obliczonymi przy użyciu funkcji inv() w Matlabie"
   ]
  }
 ],
 "metadata": {
  "kernelspec": {
   "display_name": "Julia 1.8.5",
   "language": "julia",
   "name": "julia-1.8"
  },
  "language_info": {
   "file_extension": ".jl",
   "mimetype": "application/julia",
   "name": "julia",
   "version": "1.8.5"
  }
 },
 "nbformat": 4,
 "nbformat_minor": 5
}
