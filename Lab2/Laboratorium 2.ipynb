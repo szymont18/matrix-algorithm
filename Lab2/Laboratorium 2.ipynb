{
 "cells": [
  {
   "cell_type": "markdown",
   "id": "eae994f9",
   "metadata": {},
   "source": [
    "# Laboratorium 2"
   ]
  },
  {
   "cell_type": "markdown",
   "id": "02013d43",
   "metadata": {},
   "source": [
    "### Przypomnienie implementacji algorytmu Strassena"
   ]
  },
  {
   "cell_type": "code",
   "execution_count": 1,
   "id": "c10649fa",
   "metadata": {},
   "outputs": [],
   "source": [
    "using LinearAlgebra, DataFrames, BenchmarkTools, GFlops, Statistics, Plots"
   ]
  },
  {
   "cell_type": "code",
   "execution_count": 2,
   "id": "9842909d",
   "metadata": {},
   "outputs": [
    {
     "data": {
      "text/plain": [
       "divide_matrix (generic function with 1 method)"
      ]
     },
     "execution_count": 2,
     "metadata": {},
     "output_type": "execute_result"
    }
   ],
   "source": [
    "function divide_matrix(M, n)\n",
    "    \"\"\"\n",
    "    :return: Four pieces of Matrix M (divided in half)\n",
    "    This is an auxiliary function for strassen\n",
    "    \"\"\"\n",
    "    m = div(n, 2)\n",
    "    A11 = M[1:m, 1:m]\n",
    "    A12 = M[1:m, m+1:n]\n",
    "    A21 = M[m+1:n, 1:m]\n",
    "    A22 = M[m+1:n, m+1:n]\n",
    "\n",
    "    return A11, A12, A21, A22\n",
    "end"
   ]
  },
  {
   "cell_type": "code",
   "execution_count": 3,
   "id": "0b9ce94e",
   "metadata": {},
   "outputs": [
    {
     "data": {
      "text/plain": [
       "strassen (generic function with 1 method)"
      ]
     },
     "execution_count": 3,
     "metadata": {},
     "output_type": "execute_result"
    }
   ],
   "source": [
    "function strassen(A, B)\n",
    "    \"\"\"\n",
    "    :return: C = A * B where A, B, C are matrices\n",
    "    We can assume that dimensions of A and B are 2 ^ p.\n",
    "    \"\"\"\n",
    "    \n",
    "    n = size(A, 1)\n",
    "\n",
    "    if n == 1\n",
    "        \n",
    "        if typeof(A) == Vector{Float64} && typeof(B) == Vector{Float64}\n",
    "            return A .* B\n",
    "        end\n",
    "        \n",
    "        return A * B\n",
    "    end\n",
    "\n",
    "    A11, A12, A21, A22 = divide_matrix(A, n)\n",
    "    B11, B12, B21, B22 = divide_matrix(B, n)\n",
    "\n",
    "    \n",
    "    P1 = strassen(A11 + A22, B11 + B22)\n",
    "    P2 = strassen(A21 + A22, B11)\n",
    "    P3 = strassen(A11, B12 - B22)\n",
    "    P4 = strassen(A22, B21 - B11)\n",
    "    P5 = strassen(A11 + A12, B22)\n",
    "    P6 = strassen(A21 - A11, B11 + B12)\n",
    "    P7 = strassen(A12 - A22, B21 + B22)\n",
    "\n",
    "    C11 = P1 + P4 - P5 + P7\n",
    "    C12 = P3 + P5\n",
    "    C21 = P2 + P4\n",
    "    C22 = P1 - P2 + P3 + P6\n",
    "\n",
    "    return vcat(hcat(C11, C12), hcat(C21, C22))\n",
    "end"
   ]
  },
  {
   "cell_type": "markdown",
   "id": "9d2b519b",
   "metadata": {},
   "source": [
    "## Rekurencyjne odwracanie macierz\n"
   ]
  },
  {
   "cell_type": "markdown",
   "id": "57f6b7f9",
   "metadata": {},
   "source": [
    "### Opis algorytmu\n",
    "Algorytm przyjmuję na wejściu macierz. Jego zadaniem jest znaleźć macierz odwrotną do zadanej. Robi to metodą rekurencyjną, zgodnie z wzorami:\n",
    "\n",
    "#### Macierz A\n",
    "\n",
    "\\begin{bmatrix}\n",
    "A_{11} & A_{12} \\\\\n",
    "A_{21} & A_{22}\n",
    "\\end{bmatrix}\n",
    "\n",
    "\n",
    "#### Inwersja macierzy A\n",
    "\n",
    "\\begin{bmatrix}\n",
    "A_{11}^{-1} \\left( I + A_{12} S_{22}^{-1} A_{21} A_{11}^{-1} \\right) & -A_{11}^{-1} A_{12} S_{22}^{-1} \\\\\n",
    "-S_{22}^{-1} A_{21} A_{11}^{-1} & S_{22}^{-1}\n",
    "\\end{bmatrix} \n",
    "\n",
    "### Pseudokod\n",
    "Gdy macierzy nie da się już podzielić (macierz 1x1) wówczas jej inwersja liczona jest przy pomocy wzoru: $A^{-1} = \\frac{1}{A}$\n"
   ]
  },
  {
   "cell_type": "markdown",
   "id": "694629cd",
   "metadata": {},
   "source": [
    "### Implementacja"
   ]
  },
  {
   "cell_type": "code",
   "execution_count": 4,
   "id": "0f125d2e",
   "metadata": {},
   "outputs": [
    {
     "data": {
      "text/plain": [
       "matrix_inverse (generic function with 1 method)"
      ]
     },
     "execution_count": 4,
     "metadata": {},
     "output_type": "execute_result"
    }
   ],
   "source": [
    "struct NonSquareMatrixError <: Exception\n",
    "    message::String\n",
    "end\n",
    "\n",
    "function matrix_inverse(A)\n",
    "    \"\"\"\n",
    "    :return matrix B, such that A * B = I\n",
    "    \"\"\"\n",
    "    \n",
    "    n = size(A, 1)\n",
    "    m = size(A, 2)\n",
    "    \n",
    "    if n != m \n",
    "        throw(NonSquareMatrixError(\"Matrix is not the square\"))\n",
    "    end\n",
    "        \n",
    "    if n == 1\n",
    "        return [1 / A[1, 1]]\n",
    "    end\n",
    "    \n",
    "        \n",
    "    m = div(n, 2)\n",
    "    A11, A12, A21, A22 = divide_matrix(A, n)\n",
    "    \n",
    "    A11_inversed = matrix_inverse(A11)\n",
    "    S22 = A22 - strassen(strassen(A21, A11_inversed), A12)\n",
    "    S22_inversed = matrix_inverse(S22)\n",
    "    \n",
    "    \n",
    "    \n",
    "    B = zeros(n, n)\n",
    "    eye = Matrix{Float64}(I, div(n, 2) , div(n, 2))\n",
    "    \n",
    "    B[1:m, 1:m] = strassen(A11_inversed, eye + strassen(strassen(strassen(A12, S22_inversed), A21), A11_inversed))\n",
    "    B[1:m, m+1:n] = strassen(strassen(-A11_inversed, A12), S22_inversed)\n",
    "    B[m+1:n, 1:m] = strassen(strassen(-S22_inversed, A21), A11_inversed)\n",
    "    B[m+1:n, m+1:n] = S22_inversed\n",
    "    \n",
    "    return B\n",
    "    \n",
    "end"
   ]
  },
  {
   "cell_type": "code",
   "execution_count": null,
   "id": "cf7ffe78",
   "metadata": {},
   "outputs": [],
   "source": [
    "# To check corectness\n",
    "# This implementation may be unstable\n",
    "eps = 10 ^ -4\n",
    "min_value = 0.00000001\n",
    "max_value = 1\n",
    "for j in 1:3\n",
    "    for i in 1:8\n",
    "        A = min_value .+ (max_value - min_value) * rand(2 ^ i, 2 ^ i)\n",
    "        \n",
    "        C = matrix_inverse(A)\n",
    "        \n",
    "        B = matrix_inverse(C)\n",
    "\n",
    "        if isapprox(A, B, atol=eps) == false\n",
    "            println(\"FALSE!!!\", size(A, 1))\n",
    "            \n",
    "        end\n",
    "    end\n",
    "end"
   ]
  },
  {
   "cell_type": "markdown",
   "id": "e198dae7",
   "metadata": {},
   "source": [
    "### Pomiary"
   ]
  },
  {
   "cell_type": "code",
   "execution_count": 10,
   "id": "bba8ce9f",
   "metadata": {},
   "outputs": [],
   "source": [
    "min_value = 0.00000001\n",
    "max_value = 1\n",
    "inversion_times = DataFrame(size = [], flops= [], time = [])\n",
    "\n",
    "for i in 1: 5\n",
    "    for size in 1: 6\n",
    "        A = min_value .+ (max_value - min_value) * rand(2 ^ size, 2 ^ size)\n",
    "        m_time = @elapsed matrix_inverse(A)\n",
    "        m_flops = @count_ops matrix_inverse($A)\n",
    "        push!(inversion_times, [2^size , m_flops, m_time])\n",
    "    end\n",
    "end     "
   ]
  },
  {
   "cell_type": "code",
   "execution_count": 11,
   "id": "bcd3a27f",
   "metadata": {},
   "outputs": [
    {
     "data": {
      "text/html": [
       "<div class=\"data-frame\"><p>30 rows × 3 columns</p><table class=\"data-frame\"><thead><tr><th></th><th>size</th><th>flops</th><th>time</th></tr><tr><th></th><th title=\"Any\">Any</th><th title=\"Any\">Any</th><th title=\"Any\">Any</th></tr></thead><tbody><tr><th>1</th><td>2</td><td>6</td><td>2.59e-5</td></tr><tr><th>2</th><td>4</td><td>208</td><td>4.39e-5</td></tr><tr><th>3</th><td>8</td><td>2460</td><td>0.0003038</td></tr><tr><th>4</th><td>16</td><td>21916</td><td>0.0021021</td></tr><tr><th>5</th><td>32</td><td>173556</td><td>0.0145889</td></tr><tr><th>6</th><td>64</td><td>1298188</td><td>0.164424</td></tr><tr><th>7</th><td>2</td><td>6</td><td>1.56e-5</td></tr><tr><th>8</th><td>4</td><td>208</td><td>4.55e-5</td></tr><tr><th>9</th><td>8</td><td>2460</td><td>0.0003631</td></tr><tr><th>10</th><td>16</td><td>21916</td><td>0.0026015</td></tr><tr><th>11</th><td>32</td><td>173556</td><td>0.0171139</td></tr><tr><th>12</th><td>64</td><td>1298188</td><td>0.147125</td></tr><tr><th>13</th><td>2</td><td>6</td><td>1.77e-5</td></tr><tr><th>14</th><td>4</td><td>208</td><td>3.92e-5</td></tr><tr><th>15</th><td>8</td><td>2460</td><td>0.0002949</td></tr><tr><th>16</th><td>16</td><td>21916</td><td>0.0021778</td></tr><tr><th>17</th><td>32</td><td>173556</td><td>0.0147378</td></tr><tr><th>18</th><td>64</td><td>1298188</td><td>0.136817</td></tr><tr><th>19</th><td>2</td><td>6</td><td>1.73e-5</td></tr><tr><th>20</th><td>4</td><td>208</td><td>4.42e-5</td></tr><tr><th>21</th><td>8</td><td>2460</td><td>0.0003751</td></tr><tr><th>22</th><td>16</td><td>21916</td><td>0.0023671</td></tr><tr><th>23</th><td>32</td><td>173556</td><td>0.0180107</td></tr><tr><th>24</th><td>64</td><td>1298188</td><td>0.161429</td></tr><tr><th>25</th><td>2</td><td>6</td><td>1.69e-5</td></tr><tr><th>26</th><td>4</td><td>208</td><td>4.41e-5</td></tr><tr><th>27</th><td>8</td><td>2460</td><td>0.0003478</td></tr><tr><th>28</th><td>16</td><td>21916</td><td>0.0026125</td></tr><tr><th>29</th><td>32</td><td>173556</td><td>0.0148592</td></tr><tr><th>30</th><td>64</td><td>1298188</td><td>0.152806</td></tr></tbody></table></div>"
      ],
      "text/latex": [
       "\\begin{tabular}{r|ccc}\n",
       "\t& size & flops & time\\\\\n",
       "\t\\hline\n",
       "\t& Any & Any & Any\\\\\n",
       "\t\\hline\n",
       "\t1 & 2 & 6 & 2.59e-5 \\\\\n",
       "\t2 & 4 & 208 & 4.39e-5 \\\\\n",
       "\t3 & 8 & 2460 & 0.0003038 \\\\\n",
       "\t4 & 16 & 21916 & 0.0021021 \\\\\n",
       "\t5 & 32 & 173556 & 0.0145889 \\\\\n",
       "\t6 & 64 & 1298188 & 0.164424 \\\\\n",
       "\t7 & 2 & 6 & 1.56e-5 \\\\\n",
       "\t8 & 4 & 208 & 4.55e-5 \\\\\n",
       "\t9 & 8 & 2460 & 0.0003631 \\\\\n",
       "\t10 & 16 & 21916 & 0.0026015 \\\\\n",
       "\t11 & 32 & 173556 & 0.0171139 \\\\\n",
       "\t12 & 64 & 1298188 & 0.147125 \\\\\n",
       "\t13 & 2 & 6 & 1.77e-5 \\\\\n",
       "\t14 & 4 & 208 & 3.92e-5 \\\\\n",
       "\t15 & 8 & 2460 & 0.0002949 \\\\\n",
       "\t16 & 16 & 21916 & 0.0021778 \\\\\n",
       "\t17 & 32 & 173556 & 0.0147378 \\\\\n",
       "\t18 & 64 & 1298188 & 0.136817 \\\\\n",
       "\t19 & 2 & 6 & 1.73e-5 \\\\\n",
       "\t20 & 4 & 208 & 4.42e-5 \\\\\n",
       "\t21 & 8 & 2460 & 0.0003751 \\\\\n",
       "\t22 & 16 & 21916 & 0.0023671 \\\\\n",
       "\t23 & 32 & 173556 & 0.0180107 \\\\\n",
       "\t24 & 64 & 1298188 & 0.161429 \\\\\n",
       "\t25 & 2 & 6 & 1.69e-5 \\\\\n",
       "\t26 & 4 & 208 & 4.41e-5 \\\\\n",
       "\t27 & 8 & 2460 & 0.0003478 \\\\\n",
       "\t28 & 16 & 21916 & 0.0026125 \\\\\n",
       "\t29 & 32 & 173556 & 0.0148592 \\\\\n",
       "\t30 & 64 & 1298188 & 0.152806 \\\\\n",
       "\\end{tabular}\n"
      ],
      "text/plain": [
       "\u001b[1m30×3 DataFrame\u001b[0m\n",
       "\u001b[1m Row \u001b[0m│\u001b[1m size \u001b[0m\u001b[1m flops   \u001b[0m\u001b[1m time      \u001b[0m\n",
       "\u001b[1m     \u001b[0m│\u001b[90m Any  \u001b[0m\u001b[90m Any     \u001b[0m\u001b[90m Any       \u001b[0m\n",
       "─────┼──────────────────────────\n",
       "   1 │ 2     6        2.59e-5\n",
       "   2 │ 4     208      4.39e-5\n",
       "   3 │ 8     2460     0.0003038\n",
       "   4 │ 16    21916    0.0021021\n",
       "   5 │ 32    173556   0.0145889\n",
       "   6 │ 64    1298188  0.164424\n",
       "   7 │ 2     6        1.56e-5\n",
       "   8 │ 4     208      4.55e-5\n",
       "   9 │ 8     2460     0.0003631\n",
       "  10 │ 16    21916    0.0026015\n",
       "  11 │ 32    173556   0.0171139\n",
       "  ⋮  │  ⋮       ⋮         ⋮\n",
       "  21 │ 8     2460     0.0003751\n",
       "  22 │ 16    21916    0.0023671\n",
       "  23 │ 32    173556   0.0180107\n",
       "  24 │ 64    1298188  0.161429\n",
       "  25 │ 2     6        1.69e-5\n",
       "  26 │ 4     208      4.41e-5\n",
       "  27 │ 8     2460     0.0003478\n",
       "  28 │ 16    21916    0.0026125\n",
       "  29 │ 32    173556   0.0148592\n",
       "  30 │ 64    1298188  0.152806\n",
       "\u001b[36m                  9 rows omitted\u001b[0m"
      ]
     },
     "metadata": {},
     "output_type": "display_data"
    }
   ],
   "source": [
    "for i in 1:nrow(inversion_times)\n",
    "    inversion_times[i, :flops] = inversion_times[i, :flops].add64 + inversion_times[i, :flops].sub64 + inversion_times[i, :flops].div64 + inversion_times[i, :flops].neg64 + inversion_times[i, :flops].mul64\n",
    "end\n",
    "display(inversion_times)"
   ]
  },
  {
   "cell_type": "code",
   "execution_count": 12,
   "id": "4269d537",
   "metadata": {},
   "outputs": [
    {
     "data": {
      "text/html": [
       "<div class=\"data-frame\"><p>6 rows × 5 columns</p><table class=\"data-frame\"><thead><tr><th></th><th>size</th><th>time_mean</th><th>flops_mean</th><th>time_std</th><th>flops_std</th></tr><tr><th></th><th title=\"Any\">Any</th><th title=\"Float64\">Float64</th><th title=\"Float64\">Float64</th><th title=\"Float64\">Float64</th><th title=\"Float64\">Float64</th></tr></thead><tbody><tr><th>1</th><td>2</td><td>1.868e-5</td><td>6.0</td><td>4.11242e-6</td><td>0.0</td></tr><tr><th>2</th><td>4</td><td>4.338e-5</td><td>208.0</td><td>2.42012e-6</td><td>0.0</td></tr><tr><th>3</th><td>8</td><td>0.00033694</td><td>2460.0</td><td>3.57914e-5</td><td>0.0</td></tr><tr><th>4</th><td>16</td><td>0.0023722</td><td>21916.0</td><td>0.000235103</td><td>0.0</td></tr><tr><th>5</th><td>32</td><td>0.0158621</td><td>173556.0</td><td>0.00158701</td><td>0.0</td></tr><tr><th>6</th><td>64</td><td>0.15252</td><td>1.29819e6</td><td>0.0111447</td><td>0.0</td></tr></tbody></table></div>"
      ],
      "text/latex": [
       "\\begin{tabular}{r|ccccc}\n",
       "\t& size & time\\_mean & flops\\_mean & time\\_std & flops\\_std\\\\\n",
       "\t\\hline\n",
       "\t& Any & Float64 & Float64 & Float64 & Float64\\\\\n",
       "\t\\hline\n",
       "\t1 & 2 & 1.868e-5 & 6.0 & 4.11242e-6 & 0.0 \\\\\n",
       "\t2 & 4 & 4.338e-5 & 208.0 & 2.42012e-6 & 0.0 \\\\\n",
       "\t3 & 8 & 0.00033694 & 2460.0 & 3.57914e-5 & 0.0 \\\\\n",
       "\t4 & 16 & 0.0023722 & 21916.0 & 0.000235103 & 0.0 \\\\\n",
       "\t5 & 32 & 0.0158621 & 173556.0 & 0.00158701 & 0.0 \\\\\n",
       "\t6 & 64 & 0.15252 & 1.29819e6 & 0.0111447 & 0.0 \\\\\n",
       "\\end{tabular}\n"
      ],
      "text/plain": [
       "\u001b[1m6×5 DataFrame\u001b[0m\n",
       "\u001b[1m Row \u001b[0m│\u001b[1m size \u001b[0m\u001b[1m time_mean  \u001b[0m\u001b[1m flops_mean     \u001b[0m\u001b[1m time_std    \u001b[0m\u001b[1m flops_std \u001b[0m\n",
       "\u001b[1m     \u001b[0m│\u001b[90m Any  \u001b[0m\u001b[90m Float64    \u001b[0m\u001b[90m Float64        \u001b[0m\u001b[90m Float64     \u001b[0m\u001b[90m Float64   \u001b[0m\n",
       "─────┼──────────────────────────────────────────────────────────\n",
       "   1 │ 2     1.868e-5         6.0        4.11242e-6         0.0\n",
       "   2 │ 4     4.338e-5       208.0        2.42012e-6         0.0\n",
       "   3 │ 8     0.00033694    2460.0        3.57914e-5         0.0\n",
       "   4 │ 16    0.0023722    21916.0        0.000235103        0.0\n",
       "   5 │ 32    0.0158621   173556.0        0.00158701         0.0\n",
       "   6 │ 64    0.15252          1.29819e6  0.0111447          0.0"
      ]
     },
     "execution_count": 12,
     "metadata": {},
     "output_type": "execute_result"
    }
   ],
   "source": [
    "inversion_time_group = groupby(inversion_times, [:size])\n",
    "inversion_time_statistics = combine(inversion_time_group, \"time\" => mean, \"flops\" => mean, \"time\" => std, \"flops\" => std)"
   ]
  },
  {
   "cell_type": "code",
   "execution_count": 13,
   "id": "ab398616",
   "metadata": {},
   "outputs": [
    {
     "data": {
      "image/svg+xml": [
       "<?xml version=\"1.0\" encoding=\"utf-8\"?>\n",
       "<svg xmlns=\"http://www.w3.org/2000/svg\" xmlns:xlink=\"http://www.w3.org/1999/xlink\" width=\"600\" height=\"500\" viewBox=\"0 0 2400 2000\">\n",
       "<defs>\n",
       "  <clipPath id=\"clip980\">\n",
       "    <rect x=\"0\" y=\"0\" width=\"2400\" height=\"2000\"/>\n",
       "  </clipPath>\n",
       "</defs>\n",
       "<path clip-path=\"url(#clip980)\" d=\"M0 2000 L2400 2000 L2400 0 L0 0  Z\" fill=\"#ffffff\" fill-rule=\"evenodd\" fill-opacity=\"1\"/>\n",
       "<defs>\n",
       "  <clipPath id=\"clip981\">\n",
       "    <rect x=\"480\" y=\"0\" width=\"1681\" height=\"1681\"/>\n",
       "  </clipPath>\n",
       "</defs>\n",
       "<path clip-path=\"url(#clip980)\" d=\"M261.422 1798.66 L2352.76 1798.66 L2352.76 47.2441 L261.422 47.2441  Z\" fill=\"#ffffff\" fill-rule=\"evenodd\" fill-opacity=\"1\"/>\n",
       "<defs>\n",
       "  <clipPath id=\"clip982\">\n",
       "    <rect x=\"261\" y=\"47\" width=\"2092\" height=\"1752\"/>\n",
       "  </clipPath>\n",
       "</defs>\n",
       "<polyline clip-path=\"url(#clip982)\" style=\"stroke:#000000; stroke-linecap:round; stroke-linejoin:round; stroke-width:2; stroke-opacity:0.1; fill:none\" points=\"575.186,1798.66 575.186,47.2441 \"/>\n",
       "<polyline clip-path=\"url(#clip982)\" style=\"stroke:#000000; stroke-linecap:round; stroke-linejoin:round; stroke-width:2; stroke-opacity:0.1; fill:none\" points=\"893.405,1798.66 893.405,47.2441 \"/>\n",
       "<polyline clip-path=\"url(#clip982)\" style=\"stroke:#000000; stroke-linecap:round; stroke-linejoin:round; stroke-width:2; stroke-opacity:0.1; fill:none\" points=\"1211.62,1798.66 1211.62,47.2441 \"/>\n",
       "<polyline clip-path=\"url(#clip982)\" style=\"stroke:#000000; stroke-linecap:round; stroke-linejoin:round; stroke-width:2; stroke-opacity:0.1; fill:none\" points=\"1529.84,1798.66 1529.84,47.2441 \"/>\n",
       "<polyline clip-path=\"url(#clip982)\" style=\"stroke:#000000; stroke-linecap:round; stroke-linejoin:round; stroke-width:2; stroke-opacity:0.1; fill:none\" points=\"1848.06,1798.66 1848.06,47.2441 \"/>\n",
       "<polyline clip-path=\"url(#clip982)\" style=\"stroke:#000000; stroke-linecap:round; stroke-linejoin:round; stroke-width:2; stroke-opacity:0.1; fill:none\" points=\"2166.28,1798.66 2166.28,47.2441 \"/>\n",
       "<polyline clip-path=\"url(#clip980)\" style=\"stroke:#000000; stroke-linecap:round; stroke-linejoin:round; stroke-width:4; stroke-opacity:1; fill:none\" points=\"261.422,1798.66 2352.76,1798.66 \"/>\n",
       "<polyline clip-path=\"url(#clip980)\" style=\"stroke:#000000; stroke-linecap:round; stroke-linejoin:round; stroke-width:4; stroke-opacity:1; fill:none\" points=\"575.186,1798.66 575.186,1779.76 \"/>\n",
       "<polyline clip-path=\"url(#clip980)\" style=\"stroke:#000000; stroke-linecap:round; stroke-linejoin:round; stroke-width:4; stroke-opacity:1; fill:none\" points=\"893.405,1798.66 893.405,1779.76 \"/>\n",
       "<polyline clip-path=\"url(#clip980)\" style=\"stroke:#000000; stroke-linecap:round; stroke-linejoin:round; stroke-width:4; stroke-opacity:1; fill:none\" points=\"1211.62,1798.66 1211.62,1779.76 \"/>\n",
       "<polyline clip-path=\"url(#clip980)\" style=\"stroke:#000000; stroke-linecap:round; stroke-linejoin:round; stroke-width:4; stroke-opacity:1; fill:none\" points=\"1529.84,1798.66 1529.84,1779.76 \"/>\n",
       "<polyline clip-path=\"url(#clip980)\" style=\"stroke:#000000; stroke-linecap:round; stroke-linejoin:round; stroke-width:4; stroke-opacity:1; fill:none\" points=\"1848.06,1798.66 1848.06,1779.76 \"/>\n",
       "<polyline clip-path=\"url(#clip980)\" style=\"stroke:#000000; stroke-linecap:round; stroke-linejoin:round; stroke-width:4; stroke-opacity:1; fill:none\" points=\"2166.28,1798.66 2166.28,1779.76 \"/>\n",
       "<path clip-path=\"url(#clip980)\" d=\"M549.873 1857.12 L557.512 1857.12 L557.512 1830.76 L549.202 1832.43 L549.202 1828.17 L557.466 1826.5 L562.142 1826.5 L562.142 1857.12 L569.781 1857.12 L569.781 1861.06 L549.873 1861.06 L549.873 1857.12 Z\" fill=\"#000000\" fill-rule=\"nonzero\" fill-opacity=\"1\" /><path clip-path=\"url(#clip980)\" d=\"M589.225 1829.58 Q585.614 1829.58 583.785 1833.14 Q581.98 1836.68 581.98 1843.81 Q581.98 1850.92 583.785 1854.49 Q585.614 1858.03 589.225 1858.03 Q592.859 1858.03 594.665 1854.49 Q596.494 1850.92 596.494 1843.81 Q596.494 1836.68 594.665 1833.14 Q592.859 1829.58 589.225 1829.58 M589.225 1825.87 Q595.035 1825.87 598.091 1830.48 Q601.169 1835.06 601.169 1843.81 Q601.169 1852.54 598.091 1857.15 Q595.035 1861.73 589.225 1861.73 Q583.415 1861.73 580.336 1857.15 Q577.281 1852.54 577.281 1843.81 Q577.281 1835.06 580.336 1830.48 Q583.415 1825.87 589.225 1825.87 Z\" fill=\"#000000\" fill-rule=\"nonzero\" fill-opacity=\"1\" /><path clip-path=\"url(#clip980)\" d=\"M872.178 1857.12 L888.497 1857.12 L888.497 1861.06 L866.553 1861.06 L866.553 1857.12 Q869.215 1854.37 873.798 1849.74 Q878.405 1845.09 879.585 1843.75 Q881.831 1841.22 882.71 1839.49 Q883.613 1837.73 883.613 1836.04 Q883.613 1833.28 881.668 1831.55 Q879.747 1829.81 876.645 1829.81 Q874.446 1829.81 871.993 1830.57 Q869.562 1831.34 866.784 1832.89 L866.784 1828.17 Q869.608 1827.03 872.062 1826.45 Q874.516 1825.87 876.553 1825.87 Q881.923 1825.87 885.118 1828.56 Q888.312 1831.25 888.312 1835.74 Q888.312 1837.87 887.502 1839.79 Q886.715 1841.68 884.608 1844.28 Q884.03 1844.95 880.928 1848.17 Q877.826 1851.36 872.178 1857.12 Z\" fill=\"#000000\" fill-rule=\"nonzero\" fill-opacity=\"1\" /><path clip-path=\"url(#clip980)\" d=\"M908.312 1829.58 Q904.701 1829.58 902.872 1833.14 Q901.067 1836.68 901.067 1843.81 Q901.067 1850.92 902.872 1854.49 Q904.701 1858.03 908.312 1858.03 Q911.946 1858.03 913.752 1854.49 Q915.58 1850.92 915.58 1843.81 Q915.58 1836.68 913.752 1833.14 Q911.946 1829.58 908.312 1829.58 M908.312 1825.87 Q914.122 1825.87 917.178 1830.48 Q920.256 1835.06 920.256 1843.81 Q920.256 1852.54 917.178 1857.15 Q914.122 1861.73 908.312 1861.73 Q902.502 1861.73 899.423 1857.15 Q896.367 1852.54 896.367 1843.81 Q896.367 1835.06 899.423 1830.48 Q902.502 1825.87 908.312 1825.87 Z\" fill=\"#000000\" fill-rule=\"nonzero\" fill-opacity=\"1\" /><path clip-path=\"url(#clip980)\" d=\"M1200.47 1842.43 Q1203.82 1843.14 1205.7 1845.41 Q1207.6 1847.68 1207.6 1851.01 Q1207.6 1856.13 1204.08 1858.93 Q1200.56 1861.73 1194.08 1861.73 Q1191.9 1861.73 1189.59 1861.29 Q1187.29 1860.87 1184.84 1860.02 L1184.84 1855.5 Q1186.79 1856.64 1189.1 1857.22 Q1191.42 1857.8 1193.94 1857.8 Q1198.34 1857.8 1200.63 1856.06 Q1202.94 1854.32 1202.94 1851.01 Q1202.94 1847.96 1200.79 1846.25 Q1198.66 1844.51 1194.84 1844.51 L1190.81 1844.51 L1190.81 1840.67 L1195.03 1840.67 Q1198.48 1840.67 1200.3 1839.3 Q1202.13 1837.91 1202.13 1835.32 Q1202.13 1832.66 1200.23 1831.25 Q1198.36 1829.81 1194.84 1829.81 Q1192.92 1829.81 1190.72 1830.23 Q1188.52 1830.64 1185.88 1831.52 L1185.88 1827.36 Q1188.54 1826.62 1190.86 1826.25 Q1193.2 1825.87 1195.26 1825.87 Q1200.58 1825.87 1203.68 1828.31 Q1206.79 1830.71 1206.79 1834.83 Q1206.79 1837.7 1205.14 1839.69 Q1203.5 1841.66 1200.47 1842.43 Z\" fill=\"#000000\" fill-rule=\"nonzero\" fill-opacity=\"1\" /><path clip-path=\"url(#clip980)\" d=\"M1226.46 1829.58 Q1222.85 1829.58 1221.02 1833.14 Q1219.22 1836.68 1219.22 1843.81 Q1219.22 1850.92 1221.02 1854.49 Q1222.85 1858.03 1226.46 1858.03 Q1230.1 1858.03 1231.9 1854.49 Q1233.73 1850.92 1233.73 1843.81 Q1233.73 1836.68 1231.9 1833.14 Q1230.1 1829.58 1226.46 1829.58 M1226.46 1825.87 Q1232.27 1825.87 1235.33 1830.48 Q1238.41 1835.06 1238.41 1843.81 Q1238.41 1852.54 1235.33 1857.15 Q1232.27 1861.73 1226.46 1861.73 Q1220.65 1861.73 1217.57 1857.15 Q1214.52 1852.54 1214.52 1843.81 Q1214.52 1835.06 1217.57 1830.48 Q1220.65 1825.87 1226.46 1825.87 Z\" fill=\"#000000\" fill-rule=\"nonzero\" fill-opacity=\"1\" /><path clip-path=\"url(#clip980)\" d=\"M1518.01 1830.57 L1506.21 1849.02 L1518.01 1849.02 L1518.01 1830.57 M1516.79 1826.5 L1522.67 1826.5 L1522.67 1849.02 L1527.6 1849.02 L1527.6 1852.91 L1522.67 1852.91 L1522.67 1861.06 L1518.01 1861.06 L1518.01 1852.91 L1502.41 1852.91 L1502.41 1848.4 L1516.79 1826.5 Z\" fill=\"#000000\" fill-rule=\"nonzero\" fill-opacity=\"1\" /><path clip-path=\"url(#clip980)\" d=\"M1545.33 1829.58 Q1541.72 1829.58 1539.89 1833.14 Q1538.08 1836.68 1538.08 1843.81 Q1538.08 1850.92 1539.89 1854.49 Q1541.72 1858.03 1545.33 1858.03 Q1548.96 1858.03 1550.77 1854.49 Q1552.6 1850.92 1552.6 1843.81 Q1552.6 1836.68 1550.77 1833.14 Q1548.96 1829.58 1545.33 1829.58 M1545.33 1825.87 Q1551.14 1825.87 1554.19 1830.48 Q1557.27 1835.06 1557.27 1843.81 Q1557.27 1852.54 1554.19 1857.15 Q1551.14 1861.73 1545.33 1861.73 Q1539.52 1861.73 1536.44 1857.15 Q1533.38 1852.54 1533.38 1843.81 Q1533.38 1835.06 1536.44 1830.48 Q1539.52 1825.87 1545.33 1825.87 Z\" fill=\"#000000\" fill-rule=\"nonzero\" fill-opacity=\"1\" /><path clip-path=\"url(#clip980)\" d=\"M1822.76 1826.5 L1841.12 1826.5 L1841.12 1830.44 L1827.04 1830.44 L1827.04 1838.91 Q1828.06 1838.56 1829.08 1838.4 Q1830.1 1838.21 1831.12 1838.21 Q1836.9 1838.21 1840.28 1841.38 Q1843.66 1844.56 1843.66 1849.97 Q1843.66 1855.55 1840.19 1858.65 Q1836.72 1861.73 1830.4 1861.73 Q1828.22 1861.73 1825.95 1861.36 Q1823.71 1860.99 1821.3 1860.25 L1821.3 1855.55 Q1823.39 1856.68 1825.61 1857.24 Q1827.83 1857.8 1830.31 1857.8 Q1834.31 1857.8 1836.65 1855.69 Q1838.99 1853.58 1838.99 1849.97 Q1838.99 1846.36 1836.65 1844.25 Q1834.31 1842.15 1830.31 1842.15 Q1828.43 1842.15 1826.56 1842.56 Q1824.7 1842.98 1822.76 1843.86 L1822.76 1826.5 Z\" fill=\"#000000\" fill-rule=\"nonzero\" fill-opacity=\"1\" /><path clip-path=\"url(#clip980)\" d=\"M1862.88 1829.58 Q1859.26 1829.58 1857.44 1833.14 Q1855.63 1836.68 1855.63 1843.81 Q1855.63 1850.92 1857.44 1854.49 Q1859.26 1858.03 1862.88 1858.03 Q1866.51 1858.03 1868.32 1854.49 Q1870.14 1850.92 1870.14 1843.81 Q1870.14 1836.68 1868.32 1833.14 Q1866.51 1829.58 1862.88 1829.58 M1862.88 1825.87 Q1868.69 1825.87 1871.74 1830.48 Q1874.82 1835.06 1874.82 1843.81 Q1874.82 1852.54 1871.74 1857.15 Q1868.69 1861.73 1862.88 1861.73 Q1857.07 1861.73 1853.99 1857.15 Q1850.93 1852.54 1850.93 1843.81 Q1850.93 1835.06 1853.99 1830.48 Q1857.07 1825.87 1862.88 1825.87 Z\" fill=\"#000000\" fill-rule=\"nonzero\" fill-opacity=\"1\" /><path clip-path=\"url(#clip980)\" d=\"M2151.68 1841.92 Q2148.54 1841.92 2146.68 1844.07 Q2144.86 1846.22 2144.86 1849.97 Q2144.86 1853.7 2146.68 1855.87 Q2148.54 1858.03 2151.68 1858.03 Q2154.83 1858.03 2156.66 1855.87 Q2158.51 1853.7 2158.51 1849.97 Q2158.51 1846.22 2156.66 1844.07 Q2154.83 1841.92 2151.68 1841.92 M2160.97 1827.26 L2160.97 1831.52 Q2159.21 1830.69 2157.4 1830.25 Q2155.62 1829.81 2153.86 1829.81 Q2149.23 1829.81 2146.78 1832.93 Q2144.35 1836.06 2144 1842.38 Q2145.37 1840.37 2147.43 1839.3 Q2149.49 1838.21 2151.96 1838.21 Q2157.17 1838.21 2160.18 1841.38 Q2163.21 1844.53 2163.21 1849.97 Q2163.21 1855.3 2160.06 1858.51 Q2156.92 1861.73 2151.68 1861.73 Q2145.69 1861.73 2142.52 1857.15 Q2139.35 1852.54 2139.35 1843.81 Q2139.35 1835.62 2143.24 1830.76 Q2147.12 1825.87 2153.68 1825.87 Q2155.43 1825.87 2157.22 1826.22 Q2159.02 1826.57 2160.97 1827.26 Z\" fill=\"#000000\" fill-rule=\"nonzero\" fill-opacity=\"1\" /><path clip-path=\"url(#clip980)\" d=\"M2181.27 1829.58 Q2177.66 1829.58 2175.83 1833.14 Q2174.02 1836.68 2174.02 1843.81 Q2174.02 1850.92 2175.83 1854.49 Q2177.66 1858.03 2181.27 1858.03 Q2184.9 1858.03 2186.71 1854.49 Q2188.54 1850.92 2188.54 1843.81 Q2188.54 1836.68 2186.71 1833.14 Q2184.9 1829.58 2181.27 1829.58 M2181.27 1825.87 Q2187.08 1825.87 2190.13 1830.48 Q2193.21 1835.06 2193.21 1843.81 Q2193.21 1852.54 2190.13 1857.15 Q2187.08 1861.73 2181.27 1861.73 Q2175.46 1861.73 2172.38 1857.15 Q2169.32 1852.54 2169.32 1843.81 Q2169.32 1835.06 2172.38 1830.48 Q2175.46 1825.87 2181.27 1825.87 Z\" fill=\"#000000\" fill-rule=\"nonzero\" fill-opacity=\"1\" /><path clip-path=\"url(#clip980)\" d=\"M1052.56 1896 L1061.21 1896 L1082.28 1935.76 L1082.28 1896 L1088.52 1896 L1088.52 1943.52 L1079.87 1943.52 L1058.79 1903.77 L1058.79 1943.52 L1052.56 1943.52 L1052.56 1896 Z\" fill=\"#000000\" fill-rule=\"nonzero\" fill-opacity=\"1\" /><path clip-path=\"url(#clip980)\" d=\"M1100.46 1929.46 L1100.46 1907.88 L1106.31 1907.88 L1106.31 1929.23 Q1106.31 1934.29 1108.29 1936.84 Q1110.26 1939.35 1114.21 1939.35 Q1118.95 1939.35 1121.69 1936.33 Q1124.46 1933.31 1124.46 1928.09 L1124.46 1907.88 L1130.31 1907.88 L1130.31 1943.52 L1124.46 1943.52 L1124.46 1938.05 Q1122.32 1941.3 1119.49 1942.89 Q1116.69 1944.45 1112.97 1944.45 Q1106.82 1944.45 1103.64 1940.63 Q1100.46 1936.81 1100.46 1929.46 M1115.19 1907.02 L1115.19 1907.02 Z\" fill=\"#000000\" fill-rule=\"nonzero\" fill-opacity=\"1\" /><path clip-path=\"url(#clip980)\" d=\"M1170.13 1914.72 Q1172.33 1910.77 1175.38 1908.89 Q1178.44 1907.02 1182.58 1907.02 Q1188.15 1907.02 1191.17 1910.93 Q1194.19 1914.81 1194.19 1922.01 L1194.19 1943.52 L1188.3 1943.52 L1188.3 1922.2 Q1188.3 1917.07 1186.49 1914.59 Q1184.68 1912.11 1180.95 1912.11 Q1176.4 1912.11 1173.76 1915.13 Q1171.12 1918.16 1171.12 1923.38 L1171.12 1943.52 L1165.23 1943.52 L1165.23 1922.2 Q1165.23 1917.04 1163.41 1914.59 Q1161.6 1912.11 1157.81 1912.11 Q1153.33 1912.11 1150.68 1915.16 Q1148.04 1918.19 1148.04 1923.38 L1148.04 1943.52 L1142.15 1943.52 L1142.15 1907.88 L1148.04 1907.88 L1148.04 1913.41 Q1150.05 1910.14 1152.85 1908.58 Q1155.65 1907.02 1159.5 1907.02 Q1163.38 1907.02 1166.09 1908.99 Q1168.83 1910.96 1170.13 1914.72 Z\" fill=\"#000000\" fill-rule=\"nonzero\" fill-opacity=\"1\" /><path clip-path=\"url(#clip980)\" d=\"M1231.46 1925.73 Q1231.46 1919.27 1228.79 1915.61 Q1226.15 1911.92 1221.5 1911.92 Q1216.86 1911.92 1214.18 1915.61 Q1211.54 1919.27 1211.54 1925.73 Q1211.54 1932.19 1214.18 1935.88 Q1216.86 1939.55 1221.5 1939.55 Q1226.15 1939.55 1228.79 1935.88 Q1231.46 1932.19 1231.46 1925.73 M1211.54 1913.29 Q1213.39 1910.1 1216.19 1908.58 Q1219.02 1907.02 1222.93 1907.02 Q1229.43 1907.02 1233.47 1912.17 Q1237.54 1917.33 1237.54 1925.73 Q1237.54 1934.13 1233.47 1939.29 Q1229.43 1944.45 1222.93 1944.45 Q1219.02 1944.45 1216.19 1942.92 Q1213.39 1941.36 1211.54 1938.18 L1211.54 1943.52 L1205.65 1943.52 L1205.65 1894 L1211.54 1894 L1211.54 1913.29 Z\" fill=\"#000000\" fill-rule=\"nonzero\" fill-opacity=\"1\" /><path clip-path=\"url(#clip980)\" d=\"M1277.74 1924.24 L1277.74 1927.1 L1250.82 1927.1 Q1251.2 1933.15 1254.44 1936.33 Q1257.72 1939.48 1263.55 1939.48 Q1266.92 1939.48 1270.07 1938.65 Q1273.26 1937.83 1276.37 1936.17 L1276.37 1941.71 Q1273.22 1943.05 1269.91 1943.75 Q1266.6 1944.45 1263.2 1944.45 Q1254.67 1944.45 1249.67 1939.48 Q1244.71 1934.52 1244.71 1926.05 Q1244.71 1917.3 1249.42 1912.17 Q1254.16 1907.02 1262.18 1907.02 Q1269.37 1907.02 1273.54 1911.66 Q1277.74 1916.28 1277.74 1924.24 M1271.89 1922.52 Q1271.82 1917.71 1269.18 1914.85 Q1266.57 1911.98 1262.24 1911.98 Q1257.34 1911.98 1254.38 1914.75 Q1251.45 1917.52 1251.01 1922.55 L1271.89 1922.52 Z\" fill=\"#000000\" fill-rule=\"nonzero\" fill-opacity=\"1\" /><path clip-path=\"url(#clip980)\" d=\"M1308.01 1913.35 Q1307.03 1912.78 1305.85 1912.52 Q1304.7 1912.24 1303.3 1912.24 Q1298.34 1912.24 1295.66 1915.48 Q1293.02 1918.7 1293.02 1924.75 L1293.02 1943.52 L1287.13 1943.52 L1287.13 1907.88 L1293.02 1907.88 L1293.02 1913.41 Q1294.87 1910.17 1297.83 1908.61 Q1300.79 1907.02 1305.02 1907.02 Q1305.62 1907.02 1306.36 1907.11 Q1307.09 1907.18 1307.98 1907.33 L1308.01 1913.35 Z\" fill=\"#000000\" fill-rule=\"nonzero\" fill-opacity=\"1\" /><path clip-path=\"url(#clip980)\" d=\"M1348.69 1911.98 Q1343.98 1911.98 1341.24 1915.67 Q1338.5 1919.33 1338.5 1925.73 Q1338.5 1932.13 1341.21 1935.82 Q1343.95 1939.48 1348.69 1939.48 Q1353.37 1939.48 1356.1 1935.79 Q1358.84 1932.1 1358.84 1925.73 Q1358.84 1919.4 1356.1 1915.71 Q1353.37 1911.98 1348.69 1911.98 M1348.69 1907.02 Q1356.33 1907.02 1360.69 1911.98 Q1365.05 1916.95 1365.05 1925.73 Q1365.05 1934.48 1360.69 1939.48 Q1356.33 1944.45 1348.69 1944.45 Q1341.02 1944.45 1336.66 1939.48 Q1332.33 1934.48 1332.33 1925.73 Q1332.33 1916.95 1336.66 1911.98 Q1341.02 1907.02 1348.69 1907.02 Z\" fill=\"#000000\" fill-rule=\"nonzero\" fill-opacity=\"1\" /><path clip-path=\"url(#clip980)\" d=\"M1392.8 1894 L1392.8 1898.87 L1387.2 1898.87 Q1384.05 1898.87 1382.81 1900.14 Q1381.6 1901.41 1381.6 1904.72 L1381.6 1907.88 L1391.24 1907.88 L1391.24 1912.43 L1381.6 1912.43 L1381.6 1943.52 L1375.71 1943.52 L1375.71 1912.43 L1370.11 1912.43 L1370.11 1907.88 L1375.71 1907.88 L1375.71 1905.39 Q1375.71 1899.44 1378.48 1896.74 Q1381.25 1894 1387.27 1894 L1392.8 1894 Z\" fill=\"#000000\" fill-rule=\"nonzero\" fill-opacity=\"1\" /><path clip-path=\"url(#clip980)\" d=\"M1439.08 1913.35 Q1438.1 1912.78 1436.92 1912.52 Q1435.77 1912.24 1434.37 1912.24 Q1429.41 1912.24 1426.73 1915.48 Q1424.09 1918.7 1424.09 1924.75 L1424.09 1943.52 L1418.2 1943.52 L1418.2 1907.88 L1424.09 1907.88 L1424.09 1913.41 Q1425.94 1910.17 1428.9 1908.61 Q1431.86 1907.02 1436.09 1907.02 Q1436.69 1907.02 1437.43 1907.11 Q1438.16 1907.18 1439.05 1907.33 L1439.08 1913.35 Z\" fill=\"#000000\" fill-rule=\"nonzero\" fill-opacity=\"1\" /><path clip-path=\"url(#clip980)\" d=\"M1457.61 1911.98 Q1452.9 1911.98 1450.16 1915.67 Q1447.42 1919.33 1447.42 1925.73 Q1447.42 1932.13 1450.13 1935.82 Q1452.86 1939.48 1457.61 1939.48 Q1462.28 1939.48 1465.02 1935.79 Q1467.76 1932.1 1467.76 1925.73 Q1467.76 1919.4 1465.02 1915.71 Q1462.28 1911.98 1457.61 1911.98 M1457.61 1907.02 Q1465.24 1907.02 1469.61 1911.98 Q1473.97 1916.95 1473.97 1925.73 Q1473.97 1934.48 1469.61 1939.48 Q1465.24 1944.45 1457.61 1944.45 Q1449.94 1944.45 1445.57 1939.48 Q1441.25 1934.48 1441.25 1925.73 Q1441.25 1916.95 1445.57 1911.98 Q1449.94 1907.02 1457.61 1907.02 Z\" fill=\"#000000\" fill-rule=\"nonzero\" fill-opacity=\"1\" /><path clip-path=\"url(#clip980)\" d=\"M1480.27 1907.88 L1486.12 1907.88 L1493.45 1935.69 L1500.73 1907.88 L1507.64 1907.88 L1514.96 1935.69 L1522.25 1907.88 L1528.11 1907.88 L1518.78 1943.52 L1511.87 1943.52 L1504.2 1914.31 L1496.5 1943.52 L1489.59 1943.52 L1480.27 1907.88 Z\" fill=\"#000000\" fill-rule=\"nonzero\" fill-opacity=\"1\" /><path clip-path=\"url(#clip980)\" d=\"M1559.71 1908.93 L1559.71 1914.46 Q1557.23 1913.19 1554.56 1912.55 Q1551.88 1911.92 1549.02 1911.92 Q1544.66 1911.92 1542.46 1913.25 Q1540.3 1914.59 1540.3 1917.27 Q1540.3 1919.3 1541.86 1920.48 Q1543.42 1921.63 1548.13 1922.68 L1550.13 1923.12 Q1556.37 1924.46 1558.98 1926.91 Q1561.62 1929.33 1561.62 1933.69 Q1561.62 1938.65 1557.68 1941.55 Q1553.76 1944.45 1546.89 1944.45 Q1544.02 1944.45 1540.9 1943.87 Q1537.81 1943.33 1534.38 1942.22 L1534.38 1936.17 Q1537.62 1937.86 1540.77 1938.72 Q1543.93 1939.55 1547.01 1939.55 Q1551.15 1939.55 1553.38 1938.14 Q1555.61 1936.71 1555.61 1934.13 Q1555.61 1931.75 1553.98 1930.47 Q1552.39 1929.2 1546.95 1928.02 L1544.91 1927.55 Q1539.47 1926.4 1537.05 1924.04 Q1534.63 1921.66 1534.63 1917.52 Q1534.63 1912.49 1538.2 1909.75 Q1541.76 1907.02 1548.32 1907.02 Q1551.56 1907.02 1554.43 1907.49 Q1557.29 1907.97 1559.71 1908.93 Z\" fill=\"#000000\" fill-rule=\"nonzero\" fill-opacity=\"1\" /><polyline clip-path=\"url(#clip982)\" style=\"stroke:#000000; stroke-linecap:round; stroke-linejoin:round; stroke-width:2; stroke-opacity:0.1; fill:none\" points=\"261.422,1749.24 2352.76,1749.24 \"/>\n",
       "<polyline clip-path=\"url(#clip982)\" style=\"stroke:#000000; stroke-linecap:round; stroke-linejoin:round; stroke-width:2; stroke-opacity:0.1; fill:none\" points=\"261.422,1244.42 2352.76,1244.42 \"/>\n",
       "<polyline clip-path=\"url(#clip982)\" style=\"stroke:#000000; stroke-linecap:round; stroke-linejoin:round; stroke-width:2; stroke-opacity:0.1; fill:none\" points=\"261.422,739.599 2352.76,739.599 \"/>\n",
       "<polyline clip-path=\"url(#clip982)\" style=\"stroke:#000000; stroke-linecap:round; stroke-linejoin:round; stroke-width:2; stroke-opacity:0.1; fill:none\" points=\"261.422,234.78 2352.76,234.78 \"/>\n",
       "<polyline clip-path=\"url(#clip980)\" style=\"stroke:#000000; stroke-linecap:round; stroke-linejoin:round; stroke-width:4; stroke-opacity:1; fill:none\" points=\"261.422,1798.66 261.422,47.2441 \"/>\n",
       "<polyline clip-path=\"url(#clip980)\" style=\"stroke:#000000; stroke-linecap:round; stroke-linejoin:round; stroke-width:4; stroke-opacity:1; fill:none\" points=\"261.422,1749.24 280.32,1749.24 \"/>\n",
       "<polyline clip-path=\"url(#clip980)\" style=\"stroke:#000000; stroke-linecap:round; stroke-linejoin:round; stroke-width:4; stroke-opacity:1; fill:none\" points=\"261.422,1244.42 280.32,1244.42 \"/>\n",
       "<polyline clip-path=\"url(#clip980)\" style=\"stroke:#000000; stroke-linecap:round; stroke-linejoin:round; stroke-width:4; stroke-opacity:1; fill:none\" points=\"261.422,739.599 280.32,739.599 \"/>\n",
       "<polyline clip-path=\"url(#clip980)\" style=\"stroke:#000000; stroke-linecap:round; stroke-linejoin:round; stroke-width:4; stroke-opacity:1; fill:none\" points=\"261.422,234.78 280.32,234.78 \"/>\n",
       "<path clip-path=\"url(#clip980)\" d=\"M138.085 1735.04 Q134.473 1735.04 132.645 1738.6 Q130.839 1742.14 130.839 1749.27 Q130.839 1756.38 132.645 1759.94 Q134.473 1763.49 138.085 1763.49 Q141.719 1763.49 143.524 1759.94 Q145.353 1756.38 145.353 1749.27 Q145.353 1742.14 143.524 1738.6 Q141.719 1735.04 138.085 1735.04 M138.085 1731.33 Q143.895 1731.33 146.95 1735.94 Q150.029 1740.52 150.029 1749.27 Q150.029 1758 146.95 1762.61 Q143.895 1767.19 138.085 1767.19 Q132.274 1767.19 129.196 1762.61 Q126.14 1758 126.14 1749.27 Q126.14 1740.52 129.196 1735.94 Q132.274 1731.33 138.085 1731.33 Z\" fill=\"#000000\" fill-rule=\"nonzero\" fill-opacity=\"1\" /><path clip-path=\"url(#clip980)\" d=\"M158.246 1760.64 L163.131 1760.64 L163.131 1766.52 L158.246 1766.52 L158.246 1760.64 Z\" fill=\"#000000\" fill-rule=\"nonzero\" fill-opacity=\"1\" /><path clip-path=\"url(#clip980)\" d=\"M183.316 1735.04 Q179.705 1735.04 177.876 1738.6 Q176.07 1742.14 176.07 1749.27 Q176.07 1756.38 177.876 1759.94 Q179.705 1763.49 183.316 1763.49 Q186.95 1763.49 188.756 1759.94 Q190.584 1756.38 190.584 1749.27 Q190.584 1742.14 188.756 1738.6 Q186.95 1735.04 183.316 1735.04 M183.316 1731.33 Q189.126 1731.33 192.181 1735.94 Q195.26 1740.52 195.26 1749.27 Q195.26 1758 192.181 1762.61 Q189.126 1767.19 183.316 1767.19 Q177.506 1767.19 174.427 1762.61 Q171.371 1758 171.371 1749.27 Q171.371 1740.52 174.427 1735.94 Q177.506 1731.33 183.316 1731.33 Z\" fill=\"#000000\" fill-rule=\"nonzero\" fill-opacity=\"1\" /><path clip-path=\"url(#clip980)\" d=\"M213.478 1735.04 Q209.867 1735.04 208.038 1738.6 Q206.232 1742.14 206.232 1749.27 Q206.232 1756.38 208.038 1759.94 Q209.867 1763.49 213.478 1763.49 Q217.112 1763.49 218.917 1759.94 Q220.746 1756.38 220.746 1749.27 Q220.746 1742.14 218.917 1738.6 Q217.112 1735.04 213.478 1735.04 M213.478 1731.33 Q219.288 1731.33 222.343 1735.94 Q225.422 1740.52 225.422 1749.27 Q225.422 1758 222.343 1762.61 Q219.288 1767.19 213.478 1767.19 Q207.667 1767.19 204.589 1762.61 Q201.533 1758 201.533 1749.27 Q201.533 1740.52 204.589 1735.94 Q207.667 1731.33 213.478 1731.33 Z\" fill=\"#000000\" fill-rule=\"nonzero\" fill-opacity=\"1\" /><path clip-path=\"url(#clip980)\" d=\"M139.08 1230.22 Q135.469 1230.22 133.64 1233.78 Q131.835 1237.32 131.835 1244.45 Q131.835 1251.56 133.64 1255.12 Q135.469 1258.67 139.08 1258.67 Q142.714 1258.67 144.52 1255.12 Q146.348 1251.56 146.348 1244.45 Q146.348 1237.32 144.52 1233.78 Q142.714 1230.22 139.08 1230.22 M139.08 1226.51 Q144.89 1226.51 147.946 1231.12 Q151.024 1235.7 151.024 1244.45 Q151.024 1253.18 147.946 1257.79 Q144.89 1262.37 139.08 1262.37 Q133.27 1262.37 130.191 1257.79 Q127.136 1253.18 127.136 1244.45 Q127.136 1235.7 130.191 1231.12 Q133.27 1226.51 139.08 1226.51 Z\" fill=\"#000000\" fill-rule=\"nonzero\" fill-opacity=\"1\" /><path clip-path=\"url(#clip980)\" d=\"M159.242 1255.82 L164.126 1255.82 L164.126 1261.7 L159.242 1261.7 L159.242 1255.82 Z\" fill=\"#000000\" fill-rule=\"nonzero\" fill-opacity=\"1\" /><path clip-path=\"url(#clip980)\" d=\"M184.311 1230.22 Q180.7 1230.22 178.871 1233.78 Q177.066 1237.32 177.066 1244.45 Q177.066 1251.56 178.871 1255.12 Q180.7 1258.67 184.311 1258.67 Q187.945 1258.67 189.751 1255.12 Q191.58 1251.56 191.58 1244.45 Q191.58 1237.32 189.751 1233.78 Q187.945 1230.22 184.311 1230.22 M184.311 1226.51 Q190.121 1226.51 193.177 1231.12 Q196.256 1235.7 196.256 1244.45 Q196.256 1253.18 193.177 1257.79 Q190.121 1262.37 184.311 1262.37 Q178.501 1262.37 175.422 1257.79 Q172.367 1253.18 172.367 1244.45 Q172.367 1235.7 175.422 1231.12 Q178.501 1226.51 184.311 1226.51 Z\" fill=\"#000000\" fill-rule=\"nonzero\" fill-opacity=\"1\" /><path clip-path=\"url(#clip980)\" d=\"M204.519 1227.14 L222.876 1227.14 L222.876 1231.07 L208.802 1231.07 L208.802 1239.55 Q209.82 1239.2 210.839 1239.04 Q211.857 1238.85 212.876 1238.85 Q218.663 1238.85 222.042 1242.02 Q225.422 1245.19 225.422 1250.61 Q225.422 1256.19 221.95 1259.29 Q218.478 1262.37 212.158 1262.37 Q209.982 1262.37 207.714 1262 Q205.468 1261.63 203.061 1260.89 L203.061 1256.19 Q205.144 1257.32 207.367 1257.88 Q209.589 1258.44 212.066 1258.44 Q216.07 1258.44 218.408 1256.33 Q220.746 1254.22 220.746 1250.61 Q220.746 1247 218.408 1244.89 Q216.07 1242.79 212.066 1242.79 Q210.191 1242.79 208.316 1243.2 Q206.464 1243.62 204.519 1244.5 L204.519 1227.14 Z\" fill=\"#000000\" fill-rule=\"nonzero\" fill-opacity=\"1\" /><path clip-path=\"url(#clip980)\" d=\"M138.085 725.398 Q134.473 725.398 132.645 728.963 Q130.839 732.504 130.839 739.634 Q130.839 746.74 132.645 750.305 Q134.473 753.847 138.085 753.847 Q141.719 753.847 143.524 750.305 Q145.353 746.74 145.353 739.634 Q145.353 732.504 143.524 728.963 Q141.719 725.398 138.085 725.398 M138.085 721.694 Q143.895 721.694 146.95 726.301 Q150.029 730.884 150.029 739.634 Q150.029 748.361 146.95 752.967 Q143.895 757.55 138.085 757.55 Q132.274 757.55 129.196 752.967 Q126.14 748.361 126.14 739.634 Q126.14 730.884 129.196 726.301 Q132.274 721.694 138.085 721.694 Z\" fill=\"#000000\" fill-rule=\"nonzero\" fill-opacity=\"1\" /><path clip-path=\"url(#clip980)\" d=\"M158.246 751 L163.131 751 L163.131 756.879 L158.246 756.879 L158.246 751 Z\" fill=\"#000000\" fill-rule=\"nonzero\" fill-opacity=\"1\" /><path clip-path=\"url(#clip980)\" d=\"M174.126 752.944 L181.765 752.944 L181.765 726.578 L173.455 728.245 L173.455 723.986 L181.719 722.319 L186.394 722.319 L186.394 752.944 L194.033 752.944 L194.033 756.879 L174.126 756.879 L174.126 752.944 Z\" fill=\"#000000\" fill-rule=\"nonzero\" fill-opacity=\"1\" /><path clip-path=\"url(#clip980)\" d=\"M213.478 725.398 Q209.867 725.398 208.038 728.963 Q206.232 732.504 206.232 739.634 Q206.232 746.74 208.038 750.305 Q209.867 753.847 213.478 753.847 Q217.112 753.847 218.917 750.305 Q220.746 746.74 220.746 739.634 Q220.746 732.504 218.917 728.963 Q217.112 725.398 213.478 725.398 M213.478 721.694 Q219.288 721.694 222.343 726.301 Q225.422 730.884 225.422 739.634 Q225.422 748.361 222.343 752.967 Q219.288 757.55 213.478 757.55 Q207.667 757.55 204.589 752.967 Q201.533 748.361 201.533 739.634 Q201.533 730.884 204.589 726.301 Q207.667 721.694 213.478 721.694 Z\" fill=\"#000000\" fill-rule=\"nonzero\" fill-opacity=\"1\" /><path clip-path=\"url(#clip980)\" d=\"M139.08 220.578 Q135.469 220.578 133.64 224.143 Q131.835 227.685 131.835 234.814 Q131.835 241.921 133.64 245.485 Q135.469 249.027 139.08 249.027 Q142.714 249.027 144.52 245.485 Q146.348 241.921 146.348 234.814 Q146.348 227.685 144.52 224.143 Q142.714 220.578 139.08 220.578 M139.08 216.875 Q144.89 216.875 147.946 221.481 Q151.024 226.064 151.024 234.814 Q151.024 243.541 147.946 248.148 Q144.89 252.731 139.08 252.731 Q133.27 252.731 130.191 248.148 Q127.136 243.541 127.136 234.814 Q127.136 226.064 130.191 221.481 Q133.27 216.875 139.08 216.875 Z\" fill=\"#000000\" fill-rule=\"nonzero\" fill-opacity=\"1\" /><path clip-path=\"url(#clip980)\" d=\"M159.242 246.18 L164.126 246.18 L164.126 252.06 L159.242 252.06 L159.242 246.18 Z\" fill=\"#000000\" fill-rule=\"nonzero\" fill-opacity=\"1\" /><path clip-path=\"url(#clip980)\" d=\"M175.121 248.124 L182.76 248.124 L182.76 221.759 L174.45 223.425 L174.45 219.166 L182.714 217.5 L187.39 217.5 L187.39 248.124 L195.029 248.124 L195.029 252.06 L175.121 252.06 L175.121 248.124 Z\" fill=\"#000000\" fill-rule=\"nonzero\" fill-opacity=\"1\" /><path clip-path=\"url(#clip980)\" d=\"M204.519 217.5 L222.876 217.5 L222.876 221.435 L208.802 221.435 L208.802 229.907 Q209.82 229.56 210.839 229.398 Q211.857 229.212 212.876 229.212 Q218.663 229.212 222.042 232.384 Q225.422 235.555 225.422 240.972 Q225.422 246.55 221.95 249.652 Q218.478 252.731 212.158 252.731 Q209.982 252.731 207.714 252.36 Q205.468 251.99 203.061 251.249 L203.061 246.55 Q205.144 247.685 207.367 248.24 Q209.589 248.796 212.066 248.796 Q216.07 248.796 218.408 246.689 Q220.746 244.583 220.746 240.972 Q220.746 237.361 218.408 235.254 Q216.07 233.148 212.066 233.148 Q210.191 233.148 208.316 233.564 Q206.464 233.981 204.519 234.861 L204.519 217.5 Z\" fill=\"#000000\" fill-rule=\"nonzero\" fill-opacity=\"1\" /><path clip-path=\"url(#clip980)\" d=\"M28.3642 1040.89 L28.3642 1000.69 L33.775 1000.69 L33.775 1017.56 L75.8842 1017.56 L75.8842 1024.02 L33.775 1024.02 L33.775 1040.89 L28.3642 1040.89 Z\" fill=\"#000000\" fill-rule=\"nonzero\" fill-opacity=\"1\" /><path clip-path=\"url(#clip980)\" d=\"M28.3642 994.487 L28.3642 988.057 L75.8842 988.057 L75.8842 994.487 L28.3642 994.487 Z\" fill=\"#000000\" fill-rule=\"nonzero\" fill-opacity=\"1\" /><path clip-path=\"url(#clip980)\" d=\"M28.3642 975.262 L28.3642 965.682 L60.7019 953.555 L28.3642 941.365 L28.3642 931.784 L75.8842 931.784 L75.8842 938.055 L34.157 938.055 L66.7494 950.309 L66.7494 956.77 L34.157 969.024 L75.8842 969.024 L75.8842 975.262 L28.3642 975.262 Z\" fill=\"#000000\" fill-rule=\"nonzero\" fill-opacity=\"1\" /><path clip-path=\"url(#clip980)\" d=\"M28.3642 919.021 L28.3642 888.975 L33.775 888.975 L33.775 912.592 L47.8432 912.592 L47.8432 889.962 L53.2541 889.962 L53.2541 912.592 L70.4733 912.592 L70.4733 888.402 L75.8842 888.402 L75.8842 919.021 L28.3642 919.021 Z\" fill=\"#000000\" fill-rule=\"nonzero\" fill-opacity=\"1\" /><path clip-path=\"url(#clip980)\" d=\"M26.359 878.631 L26.359 865.135 L30.9104 865.135 L30.9104 872.774 L79.9264 872.774 L79.9264 865.135 L84.4779 865.135 L84.4779 878.631 L26.359 878.631 Z\" fill=\"#000000\" fill-rule=\"nonzero\" fill-opacity=\"1\" /><path clip-path=\"url(#clip980)\" d=\"M41.2865 829.933 L46.8247 829.933 Q45.5516 832.416 44.915 835.089 Q44.2784 837.763 44.2784 840.627 Q44.2784 844.988 45.6152 847.184 Q46.952 849.348 49.6256 849.348 Q51.6626 849.348 52.8403 847.789 Q53.9861 846.229 55.0365 841.519 L55.4821 839.513 Q56.8189 833.275 59.2697 830.665 Q61.6886 828.023 66.0491 828.023 Q71.0144 828.023 73.9108 831.97 Q76.8072 835.885 76.8072 842.76 Q76.8072 845.625 76.2343 848.744 Q75.6932 851.831 74.5792 855.269 L68.5318 855.269 Q70.2187 852.022 71.078 848.871 Q71.9056 845.72 71.9056 842.633 Q71.9056 838.495 70.5051 836.267 Q69.0729 834.039 66.4947 834.039 Q64.1076 834.039 62.8345 835.662 Q61.5613 837.254 60.3837 842.696 L59.9062 844.733 Q58.7604 850.176 56.4051 852.595 Q54.018 855.014 49.8802 855.014 Q44.8513 855.014 42.1141 851.449 Q39.3768 847.884 39.3768 841.328 Q39.3768 838.081 39.8543 835.217 Q40.3317 832.352 41.2865 829.933 Z\" fill=\"#000000\" fill-rule=\"nonzero\" fill-opacity=\"1\" /><path clip-path=\"url(#clip980)\" d=\"M26.359 805.011 L84.4779 805.011 L84.4779 818.507 L79.9264 818.507 L79.9264 810.9 L30.9104 810.9 L30.9104 818.507 L26.359 818.507 L26.359 805.011 Z\" fill=\"#000000\" fill-rule=\"nonzero\" fill-opacity=\"1\" /><polyline clip-path=\"url(#clip982)\" style=\"stroke:#009af9; stroke-linecap:round; stroke-linejoin:round; stroke-width:4; stroke-opacity:1; fill:none\" points=\"320.611,1749.05 384.254,1748.8 511.542,1745.84 766.117,1725.29 1275.27,1589.09 2293.57,209.334 \"/>\n",
       "<polyline clip-path=\"url(#clip982)\" style=\"stroke:#000000; stroke-linecap:round; stroke-linejoin:round; stroke-width:4; stroke-opacity:1; fill:none\" points=\"320.611,1749.09 320.611,1749.01 \"/>\n",
       "<polyline clip-path=\"url(#clip982)\" style=\"stroke:#000000; stroke-linecap:round; stroke-linejoin:round; stroke-width:4; stroke-opacity:1; fill:none\" points=\"384.254,1748.83 384.254,1748.78 \"/>\n",
       "<polyline clip-path=\"url(#clip982)\" style=\"stroke:#000000; stroke-linecap:round; stroke-linejoin:round; stroke-width:4; stroke-opacity:1; fill:none\" points=\"511.542,1746.2 511.542,1745.48 \"/>\n",
       "<polyline clip-path=\"url(#clip982)\" style=\"stroke:#000000; stroke-linecap:round; stroke-linejoin:round; stroke-width:4; stroke-opacity:1; fill:none\" points=\"766.117,1727.66 766.117,1722.91 \"/>\n",
       "<polyline clip-path=\"url(#clip982)\" style=\"stroke:#000000; stroke-linecap:round; stroke-linejoin:round; stroke-width:4; stroke-opacity:1; fill:none\" points=\"1275.27,1605.11 1275.27,1573.07 \"/>\n",
       "<polyline clip-path=\"url(#clip982)\" style=\"stroke:#000000; stroke-linecap:round; stroke-linejoin:round; stroke-width:4; stroke-opacity:1; fill:none\" points=\"2293.57,321.856 2293.57,96.8125 \"/>\n",
       "<line clip-path=\"url(#clip982)\" x1=\"336.611\" y1=\"1749.09\" x2=\"304.611\" y2=\"1749.09\" style=\"stroke:#000000; stroke-width:4; stroke-opacity:1\"/>\n",
       "<line clip-path=\"url(#clip982)\" x1=\"336.611\" y1=\"1749.01\" x2=\"304.611\" y2=\"1749.01\" style=\"stroke:#000000; stroke-width:4; stroke-opacity:1\"/>\n",
       "<line clip-path=\"url(#clip982)\" x1=\"400.254\" y1=\"1748.83\" x2=\"368.254\" y2=\"1748.83\" style=\"stroke:#000000; stroke-width:4; stroke-opacity:1\"/>\n",
       "<line clip-path=\"url(#clip982)\" x1=\"400.254\" y1=\"1748.78\" x2=\"368.254\" y2=\"1748.78\" style=\"stroke:#000000; stroke-width:4; stroke-opacity:1\"/>\n",
       "<line clip-path=\"url(#clip982)\" x1=\"527.542\" y1=\"1746.2\" x2=\"495.542\" y2=\"1746.2\" style=\"stroke:#000000; stroke-width:4; stroke-opacity:1\"/>\n",
       "<line clip-path=\"url(#clip982)\" x1=\"527.542\" y1=\"1745.48\" x2=\"495.542\" y2=\"1745.48\" style=\"stroke:#000000; stroke-width:4; stroke-opacity:1\"/>\n",
       "<line clip-path=\"url(#clip982)\" x1=\"782.117\" y1=\"1727.66\" x2=\"750.117\" y2=\"1727.66\" style=\"stroke:#000000; stroke-width:4; stroke-opacity:1\"/>\n",
       "<line clip-path=\"url(#clip982)\" x1=\"782.117\" y1=\"1722.91\" x2=\"750.117\" y2=\"1722.91\" style=\"stroke:#000000; stroke-width:4; stroke-opacity:1\"/>\n",
       "<line clip-path=\"url(#clip982)\" x1=\"1291.27\" y1=\"1605.11\" x2=\"1259.27\" y2=\"1605.11\" style=\"stroke:#000000; stroke-width:4; stroke-opacity:1\"/>\n",
       "<line clip-path=\"url(#clip982)\" x1=\"1291.27\" y1=\"1573.07\" x2=\"1259.27\" y2=\"1573.07\" style=\"stroke:#000000; stroke-width:4; stroke-opacity:1\"/>\n",
       "<line clip-path=\"url(#clip982)\" x1=\"2309.57\" y1=\"321.856\" x2=\"2277.57\" y2=\"321.856\" style=\"stroke:#000000; stroke-width:4; stroke-opacity:1\"/>\n",
       "<line clip-path=\"url(#clip982)\" x1=\"2309.57\" y1=\"96.8125\" x2=\"2277.57\" y2=\"96.8125\" style=\"stroke:#000000; stroke-width:4; stroke-opacity:1\"/>\n",
       "<path clip-path=\"url(#clip980)\" d=\"M331.133 209.305 L653.9 209.305 L653.9 105.625 L331.133 105.625  Z\" fill=\"#ffffff\" fill-rule=\"evenodd\" fill-opacity=\"1\"/>\n",
       "<polyline clip-path=\"url(#clip980)\" style=\"stroke:#000000; stroke-linecap:round; stroke-linejoin:round; stroke-width:4; stroke-opacity:1; fill:none\" points=\"331.133,209.305 653.9,209.305 653.9,105.625 331.133,105.625 331.133,209.305 \"/>\n",
       "<polyline clip-path=\"url(#clip980)\" style=\"stroke:#009af9; stroke-linecap:round; stroke-linejoin:round; stroke-width:4; stroke-opacity:1; fill:none\" points=\"354.37,157.465 493.792,157.465 \"/>\n",
       "<path clip-path=\"url(#clip980)\" d=\"M517.03 140.185 L546.265 140.185 L546.265 144.12 L533.997 144.12 L533.997 174.745 L529.298 174.745 L529.298 144.12 L517.03 144.12 L517.03 140.185 Z\" fill=\"#000000\" fill-rule=\"nonzero\" fill-opacity=\"1\" /><path clip-path=\"url(#clip980)\" d=\"M549.136 148.819 L553.395 148.819 L553.395 174.745 L549.136 174.745 L549.136 148.819 M549.136 138.726 L553.395 138.726 L553.395 144.12 L549.136 144.12 L549.136 138.726 Z\" fill=\"#000000\" fill-rule=\"nonzero\" fill-opacity=\"1\" /><path clip-path=\"url(#clip980)\" d=\"M582.492 153.796 Q584.089 150.925 586.312 149.56 Q588.534 148.194 591.543 148.194 Q595.594 148.194 597.793 151.041 Q599.992 153.865 599.992 159.097 L599.992 174.745 L595.71 174.745 L595.71 159.235 Q595.71 155.509 594.39 153.703 Q593.071 151.898 590.362 151.898 Q587.052 151.898 585.131 154.097 Q583.21 156.296 583.21 160.092 L583.21 174.745 L578.927 174.745 L578.927 159.235 Q578.927 155.485 577.608 153.703 Q576.288 151.898 573.534 151.898 Q570.27 151.898 568.349 154.12 Q566.427 156.319 566.427 160.092 L566.427 174.745 L562.145 174.745 L562.145 148.819 L566.427 148.819 L566.427 152.847 Q567.886 150.462 569.923 149.328 Q571.96 148.194 574.761 148.194 Q577.585 148.194 579.552 149.629 Q581.543 151.064 582.492 153.796 Z\" fill=\"#000000\" fill-rule=\"nonzero\" fill-opacity=\"1\" /><path clip-path=\"url(#clip980)\" d=\"M630.663 160.717 L630.663 162.8 L611.08 162.8 Q611.358 167.198 613.719 169.513 Q616.103 171.805 620.339 171.805 Q622.793 171.805 625.084 171.203 Q627.399 170.601 629.668 169.397 L629.668 173.425 Q627.376 174.397 624.969 174.907 Q622.561 175.416 620.085 175.416 Q613.881 175.416 610.247 171.805 Q606.636 168.194 606.636 162.036 Q606.636 155.671 610.061 151.944 Q613.51 148.194 619.344 148.194 Q624.575 148.194 627.608 151.573 Q630.663 154.93 630.663 160.717 M626.404 159.467 Q626.358 155.972 624.436 153.888 Q622.538 151.805 619.39 151.805 Q615.825 151.805 613.673 153.819 Q611.543 155.833 611.219 159.49 L626.404 159.467 Z\" fill=\"#000000\" fill-rule=\"nonzero\" fill-opacity=\"1\" /></svg>\n"
      ]
     },
     "execution_count": 13,
     "metadata": {},
     "output_type": "execute_result"
    }
   ],
   "source": [
    "plot(inversion_time_statistics.size, inversion_time_statistics.time_mean, \n",
    "    size = (600, 500), yerr=inversion_time_statistics.time_std,\n",
    "    yaxis = \"TIME[s]\", xaxis = \"Number of rows\", label=\"Time\")"
   ]
  },
  {
   "cell_type": "code",
   "execution_count": 14,
   "id": "008e02ff",
   "metadata": {},
   "outputs": [
    {
     "data": {
      "image/svg+xml": [
       "<?xml version=\"1.0\" encoding=\"utf-8\"?>\n",
       "<svg xmlns=\"http://www.w3.org/2000/svg\" xmlns:xlink=\"http://www.w3.org/1999/xlink\" width=\"600\" height=\"500\" viewBox=\"0 0 2400 2000\">\n",
       "<defs>\n",
       "  <clipPath id=\"clip020\">\n",
       "    <rect x=\"0\" y=\"0\" width=\"2400\" height=\"2000\"/>\n",
       "  </clipPath>\n",
       "</defs>\n",
       "<path clip-path=\"url(#clip020)\" d=\"M0 2000 L2400 2000 L2400 0 L0 0  Z\" fill=\"#ffffff\" fill-rule=\"evenodd\" fill-opacity=\"1\"/>\n",
       "<defs>\n",
       "  <clipPath id=\"clip021\">\n",
       "    <rect x=\"480\" y=\"0\" width=\"1681\" height=\"1681\"/>\n",
       "  </clipPath>\n",
       "</defs>\n",
       "<path clip-path=\"url(#clip020)\" d=\"M380.446 1798.66 L2352.76 1798.66 L2352.76 47.2441 L380.446 47.2441  Z\" fill=\"#ffffff\" fill-rule=\"evenodd\" fill-opacity=\"1\"/>\n",
       "<defs>\n",
       "  <clipPath id=\"clip022\">\n",
       "    <rect x=\"380\" y=\"47\" width=\"1973\" height=\"1752\"/>\n",
       "  </clipPath>\n",
       "</defs>\n",
       "<polyline clip-path=\"url(#clip022)\" style=\"stroke:#000000; stroke-linecap:round; stroke-linejoin:round; stroke-width:2; stroke-opacity:0.1; fill:none\" points=\"676.353,1798.66 676.353,47.2441 \"/>\n",
       "<polyline clip-path=\"url(#clip022)\" style=\"stroke:#000000; stroke-linecap:round; stroke-linejoin:round; stroke-width:2; stroke-opacity:0.1; fill:none\" points=\"976.461,1798.66 976.461,47.2441 \"/>\n",
       "<polyline clip-path=\"url(#clip022)\" style=\"stroke:#000000; stroke-linecap:round; stroke-linejoin:round; stroke-width:2; stroke-opacity:0.1; fill:none\" points=\"1276.57,1798.66 1276.57,47.2441 \"/>\n",
       "<polyline clip-path=\"url(#clip022)\" style=\"stroke:#000000; stroke-linecap:round; stroke-linejoin:round; stroke-width:2; stroke-opacity:0.1; fill:none\" points=\"1576.68,1798.66 1576.68,47.2441 \"/>\n",
       "<polyline clip-path=\"url(#clip022)\" style=\"stroke:#000000; stroke-linecap:round; stroke-linejoin:round; stroke-width:2; stroke-opacity:0.1; fill:none\" points=\"1876.78,1798.66 1876.78,47.2441 \"/>\n",
       "<polyline clip-path=\"url(#clip022)\" style=\"stroke:#000000; stroke-linecap:round; stroke-linejoin:round; stroke-width:2; stroke-opacity:0.1; fill:none\" points=\"2176.89,1798.66 2176.89,47.2441 \"/>\n",
       "<polyline clip-path=\"url(#clip020)\" style=\"stroke:#000000; stroke-linecap:round; stroke-linejoin:round; stroke-width:4; stroke-opacity:1; fill:none\" points=\"380.446,1798.66 2352.76,1798.66 \"/>\n",
       "<polyline clip-path=\"url(#clip020)\" style=\"stroke:#000000; stroke-linecap:round; stroke-linejoin:round; stroke-width:4; stroke-opacity:1; fill:none\" points=\"676.353,1798.66 676.353,1779.76 \"/>\n",
       "<polyline clip-path=\"url(#clip020)\" style=\"stroke:#000000; stroke-linecap:round; stroke-linejoin:round; stroke-width:4; stroke-opacity:1; fill:none\" points=\"976.461,1798.66 976.461,1779.76 \"/>\n",
       "<polyline clip-path=\"url(#clip020)\" style=\"stroke:#000000; stroke-linecap:round; stroke-linejoin:round; stroke-width:4; stroke-opacity:1; fill:none\" points=\"1276.57,1798.66 1276.57,1779.76 \"/>\n",
       "<polyline clip-path=\"url(#clip020)\" style=\"stroke:#000000; stroke-linecap:round; stroke-linejoin:round; stroke-width:4; stroke-opacity:1; fill:none\" points=\"1576.68,1798.66 1576.68,1779.76 \"/>\n",
       "<polyline clip-path=\"url(#clip020)\" style=\"stroke:#000000; stroke-linecap:round; stroke-linejoin:round; stroke-width:4; stroke-opacity:1; fill:none\" points=\"1876.78,1798.66 1876.78,1779.76 \"/>\n",
       "<polyline clip-path=\"url(#clip020)\" style=\"stroke:#000000; stroke-linecap:round; stroke-linejoin:round; stroke-width:4; stroke-opacity:1; fill:none\" points=\"2176.89,1798.66 2176.89,1779.76 \"/>\n",
       "<path clip-path=\"url(#clip020)\" d=\"M651.04 1857.12 L658.679 1857.12 L658.679 1830.76 L650.369 1832.43 L650.369 1828.17 L658.633 1826.5 L663.309 1826.5 L663.309 1857.12 L670.948 1857.12 L670.948 1861.06 L651.04 1861.06 L651.04 1857.12 Z\" fill=\"#000000\" fill-rule=\"nonzero\" fill-opacity=\"1\" /><path clip-path=\"url(#clip020)\" d=\"M690.392 1829.58 Q686.781 1829.58 684.952 1833.14 Q683.147 1836.68 683.147 1843.81 Q683.147 1850.92 684.952 1854.49 Q686.781 1858.03 690.392 1858.03 Q694.026 1858.03 695.832 1854.49 Q697.661 1850.92 697.661 1843.81 Q697.661 1836.68 695.832 1833.14 Q694.026 1829.58 690.392 1829.58 M690.392 1825.87 Q696.202 1825.87 699.258 1830.48 Q702.336 1835.06 702.336 1843.81 Q702.336 1852.54 699.258 1857.15 Q696.202 1861.73 690.392 1861.73 Q684.582 1861.73 681.503 1857.15 Q678.448 1852.54 678.448 1843.81 Q678.448 1835.06 681.503 1830.48 Q684.582 1825.87 690.392 1825.87 Z\" fill=\"#000000\" fill-rule=\"nonzero\" fill-opacity=\"1\" /><path clip-path=\"url(#clip020)\" d=\"M955.234 1857.12 L971.553 1857.12 L971.553 1861.06 L949.609 1861.06 L949.609 1857.12 Q952.271 1854.37 956.854 1849.74 Q961.461 1845.09 962.641 1843.75 Q964.887 1841.22 965.766 1839.49 Q966.669 1837.73 966.669 1836.04 Q966.669 1833.28 964.725 1831.55 Q962.803 1829.81 959.702 1829.81 Q957.502 1829.81 955.049 1830.57 Q952.618 1831.34 949.84 1832.89 L949.84 1828.17 Q952.665 1827.03 955.118 1826.45 Q957.572 1825.87 959.609 1825.87 Q964.979 1825.87 968.174 1828.56 Q971.368 1831.25 971.368 1835.74 Q971.368 1837.87 970.558 1839.79 Q969.771 1841.68 967.664 1844.28 Q967.086 1844.95 963.984 1848.17 Q960.882 1851.36 955.234 1857.12 Z\" fill=\"#000000\" fill-rule=\"nonzero\" fill-opacity=\"1\" /><path clip-path=\"url(#clip020)\" d=\"M991.368 1829.58 Q987.757 1829.58 985.928 1833.14 Q984.123 1836.68 984.123 1843.81 Q984.123 1850.92 985.928 1854.49 Q987.757 1858.03 991.368 1858.03 Q995.002 1858.03 996.808 1854.49 Q998.637 1850.92 998.637 1843.81 Q998.637 1836.68 996.808 1833.14 Q995.002 1829.58 991.368 1829.58 M991.368 1825.87 Q997.178 1825.87 1000.23 1830.48 Q1003.31 1835.06 1003.31 1843.81 Q1003.31 1852.54 1000.23 1857.15 Q997.178 1861.73 991.368 1861.73 Q985.558 1861.73 982.479 1857.15 Q979.424 1852.54 979.424 1843.81 Q979.424 1835.06 982.479 1830.48 Q985.558 1825.87 991.368 1825.87 Z\" fill=\"#000000\" fill-rule=\"nonzero\" fill-opacity=\"1\" /><path clip-path=\"url(#clip020)\" d=\"M1265.41 1842.43 Q1268.77 1843.14 1270.64 1845.41 Q1272.54 1847.68 1272.54 1851.01 Q1272.54 1856.13 1269.02 1858.93 Q1265.5 1861.73 1259.02 1861.73 Q1256.85 1861.73 1254.53 1861.29 Q1252.24 1860.87 1249.79 1860.02 L1249.79 1855.5 Q1251.73 1856.64 1254.05 1857.22 Q1256.36 1857.8 1258.88 1857.8 Q1263.28 1857.8 1265.57 1856.06 Q1267.89 1854.32 1267.89 1851.01 Q1267.89 1847.96 1265.74 1846.25 Q1263.61 1844.51 1259.79 1844.51 L1255.76 1844.51 L1255.76 1840.67 L1259.97 1840.67 Q1263.42 1840.67 1265.25 1839.3 Q1267.08 1837.91 1267.08 1835.32 Q1267.08 1832.66 1265.18 1831.25 Q1263.3 1829.81 1259.79 1829.81 Q1257.87 1829.81 1255.67 1830.23 Q1253.47 1830.64 1250.83 1831.52 L1250.83 1827.36 Q1253.49 1826.62 1255.8 1826.25 Q1258.14 1825.87 1260.2 1825.87 Q1265.53 1825.87 1268.63 1828.31 Q1271.73 1830.71 1271.73 1834.83 Q1271.73 1837.7 1270.09 1839.69 Q1268.44 1841.66 1265.41 1842.43 Z\" fill=\"#000000\" fill-rule=\"nonzero\" fill-opacity=\"1\" /><path clip-path=\"url(#clip020)\" d=\"M1291.41 1829.58 Q1287.8 1829.58 1285.97 1833.14 Q1284.16 1836.68 1284.16 1843.81 Q1284.16 1850.92 1285.97 1854.49 Q1287.8 1858.03 1291.41 1858.03 Q1295.04 1858.03 1296.85 1854.49 Q1298.68 1850.92 1298.68 1843.81 Q1298.68 1836.68 1296.85 1833.14 Q1295.04 1829.58 1291.41 1829.58 M1291.41 1825.87 Q1297.22 1825.87 1300.27 1830.48 Q1303.35 1835.06 1303.35 1843.81 Q1303.35 1852.54 1300.27 1857.15 Q1297.22 1861.73 1291.41 1861.73 Q1285.6 1861.73 1282.52 1857.15 Q1279.46 1852.54 1279.46 1843.81 Q1279.46 1835.06 1282.52 1830.48 Q1285.6 1825.87 1291.41 1825.87 Z\" fill=\"#000000\" fill-rule=\"nonzero\" fill-opacity=\"1\" /><path clip-path=\"url(#clip020)\" d=\"M1564.85 1830.57 L1553.04 1849.02 L1564.85 1849.02 L1564.85 1830.57 M1563.62 1826.5 L1569.5 1826.5 L1569.5 1849.02 L1574.43 1849.02 L1574.43 1852.91 L1569.5 1852.91 L1569.5 1861.06 L1564.85 1861.06 L1564.85 1852.91 L1549.25 1852.91 L1549.25 1848.4 L1563.62 1826.5 Z\" fill=\"#000000\" fill-rule=\"nonzero\" fill-opacity=\"1\" /><path clip-path=\"url(#clip020)\" d=\"M1592.16 1829.58 Q1588.55 1829.58 1586.72 1833.14 Q1584.92 1836.68 1584.92 1843.81 Q1584.92 1850.92 1586.72 1854.49 Q1588.55 1858.03 1592.16 1858.03 Q1595.8 1858.03 1597.6 1854.49 Q1599.43 1850.92 1599.43 1843.81 Q1599.43 1836.68 1597.6 1833.14 Q1595.8 1829.58 1592.16 1829.58 M1592.16 1825.87 Q1597.97 1825.87 1601.03 1830.48 Q1604.11 1835.06 1604.11 1843.81 Q1604.11 1852.54 1601.03 1857.15 Q1597.97 1861.73 1592.16 1861.73 Q1586.35 1861.73 1583.27 1857.15 Q1580.22 1852.54 1580.22 1843.81 Q1580.22 1835.06 1583.27 1830.48 Q1586.35 1825.87 1592.16 1825.87 Z\" fill=\"#000000\" fill-rule=\"nonzero\" fill-opacity=\"1\" /><path clip-path=\"url(#clip020)\" d=\"M1851.48 1826.5 L1869.84 1826.5 L1869.84 1830.44 L1855.77 1830.44 L1855.77 1838.91 Q1856.78 1838.56 1857.8 1838.4 Q1858.82 1838.21 1859.84 1838.21 Q1865.63 1838.21 1869.01 1841.38 Q1872.39 1844.56 1872.39 1849.97 Q1872.39 1855.55 1868.91 1858.65 Q1865.44 1861.73 1859.12 1861.73 Q1856.95 1861.73 1854.68 1861.36 Q1852.43 1860.99 1850.03 1860.25 L1850.03 1855.55 Q1852.11 1856.68 1854.33 1857.24 Q1856.55 1857.8 1859.03 1857.8 Q1863.03 1857.8 1865.37 1855.69 Q1867.71 1853.58 1867.71 1849.97 Q1867.71 1846.36 1865.37 1844.25 Q1863.03 1842.15 1859.03 1842.15 Q1857.16 1842.15 1855.28 1842.56 Q1853.43 1842.98 1851.48 1843.86 L1851.48 1826.5 Z\" fill=\"#000000\" fill-rule=\"nonzero\" fill-opacity=\"1\" /><path clip-path=\"url(#clip020)\" d=\"M1891.6 1829.58 Q1887.99 1829.58 1886.16 1833.14 Q1884.35 1836.68 1884.35 1843.81 Q1884.35 1850.92 1886.16 1854.49 Q1887.99 1858.03 1891.6 1858.03 Q1895.23 1858.03 1897.04 1854.49 Q1898.87 1850.92 1898.87 1843.81 Q1898.87 1836.68 1897.04 1833.14 Q1895.23 1829.58 1891.6 1829.58 M1891.6 1825.87 Q1897.41 1825.87 1900.47 1830.48 Q1903.54 1835.06 1903.54 1843.81 Q1903.54 1852.54 1900.47 1857.15 Q1897.41 1861.73 1891.6 1861.73 Q1885.79 1861.73 1882.71 1857.15 Q1879.66 1852.54 1879.66 1843.81 Q1879.66 1835.06 1882.71 1830.48 Q1885.79 1825.87 1891.6 1825.87 Z\" fill=\"#000000\" fill-rule=\"nonzero\" fill-opacity=\"1\" /><path clip-path=\"url(#clip020)\" d=\"M2162.3 1841.92 Q2159.15 1841.92 2157.3 1844.07 Q2155.47 1846.22 2155.47 1849.97 Q2155.47 1853.7 2157.3 1855.87 Q2159.15 1858.03 2162.3 1858.03 Q2165.45 1858.03 2167.27 1855.87 Q2169.13 1853.7 2169.13 1849.97 Q2169.13 1846.22 2167.27 1844.07 Q2165.45 1841.92 2162.3 1841.92 M2171.58 1827.26 L2171.58 1831.52 Q2169.82 1830.69 2168.02 1830.25 Q2166.23 1829.81 2164.47 1829.81 Q2159.84 1829.81 2157.39 1832.93 Q2154.96 1836.06 2154.61 1842.38 Q2155.98 1840.37 2158.04 1839.3 Q2160.1 1838.21 2162.58 1838.21 Q2167.78 1838.21 2170.79 1841.38 Q2173.83 1844.53 2173.83 1849.97 Q2173.83 1855.3 2170.68 1858.51 Q2167.53 1861.73 2162.3 1861.73 Q2156.3 1861.73 2153.13 1857.15 Q2149.96 1852.54 2149.96 1843.81 Q2149.96 1835.62 2153.85 1830.76 Q2157.74 1825.87 2164.29 1825.87 Q2166.05 1825.87 2167.83 1826.22 Q2169.64 1826.57 2171.58 1827.26 Z\" fill=\"#000000\" fill-rule=\"nonzero\" fill-opacity=\"1\" /><path clip-path=\"url(#clip020)\" d=\"M2191.88 1829.58 Q2188.27 1829.58 2186.44 1833.14 Q2184.64 1836.68 2184.64 1843.81 Q2184.64 1850.92 2186.44 1854.49 Q2188.27 1858.03 2191.88 1858.03 Q2195.52 1858.03 2197.32 1854.49 Q2199.15 1850.92 2199.15 1843.81 Q2199.15 1836.68 2197.32 1833.14 Q2195.52 1829.58 2191.88 1829.58 M2191.88 1825.87 Q2197.69 1825.87 2200.75 1830.48 Q2203.83 1835.06 2203.83 1843.81 Q2203.83 1852.54 2200.75 1857.15 Q2197.69 1861.73 2191.88 1861.73 Q2186.07 1861.73 2182.99 1857.15 Q2179.94 1852.54 2179.94 1843.81 Q2179.94 1835.06 2182.99 1830.48 Q2186.07 1825.87 2191.88 1825.87 Z\" fill=\"#000000\" fill-rule=\"nonzero\" fill-opacity=\"1\" /><path clip-path=\"url(#clip020)\" d=\"M1112.07 1896 L1120.73 1896 L1141.8 1935.76 L1141.8 1896 L1148.03 1896 L1148.03 1943.52 L1139.38 1943.52 L1118.31 1903.77 L1118.31 1943.52 L1112.07 1943.52 L1112.07 1896 Z\" fill=\"#000000\" fill-rule=\"nonzero\" fill-opacity=\"1\" /><path clip-path=\"url(#clip020)\" d=\"M1159.97 1929.46 L1159.97 1907.88 L1165.83 1907.88 L1165.83 1929.23 Q1165.83 1934.29 1167.8 1936.84 Q1169.77 1939.35 1173.72 1939.35 Q1178.46 1939.35 1181.2 1936.33 Q1183.97 1933.31 1183.97 1928.09 L1183.97 1907.88 L1189.83 1907.88 L1189.83 1943.52 L1183.97 1943.52 L1183.97 1938.05 Q1181.84 1941.3 1179 1942.89 Q1176.2 1944.45 1172.48 1944.45 Q1166.34 1944.45 1163.15 1940.63 Q1159.97 1936.81 1159.97 1929.46 M1174.71 1907.02 L1174.71 1907.02 Z\" fill=\"#000000\" fill-rule=\"nonzero\" fill-opacity=\"1\" /><path clip-path=\"url(#clip020)\" d=\"M1229.64 1914.72 Q1231.84 1910.77 1234.89 1908.89 Q1237.95 1907.02 1242.09 1907.02 Q1247.66 1907.02 1250.68 1910.93 Q1253.71 1914.81 1253.71 1922.01 L1253.71 1943.52 L1247.82 1943.52 L1247.82 1922.2 Q1247.82 1917.07 1246 1914.59 Q1244.19 1912.11 1240.46 1912.11 Q1235.91 1912.11 1233.27 1915.13 Q1230.63 1918.16 1230.63 1923.38 L1230.63 1943.52 L1224.74 1943.52 L1224.74 1922.2 Q1224.74 1917.04 1222.93 1914.59 Q1221.11 1912.11 1217.33 1912.11 Q1212.84 1912.11 1210.2 1915.16 Q1207.55 1918.19 1207.55 1923.38 L1207.55 1943.52 L1201.67 1943.52 L1201.67 1907.88 L1207.55 1907.88 L1207.55 1913.41 Q1209.56 1910.14 1212.36 1908.58 Q1215.16 1907.02 1219.01 1907.02 Q1222.9 1907.02 1225.6 1908.99 Q1228.34 1910.96 1229.64 1914.72 Z\" fill=\"#000000\" fill-rule=\"nonzero\" fill-opacity=\"1\" /><path clip-path=\"url(#clip020)\" d=\"M1290.98 1925.73 Q1290.98 1919.27 1288.3 1915.61 Q1285.66 1911.92 1281.01 1911.92 Q1276.37 1911.92 1273.69 1915.61 Q1271.05 1919.27 1271.05 1925.73 Q1271.05 1932.19 1273.69 1935.88 Q1276.37 1939.55 1281.01 1939.55 Q1285.66 1939.55 1288.3 1935.88 Q1290.98 1932.19 1290.98 1925.73 M1271.05 1913.29 Q1272.9 1910.1 1275.7 1908.58 Q1278.53 1907.02 1282.45 1907.02 Q1288.94 1907.02 1292.98 1912.17 Q1297.06 1917.33 1297.06 1925.73 Q1297.06 1934.13 1292.98 1939.29 Q1288.94 1944.45 1282.45 1944.45 Q1278.53 1944.45 1275.7 1942.92 Q1272.9 1941.36 1271.05 1938.18 L1271.05 1943.52 L1265.16 1943.52 L1265.16 1894 L1271.05 1894 L1271.05 1913.29 Z\" fill=\"#000000\" fill-rule=\"nonzero\" fill-opacity=\"1\" /><path clip-path=\"url(#clip020)\" d=\"M1337.26 1924.24 L1337.26 1927.1 L1310.33 1927.1 Q1310.71 1933.15 1313.96 1936.33 Q1317.24 1939.48 1323.06 1939.48 Q1326.43 1939.48 1329.58 1938.65 Q1332.77 1937.83 1335.89 1936.17 L1335.89 1941.71 Q1332.74 1943.05 1329.43 1943.75 Q1326.12 1944.45 1322.71 1944.45 Q1314.18 1944.45 1309.18 1939.48 Q1304.22 1934.52 1304.22 1926.05 Q1304.22 1917.3 1308.93 1912.17 Q1313.67 1907.02 1321.69 1907.02 Q1328.88 1907.02 1333.05 1911.66 Q1337.26 1916.28 1337.26 1924.24 M1331.4 1922.52 Q1331.34 1917.71 1328.69 1914.85 Q1326.08 1911.98 1321.75 1911.98 Q1316.85 1911.98 1313.89 1914.75 Q1310.96 1917.52 1310.52 1922.55 L1331.4 1922.52 Z\" fill=\"#000000\" fill-rule=\"nonzero\" fill-opacity=\"1\" /><path clip-path=\"url(#clip020)\" d=\"M1367.52 1913.35 Q1366.54 1912.78 1365.36 1912.52 Q1364.21 1912.24 1362.81 1912.24 Q1357.85 1912.24 1355.17 1915.48 Q1352.53 1918.7 1352.53 1924.75 L1352.53 1943.52 L1346.64 1943.52 L1346.64 1907.88 L1352.53 1907.88 L1352.53 1913.41 Q1354.38 1910.17 1357.34 1908.61 Q1360.3 1907.02 1364.53 1907.02 Q1365.14 1907.02 1365.87 1907.11 Q1366.6 1907.18 1367.49 1907.33 L1367.52 1913.35 Z\" fill=\"#000000\" fill-rule=\"nonzero\" fill-opacity=\"1\" /><path clip-path=\"url(#clip020)\" d=\"M1408.2 1911.98 Q1403.49 1911.98 1400.75 1915.67 Q1398.02 1919.33 1398.02 1925.73 Q1398.02 1932.13 1400.72 1935.82 Q1403.46 1939.48 1408.2 1939.48 Q1412.88 1939.48 1415.62 1935.79 Q1418.35 1932.1 1418.35 1925.73 Q1418.35 1919.4 1415.62 1915.71 Q1412.88 1911.98 1408.2 1911.98 M1408.2 1907.02 Q1415.84 1907.02 1420.2 1911.98 Q1424.56 1916.95 1424.56 1925.73 Q1424.56 1934.48 1420.2 1939.48 Q1415.84 1944.45 1408.2 1944.45 Q1400.53 1944.45 1396.17 1939.48 Q1391.84 1934.48 1391.84 1925.73 Q1391.84 1916.95 1396.17 1911.98 Q1400.53 1907.02 1408.2 1907.02 Z\" fill=\"#000000\" fill-rule=\"nonzero\" fill-opacity=\"1\" /><path clip-path=\"url(#clip020)\" d=\"M1452.32 1894 L1452.32 1898.87 L1446.71 1898.87 Q1443.56 1898.87 1442.32 1900.14 Q1441.11 1901.41 1441.11 1904.72 L1441.11 1907.88 L1450.76 1907.88 L1450.76 1912.43 L1441.11 1912.43 L1441.11 1943.52 L1435.22 1943.52 L1435.22 1912.43 L1429.62 1912.43 L1429.62 1907.88 L1435.22 1907.88 L1435.22 1905.39 Q1435.22 1899.44 1437.99 1896.74 Q1440.76 1894 1446.78 1894 L1452.32 1894 Z\" fill=\"#000000\" fill-rule=\"nonzero\" fill-opacity=\"1\" /><path clip-path=\"url(#clip020)\" d=\"M1498.59 1913.35 Q1497.61 1912.78 1496.43 1912.52 Q1495.28 1912.24 1493.88 1912.24 Q1488.92 1912.24 1486.24 1915.48 Q1483.6 1918.7 1483.6 1924.75 L1483.6 1943.52 L1477.71 1943.52 L1477.71 1907.88 L1483.6 1907.88 L1483.6 1913.41 Q1485.45 1910.17 1488.41 1908.61 Q1491.37 1907.02 1495.6 1907.02 Q1496.21 1907.02 1496.94 1907.11 Q1497.67 1907.18 1498.56 1907.33 L1498.59 1913.35 Z\" fill=\"#000000\" fill-rule=\"nonzero\" fill-opacity=\"1\" /><path clip-path=\"url(#clip020)\" d=\"M1517.12 1911.98 Q1512.41 1911.98 1509.67 1915.67 Q1506.93 1919.33 1506.93 1925.73 Q1506.93 1932.13 1509.64 1935.82 Q1512.38 1939.48 1517.12 1939.48 Q1521.8 1939.48 1524.53 1935.79 Q1527.27 1932.1 1527.27 1925.73 Q1527.27 1919.4 1524.53 1915.71 Q1521.8 1911.98 1517.12 1911.98 M1517.12 1907.02 Q1524.76 1907.02 1529.12 1911.98 Q1533.48 1916.95 1533.48 1925.73 Q1533.48 1934.48 1529.12 1939.48 Q1524.76 1944.45 1517.12 1944.45 Q1509.45 1944.45 1505.09 1939.48 Q1500.76 1934.48 1500.76 1925.73 Q1500.76 1916.95 1505.09 1911.98 Q1509.45 1907.02 1517.12 1907.02 Z\" fill=\"#000000\" fill-rule=\"nonzero\" fill-opacity=\"1\" /><path clip-path=\"url(#clip020)\" d=\"M1539.78 1907.88 L1545.64 1907.88 L1552.96 1935.69 L1560.25 1907.88 L1567.15 1907.88 L1574.47 1935.69 L1581.76 1907.88 L1587.62 1907.88 L1578.29 1943.52 L1571.39 1943.52 L1563.72 1914.31 L1556.01 1943.52 L1549.11 1943.52 L1539.78 1907.88 Z\" fill=\"#000000\" fill-rule=\"nonzero\" fill-opacity=\"1\" /><path clip-path=\"url(#clip020)\" d=\"M1619.22 1908.93 L1619.22 1914.46 Q1616.74 1913.19 1614.07 1912.55 Q1611.39 1911.92 1608.53 1911.92 Q1604.17 1911.92 1601.97 1913.25 Q1599.81 1914.59 1599.81 1917.27 Q1599.81 1919.3 1601.37 1920.48 Q1602.93 1921.63 1607.64 1922.68 L1609.64 1923.12 Q1615.88 1924.46 1618.49 1926.91 Q1621.13 1929.33 1621.13 1933.69 Q1621.13 1938.65 1617.19 1941.55 Q1613.27 1944.45 1606.4 1944.45 Q1603.53 1944.45 1600.41 1943.87 Q1597.33 1943.33 1593.89 1942.22 L1593.89 1936.17 Q1597.14 1937.86 1600.29 1938.72 Q1603.44 1939.55 1606.52 1939.55 Q1610.66 1939.55 1612.89 1938.14 Q1615.12 1936.71 1615.12 1934.13 Q1615.12 1931.75 1613.5 1930.47 Q1611.9 1929.2 1606.46 1928.02 L1604.42 1927.55 Q1598.98 1926.4 1596.56 1924.04 Q1594.14 1921.66 1594.14 1917.52 Q1594.14 1912.49 1597.71 1909.75 Q1601.27 1907.02 1607.83 1907.02 Q1611.08 1907.02 1613.94 1907.49 Q1616.81 1907.97 1619.22 1908.93 Z\" fill=\"#000000\" fill-rule=\"nonzero\" fill-opacity=\"1\" /><polyline clip-path=\"url(#clip022)\" style=\"stroke:#000000; stroke-linecap:round; stroke-linejoin:round; stroke-width:2; stroke-opacity:0.1; fill:none\" points=\"380.446,1749.1 2352.76,1749.1 \"/>\n",
       "<polyline clip-path=\"url(#clip022)\" style=\"stroke:#000000; stroke-linecap:round; stroke-linejoin:round; stroke-width:2; stroke-opacity:0.1; fill:none\" points=\"380.446,1494.55 2352.76,1494.55 \"/>\n",
       "<polyline clip-path=\"url(#clip022)\" style=\"stroke:#000000; stroke-linecap:round; stroke-linejoin:round; stroke-width:2; stroke-opacity:0.1; fill:none\" points=\"380.446,1239.99 2352.76,1239.99 \"/>\n",
       "<polyline clip-path=\"url(#clip022)\" style=\"stroke:#000000; stroke-linecap:round; stroke-linejoin:round; stroke-width:2; stroke-opacity:0.1; fill:none\" points=\"380.446,985.441 2352.76,985.441 \"/>\n",
       "<polyline clip-path=\"url(#clip022)\" style=\"stroke:#000000; stroke-linecap:round; stroke-linejoin:round; stroke-width:2; stroke-opacity:0.1; fill:none\" points=\"380.446,730.888 2352.76,730.888 \"/>\n",
       "<polyline clip-path=\"url(#clip022)\" style=\"stroke:#000000; stroke-linecap:round; stroke-linejoin:round; stroke-width:2; stroke-opacity:0.1; fill:none\" points=\"380.446,476.335 2352.76,476.335 \"/>\n",
       "<polyline clip-path=\"url(#clip022)\" style=\"stroke:#000000; stroke-linecap:round; stroke-linejoin:round; stroke-width:2; stroke-opacity:0.1; fill:none\" points=\"380.446,221.783 2352.76,221.783 \"/>\n",
       "<polyline clip-path=\"url(#clip020)\" style=\"stroke:#000000; stroke-linecap:round; stroke-linejoin:round; stroke-width:4; stroke-opacity:1; fill:none\" points=\"380.446,1798.66 380.446,47.2441 \"/>\n",
       "<polyline clip-path=\"url(#clip020)\" style=\"stroke:#000000; stroke-linecap:round; stroke-linejoin:round; stroke-width:4; stroke-opacity:1; fill:none\" points=\"380.446,1749.1 399.344,1749.1 \"/>\n",
       "<polyline clip-path=\"url(#clip020)\" style=\"stroke:#000000; stroke-linecap:round; stroke-linejoin:round; stroke-width:4; stroke-opacity:1; fill:none\" points=\"380.446,1494.55 399.344,1494.55 \"/>\n",
       "<polyline clip-path=\"url(#clip020)\" style=\"stroke:#000000; stroke-linecap:round; stroke-linejoin:round; stroke-width:4; stroke-opacity:1; fill:none\" points=\"380.446,1239.99 399.344,1239.99 \"/>\n",
       "<polyline clip-path=\"url(#clip020)\" style=\"stroke:#000000; stroke-linecap:round; stroke-linejoin:round; stroke-width:4; stroke-opacity:1; fill:none\" points=\"380.446,985.441 399.344,985.441 \"/>\n",
       "<polyline clip-path=\"url(#clip020)\" style=\"stroke:#000000; stroke-linecap:round; stroke-linejoin:round; stroke-width:4; stroke-opacity:1; fill:none\" points=\"380.446,730.888 399.344,730.888 \"/>\n",
       "<polyline clip-path=\"url(#clip020)\" style=\"stroke:#000000; stroke-linecap:round; stroke-linejoin:round; stroke-width:4; stroke-opacity:1; fill:none\" points=\"380.446,476.335 399.344,476.335 \"/>\n",
       "<polyline clip-path=\"url(#clip020)\" style=\"stroke:#000000; stroke-linecap:round; stroke-linejoin:round; stroke-width:4; stroke-opacity:1; fill:none\" points=\"380.446,221.783 399.344,221.783 \"/>\n",
       "<path clip-path=\"url(#clip020)\" d=\"M332.502 1734.9 Q328.891 1734.9 327.062 1738.46 Q325.257 1742 325.257 1749.13 Q325.257 1756.24 327.062 1759.81 Q328.891 1763.35 332.502 1763.35 Q336.136 1763.35 337.942 1759.81 Q339.77 1756.24 339.77 1749.13 Q339.77 1742 337.942 1738.46 Q336.136 1734.9 332.502 1734.9 M332.502 1731.19 Q338.312 1731.19 341.368 1735.8 Q344.446 1740.38 344.446 1749.13 Q344.446 1757.86 341.368 1762.47 Q338.312 1767.05 332.502 1767.05 Q326.692 1767.05 323.613 1762.47 Q320.558 1757.86 320.558 1749.13 Q320.558 1740.38 323.613 1735.8 Q326.692 1731.19 332.502 1731.19 Z\" fill=\"#000000\" fill-rule=\"nonzero\" fill-opacity=\"1\" /><path clip-path=\"url(#clip020)\" d=\"M132.923 1514.34 L149.242 1514.34 L149.242 1518.27 L127.298 1518.27 L127.298 1514.34 Q129.96 1511.58 134.543 1506.95 Q139.149 1502.3 140.33 1500.96 Q142.575 1498.44 143.455 1496.7 Q144.358 1494.94 144.358 1493.25 Q144.358 1490.5 142.413 1488.76 Q140.492 1487.02 137.39 1487.02 Q135.191 1487.02 132.737 1487.79 Q130.307 1488.55 127.529 1490.1 L127.529 1485.38 Q130.353 1484.25 132.807 1483.67 Q135.26 1483.09 137.298 1483.09 Q142.668 1483.09 145.862 1485.77 Q149.057 1488.46 149.057 1492.95 Q149.057 1495.08 148.247 1497 Q147.459 1498.9 145.353 1501.49 Q144.774 1502.16 141.672 1505.38 Q138.571 1508.57 132.923 1514.34 Z\" fill=\"#000000\" fill-rule=\"nonzero\" fill-opacity=\"1\" /><path clip-path=\"url(#clip020)\" d=\"M159.057 1512.39 L163.941 1512.39 L163.941 1518.27 L159.057 1518.27 L159.057 1512.39 Z\" fill=\"#000000\" fill-rule=\"nonzero\" fill-opacity=\"1\" /><path clip-path=\"url(#clip020)\" d=\"M184.126 1486.79 Q180.515 1486.79 178.686 1490.36 Q176.881 1493.9 176.881 1501.03 Q176.881 1508.14 178.686 1511.7 Q180.515 1515.24 184.126 1515.24 Q187.76 1515.24 189.566 1511.7 Q191.394 1508.14 191.394 1501.03 Q191.394 1493.9 189.566 1490.36 Q187.76 1486.79 184.126 1486.79 M184.126 1483.09 Q189.936 1483.09 192.992 1487.7 Q196.07 1492.28 196.07 1501.03 Q196.07 1509.76 192.992 1514.36 Q189.936 1518.95 184.126 1518.95 Q178.316 1518.95 175.237 1514.36 Q172.182 1509.76 172.182 1501.03 Q172.182 1492.28 175.237 1487.7 Q178.316 1483.09 184.126 1483.09 Z\" fill=\"#000000\" fill-rule=\"nonzero\" fill-opacity=\"1\" /><path clip-path=\"url(#clip020)\" d=\"M214.288 1486.79 Q210.677 1486.79 208.848 1490.36 Q207.043 1493.9 207.043 1501.03 Q207.043 1508.14 208.848 1511.7 Q210.677 1515.24 214.288 1515.24 Q217.922 1515.24 219.728 1511.7 Q221.556 1508.14 221.556 1501.03 Q221.556 1493.9 219.728 1490.36 Q217.922 1486.79 214.288 1486.79 M214.288 1483.09 Q220.098 1483.09 223.154 1487.7 Q226.232 1492.28 226.232 1501.03 Q226.232 1509.76 223.154 1514.36 Q220.098 1518.95 214.288 1518.95 Q208.478 1518.95 205.399 1514.36 Q202.343 1509.76 202.343 1501.03 Q202.343 1492.28 205.399 1487.7 Q208.478 1483.09 214.288 1483.09 Z\" fill=\"#000000\" fill-rule=\"nonzero\" fill-opacity=\"1\" /><path clip-path=\"url(#clip020)\" d=\"M262.621 1492.81 L252.042 1503.44 L262.621 1514.01 L259.866 1516.82 L249.241 1506.19 L238.616 1516.82 L235.885 1514.01 L246.44 1503.44 L235.885 1492.81 L238.616 1490.01 L249.241 1500.64 L259.866 1490.01 L262.621 1492.81 Z\" fill=\"#000000\" fill-rule=\"nonzero\" fill-opacity=\"1\" /><path clip-path=\"url(#clip020)\" d=\"M274.982 1514.34 L282.621 1514.34 L282.621 1487.97 L274.311 1489.64 L274.311 1485.38 L282.575 1483.71 L287.25 1483.71 L287.25 1514.34 L294.889 1514.34 L294.889 1518.27 L274.982 1518.27 L274.982 1514.34 Z\" fill=\"#000000\" fill-rule=\"nonzero\" fill-opacity=\"1\" /><path clip-path=\"url(#clip020)\" d=\"M314.334 1486.79 Q310.723 1486.79 308.894 1490.36 Q307.088 1493.9 307.088 1501.03 Q307.088 1508.14 308.894 1511.7 Q310.723 1515.24 314.334 1515.24 Q317.968 1515.24 319.773 1511.7 Q321.602 1508.14 321.602 1501.03 Q321.602 1493.9 319.773 1490.36 Q317.968 1486.79 314.334 1486.79 M314.334 1483.09 Q320.144 1483.09 323.199 1487.7 Q326.278 1492.28 326.278 1501.03 Q326.278 1509.76 323.199 1514.36 Q320.144 1518.95 314.334 1518.95 Q308.523 1518.95 305.445 1514.36 Q302.389 1509.76 302.389 1501.03 Q302.389 1492.28 305.445 1487.7 Q308.523 1483.09 314.334 1483.09 Z\" fill=\"#000000\" fill-rule=\"nonzero\" fill-opacity=\"1\" /><path clip-path=\"url(#clip020)\" d=\"M327.463 1462.78 L342.377 1462.78 L342.377 1465.98 L330.942 1465.98 L330.942 1472.86 Q331.77 1472.58 332.597 1472.45 Q333.425 1472.3 334.252 1472.3 Q338.954 1472.3 341.7 1474.88 Q344.446 1477.45 344.446 1481.85 Q344.446 1486.39 341.625 1488.91 Q338.804 1491.41 333.669 1491.41 Q331.901 1491.41 330.058 1491.11 Q328.234 1490.81 326.278 1490.21 L326.278 1486.39 Q327.971 1487.31 329.776 1487.76 Q331.582 1488.21 333.594 1488.21 Q336.848 1488.21 338.748 1486.5 Q340.647 1484.79 340.647 1481.85 Q340.647 1478.92 338.748 1477.21 Q336.848 1475.5 333.594 1475.5 Q332.071 1475.5 330.547 1475.84 Q329.043 1476.17 327.463 1476.89 L327.463 1462.78 Z\" fill=\"#000000\" fill-rule=\"nonzero\" fill-opacity=\"1\" /><path clip-path=\"url(#clip020)\" d=\"M141.742 1233.24 L129.936 1251.68 L141.742 1251.68 L141.742 1233.24 M140.515 1229.16 L146.395 1229.16 L146.395 1251.68 L151.325 1251.68 L151.325 1255.57 L146.395 1255.57 L146.395 1263.72 L141.742 1263.72 L141.742 1255.57 L126.14 1255.57 L126.14 1251.06 L140.515 1229.16 Z\" fill=\"#000000\" fill-rule=\"nonzero\" fill-opacity=\"1\" /><path clip-path=\"url(#clip020)\" d=\"M159.057 1257.84 L163.941 1257.84 L163.941 1263.72 L159.057 1263.72 L159.057 1257.84 Z\" fill=\"#000000\" fill-rule=\"nonzero\" fill-opacity=\"1\" /><path clip-path=\"url(#clip020)\" d=\"M184.126 1232.24 Q180.515 1232.24 178.686 1235.8 Q176.881 1239.35 176.881 1246.48 Q176.881 1253.58 178.686 1257.15 Q180.515 1260.69 184.126 1260.69 Q187.76 1260.69 189.566 1257.15 Q191.394 1253.58 191.394 1246.48 Q191.394 1239.35 189.566 1235.8 Q187.76 1232.24 184.126 1232.24 M184.126 1228.54 Q189.936 1228.54 192.992 1233.14 Q196.07 1237.73 196.07 1246.48 Q196.07 1255.2 192.992 1259.81 Q189.936 1264.39 184.126 1264.39 Q178.316 1264.39 175.237 1259.81 Q172.182 1255.2 172.182 1246.48 Q172.182 1237.73 175.237 1233.14 Q178.316 1228.54 184.126 1228.54 Z\" fill=\"#000000\" fill-rule=\"nonzero\" fill-opacity=\"1\" /><path clip-path=\"url(#clip020)\" d=\"M214.288 1232.24 Q210.677 1232.24 208.848 1235.8 Q207.043 1239.35 207.043 1246.48 Q207.043 1253.58 208.848 1257.15 Q210.677 1260.69 214.288 1260.69 Q217.922 1260.69 219.728 1257.15 Q221.556 1253.58 221.556 1246.48 Q221.556 1239.35 219.728 1235.8 Q217.922 1232.24 214.288 1232.24 M214.288 1228.54 Q220.098 1228.54 223.154 1233.14 Q226.232 1237.73 226.232 1246.48 Q226.232 1255.2 223.154 1259.81 Q220.098 1264.39 214.288 1264.39 Q208.478 1264.39 205.399 1259.81 Q202.343 1255.2 202.343 1246.48 Q202.343 1237.73 205.399 1233.14 Q208.478 1228.54 214.288 1228.54 Z\" fill=\"#000000\" fill-rule=\"nonzero\" fill-opacity=\"1\" /><path clip-path=\"url(#clip020)\" d=\"M262.621 1238.26 L252.042 1248.88 L262.621 1259.46 L259.866 1262.26 L249.241 1251.64 L238.616 1262.26 L235.885 1259.46 L246.44 1248.88 L235.885 1238.26 L238.616 1235.46 L249.241 1246.08 L259.866 1235.46 L262.621 1238.26 Z\" fill=\"#000000\" fill-rule=\"nonzero\" fill-opacity=\"1\" /><path clip-path=\"url(#clip020)\" d=\"M274.982 1259.79 L282.621 1259.79 L282.621 1233.42 L274.311 1235.09 L274.311 1230.83 L282.575 1229.16 L287.25 1229.16 L287.25 1259.79 L294.889 1259.79 L294.889 1263.72 L274.982 1263.72 L274.982 1259.79 Z\" fill=\"#000000\" fill-rule=\"nonzero\" fill-opacity=\"1\" /><path clip-path=\"url(#clip020)\" d=\"M314.334 1232.24 Q310.723 1232.24 308.894 1235.8 Q307.088 1239.35 307.088 1246.48 Q307.088 1253.58 308.894 1257.15 Q310.723 1260.69 314.334 1260.69 Q317.968 1260.69 319.773 1257.15 Q321.602 1253.58 321.602 1246.48 Q321.602 1239.35 319.773 1235.8 Q317.968 1232.24 314.334 1232.24 M314.334 1228.54 Q320.144 1228.54 323.199 1233.14 Q326.278 1237.73 326.278 1246.48 Q326.278 1255.2 323.199 1259.81 Q320.144 1264.39 314.334 1264.39 Q308.523 1264.39 305.445 1259.81 Q302.389 1255.2 302.389 1246.48 Q302.389 1237.73 305.445 1233.14 Q308.523 1228.54 314.334 1228.54 Z\" fill=\"#000000\" fill-rule=\"nonzero\" fill-opacity=\"1\" /><path clip-path=\"url(#clip020)\" d=\"M327.463 1208.23 L342.377 1208.23 L342.377 1211.43 L330.942 1211.43 L330.942 1218.31 Q331.77 1218.03 332.597 1217.9 Q333.425 1217.75 334.252 1217.75 Q338.954 1217.75 341.7 1220.32 Q344.446 1222.9 344.446 1227.3 Q344.446 1231.83 341.625 1234.35 Q338.804 1236.86 333.669 1236.86 Q331.901 1236.86 330.058 1236.56 Q328.234 1236.25 326.278 1235.65 L326.278 1231.83 Q327.971 1232.76 329.776 1233.21 Q331.582 1233.66 333.594 1233.66 Q336.848 1233.66 338.748 1231.95 Q340.647 1230.24 340.647 1227.3 Q340.647 1224.37 338.748 1222.66 Q336.848 1220.94 333.594 1220.94 Q332.071 1220.94 330.547 1221.28 Q329.043 1221.62 327.463 1222.34 L327.463 1208.23 Z\" fill=\"#000000\" fill-rule=\"nonzero\" fill-opacity=\"1\" /><path clip-path=\"url(#clip020)\" d=\"M139.473 990.025 Q136.325 990.025 134.473 992.178 Q132.645 994.331 132.645 998.081 Q132.645 1001.81 134.473 1003.98 Q136.325 1006.14 139.473 1006.14 Q142.622 1006.14 144.45 1003.98 Q146.302 1001.81 146.302 998.081 Q146.302 994.331 144.45 992.178 Q142.622 990.025 139.473 990.025 M148.756 975.372 L148.756 979.632 Q146.997 978.798 145.191 978.358 Q143.409 977.919 141.649 977.919 Q137.02 977.919 134.566 981.044 Q132.135 984.169 131.788 990.488 Q133.154 988.474 135.214 987.409 Q137.274 986.321 139.751 986.321 Q144.96 986.321 147.969 989.493 Q151.001 992.641 151.001 998.081 Q151.001 1003.4 147.853 1006.62 Q144.705 1009.84 139.473 1009.84 Q133.478 1009.84 130.307 1005.26 Q127.136 1000.65 127.136 991.923 Q127.136 983.729 131.024 978.868 Q134.913 973.983 141.464 973.983 Q143.223 973.983 145.006 974.331 Q146.811 974.678 148.756 975.372 Z\" fill=\"#000000\" fill-rule=\"nonzero\" fill-opacity=\"1\" /><path clip-path=\"url(#clip020)\" d=\"M159.057 1003.29 L163.941 1003.29 L163.941 1009.17 L159.057 1009.17 L159.057 1003.29 Z\" fill=\"#000000\" fill-rule=\"nonzero\" fill-opacity=\"1\" /><path clip-path=\"url(#clip020)\" d=\"M184.126 977.687 Q180.515 977.687 178.686 981.252 Q176.881 984.794 176.881 991.923 Q176.881 999.03 178.686 1002.59 Q180.515 1006.14 184.126 1006.14 Q187.76 1006.14 189.566 1002.59 Q191.394 999.03 191.394 991.923 Q191.394 984.794 189.566 981.252 Q187.76 977.687 184.126 977.687 M184.126 973.983 Q189.936 973.983 192.992 978.59 Q196.07 983.173 196.07 991.923 Q196.07 1000.65 192.992 1005.26 Q189.936 1009.84 184.126 1009.84 Q178.316 1009.84 175.237 1005.26 Q172.182 1000.65 172.182 991.923 Q172.182 983.173 175.237 978.59 Q178.316 973.983 184.126 973.983 Z\" fill=\"#000000\" fill-rule=\"nonzero\" fill-opacity=\"1\" /><path clip-path=\"url(#clip020)\" d=\"M214.288 977.687 Q210.677 977.687 208.848 981.252 Q207.043 984.794 207.043 991.923 Q207.043 999.03 208.848 1002.59 Q210.677 1006.14 214.288 1006.14 Q217.922 1006.14 219.728 1002.59 Q221.556 999.03 221.556 991.923 Q221.556 984.794 219.728 981.252 Q217.922 977.687 214.288 977.687 M214.288 973.983 Q220.098 973.983 223.154 978.59 Q226.232 983.173 226.232 991.923 Q226.232 1000.65 223.154 1005.26 Q220.098 1009.84 214.288 1009.84 Q208.478 1009.84 205.399 1005.26 Q202.343 1000.65 202.343 991.923 Q202.343 983.173 205.399 978.59 Q208.478 973.983 214.288 973.983 Z\" fill=\"#000000\" fill-rule=\"nonzero\" fill-opacity=\"1\" /><path clip-path=\"url(#clip020)\" d=\"M262.621 983.706 L252.042 994.331 L262.621 1004.91 L259.866 1007.71 L249.241 997.085 L238.616 1007.71 L235.885 1004.91 L246.44 994.331 L235.885 983.706 L238.616 980.905 L249.241 991.53 L259.866 980.905 L262.621 983.706 Z\" fill=\"#000000\" fill-rule=\"nonzero\" fill-opacity=\"1\" /><path clip-path=\"url(#clip020)\" d=\"M274.982 1005.23 L282.621 1005.23 L282.621 978.868 L274.311 980.534 L274.311 976.275 L282.575 974.608 L287.25 974.608 L287.25 1005.23 L294.889 1005.23 L294.889 1009.17 L274.982 1009.17 L274.982 1005.23 Z\" fill=\"#000000\" fill-rule=\"nonzero\" fill-opacity=\"1\" /><path clip-path=\"url(#clip020)\" d=\"M314.334 977.687 Q310.723 977.687 308.894 981.252 Q307.088 984.794 307.088 991.923 Q307.088 999.03 308.894 1002.59 Q310.723 1006.14 314.334 1006.14 Q317.968 1006.14 319.773 1002.59 Q321.602 999.03 321.602 991.923 Q321.602 984.794 319.773 981.252 Q317.968 977.687 314.334 977.687 M314.334 973.983 Q320.144 973.983 323.199 978.59 Q326.278 983.173 326.278 991.923 Q326.278 1000.65 323.199 1005.26 Q320.144 1009.84 314.334 1009.84 Q308.523 1009.84 305.445 1005.26 Q302.389 1000.65 302.389 991.923 Q302.389 983.173 305.445 978.59 Q308.523 973.983 314.334 973.983 Z\" fill=\"#000000\" fill-rule=\"nonzero\" fill-opacity=\"1\" /><path clip-path=\"url(#clip020)\" d=\"M327.463 953.678 L342.377 953.678 L342.377 956.875 L330.942 956.875 L330.942 963.759 Q331.77 963.477 332.597 963.345 Q333.425 963.195 334.252 963.195 Q338.954 963.195 341.7 965.771 Q344.446 968.348 344.446 972.749 Q344.446 977.282 341.625 979.802 Q338.804 982.303 333.669 982.303 Q331.901 982.303 330.058 982.003 Q328.234 981.702 326.278 981.1 L326.278 977.282 Q327.971 978.203 329.776 978.655 Q331.582 979.106 333.594 979.106 Q336.848 979.106 338.748 977.395 Q340.647 975.683 340.647 972.749 Q340.647 969.815 338.748 968.104 Q336.848 966.392 333.594 966.392 Q332.071 966.392 330.547 966.731 Q329.043 967.069 327.463 967.784 L327.463 953.678 Z\" fill=\"#000000\" fill-rule=\"nonzero\" fill-opacity=\"1\" /><path clip-path=\"url(#clip020)\" d=\"M138.895 738.204 Q135.561 738.204 133.64 739.986 Q131.742 741.769 131.742 744.894 Q131.742 748.019 133.64 749.801 Q135.561 751.583 138.895 751.583 Q142.228 751.583 144.149 749.801 Q146.071 747.995 146.071 744.894 Q146.071 741.769 144.149 739.986 Q142.251 738.204 138.895 738.204 M134.219 736.213 Q131.21 735.472 129.52 733.412 Q127.853 731.352 127.853 728.389 Q127.853 724.245 130.793 721.838 Q133.756 719.431 138.895 719.431 Q144.057 719.431 146.997 721.838 Q149.936 724.245 149.936 728.389 Q149.936 731.352 148.247 733.412 Q146.58 735.472 143.594 736.213 Q146.973 737 148.848 739.292 Q150.747 741.583 150.747 744.894 Q150.747 749.917 147.668 752.602 Q144.612 755.287 138.895 755.287 Q133.177 755.287 130.098 752.602 Q127.043 749.917 127.043 744.894 Q127.043 741.583 128.941 739.292 Q130.839 737 134.219 736.213 M132.506 728.829 Q132.506 731.514 134.173 733.019 Q135.862 734.523 138.895 734.523 Q141.904 734.523 143.594 733.019 Q145.307 731.514 145.307 728.829 Q145.307 726.144 143.594 724.639 Q141.904 723.134 138.895 723.134 Q135.862 723.134 134.173 724.639 Q132.506 726.144 132.506 728.829 Z\" fill=\"#000000\" fill-rule=\"nonzero\" fill-opacity=\"1\" /><path clip-path=\"url(#clip020)\" d=\"M159.057 748.736 L163.941 748.736 L163.941 754.616 L159.057 754.616 L159.057 748.736 Z\" fill=\"#000000\" fill-rule=\"nonzero\" fill-opacity=\"1\" /><path clip-path=\"url(#clip020)\" d=\"M184.126 723.134 Q180.515 723.134 178.686 726.699 Q176.881 730.241 176.881 737.37 Q176.881 744.477 178.686 748.042 Q180.515 751.583 184.126 751.583 Q187.76 751.583 189.566 748.042 Q191.394 744.477 191.394 737.37 Q191.394 730.241 189.566 726.699 Q187.76 723.134 184.126 723.134 M184.126 719.431 Q189.936 719.431 192.992 724.037 Q196.07 728.62 196.07 737.37 Q196.07 746.097 192.992 750.704 Q189.936 755.287 184.126 755.287 Q178.316 755.287 175.237 750.704 Q172.182 746.097 172.182 737.37 Q172.182 728.62 175.237 724.037 Q178.316 719.431 184.126 719.431 Z\" fill=\"#000000\" fill-rule=\"nonzero\" fill-opacity=\"1\" /><path clip-path=\"url(#clip020)\" d=\"M214.288 723.134 Q210.677 723.134 208.848 726.699 Q207.043 730.241 207.043 737.37 Q207.043 744.477 208.848 748.042 Q210.677 751.583 214.288 751.583 Q217.922 751.583 219.728 748.042 Q221.556 744.477 221.556 737.37 Q221.556 730.241 219.728 726.699 Q217.922 723.134 214.288 723.134 M214.288 719.431 Q220.098 719.431 223.154 724.037 Q226.232 728.62 226.232 737.37 Q226.232 746.097 223.154 750.704 Q220.098 755.287 214.288 755.287 Q208.478 755.287 205.399 750.704 Q202.343 746.097 202.343 737.37 Q202.343 728.62 205.399 724.037 Q208.478 719.431 214.288 719.431 Z\" fill=\"#000000\" fill-rule=\"nonzero\" fill-opacity=\"1\" /><path clip-path=\"url(#clip020)\" d=\"M262.621 729.153 L252.042 739.778 L262.621 750.356 L259.866 753.157 L249.241 742.532 L238.616 753.157 L235.885 750.356 L246.44 739.778 L235.885 729.153 L238.616 726.352 L249.241 736.977 L259.866 726.352 L262.621 729.153 Z\" fill=\"#000000\" fill-rule=\"nonzero\" fill-opacity=\"1\" /><path clip-path=\"url(#clip020)\" d=\"M274.982 750.681 L282.621 750.681 L282.621 724.315 L274.311 725.982 L274.311 721.722 L282.575 720.056 L287.25 720.056 L287.25 750.681 L294.889 750.681 L294.889 754.616 L274.982 754.616 L274.982 750.681 Z\" fill=\"#000000\" fill-rule=\"nonzero\" fill-opacity=\"1\" /><path clip-path=\"url(#clip020)\" d=\"M314.334 723.134 Q310.723 723.134 308.894 726.699 Q307.088 730.241 307.088 737.37 Q307.088 744.477 308.894 748.042 Q310.723 751.583 314.334 751.583 Q317.968 751.583 319.773 748.042 Q321.602 744.477 321.602 737.37 Q321.602 730.241 319.773 726.699 Q317.968 723.134 314.334 723.134 M314.334 719.431 Q320.144 719.431 323.199 724.037 Q326.278 728.62 326.278 737.37 Q326.278 746.097 323.199 750.704 Q320.144 755.287 314.334 755.287 Q308.523 755.287 305.445 750.704 Q302.389 746.097 302.389 737.37 Q302.389 728.62 305.445 724.037 Q308.523 719.431 314.334 719.431 Z\" fill=\"#000000\" fill-rule=\"nonzero\" fill-opacity=\"1\" /><path clip-path=\"url(#clip020)\" d=\"M327.463 699.125 L342.377 699.125 L342.377 702.323 L330.942 702.323 L330.942 709.206 Q331.77 708.924 332.597 708.792 Q333.425 708.642 334.252 708.642 Q338.954 708.642 341.7 711.219 Q344.446 713.795 344.446 718.196 Q344.446 722.729 341.625 725.249 Q338.804 727.751 333.669 727.751 Q331.901 727.751 330.058 727.45 Q328.234 727.149 326.278 726.547 L326.278 722.729 Q327.971 723.651 329.776 724.102 Q331.582 724.553 333.594 724.553 Q336.848 724.553 338.748 722.842 Q340.647 721.13 340.647 718.196 Q340.647 715.262 338.748 713.551 Q336.848 711.839 333.594 711.839 Q332.071 711.839 330.547 712.178 Q329.043 712.516 327.463 713.231 L327.463 699.125 Z\" fill=\"#000000\" fill-rule=\"nonzero\" fill-opacity=\"1\" /><path clip-path=\"url(#clip020)\" d=\"M128.482 496.128 L136.121 496.128 L136.121 469.762 L127.811 471.429 L127.811 467.17 L136.075 465.503 L140.751 465.503 L140.751 496.128 L148.39 496.128 L148.39 500.063 L128.482 500.063 L128.482 496.128 Z\" fill=\"#000000\" fill-rule=\"nonzero\" fill-opacity=\"1\" /><path clip-path=\"url(#clip020)\" d=\"M157.834 494.183 L162.718 494.183 L162.718 500.063 L157.834 500.063 L157.834 494.183 Z\" fill=\"#000000\" fill-rule=\"nonzero\" fill-opacity=\"1\" /><path clip-path=\"url(#clip020)\" d=\"M182.903 468.582 Q179.292 468.582 177.464 472.146 Q175.658 475.688 175.658 482.818 Q175.658 489.924 177.464 493.489 Q179.292 497.031 182.903 497.031 Q186.538 497.031 188.343 493.489 Q190.172 489.924 190.172 482.818 Q190.172 475.688 188.343 472.146 Q186.538 468.582 182.903 468.582 M182.903 464.878 Q188.714 464.878 191.769 469.484 Q194.848 474.068 194.848 482.818 Q194.848 491.544 191.769 496.151 Q188.714 500.734 182.903 500.734 Q177.093 500.734 174.015 496.151 Q170.959 491.544 170.959 482.818 Q170.959 474.068 174.015 469.484 Q177.093 464.878 182.903 464.878 Z\" fill=\"#000000\" fill-rule=\"nonzero\" fill-opacity=\"1\" /><path clip-path=\"url(#clip020)\" d=\"M213.065 468.582 Q209.454 468.582 207.626 472.146 Q205.82 475.688 205.82 482.818 Q205.82 489.924 207.626 493.489 Q209.454 497.031 213.065 497.031 Q216.7 497.031 218.505 493.489 Q220.334 489.924 220.334 482.818 Q220.334 475.688 218.505 472.146 Q216.7 468.582 213.065 468.582 M213.065 464.878 Q218.875 464.878 221.931 469.484 Q225.01 474.068 225.01 482.818 Q225.01 491.544 221.931 496.151 Q218.875 500.734 213.065 500.734 Q207.255 500.734 204.176 496.151 Q201.121 491.544 201.121 482.818 Q201.121 474.068 204.176 469.484 Q207.255 464.878 213.065 464.878 Z\" fill=\"#000000\" fill-rule=\"nonzero\" fill-opacity=\"1\" /><path clip-path=\"url(#clip020)\" d=\"M261.398 474.6 L250.82 485.225 L261.398 495.804 L258.644 498.605 L248.019 487.98 L237.394 498.605 L234.662 495.804 L245.218 485.225 L234.662 474.6 L237.394 471.799 L248.019 482.424 L258.644 471.799 L261.398 474.6 Z\" fill=\"#000000\" fill-rule=\"nonzero\" fill-opacity=\"1\" /><path clip-path=\"url(#clip020)\" d=\"M273.759 496.128 L281.398 496.128 L281.398 469.762 L273.088 471.429 L273.088 467.17 L281.352 465.503 L286.028 465.503 L286.028 496.128 L293.667 496.128 L293.667 500.063 L273.759 500.063 L273.759 496.128 Z\" fill=\"#000000\" fill-rule=\"nonzero\" fill-opacity=\"1\" /><path clip-path=\"url(#clip020)\" d=\"M313.111 468.582 Q309.5 468.582 307.671 472.146 Q305.866 475.688 305.866 482.818 Q305.866 489.924 307.671 493.489 Q309.5 497.031 313.111 497.031 Q316.745 497.031 318.551 493.489 Q320.38 489.924 320.38 482.818 Q320.38 475.688 318.551 472.146 Q316.745 468.582 313.111 468.582 M313.111 464.878 Q318.921 464.878 321.977 469.484 Q325.055 474.068 325.055 482.818 Q325.055 491.544 321.977 496.151 Q318.921 500.734 313.111 500.734 Q307.301 500.734 304.222 496.151 Q301.167 491.544 301.167 482.818 Q301.167 474.068 304.222 469.484 Q307.301 464.878 313.111 464.878 Z\" fill=\"#000000\" fill-rule=\"nonzero\" fill-opacity=\"1\" /><path clip-path=\"url(#clip020)\" d=\"M335.08 457.099 Q332.522 457.099 331.018 458.848 Q329.532 460.597 329.532 463.644 Q329.532 466.672 331.018 468.44 Q332.522 470.189 335.08 470.189 Q337.638 470.189 339.124 468.44 Q340.628 466.672 340.628 463.644 Q340.628 460.597 339.124 458.848 Q337.638 457.099 335.08 457.099 M342.622 445.193 L342.622 448.654 Q341.193 447.977 339.726 447.619 Q338.277 447.262 336.848 447.262 Q333.086 447.262 331.093 449.801 Q329.118 452.34 328.836 457.475 Q329.945 455.838 331.619 454.973 Q333.293 454.089 335.306 454.089 Q339.537 454.089 341.982 456.666 Q344.446 459.224 344.446 463.644 Q344.446 467.969 341.888 470.584 Q339.331 473.198 335.08 473.198 Q330.209 473.198 327.632 469.474 Q325.055 465.731 325.055 458.641 Q325.055 451.983 328.215 448.033 Q331.375 444.065 336.697 444.065 Q338.127 444.065 339.575 444.347 Q341.042 444.629 342.622 445.193 Z\" fill=\"#000000\" fill-rule=\"nonzero\" fill-opacity=\"1\" /><path clip-path=\"url(#clip020)\" d=\"M128.482 241.575 L136.121 241.575 L136.121 215.209 L127.811 216.876 L127.811 212.617 L136.075 210.95 L140.751 210.95 L140.751 241.575 L148.39 241.575 L148.39 245.51 L128.482 245.51 L128.482 241.575 Z\" fill=\"#000000\" fill-rule=\"nonzero\" fill-opacity=\"1\" /><path clip-path=\"url(#clip020)\" d=\"M157.834 239.631 L162.718 239.631 L162.718 245.51 L157.834 245.51 L157.834 239.631 Z\" fill=\"#000000\" fill-rule=\"nonzero\" fill-opacity=\"1\" /><path clip-path=\"url(#clip020)\" d=\"M176.931 241.575 L193.251 241.575 L193.251 245.51 L171.306 245.51 L171.306 241.575 Q173.968 238.82 178.552 234.191 Q183.158 229.538 184.339 228.195 Q186.584 225.672 187.464 223.936 Q188.366 222.177 188.366 220.487 Q188.366 217.733 186.422 215.996 Q184.501 214.26 181.399 214.26 Q179.2 214.26 176.746 215.024 Q174.316 215.788 171.538 217.339 L171.538 212.617 Q174.362 211.483 176.816 210.904 Q179.269 210.325 181.306 210.325 Q186.677 210.325 189.871 213.01 Q193.065 215.696 193.065 220.186 Q193.065 222.316 192.255 224.237 Q191.468 226.135 189.362 228.728 Q188.783 229.399 185.681 232.617 Q182.579 235.811 176.931 241.575 Z\" fill=\"#000000\" fill-rule=\"nonzero\" fill-opacity=\"1\" /><path clip-path=\"url(#clip020)\" d=\"M213.065 214.029 Q209.454 214.029 207.626 217.594 Q205.82 221.135 205.82 228.265 Q205.82 235.371 207.626 238.936 Q209.454 242.478 213.065 242.478 Q216.7 242.478 218.505 238.936 Q220.334 235.371 220.334 228.265 Q220.334 221.135 218.505 217.594 Q216.7 214.029 213.065 214.029 M213.065 210.325 Q218.875 210.325 221.931 214.932 Q225.01 219.515 225.01 228.265 Q225.01 236.992 221.931 241.598 Q218.875 246.181 213.065 246.181 Q207.255 246.181 204.176 241.598 Q201.121 236.992 201.121 228.265 Q201.121 219.515 204.176 214.932 Q207.255 210.325 213.065 210.325 Z\" fill=\"#000000\" fill-rule=\"nonzero\" fill-opacity=\"1\" /><path clip-path=\"url(#clip020)\" d=\"M261.398 220.047 L250.82 230.672 L261.398 241.251 L258.644 244.052 L248.019 233.427 L237.394 244.052 L234.662 241.251 L245.218 230.672 L234.662 220.047 L237.394 217.246 L248.019 227.871 L258.644 217.246 L261.398 220.047 Z\" fill=\"#000000\" fill-rule=\"nonzero\" fill-opacity=\"1\" /><path clip-path=\"url(#clip020)\" d=\"M273.759 241.575 L281.398 241.575 L281.398 215.209 L273.088 216.876 L273.088 212.617 L281.352 210.95 L286.028 210.95 L286.028 241.575 L293.667 241.575 L293.667 245.51 L273.759 245.51 L273.759 241.575 Z\" fill=\"#000000\" fill-rule=\"nonzero\" fill-opacity=\"1\" /><path clip-path=\"url(#clip020)\" d=\"M313.111 214.029 Q309.5 214.029 307.671 217.594 Q305.866 221.135 305.866 228.265 Q305.866 235.371 307.671 238.936 Q309.5 242.478 313.111 242.478 Q316.745 242.478 318.551 238.936 Q320.38 235.371 320.38 228.265 Q320.38 221.135 318.551 217.594 Q316.745 214.029 313.111 214.029 M313.111 210.325 Q318.921 210.325 321.977 214.932 Q325.055 219.515 325.055 228.265 Q325.055 236.992 321.977 241.598 Q318.921 246.181 313.111 246.181 Q307.301 246.181 304.222 241.598 Q301.167 236.992 301.167 228.265 Q301.167 219.515 304.222 214.932 Q307.301 210.325 313.111 210.325 Z\" fill=\"#000000\" fill-rule=\"nonzero\" fill-opacity=\"1\" /><path clip-path=\"url(#clip020)\" d=\"M335.08 202.546 Q332.522 202.546 331.018 204.295 Q329.532 206.044 329.532 209.091 Q329.532 212.119 331.018 213.887 Q332.522 215.636 335.08 215.636 Q337.638 215.636 339.124 213.887 Q340.628 212.119 340.628 209.091 Q340.628 206.044 339.124 204.295 Q337.638 202.546 335.08 202.546 M342.622 190.64 L342.622 194.101 Q341.193 193.424 339.726 193.067 Q338.277 192.709 336.848 192.709 Q333.086 192.709 331.093 195.248 Q329.118 197.787 328.836 202.922 Q329.945 201.286 331.619 200.42 Q333.293 199.537 335.306 199.537 Q339.537 199.537 341.982 202.113 Q344.446 204.671 344.446 209.091 Q344.446 213.417 341.888 216.031 Q339.331 218.645 335.08 218.645 Q330.209 218.645 327.632 214.921 Q325.055 211.179 325.055 204.088 Q325.055 197.43 328.215 193.48 Q331.375 189.512 336.697 189.512 Q338.127 189.512 339.575 189.794 Q341.042 190.076 342.622 190.64 Z\" fill=\"#000000\" fill-rule=\"nonzero\" fill-opacity=\"1\" /><path clip-path=\"url(#clip020)\" d=\"M28.3642 1019.68 L28.3642 992.37 L33.775 992.37 L33.775 1013.25 L47.7796 1013.25 L47.7796 994.407 L53.1904 994.407 L53.1904 1013.25 L75.8842 1013.25 L75.8842 1019.68 L28.3642 1019.68 Z\" fill=\"#000000\" fill-rule=\"nonzero\" fill-opacity=\"1\" /><path clip-path=\"url(#clip020)\" d=\"M28.3642 982.185 L28.3642 975.756 L70.4733 975.756 L70.4733 952.616 L75.8842 952.616 L75.8842 982.185 L28.3642 982.185 Z\" fill=\"#000000\" fill-rule=\"nonzero\" fill-opacity=\"1\" /><path clip-path=\"url(#clip020)\" d=\"M32.7247 928.904 Q32.7247 935.906 37.9445 940.044 Q43.1644 944.15 52.1719 944.15 Q61.1475 944.15 66.3674 940.044 Q71.5873 935.906 71.5873 928.904 Q71.5873 921.902 66.3674 917.828 Q61.1475 913.722 52.1719 913.722 Q43.1644 913.722 37.9445 917.828 Q32.7247 921.902 32.7247 928.904 M27.5048 928.904 Q27.5048 918.91 34.2206 912.926 Q40.9046 906.942 52.1719 906.942 Q63.4074 906.942 70.1232 912.926 Q76.8072 918.91 76.8072 928.904 Q76.8072 938.93 70.1232 944.945 Q63.4392 950.929 52.1719 950.929 Q40.9046 950.929 34.2206 944.945 Q27.5048 938.93 27.5048 928.904 Z\" fill=\"#000000\" fill-rule=\"nonzero\" fill-opacity=\"1\" /><path clip-path=\"url(#clip020)\" d=\"M33.6477 890.455 L51.5035 890.455 L51.5035 882.371 Q51.5035 877.883 49.18 875.432 Q46.8565 872.981 42.5597 872.981 Q38.2947 872.981 35.9712 875.432 Q33.6477 877.883 33.6477 882.371 L33.6477 890.455 M28.3642 896.884 L28.3642 882.371 Q28.3642 874.382 31.9926 870.308 Q35.5892 866.202 42.5597 866.202 Q49.5938 866.202 53.1904 870.308 Q56.787 874.382 56.787 882.371 L56.787 890.455 L75.8842 890.455 L75.8842 896.884 L28.3642 896.884 Z\" fill=\"#000000\" fill-rule=\"nonzero\" fill-opacity=\"1\" /><path clip-path=\"url(#clip020)\" d=\"M29.9238 829.09 L36.194 829.09 Q34.4434 832.75 33.584 835.996 Q32.7247 839.243 32.7247 842.267 Q32.7247 847.518 34.7617 850.383 Q36.7987 853.216 40.5545 853.216 Q43.7055 853.216 45.3288 851.338 Q46.9202 849.428 47.9069 844.145 L48.7026 840.261 Q50.0712 833.068 53.5405 829.663 Q56.978 826.225 62.7708 826.225 Q69.6776 826.225 73.2424 830.872 Q76.8072 835.487 76.8072 844.431 Q76.8072 847.805 76.0433 851.624 Q75.2794 855.412 73.7835 859.486 L67.1631 859.486 Q69.3593 855.571 70.4733 851.815 Q71.5873 848.059 71.5873 844.431 Q71.5873 838.925 69.423 835.933 Q67.2586 832.941 63.2482 832.941 Q59.7471 832.941 57.7737 835.105 Q55.8004 837.238 54.8137 842.139 L54.0498 846.054 Q52.6175 853.247 49.562 856.462 Q46.5064 859.677 41.0637 859.677 Q34.7617 859.677 31.1332 855.253 Q27.5048 850.797 27.5048 842.999 Q27.5048 839.657 28.1095 836.187 Q28.7143 832.718 29.9238 829.09 Z\" fill=\"#000000\" fill-rule=\"nonzero\" fill-opacity=\"1\" /><polyline clip-path=\"url(#clip022)\" style=\"stroke:#ff0000; stroke-linecap:round; stroke-linejoin:round; stroke-width:4; stroke-opacity:1; fill:none\" points=\"436.266,1749.09 496.288,1748.83 616.331,1745.97 856.418,1721.21 1336.59,1528.2 2296.94,96.8125 \"/>\n",
       "<polyline clip-path=\"url(#clip022)\" style=\"stroke:#000000; stroke-linecap:round; stroke-linejoin:round; stroke-width:4; stroke-opacity:1; fill:none\" points=\"436.266,1749.09 436.266,1749.09 \"/>\n",
       "<polyline clip-path=\"url(#clip022)\" style=\"stroke:#000000; stroke-linecap:round; stroke-linejoin:round; stroke-width:4; stroke-opacity:1; fill:none\" points=\"496.288,1748.83 496.288,1748.83 \"/>\n",
       "<polyline clip-path=\"url(#clip022)\" style=\"stroke:#000000; stroke-linecap:round; stroke-linejoin:round; stroke-width:4; stroke-opacity:1; fill:none\" points=\"616.331,1745.97 616.331,1745.97 \"/>\n",
       "<polyline clip-path=\"url(#clip022)\" style=\"stroke:#000000; stroke-linecap:round; stroke-linejoin:round; stroke-width:4; stroke-opacity:1; fill:none\" points=\"856.418,1721.21 856.418,1721.21 \"/>\n",
       "<polyline clip-path=\"url(#clip022)\" style=\"stroke:#000000; stroke-linecap:round; stroke-linejoin:round; stroke-width:4; stroke-opacity:1; fill:none\" points=\"1336.59,1528.2 1336.59,1528.2 \"/>\n",
       "<polyline clip-path=\"url(#clip022)\" style=\"stroke:#000000; stroke-linecap:round; stroke-linejoin:round; stroke-width:4; stroke-opacity:1; fill:none\" points=\"2296.94,96.8125 2296.94,96.8125 \"/>\n",
       "<line clip-path=\"url(#clip022)\" x1=\"452.266\" y1=\"1749.09\" x2=\"420.266\" y2=\"1749.09\" style=\"stroke:#000000; stroke-width:4; stroke-opacity:1\"/>\n",
       "<line clip-path=\"url(#clip022)\" x1=\"452.266\" y1=\"1749.09\" x2=\"420.266\" y2=\"1749.09\" style=\"stroke:#000000; stroke-width:4; stroke-opacity:1\"/>\n",
       "<line clip-path=\"url(#clip022)\" x1=\"512.288\" y1=\"1748.83\" x2=\"480.288\" y2=\"1748.83\" style=\"stroke:#000000; stroke-width:4; stroke-opacity:1\"/>\n",
       "<line clip-path=\"url(#clip022)\" x1=\"512.288\" y1=\"1748.83\" x2=\"480.288\" y2=\"1748.83\" style=\"stroke:#000000; stroke-width:4; stroke-opacity:1\"/>\n",
       "<line clip-path=\"url(#clip022)\" x1=\"632.331\" y1=\"1745.97\" x2=\"600.331\" y2=\"1745.97\" style=\"stroke:#000000; stroke-width:4; stroke-opacity:1\"/>\n",
       "<line clip-path=\"url(#clip022)\" x1=\"632.331\" y1=\"1745.97\" x2=\"600.331\" y2=\"1745.97\" style=\"stroke:#000000; stroke-width:4; stroke-opacity:1\"/>\n",
       "<line clip-path=\"url(#clip022)\" x1=\"872.418\" y1=\"1721.21\" x2=\"840.418\" y2=\"1721.21\" style=\"stroke:#000000; stroke-width:4; stroke-opacity:1\"/>\n",
       "<line clip-path=\"url(#clip022)\" x1=\"872.418\" y1=\"1721.21\" x2=\"840.418\" y2=\"1721.21\" style=\"stroke:#000000; stroke-width:4; stroke-opacity:1\"/>\n",
       "<line clip-path=\"url(#clip022)\" x1=\"1352.59\" y1=\"1528.2\" x2=\"1320.59\" y2=\"1528.2\" style=\"stroke:#000000; stroke-width:4; stroke-opacity:1\"/>\n",
       "<line clip-path=\"url(#clip022)\" x1=\"1352.59\" y1=\"1528.2\" x2=\"1320.59\" y2=\"1528.2\" style=\"stroke:#000000; stroke-width:4; stroke-opacity:1\"/>\n",
       "<line clip-path=\"url(#clip022)\" x1=\"2312.94\" y1=\"96.8125\" x2=\"2280.94\" y2=\"96.8125\" style=\"stroke:#000000; stroke-width:4; stroke-opacity:1\"/>\n",
       "<line clip-path=\"url(#clip022)\" x1=\"2312.94\" y1=\"96.8125\" x2=\"2280.94\" y2=\"96.8125\" style=\"stroke:#000000; stroke-width:4; stroke-opacity:1\"/>\n",
       "<path clip-path=\"url(#clip020)\" d=\"M446.19 209.305 L760.689 209.305 L760.689 105.625 L446.19 105.625  Z\" fill=\"#ffffff\" fill-rule=\"evenodd\" fill-opacity=\"1\"/>\n",
       "<polyline clip-path=\"url(#clip020)\" style=\"stroke:#000000; stroke-linecap:round; stroke-linejoin:round; stroke-width:4; stroke-opacity:1; fill:none\" points=\"446.19,209.305 760.689,209.305 760.689,105.625 446.19,105.625 446.19,209.305 \"/>\n",
       "<polyline clip-path=\"url(#clip020)\" style=\"stroke:#ff0000; stroke-linecap:round; stroke-linejoin:round; stroke-width:4; stroke-opacity:1; fill:none\" points=\"468.104,157.465 599.592,157.465 \"/>\n",
       "<path clip-path=\"url(#clip020)\" d=\"M621.506 140.185 L641.367 140.185 L641.367 144.12 L626.182 144.12 L626.182 154.305 L639.886 154.305 L639.886 158.24 L626.182 158.24 L626.182 174.745 L621.506 174.745 L621.506 140.185 Z\" fill=\"#000000\" fill-rule=\"nonzero\" fill-opacity=\"1\" /><path clip-path=\"url(#clip020)\" d=\"M648.59 138.726 L652.849 138.726 L652.849 174.745 L648.59 174.745 L648.59 138.726 Z\" fill=\"#000000\" fill-rule=\"nonzero\" fill-opacity=\"1\" /><path clip-path=\"url(#clip020)\" d=\"M671.807 151.805 Q668.381 151.805 666.39 154.49 Q664.4 157.152 664.4 161.805 Q664.4 166.458 666.367 169.143 Q668.358 171.805 671.807 171.805 Q675.21 171.805 677.2 169.12 Q679.191 166.434 679.191 161.805 Q679.191 157.198 677.2 154.513 Q675.21 151.805 671.807 151.805 M671.807 148.194 Q677.363 148.194 680.534 151.805 Q683.705 155.416 683.705 161.805 Q683.705 168.171 680.534 171.805 Q677.363 175.416 671.807 175.416 Q666.228 175.416 663.057 171.805 Q659.909 168.171 659.909 161.805 Q659.909 155.416 663.057 151.805 Q666.228 148.194 671.807 148.194 Z\" fill=\"#000000\" fill-rule=\"nonzero\" fill-opacity=\"1\" /><path clip-path=\"url(#clip020)\" d=\"M694.886 170.856 L694.886 184.606 L690.603 184.606 L690.603 148.819 L694.886 148.819 L694.886 152.754 Q696.228 150.439 698.265 149.328 Q700.325 148.194 703.173 148.194 Q707.895 148.194 710.835 151.944 Q713.798 155.694 713.798 161.805 Q713.798 167.916 710.835 171.666 Q707.895 175.416 703.173 175.416 Q700.325 175.416 698.265 174.305 Q696.228 173.171 694.886 170.856 M709.376 161.805 Q709.376 157.106 707.432 154.444 Q705.511 151.759 702.131 151.759 Q698.751 151.759 696.807 154.444 Q694.886 157.106 694.886 161.805 Q694.886 166.504 696.807 169.189 Q698.751 171.851 702.131 171.851 Q705.511 171.851 707.432 169.189 Q709.376 166.504 709.376 161.805 Z\" fill=\"#000000\" fill-rule=\"nonzero\" fill-opacity=\"1\" /><path clip-path=\"url(#clip020)\" d=\"M737.385 149.583 L737.385 153.61 Q735.58 152.685 733.635 152.222 Q731.691 151.759 729.608 151.759 Q726.436 151.759 724.839 152.731 Q723.265 153.703 723.265 155.647 Q723.265 157.129 724.399 157.985 Q725.534 158.819 728.959 159.583 L730.418 159.907 Q734.955 160.879 736.853 162.661 Q738.774 164.421 738.774 167.592 Q738.774 171.203 735.904 173.309 Q733.057 175.416 728.057 175.416 Q725.973 175.416 723.705 174.999 Q721.46 174.606 718.96 173.796 L718.96 169.397 Q721.321 170.624 723.612 171.249 Q725.904 171.851 728.149 171.851 Q731.159 171.851 732.779 170.833 Q734.399 169.791 734.399 167.916 Q734.399 166.18 733.219 165.254 Q732.061 164.328 728.103 163.472 L726.622 163.124 Q722.663 162.291 720.904 160.578 Q719.145 158.842 719.145 155.833 Q719.145 152.175 721.737 150.185 Q724.33 148.194 729.098 148.194 Q731.459 148.194 733.543 148.541 Q735.626 148.888 737.385 149.583 Z\" fill=\"#000000\" fill-rule=\"nonzero\" fill-opacity=\"1\" /></svg>\n"
      ]
     },
     "execution_count": 14,
     "metadata": {},
     "output_type": "execute_result"
    }
   ],
   "source": [
    "plot(inversion_time_statistics.size, inversion_time_statistics.flops_mean, \n",
    "    size = (600, 500), color=\"red\",yerr=inversion_time_statistics.flops_std,\n",
    "    yaxis = \"FLOPS\", xaxis = \"Number of rows\", label=\"Flops\")"
   ]
  },
  {
   "cell_type": "markdown",
   "id": "f01074e7",
   "metadata": {},
   "source": [
    "### Złożoność obliczeniowa\n",
    "Nasza implementacja odwracania macierzy, do mnożenia macierzy używa algorytmu Strassena, którego złożoność wynosi: O(n$^{\\log_2(7)}$). Złożoność obliczeniowa algorytmu to rozwiązanie równania: <br>\n",
    "<center>\n",
    "$O(n) = 2 \\cdot O\\left(\\frac{n}{2}\\right) + 10 \\cdot O({n}^{\\log_2(7)}) + d$\n",
    "</center>\n",
    "gdzie n to liczba elementów w jednym wierszu macierzy. <br>\n",
    "\n",
    "Na podstawie [Master Theorem](https://en.wikipedia.org/wiki/Master_theorem_(analysis_of_algorithms)) złożoność obliczeniowa tego  algorytmu wynosi $O({n}^{\\log_2(7)})$\n",
    "\n",
    "\n"
   ]
  },
  {
   "cell_type": "markdown",
   "id": "11e149e6",
   "metadata": {},
   "source": [
    "### Porównanie z MATLABem"
   ]
  },
  {
   "cell_type": "markdown",
   "id": "280f40c6",
   "metadata": {},
   "source": [
    "Kod w Matlab\n",
    "```Matlab\n",
    "A = [0.5488, 0.5929; \n",
    "    0.7094, 0.0734];\n",
    "\n",
    "A_inv = inv(A);\n",
    "fprintf(\"A\");\n",
    "disp(A_inv);\n",
    "\n",
    "fprintf(\"A2\");\n",
    "A2 = [0.2722, 0.1980, 0.1500, 0.4826;\n",
    "    0.6070, 0.3818, 0.2489, 0.6313;\n",
    "    0.1088, 0.9294, 0.1723, 0.5508;\n",
    "    0.3195, 0.5077, 0.3096, 0.9883];\n",
    "disp(A2);\n",
    "```"
   ]
  },
  {
   "attachments": {
    "obraz.png": {
     "image/png": "[encoded data removed]"
    }
   },
   "cell_type": "markdown",
   "id": "7edb8cbc",
   "metadata": {},
   "source": [
    "#### Wyniki\n",
    "![obraz.png](attachment:obraz.png)"
   ]
  },
  {
   "cell_type": "code",
   "execution_count": null,
   "id": "acb13a7c",
   "metadata": {},
   "outputs": [],
   "source": [
    "A = [0.5488 0.5929; \n",
    "    0.7094 0.0734];\n",
    "\n",
    "A2 = [0.2722 0.1980 0.1500 0.4826;\n",
    "    0.6070 0.3818 0.2489 0.6313;\n",
    "    0.1088 0.9294 0.1723 0.5508;\n",
    "    0.3195 0.5077 0.3096 0.9883];\n",
    "\n",
    "display(matrix_inverse(A))\n",
    "display(matrix_inverse(A2))\n"
   ]
  },
  {
   "cell_type": "markdown",
   "id": "01a817fb",
   "metadata": {},
   "source": [
    "Otrzymane macierze zgadzają się z tymi obliczonymi przy użyciu funkcji inv() w Matlabie"
   ]
  },
  {
   "cell_type": "markdown",
   "id": "23961e32",
   "metadata": {},
   "source": [
    "## Rekurencyjna LU faktoryzacja"
   ]
  },
  {
   "cell_type": "markdown",
   "id": "aa134a28",
   "metadata": {},
   "source": [
    "### Opis algorytmu\n",
    "Algorytm przyjmuję na wejściu macierz. Jego zadaniem jest znaleźć macierze L i U, takie że L jest trójkątna dolna, U jest trójkątna górna oraz L* U = A. Robi to metodą rekurencyjną, zgodnie z wzorami:\n",
    "\n",
    "#### Macierz A\n",
    "\\begin{bmatrix}\n",
    "A_{11} & A_{12} \\\\\n",
    "A_{21} & A_{22}\n",
    "\\end{bmatrix}\n",
    "\n",
    "\n",
    "#### Faktoryzacja L U macierzy A\n",
    "* Macierz L:\n",
    "\n",
    "\\begin{bmatrix}\n",
    "L_{11} &  0\\\\\n",
    "A_{21} * U_{11}^{-1} & S_{L}\n",
    "\\end{bmatrix}\n",
    "* Macierz U:\n",
    "\n",
    "\\begin{bmatrix}\n",
    "U_{11} & L_{11}^{-1} * A_{12}\\\\\n",
    "0 & S_{U}\n",
    "\\end{bmatrix}\n",
    "\n",
    "Gdzie: \n",
    "* S - dopełnienie Schura (A_{22} - U_{11}^{-1} & S_{L} * L_{11}^{-1} * A_{12})\n",
    "* S_L, S_U - są to macierze obliczone przez rekurencyjne odwołanie do faktoryzacji macierzy S\n",
    "* L_{11}, U_{11} - powstały przez LU faktoryzacje A_{11}\n",
    "\n",
    "### Pseudokod\n",
    "\n",
    "```\n",
    "if size(A) == 2x2\n",
    "    L = [A[1,1], 0 ; A[2,1], A[2,2] - A[2,1] * A[1,2] / A[1,1]]\n",
    "    U = [1, A[1,2]/A[1,1]; 0, 1]\n",
    "else\n",
    "    \\\\ działaj według powyrzszych wzorów\n",
    "```\n"
   ]
  },
  {
   "cell_type": "markdown",
   "id": "20145ec2",
   "metadata": {},
   "source": [
    "### Implementacja"
   ]
  },
  {
   "cell_type": "code",
   "execution_count": 15,
   "id": "bf094e35",
   "metadata": {},
   "outputs": [
    {
     "data": {
      "text/plain": [
       "matrix_LU_factor (generic function with 1 method)"
      ]
     },
     "execution_count": 15,
     "metadata": {},
     "output_type": "execute_result"
    }
   ],
   "source": [
    "function _matrix_LU_factor(A, n)\n",
    "    if n == 2\n",
    "        a22 = A[2,2] - A[2,1] * A[1,2] / A[1,1]\n",
    "        return LowerTriangular([A[1,1] 0; A[2,1] a22]),  UnitUpperTriangular([1 A[1,2]/A[1,1]; 0 1])\n",
    "    end\n",
    "    \"\"\"\n",
    "    Helping function to matrix_LU_factor() func\n",
    "    \"\"\"\n",
    "    m = div(n, 2)\n",
    "\n",
    "    A11, A12, A21, A22 = divide_matrix(A, n)\n",
    "    L11, U11 = _matrix_LU_factor(A11, m)\n",
    "\n",
    "    U12 = strassen(matrix_inverse(L11),A12)\n",
    "    L21 = strassen(A21,matrix_inverse(U11))\n",
    "\n",
    "    S = A22 - strassen(L21, U12)\n",
    "\n",
    "    L22, U22 = _matrix_LU_factor(S, m)\n",
    "\n",
    "    L = vcat(hcat(L11, zeros(m,m)), hcat(L21, L22))\n",
    "    U = vcat(hcat(U11, U12), hcat(zeros(m,m), U22))\n",
    "    return LowerTriangular(L), UnitUpperTriangular(U)\n",
    "end\n",
    "\n",
    "\n",
    "function matrix_LU_factor(A)\n",
    "    \"\"\"\n",
    "    :return matrixes L, U : L * U = A and L is upper triangular matrix and U is lower triangular matrix\n",
    "    A must be in shape (2^i, 2^i) where i is Natural\n",
    "    \"\"\"\n",
    "    \n",
    "    n = size(A, 1)\n",
    "    m = size(A, 2)\n",
    "    \n",
    "    if n != m \n",
    "        throw(NonSquareMatrixError(\"Matrix is not the square\"))\n",
    "    end\n",
    "    log2_n = log2(n)\n",
    "    if !(trunc(Int, log2_n) - log2_n ≈ 0)\n",
    "        throw(ArgumentError(\"A, not in (2^i, 2^i) shape, shape= $(size(A))\"))\n",
    "    end\n",
    "\n",
    "    return _matrix_LU_factor(A, n)\n",
    "end"
   ]
  },
  {
   "cell_type": "code",
   "execution_count": 16,
   "id": "f3f82963",
   "metadata": {},
   "outputs": [
    {
     "name": "stdout",
     "output_type": "stream",
     "text": [
      "FALSE!!!128\n"
     ]
    }
   ],
   "source": [
    "# To check corectness\n",
    "# This implementation may be unstable\n",
    "eps = 10 ^ -5\n",
    "min_value = 0.00000001\n",
    "max_value = 1\n",
    "for j in 1:2\n",
    "    for i in 1:8\n",
    "        A = min_value .+ (max_value - min_value) * rand(2 ^ i, 2 ^ i)\n",
    "        \n",
    "        L, U = matrix_LU_factor(A)\n",
    "        \n",
    "        B = L * U\n",
    "\n",
    "        if isapprox(A, B, atol=eps) == false\n",
    "            println(\"FALSE!!!\", size(A, 1))\n",
    "            \n",
    "        end\n",
    "    end\n",
    "end"
   ]
  },
  {
   "cell_type": "markdown",
   "id": "9deb8f6d",
   "metadata": {},
   "source": [
    "### Pomiary"
   ]
  },
  {
   "cell_type": "code",
   "execution_count": 17,
   "id": "9c7ca19f",
   "metadata": {},
   "outputs": [],
   "source": [
    "min_value = 0.00000001\n",
    "max_value = 1\n",
    "LU_times = DataFrame(size = [], flops= [], time = [])\n",
    "\n",
    "for i in 1: 5\n",
    "    for size in 1: 6\n",
    "        A = min_value .+ (max_value - min_value) * rand(2 ^ size, 2 ^ size)\n",
    "        m_time = @elapsed matrix_LU_factor(A)\n",
    "        m_flops = @count_ops matrix_LU_factor($A)\n",
    "        push!(LU_times, [2^size, m_flops, m_time])\n",
    "    end\n",
    "end     "
   ]
  },
  {
   "cell_type": "code",
   "execution_count": 18,
   "id": "a5b7ab17",
   "metadata": {},
   "outputs": [
    {
     "data": {
      "text/html": [
       "<div class=\"data-frame\"><p>30 rows × 3 columns</p><table class=\"data-frame\"><thead><tr><th></th><th>size</th><th>flops</th><th>time</th></tr><tr><th></th><th title=\"Any\">Any</th><th title=\"Any\">Any</th><th title=\"Any\">Any</th></tr></thead><tbody><tr><th>1</th><td>2</td><td>22</td><td>7.0e-6</td></tr><tr><th>2</th><td>4</td><td>96</td><td>4.68e-5</td></tr><tr><th>3</th><td>8</td><td>1200</td><td>0.0002004</td></tr><tr><th>4</th><td>16</td><td>12388</td><td>0.0014866</td></tr><tr><th>5</th><td>32</td><td>107456</td><td>0.0099139</td></tr><tr><th>6</th><td>64</td><td>847124</td><td>0.134321</td></tr><tr><th>7</th><td>2</td><td>22</td><td>5.7e-6</td></tr><tr><th>8</th><td>4</td><td>96</td><td>4.71e-5</td></tr><tr><th>9</th><td>8</td><td>1200</td><td>0.000206</td></tr><tr><th>10</th><td>16</td><td>12388</td><td>0.0016351</td></tr><tr><th>11</th><td>32</td><td>107456</td><td>0.0103891</td></tr><tr><th>12</th><td>64</td><td>847124</td><td>0.0977586</td></tr><tr><th>13</th><td>2</td><td>22</td><td>5.3e-6</td></tr><tr><th>14</th><td>4</td><td>96</td><td>4.26e-5</td></tr><tr><th>15</th><td>8</td><td>1200</td><td>0.0002139</td></tr><tr><th>16</th><td>16</td><td>12388</td><td>0.0016909</td></tr><tr><th>17</th><td>32</td><td>107456</td><td>0.012401</td></tr><tr><th>18</th><td>64</td><td>847124</td><td>0.0906119</td></tr><tr><th>19</th><td>2</td><td>22</td><td>5.0e-6</td></tr><tr><th>20</th><td>4</td><td>96</td><td>3.75e-5</td></tr><tr><th>21</th><td>8</td><td>1200</td><td>0.0001876</td></tr><tr><th>22</th><td>16</td><td>12388</td><td>0.0014573</td></tr><tr><th>23</th><td>32</td><td>107456</td><td>0.0102766</td></tr><tr><th>24</th><td>64</td><td>847124</td><td>0.101237</td></tr><tr><th>25</th><td>2</td><td>22</td><td>5.4e-6</td></tr><tr><th>26</th><td>4</td><td>96</td><td>3.86e-5</td></tr><tr><th>27</th><td>8</td><td>1200</td><td>0.0001712</td></tr><tr><th>28</th><td>16</td><td>12388</td><td>0.0014419</td></tr><tr><th>29</th><td>32</td><td>107456</td><td>0.0101065</td></tr><tr><th>30</th><td>64</td><td>847124</td><td>0.0808056</td></tr></tbody></table></div>"
      ],
      "text/latex": [
       "\\begin{tabular}{r|ccc}\n",
       "\t& size & flops & time\\\\\n",
       "\t\\hline\n",
       "\t& Any & Any & Any\\\\\n",
       "\t\\hline\n",
       "\t1 & 2 & 22 & 7.0e-6 \\\\\n",
       "\t2 & 4 & 96 & 4.68e-5 \\\\\n",
       "\t3 & 8 & 1200 & 0.0002004 \\\\\n",
       "\t4 & 16 & 12388 & 0.0014866 \\\\\n",
       "\t5 & 32 & 107456 & 0.0099139 \\\\\n",
       "\t6 & 64 & 847124 & 0.134321 \\\\\n",
       "\t7 & 2 & 22 & 5.7e-6 \\\\\n",
       "\t8 & 4 & 96 & 4.71e-5 \\\\\n",
       "\t9 & 8 & 1200 & 0.000206 \\\\\n",
       "\t10 & 16 & 12388 & 0.0016351 \\\\\n",
       "\t11 & 32 & 107456 & 0.0103891 \\\\\n",
       "\t12 & 64 & 847124 & 0.0977586 \\\\\n",
       "\t13 & 2 & 22 & 5.3e-6 \\\\\n",
       "\t14 & 4 & 96 & 4.26e-5 \\\\\n",
       "\t15 & 8 & 1200 & 0.0002139 \\\\\n",
       "\t16 & 16 & 12388 & 0.0016909 \\\\\n",
       "\t17 & 32 & 107456 & 0.012401 \\\\\n",
       "\t18 & 64 & 847124 & 0.0906119 \\\\\n",
       "\t19 & 2 & 22 & 5.0e-6 \\\\\n",
       "\t20 & 4 & 96 & 3.75e-5 \\\\\n",
       "\t21 & 8 & 1200 & 0.0001876 \\\\\n",
       "\t22 & 16 & 12388 & 0.0014573 \\\\\n",
       "\t23 & 32 & 107456 & 0.0102766 \\\\\n",
       "\t24 & 64 & 847124 & 0.101237 \\\\\n",
       "\t25 & 2 & 22 & 5.4e-6 \\\\\n",
       "\t26 & 4 & 96 & 3.86e-5 \\\\\n",
       "\t27 & 8 & 1200 & 0.0001712 \\\\\n",
       "\t28 & 16 & 12388 & 0.0014419 \\\\\n",
       "\t29 & 32 & 107456 & 0.0101065 \\\\\n",
       "\t30 & 64 & 847124 & 0.0808056 \\\\\n",
       "\\end{tabular}\n"
      ],
      "text/plain": [
       "\u001b[1m30×3 DataFrame\u001b[0m\n",
       "\u001b[1m Row \u001b[0m│\u001b[1m size \u001b[0m\u001b[1m flops  \u001b[0m\u001b[1m time      \u001b[0m\n",
       "\u001b[1m     \u001b[0m│\u001b[90m Any  \u001b[0m\u001b[90m Any    \u001b[0m\u001b[90m Any       \u001b[0m\n",
       "─────┼─────────────────────────\n",
       "   1 │ 2     22      7.0e-6\n",
       "   2 │ 4     96      4.68e-5\n",
       "   3 │ 8     1200    0.0002004\n",
       "   4 │ 16    12388   0.0014866\n",
       "   5 │ 32    107456  0.0099139\n",
       "   6 │ 64    847124  0.134321\n",
       "   7 │ 2     22      5.7e-6\n",
       "   8 │ 4     96      4.71e-5\n",
       "   9 │ 8     1200    0.000206\n",
       "  10 │ 16    12388   0.0016351\n",
       "  11 │ 32    107456  0.0103891\n",
       "  ⋮  │  ⋮      ⋮         ⋮\n",
       "  21 │ 8     1200    0.0001876\n",
       "  22 │ 16    12388   0.0014573\n",
       "  23 │ 32    107456  0.0102766\n",
       "  24 │ 64    847124  0.101237\n",
       "  25 │ 2     22      5.4e-6\n",
       "  26 │ 4     96      3.86e-5\n",
       "  27 │ 8     1200    0.0001712\n",
       "  28 │ 16    12388   0.0014419\n",
       "  29 │ 32    107456  0.0101065\n",
       "  30 │ 64    847124  0.0808056\n",
       "\u001b[36m                 9 rows omitted\u001b[0m"
      ]
     },
     "metadata": {},
     "output_type": "display_data"
    }
   ],
   "source": [
    "for i in 1:nrow(LU_times)\n",
    "    LU_times[i, :flops] = LU_times[i, :flops].add64 + LU_times[i, :flops].sub64 + LU_times[i, :flops].div64 + LU_times[i, :flops].neg64 + LU_times[i, :flops].mul64\n",
    "end\n",
    "display(LU_times)"
   ]
  },
  {
   "cell_type": "code",
   "execution_count": 19,
   "id": "ea95ede5",
   "metadata": {},
   "outputs": [
    {
     "data": {
      "text/html": [
       "<div class=\"data-frame\"><p>6 rows × 5 columns</p><table class=\"data-frame\"><thead><tr><th></th><th>size</th><th>time_mean</th><th>flops_mean</th><th>time_std</th><th>flops_std</th></tr><tr><th></th><th title=\"Any\">Any</th><th title=\"Float64\">Float64</th><th title=\"Float64\">Float64</th><th title=\"Float64\">Float64</th><th title=\"Float64\">Float64</th></tr></thead><tbody><tr><th>1</th><td>2</td><td>5.68e-6</td><td>22.0</td><td>7.79102e-7</td><td>0.0</td></tr><tr><th>2</th><td>4</td><td>4.252e-5</td><td>96.0</td><td>4.46844e-6</td><td>0.0</td></tr><tr><th>3</th><td>8</td><td>0.00019582</td><td>1200.0</td><td>1.67721e-5</td><td>0.0</td></tr><tr><th>4</th><td>16</td><td>0.00154236</td><td>12388.0</td><td>0.000113028</td><td>0.0</td></tr><tr><th>5</th><td>32</td><td>0.0106174</td><td>107456.0</td><td>0.00101309</td><td>0.0</td></tr><tr><th>6</th><td>64</td><td>0.100947</td><td>847124.0</td><td>0.0202273</td><td>0.0</td></tr></tbody></table></div>"
      ],
      "text/latex": [
       "\\begin{tabular}{r|ccccc}\n",
       "\t& size & time\\_mean & flops\\_mean & time\\_std & flops\\_std\\\\\n",
       "\t\\hline\n",
       "\t& Any & Float64 & Float64 & Float64 & Float64\\\\\n",
       "\t\\hline\n",
       "\t1 & 2 & 5.68e-6 & 22.0 & 7.79102e-7 & 0.0 \\\\\n",
       "\t2 & 4 & 4.252e-5 & 96.0 & 4.46844e-6 & 0.0 \\\\\n",
       "\t3 & 8 & 0.00019582 & 1200.0 & 1.67721e-5 & 0.0 \\\\\n",
       "\t4 & 16 & 0.00154236 & 12388.0 & 0.000113028 & 0.0 \\\\\n",
       "\t5 & 32 & 0.0106174 & 107456.0 & 0.00101309 & 0.0 \\\\\n",
       "\t6 & 64 & 0.100947 & 847124.0 & 0.0202273 & 0.0 \\\\\n",
       "\\end{tabular}\n"
      ],
      "text/plain": [
       "\u001b[1m6×5 DataFrame\u001b[0m\n",
       "\u001b[1m Row \u001b[0m│\u001b[1m size \u001b[0m\u001b[1m time_mean  \u001b[0m\u001b[1m flops_mean \u001b[0m\u001b[1m time_std    \u001b[0m\u001b[1m flops_std \u001b[0m\n",
       "\u001b[1m     \u001b[0m│\u001b[90m Any  \u001b[0m\u001b[90m Float64    \u001b[0m\u001b[90m Float64    \u001b[0m\u001b[90m Float64     \u001b[0m\u001b[90m Float64   \u001b[0m\n",
       "─────┼──────────────────────────────────────────────────────\n",
       "   1 │ 2     5.68e-6           22.0  7.79102e-7         0.0\n",
       "   2 │ 4     4.252e-5          96.0  4.46844e-6         0.0\n",
       "   3 │ 8     0.00019582      1200.0  1.67721e-5         0.0\n",
       "   4 │ 16    0.00154236     12388.0  0.000113028        0.0\n",
       "   5 │ 32    0.0106174     107456.0  0.00101309         0.0\n",
       "   6 │ 64    0.100947      847124.0  0.0202273          0.0"
      ]
     },
     "execution_count": 19,
     "metadata": {},
     "output_type": "execute_result"
    }
   ],
   "source": [
    "LU_time_group = groupby(LU_times, [:size])\n",
    "LU_time_statistics = combine(LU_time_group, \"time\" => mean, \"flops\" => mean, \"time\" => std, \"flops\" => std)"
   ]
  },
  {
   "cell_type": "code",
   "execution_count": 20,
   "id": "289cbf2c",
   "metadata": {},
   "outputs": [
    {
     "data": {
      "image/svg+xml": [
       "<?xml version=\"1.0\" encoding=\"utf-8\"?>\n",
       "<svg xmlns=\"http://www.w3.org/2000/svg\" xmlns:xlink=\"http://www.w3.org/1999/xlink\" width=\"600\" height=\"500\" viewBox=\"0 0 2400 2000\">\n",
       "<defs>\n",
       "  <clipPath id=\"clip060\">\n",
       "    <rect x=\"0\" y=\"0\" width=\"2400\" height=\"2000\"/>\n",
       "  </clipPath>\n",
       "</defs>\n",
       "<path clip-path=\"url(#clip060)\" d=\"M0 2000 L2400 2000 L2400 0 L0 0  Z\" fill=\"#ffffff\" fill-rule=\"evenodd\" fill-opacity=\"1\"/>\n",
       "<defs>\n",
       "  <clipPath id=\"clip061\">\n",
       "    <rect x=\"480\" y=\"0\" width=\"1681\" height=\"1681\"/>\n",
       "  </clipPath>\n",
       "</defs>\n",
       "<path clip-path=\"url(#clip060)\" d=\"M291.584 1798.66 L2352.76 1798.66 L2352.76 47.2441 L291.584 47.2441  Z\" fill=\"#ffffff\" fill-rule=\"evenodd\" fill-opacity=\"1\"/>\n",
       "<defs>\n",
       "  <clipPath id=\"clip062\">\n",
       "    <rect x=\"291\" y=\"47\" width=\"2062\" height=\"1752\"/>\n",
       "  </clipPath>\n",
       "</defs>\n",
       "<polyline clip-path=\"url(#clip062)\" style=\"stroke:#000000; stroke-linecap:round; stroke-linejoin:round; stroke-width:2; stroke-opacity:0.1; fill:none\" points=\"600.822,1798.66 600.822,47.2441 \"/>\n",
       "<polyline clip-path=\"url(#clip062)\" style=\"stroke:#000000; stroke-linecap:round; stroke-linejoin:round; stroke-width:2; stroke-opacity:0.1; fill:none\" points=\"914.452,1798.66 914.452,47.2441 \"/>\n",
       "<polyline clip-path=\"url(#clip062)\" style=\"stroke:#000000; stroke-linecap:round; stroke-linejoin:round; stroke-width:2; stroke-opacity:0.1; fill:none\" points=\"1228.08,1798.66 1228.08,47.2441 \"/>\n",
       "<polyline clip-path=\"url(#clip062)\" style=\"stroke:#000000; stroke-linecap:round; stroke-linejoin:round; stroke-width:2; stroke-opacity:0.1; fill:none\" points=\"1541.71,1798.66 1541.71,47.2441 \"/>\n",
       "<polyline clip-path=\"url(#clip062)\" style=\"stroke:#000000; stroke-linecap:round; stroke-linejoin:round; stroke-width:2; stroke-opacity:0.1; fill:none\" points=\"1855.34,1798.66 1855.34,47.2441 \"/>\n",
       "<polyline clip-path=\"url(#clip062)\" style=\"stroke:#000000; stroke-linecap:round; stroke-linejoin:round; stroke-width:2; stroke-opacity:0.1; fill:none\" points=\"2168.97,1798.66 2168.97,47.2441 \"/>\n",
       "<polyline clip-path=\"url(#clip060)\" style=\"stroke:#000000; stroke-linecap:round; stroke-linejoin:round; stroke-width:4; stroke-opacity:1; fill:none\" points=\"291.584,1798.66 2352.76,1798.66 \"/>\n",
       "<polyline clip-path=\"url(#clip060)\" style=\"stroke:#000000; stroke-linecap:round; stroke-linejoin:round; stroke-width:4; stroke-opacity:1; fill:none\" points=\"600.822,1798.66 600.822,1779.76 \"/>\n",
       "<polyline clip-path=\"url(#clip060)\" style=\"stroke:#000000; stroke-linecap:round; stroke-linejoin:round; stroke-width:4; stroke-opacity:1; fill:none\" points=\"914.452,1798.66 914.452,1779.76 \"/>\n",
       "<polyline clip-path=\"url(#clip060)\" style=\"stroke:#000000; stroke-linecap:round; stroke-linejoin:round; stroke-width:4; stroke-opacity:1; fill:none\" points=\"1228.08,1798.66 1228.08,1779.76 \"/>\n",
       "<polyline clip-path=\"url(#clip060)\" style=\"stroke:#000000; stroke-linecap:round; stroke-linejoin:round; stroke-width:4; stroke-opacity:1; fill:none\" points=\"1541.71,1798.66 1541.71,1779.76 \"/>\n",
       "<polyline clip-path=\"url(#clip060)\" style=\"stroke:#000000; stroke-linecap:round; stroke-linejoin:round; stroke-width:4; stroke-opacity:1; fill:none\" points=\"1855.34,1798.66 1855.34,1779.76 \"/>\n",
       "<polyline clip-path=\"url(#clip060)\" style=\"stroke:#000000; stroke-linecap:round; stroke-linejoin:round; stroke-width:4; stroke-opacity:1; fill:none\" points=\"2168.97,1798.66 2168.97,1779.76 \"/>\n",
       "<path clip-path=\"url(#clip060)\" d=\"M575.51 1857.12 L583.149 1857.12 L583.149 1830.76 L574.839 1832.43 L574.839 1828.17 L583.103 1826.5 L587.779 1826.5 L587.779 1857.12 L595.417 1857.12 L595.417 1861.06 L575.51 1861.06 L575.51 1857.12 Z\" fill=\"#000000\" fill-rule=\"nonzero\" fill-opacity=\"1\" /><path clip-path=\"url(#clip060)\" d=\"M614.862 1829.58 Q611.251 1829.58 609.422 1833.14 Q607.616 1836.68 607.616 1843.81 Q607.616 1850.92 609.422 1854.49 Q611.251 1858.03 614.862 1858.03 Q618.496 1858.03 620.301 1854.49 Q622.13 1850.92 622.13 1843.81 Q622.13 1836.68 620.301 1833.14 Q618.496 1829.58 614.862 1829.58 M614.862 1825.87 Q620.672 1825.87 623.727 1830.48 Q626.806 1835.06 626.806 1843.81 Q626.806 1852.54 623.727 1857.15 Q620.672 1861.73 614.862 1861.73 Q609.052 1861.73 605.973 1857.15 Q602.917 1852.54 602.917 1843.81 Q602.917 1835.06 605.973 1830.48 Q609.052 1825.87 614.862 1825.87 Z\" fill=\"#000000\" fill-rule=\"nonzero\" fill-opacity=\"1\" /><path clip-path=\"url(#clip060)\" d=\"M893.225 1857.12 L909.544 1857.12 L909.544 1861.06 L887.6 1861.06 L887.6 1857.12 Q890.262 1854.37 894.845 1849.74 Q899.452 1845.09 900.632 1843.75 Q902.878 1841.22 903.757 1839.49 Q904.66 1837.73 904.66 1836.04 Q904.66 1833.28 902.716 1831.55 Q900.794 1829.81 897.693 1829.81 Q895.494 1829.81 893.04 1830.57 Q890.609 1831.34 887.832 1832.89 L887.832 1828.17 Q890.656 1827.03 893.109 1826.45 Q895.563 1825.87 897.6 1825.87 Q902.97 1825.87 906.165 1828.56 Q909.359 1831.25 909.359 1835.74 Q909.359 1837.87 908.549 1839.79 Q907.762 1841.68 905.656 1844.28 Q905.077 1844.95 901.975 1848.17 Q898.873 1851.36 893.225 1857.12 Z\" fill=\"#000000\" fill-rule=\"nonzero\" fill-opacity=\"1\" /><path clip-path=\"url(#clip060)\" d=\"M929.359 1829.58 Q925.748 1829.58 923.919 1833.14 Q922.114 1836.68 922.114 1843.81 Q922.114 1850.92 923.919 1854.49 Q925.748 1858.03 929.359 1858.03 Q932.993 1858.03 934.799 1854.49 Q936.628 1850.92 936.628 1843.81 Q936.628 1836.68 934.799 1833.14 Q932.993 1829.58 929.359 1829.58 M929.359 1825.87 Q935.169 1825.87 938.225 1830.48 Q941.303 1835.06 941.303 1843.81 Q941.303 1852.54 938.225 1857.15 Q935.169 1861.73 929.359 1861.73 Q923.549 1861.73 920.47 1857.15 Q917.415 1852.54 917.415 1843.81 Q917.415 1835.06 920.47 1830.48 Q923.549 1825.87 929.359 1825.87 Z\" fill=\"#000000\" fill-rule=\"nonzero\" fill-opacity=\"1\" /><path clip-path=\"url(#clip060)\" d=\"M1216.92 1842.43 Q1220.28 1843.14 1222.16 1845.41 Q1224.05 1847.68 1224.05 1851.01 Q1224.05 1856.13 1220.53 1858.93 Q1217.02 1861.73 1210.53 1861.73 Q1208.36 1861.73 1206.04 1861.29 Q1203.75 1860.87 1201.3 1860.02 L1201.3 1855.5 Q1203.24 1856.64 1205.56 1857.22 Q1207.87 1857.8 1210.4 1857.8 Q1214.79 1857.8 1217.09 1856.06 Q1219.4 1854.32 1219.4 1851.01 Q1219.4 1847.96 1217.25 1846.25 Q1215.12 1844.51 1211.3 1844.51 L1207.27 1844.51 L1207.27 1840.67 L1211.48 1840.67 Q1214.93 1840.67 1216.76 1839.3 Q1218.59 1837.91 1218.59 1835.32 Q1218.59 1832.66 1216.69 1831.25 Q1214.82 1829.81 1211.3 1829.81 Q1209.38 1829.81 1207.18 1830.23 Q1204.98 1830.64 1202.34 1831.52 L1202.34 1827.36 Q1205 1826.62 1207.32 1826.25 Q1209.66 1825.87 1211.72 1825.87 Q1217.04 1825.87 1220.14 1828.31 Q1223.24 1830.71 1223.24 1834.83 Q1223.24 1837.7 1221.6 1839.69 Q1219.96 1841.66 1216.92 1842.43 Z\" fill=\"#000000\" fill-rule=\"nonzero\" fill-opacity=\"1\" /><path clip-path=\"url(#clip060)\" d=\"M1242.92 1829.58 Q1239.31 1829.58 1237.48 1833.14 Q1235.67 1836.68 1235.67 1843.81 Q1235.67 1850.92 1237.48 1854.49 Q1239.31 1858.03 1242.92 1858.03 Q1246.55 1858.03 1248.36 1854.49 Q1250.19 1850.92 1250.19 1843.81 Q1250.19 1836.68 1248.36 1833.14 Q1246.55 1829.58 1242.92 1829.58 M1242.92 1825.87 Q1248.73 1825.87 1251.78 1830.48 Q1254.86 1835.06 1254.86 1843.81 Q1254.86 1852.54 1251.78 1857.15 Q1248.73 1861.73 1242.92 1861.73 Q1237.11 1861.73 1234.03 1857.15 Q1230.97 1852.54 1230.97 1843.81 Q1230.97 1835.06 1234.03 1830.48 Q1237.11 1825.87 1242.92 1825.87 Z\" fill=\"#000000\" fill-rule=\"nonzero\" fill-opacity=\"1\" /><path clip-path=\"url(#clip060)\" d=\"M1529.88 1830.57 L1518.08 1849.02 L1529.88 1849.02 L1529.88 1830.57 M1528.65 1826.5 L1534.53 1826.5 L1534.53 1849.02 L1539.47 1849.02 L1539.47 1852.91 L1534.53 1852.91 L1534.53 1861.06 L1529.88 1861.06 L1529.88 1852.91 L1514.28 1852.91 L1514.28 1848.4 L1528.65 1826.5 Z\" fill=\"#000000\" fill-rule=\"nonzero\" fill-opacity=\"1\" /><path clip-path=\"url(#clip060)\" d=\"M1557.2 1829.58 Q1553.59 1829.58 1551.76 1833.14 Q1549.95 1836.68 1549.95 1843.81 Q1549.95 1850.92 1551.76 1854.49 Q1553.59 1858.03 1557.2 1858.03 Q1560.83 1858.03 1562.64 1854.49 Q1564.46 1850.92 1564.46 1843.81 Q1564.46 1836.68 1562.64 1833.14 Q1560.83 1829.58 1557.2 1829.58 M1557.2 1825.87 Q1563.01 1825.87 1566.06 1830.48 Q1569.14 1835.06 1569.14 1843.81 Q1569.14 1852.54 1566.06 1857.15 Q1563.01 1861.73 1557.2 1861.73 Q1551.39 1861.73 1548.31 1857.15 Q1545.25 1852.54 1545.25 1843.81 Q1545.25 1835.06 1548.31 1830.48 Q1551.39 1825.87 1557.2 1825.87 Z\" fill=\"#000000\" fill-rule=\"nonzero\" fill-opacity=\"1\" /><path clip-path=\"url(#clip060)\" d=\"M1830.04 1826.5 L1848.4 1826.5 L1848.4 1830.44 L1834.32 1830.44 L1834.32 1838.91 Q1835.34 1838.56 1836.36 1838.4 Q1837.38 1838.21 1838.4 1838.21 Q1844.18 1838.21 1847.56 1841.38 Q1850.94 1844.56 1850.94 1849.97 Q1850.94 1855.55 1847.47 1858.65 Q1844 1861.73 1837.68 1861.73 Q1835.5 1861.73 1833.23 1861.36 Q1830.99 1860.99 1828.58 1860.25 L1828.58 1855.55 Q1830.66 1856.68 1832.89 1857.24 Q1835.11 1857.8 1837.59 1857.8 Q1841.59 1857.8 1843.93 1855.69 Q1846.27 1853.58 1846.27 1849.97 Q1846.27 1846.36 1843.93 1844.25 Q1841.59 1842.15 1837.59 1842.15 Q1835.71 1842.15 1833.84 1842.56 Q1831.98 1842.98 1830.04 1843.86 L1830.04 1826.5 Z\" fill=\"#000000\" fill-rule=\"nonzero\" fill-opacity=\"1\" /><path clip-path=\"url(#clip060)\" d=\"M1870.15 1829.58 Q1866.54 1829.58 1864.71 1833.14 Q1862.91 1836.68 1862.91 1843.81 Q1862.91 1850.92 1864.71 1854.49 Q1866.54 1858.03 1870.15 1858.03 Q1873.79 1858.03 1875.59 1854.49 Q1877.42 1850.92 1877.42 1843.81 Q1877.42 1836.68 1875.59 1833.14 Q1873.79 1829.58 1870.15 1829.58 M1870.15 1825.87 Q1875.96 1825.87 1879.02 1830.48 Q1882.1 1835.06 1882.1 1843.81 Q1882.1 1852.54 1879.02 1857.15 Q1875.96 1861.73 1870.15 1861.73 Q1864.34 1861.73 1861.27 1857.15 Q1858.21 1852.54 1858.21 1843.81 Q1858.21 1835.06 1861.27 1830.48 Q1864.34 1825.87 1870.15 1825.87 Z\" fill=\"#000000\" fill-rule=\"nonzero\" fill-opacity=\"1\" /><path clip-path=\"url(#clip060)\" d=\"M2154.37 1841.92 Q2151.23 1841.92 2149.37 1844.07 Q2147.55 1846.22 2147.55 1849.97 Q2147.55 1853.7 2149.37 1855.87 Q2151.23 1858.03 2154.37 1858.03 Q2157.52 1858.03 2159.35 1855.87 Q2161.2 1853.7 2161.2 1849.97 Q2161.2 1846.22 2159.35 1844.07 Q2157.52 1841.92 2154.37 1841.92 M2163.66 1827.26 L2163.66 1831.52 Q2161.9 1830.69 2160.09 1830.25 Q2158.31 1829.81 2156.55 1829.81 Q2151.92 1829.81 2149.47 1832.93 Q2147.04 1836.06 2146.69 1842.38 Q2148.05 1840.37 2150.12 1839.3 Q2152.18 1838.21 2154.65 1838.21 Q2159.86 1838.21 2162.87 1841.38 Q2165.9 1844.53 2165.9 1849.97 Q2165.9 1855.3 2162.75 1858.51 Q2159.61 1861.73 2154.37 1861.73 Q2148.38 1861.73 2145.21 1857.15 Q2142.04 1852.54 2142.04 1843.81 Q2142.04 1835.62 2145.93 1830.76 Q2149.81 1825.87 2156.37 1825.87 Q2158.12 1825.87 2159.91 1826.22 Q2161.71 1826.57 2163.66 1827.26 Z\" fill=\"#000000\" fill-rule=\"nonzero\" fill-opacity=\"1\" /><path clip-path=\"url(#clip060)\" d=\"M2183.96 1829.58 Q2180.35 1829.58 2178.52 1833.14 Q2176.71 1836.68 2176.71 1843.81 Q2176.71 1850.92 2178.52 1854.49 Q2180.35 1858.03 2183.96 1858.03 Q2187.59 1858.03 2189.4 1854.49 Q2191.23 1850.92 2191.23 1843.81 Q2191.23 1836.68 2189.4 1833.14 Q2187.59 1829.58 2183.96 1829.58 M2183.96 1825.87 Q2189.77 1825.87 2192.82 1830.48 Q2195.9 1835.06 2195.9 1843.81 Q2195.9 1852.54 2192.82 1857.15 Q2189.77 1861.73 2183.96 1861.73 Q2178.15 1861.73 2175.07 1857.15 Q2172.01 1852.54 2172.01 1843.81 Q2172.01 1835.06 2175.07 1830.48 Q2178.15 1825.87 2183.96 1825.87 Z\" fill=\"#000000\" fill-rule=\"nonzero\" fill-opacity=\"1\" /><path clip-path=\"url(#clip060)\" d=\"M1067.64 1896 L1076.29 1896 L1097.36 1935.76 L1097.36 1896 L1103.6 1896 L1103.6 1943.52 L1094.95 1943.52 L1073.88 1903.77 L1073.88 1943.52 L1067.64 1943.52 L1067.64 1896 Z\" fill=\"#000000\" fill-rule=\"nonzero\" fill-opacity=\"1\" /><path clip-path=\"url(#clip060)\" d=\"M1115.54 1929.46 L1115.54 1907.88 L1121.4 1907.88 L1121.4 1929.23 Q1121.4 1934.29 1123.37 1936.84 Q1125.34 1939.35 1129.29 1939.35 Q1134.03 1939.35 1136.77 1936.33 Q1139.54 1933.31 1139.54 1928.09 L1139.54 1907.88 L1145.39 1907.88 L1145.39 1943.52 L1139.54 1943.52 L1139.54 1938.05 Q1137.41 1941.3 1134.57 1942.89 Q1131.77 1944.45 1128.05 1944.45 Q1121.9 1944.45 1118.72 1940.63 Q1115.54 1936.81 1115.54 1929.46 M1130.28 1907.02 L1130.28 1907.02 Z\" fill=\"#000000\" fill-rule=\"nonzero\" fill-opacity=\"1\" /><path clip-path=\"url(#clip060)\" d=\"M1185.21 1914.72 Q1187.41 1910.77 1190.46 1908.89 Q1193.52 1907.02 1197.66 1907.02 Q1203.23 1907.02 1206.25 1910.93 Q1209.27 1914.81 1209.27 1922.01 L1209.27 1943.52 L1203.39 1943.52 L1203.39 1922.2 Q1203.39 1917.07 1201.57 1914.59 Q1199.76 1912.11 1196.03 1912.11 Q1191.48 1912.11 1188.84 1915.13 Q1186.2 1918.16 1186.2 1923.38 L1186.2 1943.52 L1180.31 1943.52 L1180.31 1922.2 Q1180.31 1917.04 1178.5 1914.59 Q1176.68 1912.11 1172.89 1912.11 Q1168.41 1912.11 1165.76 1915.16 Q1163.12 1918.19 1163.12 1923.38 L1163.12 1943.52 L1157.23 1943.52 L1157.23 1907.88 L1163.12 1907.88 L1163.12 1913.41 Q1165.13 1910.14 1167.93 1908.58 Q1170.73 1907.02 1174.58 1907.02 Q1178.46 1907.02 1181.17 1908.99 Q1183.91 1910.96 1185.21 1914.72 Z\" fill=\"#000000\" fill-rule=\"nonzero\" fill-opacity=\"1\" /><path clip-path=\"url(#clip060)\" d=\"M1246.55 1925.73 Q1246.55 1919.27 1243.87 1915.61 Q1241.23 1911.92 1236.58 1911.92 Q1231.94 1911.92 1229.26 1915.61 Q1226.62 1919.27 1226.62 1925.73 Q1226.62 1932.19 1229.26 1935.88 Q1231.94 1939.55 1236.58 1939.55 Q1241.23 1939.55 1243.87 1935.88 Q1246.55 1932.19 1246.55 1925.73 M1226.62 1913.29 Q1228.47 1910.1 1231.27 1908.58 Q1234.1 1907.02 1238.02 1907.02 Q1244.51 1907.02 1248.55 1912.17 Q1252.62 1917.33 1252.62 1925.73 Q1252.62 1934.13 1248.55 1939.29 Q1244.51 1944.45 1238.02 1944.45 Q1234.1 1944.45 1231.27 1942.92 Q1228.47 1941.36 1226.62 1938.18 L1226.62 1943.52 L1220.73 1943.52 L1220.73 1894 L1226.62 1894 L1226.62 1913.29 Z\" fill=\"#000000\" fill-rule=\"nonzero\" fill-opacity=\"1\" /><path clip-path=\"url(#clip060)\" d=\"M1292.82 1924.24 L1292.82 1927.1 L1265.9 1927.1 Q1266.28 1933.15 1269.53 1936.33 Q1272.8 1939.48 1278.63 1939.48 Q1282 1939.48 1285.15 1938.65 Q1288.34 1937.83 1291.46 1936.17 L1291.46 1941.71 Q1288.3 1943.05 1284.99 1943.75 Q1281.68 1944.45 1278.28 1944.45 Q1269.75 1944.45 1264.75 1939.48 Q1259.79 1934.52 1259.79 1926.05 Q1259.79 1917.3 1264.5 1912.17 Q1269.24 1907.02 1277.26 1907.02 Q1284.45 1907.02 1288.62 1911.66 Q1292.82 1916.28 1292.82 1924.24 M1286.97 1922.52 Q1286.9 1917.71 1284.26 1914.85 Q1281.65 1911.98 1277.32 1911.98 Q1272.42 1911.98 1269.46 1914.75 Q1266.53 1917.52 1266.09 1922.55 L1286.97 1922.52 Z\" fill=\"#000000\" fill-rule=\"nonzero\" fill-opacity=\"1\" /><path clip-path=\"url(#clip060)\" d=\"M1323.09 1913.35 Q1322.11 1912.78 1320.93 1912.52 Q1319.78 1912.24 1318.38 1912.24 Q1313.42 1912.24 1310.74 1915.48 Q1308.1 1918.7 1308.1 1924.75 L1308.1 1943.52 L1302.21 1943.52 L1302.21 1907.88 L1308.1 1907.88 L1308.1 1913.41 Q1309.95 1910.17 1312.91 1908.61 Q1315.87 1907.02 1320.1 1907.02 Q1320.71 1907.02 1321.44 1907.11 Q1322.17 1907.18 1323.06 1907.33 L1323.09 1913.35 Z\" fill=\"#000000\" fill-rule=\"nonzero\" fill-opacity=\"1\" /><path clip-path=\"url(#clip060)\" d=\"M1363.77 1911.98 Q1359.06 1911.98 1356.32 1915.67 Q1353.58 1919.33 1353.58 1925.73 Q1353.58 1932.13 1356.29 1935.82 Q1359.03 1939.48 1363.77 1939.48 Q1368.45 1939.48 1371.19 1935.79 Q1373.92 1932.1 1373.92 1925.73 Q1373.92 1919.4 1371.19 1915.71 Q1368.45 1911.98 1363.77 1911.98 M1363.77 1907.02 Q1371.41 1907.02 1375.77 1911.98 Q1380.13 1916.95 1380.13 1925.73 Q1380.13 1934.48 1375.77 1939.48 Q1371.41 1944.45 1363.77 1944.45 Q1356.1 1944.45 1351.74 1939.48 Q1347.41 1934.48 1347.41 1925.73 Q1347.41 1916.95 1351.74 1911.98 Q1356.1 1907.02 1363.77 1907.02 Z\" fill=\"#000000\" fill-rule=\"nonzero\" fill-opacity=\"1\" /><path clip-path=\"url(#clip060)\" d=\"M1407.88 1894 L1407.88 1898.87 L1402.28 1898.87 Q1399.13 1898.87 1397.89 1900.14 Q1396.68 1901.41 1396.68 1904.72 L1396.68 1907.88 L1406.32 1907.88 L1406.32 1912.43 L1396.68 1912.43 L1396.68 1943.52 L1390.79 1943.52 L1390.79 1912.43 L1385.19 1912.43 L1385.19 1907.88 L1390.79 1907.88 L1390.79 1905.39 Q1390.79 1899.44 1393.56 1896.74 Q1396.33 1894 1402.35 1894 L1407.88 1894 Z\" fill=\"#000000\" fill-rule=\"nonzero\" fill-opacity=\"1\" /><path clip-path=\"url(#clip060)\" d=\"M1454.16 1913.35 Q1453.18 1912.78 1452 1912.52 Q1450.85 1912.24 1449.45 1912.24 Q1444.49 1912.24 1441.81 1915.48 Q1439.17 1918.7 1439.17 1924.75 L1439.17 1943.52 L1433.28 1943.52 L1433.28 1907.88 L1439.17 1907.88 L1439.17 1913.41 Q1441.02 1910.17 1443.98 1908.61 Q1446.94 1907.02 1451.17 1907.02 Q1451.78 1907.02 1452.51 1907.11 Q1453.24 1907.18 1454.13 1907.33 L1454.16 1913.35 Z\" fill=\"#000000\" fill-rule=\"nonzero\" fill-opacity=\"1\" /><path clip-path=\"url(#clip060)\" d=\"M1472.69 1911.98 Q1467.98 1911.98 1465.24 1915.67 Q1462.5 1919.33 1462.5 1925.73 Q1462.5 1932.13 1465.21 1935.82 Q1467.94 1939.48 1472.69 1939.48 Q1477.37 1939.48 1480.1 1935.79 Q1482.84 1932.1 1482.84 1925.73 Q1482.84 1919.4 1480.1 1915.71 Q1477.37 1911.98 1472.69 1911.98 M1472.69 1907.02 Q1480.33 1907.02 1484.69 1911.98 Q1489.05 1916.95 1489.05 1925.73 Q1489.05 1934.48 1484.69 1939.48 Q1480.33 1944.45 1472.69 1944.45 Q1465.02 1944.45 1460.66 1939.48 Q1456.33 1934.48 1456.33 1925.73 Q1456.33 1916.95 1460.66 1911.98 Q1465.02 1907.02 1472.69 1907.02 Z\" fill=\"#000000\" fill-rule=\"nonzero\" fill-opacity=\"1\" /><path clip-path=\"url(#clip060)\" d=\"M1495.35 1907.88 L1501.21 1907.88 L1508.53 1935.69 L1515.81 1907.88 L1522.72 1907.88 L1530.04 1935.69 L1537.33 1907.88 L1543.19 1907.88 L1533.86 1943.52 L1526.95 1943.52 L1519.28 1914.31 L1511.58 1943.52 L1504.67 1943.52 L1495.35 1907.88 Z\" fill=\"#000000\" fill-rule=\"nonzero\" fill-opacity=\"1\" /><path clip-path=\"url(#clip060)\" d=\"M1574.79 1908.93 L1574.79 1914.46 Q1572.31 1913.19 1569.64 1912.55 Q1566.96 1911.92 1564.1 1911.92 Q1559.74 1911.92 1557.54 1913.25 Q1555.38 1914.59 1555.38 1917.27 Q1555.38 1919.3 1556.94 1920.48 Q1558.5 1921.63 1563.21 1922.68 L1565.21 1923.12 Q1571.45 1924.46 1574.06 1926.91 Q1576.7 1929.33 1576.7 1933.69 Q1576.7 1938.65 1572.76 1941.55 Q1568.84 1944.45 1561.97 1944.45 Q1559.1 1944.45 1555.98 1943.87 Q1552.89 1943.33 1549.46 1942.22 L1549.46 1936.17 Q1552.7 1937.86 1555.85 1938.72 Q1559.01 1939.55 1562.09 1939.55 Q1566.23 1939.55 1568.46 1938.14 Q1570.69 1936.71 1570.69 1934.13 Q1570.69 1931.75 1569.06 1930.47 Q1567.47 1929.2 1562.03 1928.02 L1559.99 1927.55 Q1554.55 1926.4 1552.13 1924.04 Q1549.71 1921.66 1549.71 1917.52 Q1549.71 1912.49 1553.28 1909.75 Q1556.84 1907.02 1563.4 1907.02 Q1566.64 1907.02 1569.51 1907.49 Q1572.37 1907.97 1574.79 1908.93 Z\" fill=\"#000000\" fill-rule=\"nonzero\" fill-opacity=\"1\" /><polyline clip-path=\"url(#clip062)\" style=\"stroke:#000000; stroke-linecap:round; stroke-linejoin:round; stroke-width:2; stroke-opacity:0.1; fill:none\" points=\"291.584,1749.16 2352.76,1749.16 \"/>\n",
       "<polyline clip-path=\"url(#clip062)\" style=\"stroke:#000000; stroke-linecap:round; stroke-linejoin:round; stroke-width:2; stroke-opacity:0.1; fill:none\" points=\"291.584,1408.26 2352.76,1408.26 \"/>\n",
       "<polyline clip-path=\"url(#clip062)\" style=\"stroke:#000000; stroke-linecap:round; stroke-linejoin:round; stroke-width:2; stroke-opacity:0.1; fill:none\" points=\"291.584,1067.35 2352.76,1067.35 \"/>\n",
       "<polyline clip-path=\"url(#clip062)\" style=\"stroke:#000000; stroke-linecap:round; stroke-linejoin:round; stroke-width:2; stroke-opacity:0.1; fill:none\" points=\"291.584,726.448 2352.76,726.448 \"/>\n",
       "<polyline clip-path=\"url(#clip062)\" style=\"stroke:#000000; stroke-linecap:round; stroke-linejoin:round; stroke-width:2; stroke-opacity:0.1; fill:none\" points=\"291.584,385.545 2352.76,385.545 \"/>\n",
       "<polyline clip-path=\"url(#clip060)\" style=\"stroke:#000000; stroke-linecap:round; stroke-linejoin:round; stroke-width:4; stroke-opacity:1; fill:none\" points=\"291.584,1798.66 291.584,47.2441 \"/>\n",
       "<polyline clip-path=\"url(#clip060)\" style=\"stroke:#000000; stroke-linecap:round; stroke-linejoin:round; stroke-width:4; stroke-opacity:1; fill:none\" points=\"291.584,1749.16 310.482,1749.16 \"/>\n",
       "<polyline clip-path=\"url(#clip060)\" style=\"stroke:#000000; stroke-linecap:round; stroke-linejoin:round; stroke-width:4; stroke-opacity:1; fill:none\" points=\"291.584,1408.26 310.482,1408.26 \"/>\n",
       "<polyline clip-path=\"url(#clip060)\" style=\"stroke:#000000; stroke-linecap:round; stroke-linejoin:round; stroke-width:4; stroke-opacity:1; fill:none\" points=\"291.584,1067.35 310.482,1067.35 \"/>\n",
       "<polyline clip-path=\"url(#clip060)\" style=\"stroke:#000000; stroke-linecap:round; stroke-linejoin:round; stroke-width:4; stroke-opacity:1; fill:none\" points=\"291.584,726.448 310.482,726.448 \"/>\n",
       "<polyline clip-path=\"url(#clip060)\" style=\"stroke:#000000; stroke-linecap:round; stroke-linejoin:round; stroke-width:4; stroke-opacity:1; fill:none\" points=\"291.584,385.545 310.482,385.545 \"/>\n",
       "<path clip-path=\"url(#clip060)\" d=\"M138.085 1734.96 Q134.473 1734.96 132.645 1738.52 Q130.839 1742.06 130.839 1749.19 Q130.839 1756.3 132.645 1759.86 Q134.473 1763.41 138.085 1763.41 Q141.719 1763.41 143.524 1759.86 Q145.353 1756.3 145.353 1749.19 Q145.353 1742.06 143.524 1738.52 Q141.719 1734.96 138.085 1734.96 M138.085 1731.25 Q143.895 1731.25 146.95 1735.86 Q150.029 1740.44 150.029 1749.19 Q150.029 1757.92 146.95 1762.53 Q143.895 1767.11 138.085 1767.11 Q132.274 1767.11 129.196 1762.53 Q126.14 1757.92 126.14 1749.19 Q126.14 1740.44 129.196 1735.86 Q132.274 1731.25 138.085 1731.25 Z\" fill=\"#000000\" fill-rule=\"nonzero\" fill-opacity=\"1\" /><path clip-path=\"url(#clip060)\" d=\"M158.246 1760.56 L163.131 1760.56 L163.131 1766.44 L158.246 1766.44 L158.246 1760.56 Z\" fill=\"#000000\" fill-rule=\"nonzero\" fill-opacity=\"1\" /><path clip-path=\"url(#clip060)\" d=\"M183.316 1734.96 Q179.705 1734.96 177.876 1738.52 Q176.07 1742.06 176.07 1749.19 Q176.07 1756.3 177.876 1759.86 Q179.705 1763.41 183.316 1763.41 Q186.95 1763.41 188.756 1759.86 Q190.584 1756.3 190.584 1749.19 Q190.584 1742.06 188.756 1738.52 Q186.95 1734.96 183.316 1734.96 M183.316 1731.25 Q189.126 1731.25 192.181 1735.86 Q195.26 1740.44 195.26 1749.19 Q195.26 1757.92 192.181 1762.53 Q189.126 1767.11 183.316 1767.11 Q177.506 1767.11 174.427 1762.53 Q171.371 1757.92 171.371 1749.19 Q171.371 1740.44 174.427 1735.86 Q177.506 1731.25 183.316 1731.25 Z\" fill=\"#000000\" fill-rule=\"nonzero\" fill-opacity=\"1\" /><path clip-path=\"url(#clip060)\" d=\"M213.478 1734.96 Q209.867 1734.96 208.038 1738.52 Q206.232 1742.06 206.232 1749.19 Q206.232 1756.3 208.038 1759.86 Q209.867 1763.41 213.478 1763.41 Q217.112 1763.41 218.917 1759.86 Q220.746 1756.3 220.746 1749.19 Q220.746 1742.06 218.917 1738.52 Q217.112 1734.96 213.478 1734.96 M213.478 1731.25 Q219.288 1731.25 222.343 1735.86 Q225.422 1740.44 225.422 1749.19 Q225.422 1757.92 222.343 1762.53 Q219.288 1767.11 213.478 1767.11 Q207.667 1767.11 204.589 1762.53 Q201.533 1757.92 201.533 1749.19 Q201.533 1740.44 204.589 1735.86 Q207.667 1731.25 213.478 1731.25 Z\" fill=\"#000000\" fill-rule=\"nonzero\" fill-opacity=\"1\" /><path clip-path=\"url(#clip060)\" d=\"M243.64 1734.96 Q240.028 1734.96 238.2 1738.52 Q236.394 1742.06 236.394 1749.19 Q236.394 1756.3 238.2 1759.86 Q240.028 1763.41 243.64 1763.41 Q247.274 1763.41 249.079 1759.86 Q250.908 1756.3 250.908 1749.19 Q250.908 1742.06 249.079 1738.52 Q247.274 1734.96 243.64 1734.96 M243.64 1731.25 Q249.45 1731.25 252.505 1735.86 Q255.584 1740.44 255.584 1749.19 Q255.584 1757.92 252.505 1762.53 Q249.45 1767.11 243.64 1767.11 Q237.829 1767.11 234.751 1762.53 Q231.695 1757.92 231.695 1749.19 Q231.695 1740.44 234.751 1735.86 Q237.829 1731.25 243.64 1731.25 Z\" fill=\"#000000\" fill-rule=\"nonzero\" fill-opacity=\"1\" /><path clip-path=\"url(#clip060)\" d=\"M139.08 1394.05 Q135.469 1394.05 133.64 1397.62 Q131.835 1401.16 131.835 1408.29 Q131.835 1415.4 133.64 1418.96 Q135.469 1422.5 139.08 1422.5 Q142.714 1422.5 144.52 1418.96 Q146.348 1415.4 146.348 1408.29 Q146.348 1401.16 144.52 1397.62 Q142.714 1394.05 139.08 1394.05 M139.08 1390.35 Q144.89 1390.35 147.946 1394.96 Q151.024 1399.54 151.024 1408.29 Q151.024 1417.02 147.946 1421.62 Q144.89 1426.21 139.08 1426.21 Q133.27 1426.21 130.191 1421.62 Q127.136 1417.02 127.136 1408.29 Q127.136 1399.54 130.191 1394.96 Q133.27 1390.35 139.08 1390.35 Z\" fill=\"#000000\" fill-rule=\"nonzero\" fill-opacity=\"1\" /><path clip-path=\"url(#clip060)\" d=\"M159.242 1419.66 L164.126 1419.66 L164.126 1425.54 L159.242 1425.54 L159.242 1419.66 Z\" fill=\"#000000\" fill-rule=\"nonzero\" fill-opacity=\"1\" /><path clip-path=\"url(#clip060)\" d=\"M184.311 1394.05 Q180.7 1394.05 178.871 1397.62 Q177.066 1401.16 177.066 1408.29 Q177.066 1415.4 178.871 1418.96 Q180.7 1422.5 184.311 1422.5 Q187.945 1422.5 189.751 1418.96 Q191.58 1415.4 191.58 1408.29 Q191.58 1401.16 189.751 1397.62 Q187.945 1394.05 184.311 1394.05 M184.311 1390.35 Q190.121 1390.35 193.177 1394.96 Q196.256 1399.54 196.256 1408.29 Q196.256 1417.02 193.177 1421.62 Q190.121 1426.21 184.311 1426.21 Q178.501 1426.21 175.422 1421.62 Q172.367 1417.02 172.367 1408.29 Q172.367 1399.54 175.422 1394.96 Q178.501 1390.35 184.311 1390.35 Z\" fill=\"#000000\" fill-rule=\"nonzero\" fill-opacity=\"1\" /><path clip-path=\"url(#clip060)\" d=\"M208.501 1421.6 L224.82 1421.6 L224.82 1425.54 L202.876 1425.54 L202.876 1421.6 Q205.538 1418.85 210.121 1414.22 Q214.728 1409.56 215.908 1408.22 Q218.154 1405.7 219.033 1403.96 Q219.936 1402.2 219.936 1400.51 Q219.936 1397.76 217.992 1396.02 Q216.07 1394.29 212.968 1394.29 Q210.769 1394.29 208.316 1395.05 Q205.885 1395.81 203.107 1397.36 L203.107 1392.64 Q205.931 1391.51 208.385 1390.93 Q210.839 1390.35 212.876 1390.35 Q218.246 1390.35 221.441 1393.04 Q224.635 1395.72 224.635 1400.21 Q224.635 1402.34 223.825 1404.26 Q223.038 1406.16 220.931 1408.75 Q220.353 1409.42 217.251 1412.64 Q214.149 1415.84 208.501 1421.6 Z\" fill=\"#000000\" fill-rule=\"nonzero\" fill-opacity=\"1\" /><path clip-path=\"url(#clip060)\" d=\"M234.681 1390.98 L253.038 1390.98 L253.038 1394.91 L238.964 1394.91 L238.964 1403.38 Q239.982 1403.04 241.001 1402.87 Q242.019 1402.69 243.038 1402.69 Q248.825 1402.69 252.204 1405.86 Q255.584 1409.03 255.584 1414.45 Q255.584 1420.03 252.112 1423.13 Q248.64 1426.21 242.32 1426.21 Q240.144 1426.21 237.876 1425.84 Q235.63 1425.47 233.223 1424.72 L233.223 1420.03 Q235.306 1421.16 237.528 1421.72 Q239.751 1422.27 242.227 1422.27 Q246.232 1422.27 248.57 1420.16 Q250.908 1418.06 250.908 1414.45 Q250.908 1410.84 248.57 1408.73 Q246.232 1406.62 242.227 1406.62 Q240.353 1406.62 238.478 1407.04 Q236.626 1407.46 234.681 1408.34 L234.681 1390.98 Z\" fill=\"#000000\" fill-rule=\"nonzero\" fill-opacity=\"1\" /><path clip-path=\"url(#clip060)\" d=\"M138.085 1053.15 Q134.473 1053.15 132.645 1056.72 Q130.839 1060.26 130.839 1067.39 Q130.839 1074.49 132.645 1078.06 Q134.473 1081.6 138.085 1081.6 Q141.719 1081.6 143.524 1078.06 Q145.353 1074.49 145.353 1067.39 Q145.353 1060.26 143.524 1056.72 Q141.719 1053.15 138.085 1053.15 M138.085 1049.45 Q143.895 1049.45 146.95 1054.05 Q150.029 1058.64 150.029 1067.39 Q150.029 1076.11 146.95 1080.72 Q143.895 1085.3 138.085 1085.3 Q132.274 1085.3 129.196 1080.72 Q126.14 1076.11 126.14 1067.39 Q126.14 1058.64 129.196 1054.05 Q132.274 1049.45 138.085 1049.45 Z\" fill=\"#000000\" fill-rule=\"nonzero\" fill-opacity=\"1\" /><path clip-path=\"url(#clip060)\" d=\"M158.246 1078.75 L163.131 1078.75 L163.131 1084.63 L158.246 1084.63 L158.246 1078.75 Z\" fill=\"#000000\" fill-rule=\"nonzero\" fill-opacity=\"1\" /><path clip-path=\"url(#clip060)\" d=\"M183.316 1053.15 Q179.705 1053.15 177.876 1056.72 Q176.07 1060.26 176.07 1067.39 Q176.07 1074.49 177.876 1078.06 Q179.705 1081.6 183.316 1081.6 Q186.95 1081.6 188.756 1078.06 Q190.584 1074.49 190.584 1067.39 Q190.584 1060.26 188.756 1056.72 Q186.95 1053.15 183.316 1053.15 M183.316 1049.45 Q189.126 1049.45 192.181 1054.05 Q195.26 1058.64 195.26 1067.39 Q195.26 1076.11 192.181 1080.72 Q189.126 1085.3 183.316 1085.3 Q177.506 1085.3 174.427 1080.72 Q171.371 1076.11 171.371 1067.39 Q171.371 1058.64 174.427 1054.05 Q177.506 1049.45 183.316 1049.45 Z\" fill=\"#000000\" fill-rule=\"nonzero\" fill-opacity=\"1\" /><path clip-path=\"url(#clip060)\" d=\"M203.524 1050.07 L221.88 1050.07 L221.88 1054.01 L207.806 1054.01 L207.806 1062.48 Q208.825 1062.13 209.843 1061.97 Q210.862 1061.78 211.88 1061.78 Q217.667 1061.78 221.047 1064.96 Q224.427 1068.13 224.427 1073.54 Q224.427 1079.12 220.954 1082.22 Q217.482 1085.3 211.163 1085.3 Q208.987 1085.3 206.718 1084.93 Q204.473 1084.56 202.066 1083.82 L202.066 1079.12 Q204.149 1080.26 206.371 1080.81 Q208.593 1081.37 211.07 1081.37 Q215.075 1081.37 217.413 1079.26 Q219.751 1077.15 219.751 1073.54 Q219.751 1069.93 217.413 1067.83 Q215.075 1065.72 211.07 1065.72 Q209.195 1065.72 207.32 1066.14 Q205.468 1066.55 203.524 1067.43 L203.524 1050.07 Z\" fill=\"#000000\" fill-rule=\"nonzero\" fill-opacity=\"1\" /><path clip-path=\"url(#clip060)\" d=\"M243.64 1053.15 Q240.028 1053.15 238.2 1056.72 Q236.394 1060.26 236.394 1067.39 Q236.394 1074.49 238.2 1078.06 Q240.028 1081.6 243.64 1081.6 Q247.274 1081.6 249.079 1078.06 Q250.908 1074.49 250.908 1067.39 Q250.908 1060.26 249.079 1056.72 Q247.274 1053.15 243.64 1053.15 M243.64 1049.45 Q249.45 1049.45 252.505 1054.05 Q255.584 1058.64 255.584 1067.39 Q255.584 1076.11 252.505 1080.72 Q249.45 1085.3 243.64 1085.3 Q237.829 1085.3 234.751 1080.72 Q231.695 1076.11 231.695 1067.39 Q231.695 1058.64 234.751 1054.05 Q237.829 1049.45 243.64 1049.45 Z\" fill=\"#000000\" fill-rule=\"nonzero\" fill-opacity=\"1\" /><path clip-path=\"url(#clip060)\" d=\"M139.08 712.247 Q135.469 712.247 133.64 715.812 Q131.835 719.354 131.835 726.483 Q131.835 733.59 133.64 737.154 Q135.469 740.696 139.08 740.696 Q142.714 740.696 144.52 737.154 Q146.348 733.59 146.348 726.483 Q146.348 719.354 144.52 715.812 Q142.714 712.247 139.08 712.247 M139.08 708.543 Q144.89 708.543 147.946 713.15 Q151.024 717.733 151.024 726.483 Q151.024 735.21 147.946 739.816 Q144.89 744.4 139.08 744.4 Q133.27 744.4 130.191 739.816 Q127.136 735.21 127.136 726.483 Q127.136 717.733 130.191 713.15 Q133.27 708.543 139.08 708.543 Z\" fill=\"#000000\" fill-rule=\"nonzero\" fill-opacity=\"1\" /><path clip-path=\"url(#clip060)\" d=\"M159.242 737.849 L164.126 737.849 L164.126 743.728 L159.242 743.728 L159.242 737.849 Z\" fill=\"#000000\" fill-rule=\"nonzero\" fill-opacity=\"1\" /><path clip-path=\"url(#clip060)\" d=\"M184.311 712.247 Q180.7 712.247 178.871 715.812 Q177.066 719.354 177.066 726.483 Q177.066 733.59 178.871 737.154 Q180.7 740.696 184.311 740.696 Q187.945 740.696 189.751 737.154 Q191.58 733.59 191.58 726.483 Q191.58 719.354 189.751 715.812 Q187.945 712.247 184.311 712.247 M184.311 708.543 Q190.121 708.543 193.177 713.15 Q196.256 717.733 196.256 726.483 Q196.256 735.21 193.177 739.816 Q190.121 744.4 184.311 744.4 Q178.501 744.4 175.422 739.816 Q172.367 735.21 172.367 726.483 Q172.367 717.733 175.422 713.15 Q178.501 708.543 184.311 708.543 Z\" fill=\"#000000\" fill-rule=\"nonzero\" fill-opacity=\"1\" /><path clip-path=\"url(#clip060)\" d=\"M203.293 709.168 L225.515 709.168 L225.515 711.159 L212.968 743.728 L208.084 743.728 L219.89 713.104 L203.293 713.104 L203.293 709.168 Z\" fill=\"#000000\" fill-rule=\"nonzero\" fill-opacity=\"1\" /><path clip-path=\"url(#clip060)\" d=\"M234.681 709.168 L253.038 709.168 L253.038 713.104 L238.964 713.104 L238.964 721.576 Q239.982 721.229 241.001 721.067 Q242.019 720.881 243.038 720.881 Q248.825 720.881 252.204 724.053 Q255.584 727.224 255.584 732.641 Q255.584 738.219 252.112 741.321 Q248.64 744.4 242.32 744.4 Q240.144 744.4 237.876 744.029 Q235.63 743.659 233.223 742.918 L233.223 738.219 Q235.306 739.354 237.528 739.909 Q239.751 740.465 242.227 740.465 Q246.232 740.465 248.57 738.358 Q250.908 736.252 250.908 732.641 Q250.908 729.029 248.57 726.923 Q246.232 724.817 242.227 724.817 Q240.353 724.817 238.478 725.233 Q236.626 725.65 234.681 726.53 L234.681 709.168 Z\" fill=\"#000000\" fill-rule=\"nonzero\" fill-opacity=\"1\" /><path clip-path=\"url(#clip060)\" d=\"M138.085 371.344 Q134.473 371.344 132.645 374.909 Q130.839 378.45 130.839 385.58 Q130.839 392.686 132.645 396.251 Q134.473 399.793 138.085 399.793 Q141.719 399.793 143.524 396.251 Q145.353 392.686 145.353 385.58 Q145.353 378.45 143.524 374.909 Q141.719 371.344 138.085 371.344 M138.085 367.64 Q143.895 367.64 146.95 372.247 Q150.029 376.83 150.029 385.58 Q150.029 394.307 146.95 398.913 Q143.895 403.497 138.085 403.497 Q132.274 403.497 129.196 398.913 Q126.14 394.307 126.14 385.58 Q126.14 376.83 129.196 372.247 Q132.274 367.64 138.085 367.64 Z\" fill=\"#000000\" fill-rule=\"nonzero\" fill-opacity=\"1\" /><path clip-path=\"url(#clip060)\" d=\"M158.246 396.946 L163.131 396.946 L163.131 402.825 L158.246 402.825 L158.246 396.946 Z\" fill=\"#000000\" fill-rule=\"nonzero\" fill-opacity=\"1\" /><path clip-path=\"url(#clip060)\" d=\"M174.126 398.89 L181.765 398.89 L181.765 372.524 L173.455 374.191 L173.455 369.932 L181.719 368.265 L186.394 368.265 L186.394 398.89 L194.033 398.89 L194.033 402.825 L174.126 402.825 L174.126 398.89 Z\" fill=\"#000000\" fill-rule=\"nonzero\" fill-opacity=\"1\" /><path clip-path=\"url(#clip060)\" d=\"M213.478 371.344 Q209.867 371.344 208.038 374.909 Q206.232 378.45 206.232 385.58 Q206.232 392.686 208.038 396.251 Q209.867 399.793 213.478 399.793 Q217.112 399.793 218.917 396.251 Q220.746 392.686 220.746 385.58 Q220.746 378.45 218.917 374.909 Q217.112 371.344 213.478 371.344 M213.478 367.64 Q219.288 367.64 222.343 372.247 Q225.422 376.83 225.422 385.58 Q225.422 394.307 222.343 398.913 Q219.288 403.497 213.478 403.497 Q207.667 403.497 204.589 398.913 Q201.533 394.307 201.533 385.58 Q201.533 376.83 204.589 372.247 Q207.667 367.64 213.478 367.64 Z\" fill=\"#000000\" fill-rule=\"nonzero\" fill-opacity=\"1\" /><path clip-path=\"url(#clip060)\" d=\"M243.64 371.344 Q240.028 371.344 238.2 374.909 Q236.394 378.45 236.394 385.58 Q236.394 392.686 238.2 396.251 Q240.028 399.793 243.64 399.793 Q247.274 399.793 249.079 396.251 Q250.908 392.686 250.908 385.58 Q250.908 378.45 249.079 374.909 Q247.274 371.344 243.64 371.344 M243.64 367.64 Q249.45 367.64 252.505 372.247 Q255.584 376.83 255.584 385.58 Q255.584 394.307 252.505 398.913 Q249.45 403.497 243.64 403.497 Q237.829 403.497 234.751 398.913 Q231.695 394.307 231.695 385.58 Q231.695 376.83 234.751 372.247 Q237.829 367.64 243.64 367.64 Z\" fill=\"#000000\" fill-rule=\"nonzero\" fill-opacity=\"1\" /><path clip-path=\"url(#clip060)\" d=\"M28.3642 1040.89 L28.3642 1000.69 L33.775 1000.69 L33.775 1017.56 L75.8842 1017.56 L75.8842 1024.02 L33.775 1024.02 L33.775 1040.89 L28.3642 1040.89 Z\" fill=\"#000000\" fill-rule=\"nonzero\" fill-opacity=\"1\" /><path clip-path=\"url(#clip060)\" d=\"M28.3642 994.487 L28.3642 988.057 L75.8842 988.057 L75.8842 994.487 L28.3642 994.487 Z\" fill=\"#000000\" fill-rule=\"nonzero\" fill-opacity=\"1\" /><path clip-path=\"url(#clip060)\" d=\"M28.3642 975.262 L28.3642 965.682 L60.7019 953.555 L28.3642 941.365 L28.3642 931.784 L75.8842 931.784 L75.8842 938.055 L34.157 938.055 L66.7494 950.309 L66.7494 956.77 L34.157 969.024 L75.8842 969.024 L75.8842 975.262 L28.3642 975.262 Z\" fill=\"#000000\" fill-rule=\"nonzero\" fill-opacity=\"1\" /><path clip-path=\"url(#clip060)\" d=\"M28.3642 919.021 L28.3642 888.975 L33.775 888.975 L33.775 912.592 L47.8432 912.592 L47.8432 889.962 L53.2541 889.962 L53.2541 912.592 L70.4733 912.592 L70.4733 888.402 L75.8842 888.402 L75.8842 919.021 L28.3642 919.021 Z\" fill=\"#000000\" fill-rule=\"nonzero\" fill-opacity=\"1\" /><path clip-path=\"url(#clip060)\" d=\"M26.359 878.631 L26.359 865.135 L30.9104 865.135 L30.9104 872.774 L79.9264 872.774 L79.9264 865.135 L84.4779 865.135 L84.4779 878.631 L26.359 878.631 Z\" fill=\"#000000\" fill-rule=\"nonzero\" fill-opacity=\"1\" /><path clip-path=\"url(#clip060)\" d=\"M41.2865 829.933 L46.8247 829.933 Q45.5516 832.416 44.915 835.089 Q44.2784 837.763 44.2784 840.627 Q44.2784 844.988 45.6152 847.184 Q46.952 849.348 49.6256 849.348 Q51.6626 849.348 52.8403 847.789 Q53.9861 846.229 55.0365 841.519 L55.4821 839.513 Q56.8189 833.275 59.2697 830.665 Q61.6886 828.023 66.0491 828.023 Q71.0144 828.023 73.9108 831.97 Q76.8072 835.885 76.8072 842.76 Q76.8072 845.625 76.2343 848.744 Q75.6932 851.831 74.5792 855.269 L68.5318 855.269 Q70.2187 852.022 71.078 848.871 Q71.9056 845.72 71.9056 842.633 Q71.9056 838.495 70.5051 836.267 Q69.0729 834.039 66.4947 834.039 Q64.1076 834.039 62.8345 835.662 Q61.5613 837.254 60.3837 842.696 L59.9062 844.733 Q58.7604 850.176 56.4051 852.595 Q54.018 855.014 49.8802 855.014 Q44.8513 855.014 42.1141 851.449 Q39.3768 847.884 39.3768 841.328 Q39.3768 838.081 39.8543 835.217 Q40.3317 832.352 41.2865 829.933 Z\" fill=\"#000000\" fill-rule=\"nonzero\" fill-opacity=\"1\" /><path clip-path=\"url(#clip060)\" d=\"M26.359 805.011 L84.4779 805.011 L84.4779 818.507 L79.9264 818.507 L79.9264 810.9 L30.9104 810.9 L30.9104 818.507 L26.359 818.507 L26.359 805.011 Z\" fill=\"#000000\" fill-rule=\"nonzero\" fill-opacity=\"1\" /><polyline clip-path=\"url(#clip062)\" style=\"stroke:#009af9; stroke-linecap:round; stroke-linejoin:round; stroke-width:4; stroke-opacity:1; fill:none\" points=\"349.919,1749.08 412.645,1748.58 538.097,1746.49 789,1728.13 1290.81,1604.38 2294.42,372.634 \"/>\n",
       "<polyline clip-path=\"url(#clip062)\" style=\"stroke:#000000; stroke-linecap:round; stroke-linejoin:round; stroke-width:4; stroke-opacity:1; fill:none\" points=\"349.919,1749.09 349.919,1749.07 \"/>\n",
       "<polyline clip-path=\"url(#clip062)\" style=\"stroke:#000000; stroke-linecap:round; stroke-linejoin:round; stroke-width:4; stroke-opacity:1; fill:none\" points=\"412.645,1748.64 412.645,1748.52 \"/>\n",
       "<polyline clip-path=\"url(#clip062)\" style=\"stroke:#000000; stroke-linecap:round; stroke-linejoin:round; stroke-width:4; stroke-opacity:1; fill:none\" points=\"538.097,1746.72 538.097,1746.26 \"/>\n",
       "<polyline clip-path=\"url(#clip062)\" style=\"stroke:#000000; stroke-linecap:round; stroke-linejoin:round; stroke-width:4; stroke-opacity:1; fill:none\" points=\"789,1729.67 789,1726.59 \"/>\n",
       "<polyline clip-path=\"url(#clip062)\" style=\"stroke:#000000; stroke-linecap:round; stroke-linejoin:round; stroke-width:4; stroke-opacity:1; fill:none\" points=\"1290.81,1618.19 1290.81,1590.56 \"/>\n",
       "<polyline clip-path=\"url(#clip062)\" style=\"stroke:#000000; stroke-linecap:round; stroke-linejoin:round; stroke-width:4; stroke-opacity:1; fill:none\" points=\"2294.42,648.456 2294.42,96.8125 \"/>\n",
       "<line clip-path=\"url(#clip062)\" x1=\"365.919\" y1=\"1749.09\" x2=\"333.919\" y2=\"1749.09\" style=\"stroke:#000000; stroke-width:4; stroke-opacity:1\"/>\n",
       "<line clip-path=\"url(#clip062)\" x1=\"365.919\" y1=\"1749.07\" x2=\"333.919\" y2=\"1749.07\" style=\"stroke:#000000; stroke-width:4; stroke-opacity:1\"/>\n",
       "<line clip-path=\"url(#clip062)\" x1=\"428.645\" y1=\"1748.64\" x2=\"396.645\" y2=\"1748.64\" style=\"stroke:#000000; stroke-width:4; stroke-opacity:1\"/>\n",
       "<line clip-path=\"url(#clip062)\" x1=\"428.645\" y1=\"1748.52\" x2=\"396.645\" y2=\"1748.52\" style=\"stroke:#000000; stroke-width:4; stroke-opacity:1\"/>\n",
       "<line clip-path=\"url(#clip062)\" x1=\"554.097\" y1=\"1746.72\" x2=\"522.097\" y2=\"1746.72\" style=\"stroke:#000000; stroke-width:4; stroke-opacity:1\"/>\n",
       "<line clip-path=\"url(#clip062)\" x1=\"554.097\" y1=\"1746.26\" x2=\"522.097\" y2=\"1746.26\" style=\"stroke:#000000; stroke-width:4; stroke-opacity:1\"/>\n",
       "<line clip-path=\"url(#clip062)\" x1=\"805\" y1=\"1729.67\" x2=\"773\" y2=\"1729.67\" style=\"stroke:#000000; stroke-width:4; stroke-opacity:1\"/>\n",
       "<line clip-path=\"url(#clip062)\" x1=\"805\" y1=\"1726.59\" x2=\"773\" y2=\"1726.59\" style=\"stroke:#000000; stroke-width:4; stroke-opacity:1\"/>\n",
       "<line clip-path=\"url(#clip062)\" x1=\"1306.81\" y1=\"1618.19\" x2=\"1274.81\" y2=\"1618.19\" style=\"stroke:#000000; stroke-width:4; stroke-opacity:1\"/>\n",
       "<line clip-path=\"url(#clip062)\" x1=\"1306.81\" y1=\"1590.56\" x2=\"1274.81\" y2=\"1590.56\" style=\"stroke:#000000; stroke-width:4; stroke-opacity:1\"/>\n",
       "<line clip-path=\"url(#clip062)\" x1=\"2310.42\" y1=\"648.456\" x2=\"2278.42\" y2=\"648.456\" style=\"stroke:#000000; stroke-width:4; stroke-opacity:1\"/>\n",
       "<line clip-path=\"url(#clip062)\" x1=\"2310.42\" y1=\"96.8125\" x2=\"2278.42\" y2=\"96.8125\" style=\"stroke:#000000; stroke-width:4; stroke-opacity:1\"/>\n",
       "<path clip-path=\"url(#clip060)\" d=\"M360.29 209.305 L680.04 209.305 L680.04 105.625 L360.29 105.625  Z\" fill=\"#ffffff\" fill-rule=\"evenodd\" fill-opacity=\"1\"/>\n",
       "<polyline clip-path=\"url(#clip060)\" style=\"stroke:#000000; stroke-linecap:round; stroke-linejoin:round; stroke-width:4; stroke-opacity:1; fill:none\" points=\"360.29,209.305 680.04,209.305 680.04,105.625 360.29,105.625 360.29,209.305 \"/>\n",
       "<polyline clip-path=\"url(#clip060)\" style=\"stroke:#009af9; stroke-linecap:round; stroke-linejoin:round; stroke-width:4; stroke-opacity:1; fill:none\" points=\"383.192,157.465 520.603,157.465 \"/>\n",
       "<path clip-path=\"url(#clip060)\" d=\"M543.505 140.185 L572.741 140.185 L572.741 144.12 L560.472 144.12 L560.472 174.745 L555.773 174.745 L555.773 144.12 L543.505 144.12 L543.505 140.185 Z\" fill=\"#000000\" fill-rule=\"nonzero\" fill-opacity=\"1\" /><path clip-path=\"url(#clip060)\" d=\"M575.611 148.819 L579.87 148.819 L579.87 174.745 L575.611 174.745 L575.611 148.819 M575.611 138.726 L579.87 138.726 L579.87 144.12 L575.611 144.12 L575.611 138.726 Z\" fill=\"#000000\" fill-rule=\"nonzero\" fill-opacity=\"1\" /><path clip-path=\"url(#clip060)\" d=\"M608.968 153.796 Q610.565 150.925 612.787 149.56 Q615.009 148.194 618.018 148.194 Q622.069 148.194 624.268 151.041 Q626.467 153.865 626.467 159.097 L626.467 174.745 L622.185 174.745 L622.185 159.235 Q622.185 155.509 620.866 153.703 Q619.546 151.898 616.838 151.898 Q613.528 151.898 611.606 154.097 Q609.685 156.296 609.685 160.092 L609.685 174.745 L605.403 174.745 L605.403 159.235 Q605.403 155.485 604.083 153.703 Q602.764 151.898 600.009 151.898 Q596.745 151.898 594.824 154.12 Q592.903 156.319 592.903 160.092 L592.903 174.745 L588.62 174.745 L588.62 148.819 L592.903 148.819 L592.903 152.847 Q594.361 150.462 596.398 149.328 Q598.435 148.194 601.236 148.194 Q604.06 148.194 606.028 149.629 Q608.018 151.064 608.968 153.796 Z\" fill=\"#000000\" fill-rule=\"nonzero\" fill-opacity=\"1\" /><path clip-path=\"url(#clip060)\" d=\"M657.139 160.717 L657.139 162.8 L637.555 162.8 Q637.833 167.198 640.194 169.513 Q642.578 171.805 646.815 171.805 Q649.268 171.805 651.56 171.203 Q653.875 170.601 656.143 169.397 L656.143 173.425 Q653.852 174.397 651.444 174.907 Q649.037 175.416 646.56 175.416 Q640.356 175.416 636.722 171.805 Q633.111 168.194 633.111 162.036 Q633.111 155.671 636.537 151.944 Q639.986 148.194 645.819 148.194 Q651.051 148.194 654.083 151.573 Q657.139 154.93 657.139 160.717 M652.879 159.467 Q652.833 155.972 650.912 153.888 Q649.014 151.805 645.865 151.805 Q642.301 151.805 640.148 153.819 Q638.018 155.833 637.694 159.49 L652.879 159.467 Z\" fill=\"#000000\" fill-rule=\"nonzero\" fill-opacity=\"1\" /></svg>\n"
      ]
     },
     "execution_count": 20,
     "metadata": {},
     "output_type": "execute_result"
    }
   ],
   "source": [
    "plot(LU_time_statistics.size, LU_time_statistics.time_mean, \n",
    "    size = (600, 500), yerr=LU_time_statistics.time_std,\n",
    "    yaxis = \"TIME[s]\", xaxis = \"Number of rows\", label=\"Time\")"
   ]
  },
  {
   "cell_type": "code",
   "execution_count": 21,
   "id": "68af4dc3",
   "metadata": {},
   "outputs": [
    {
     "data": {
      "image/svg+xml": [
       "<?xml version=\"1.0\" encoding=\"utf-8\"?>\n",
       "<svg xmlns=\"http://www.w3.org/2000/svg\" xmlns:xlink=\"http://www.w3.org/1999/xlink\" width=\"600\" height=\"500\" viewBox=\"0 0 2400 2000\">\n",
       "<defs>\n",
       "  <clipPath id=\"clip100\">\n",
       "    <rect x=\"0\" y=\"0\" width=\"2400\" height=\"2000\"/>\n",
       "  </clipPath>\n",
       "</defs>\n",
       "<path clip-path=\"url(#clip100)\" d=\"M0 2000 L2400 2000 L2400 0 L0 0  Z\" fill=\"#ffffff\" fill-rule=\"evenodd\" fill-opacity=\"1\"/>\n",
       "<defs>\n",
       "  <clipPath id=\"clip101\">\n",
       "    <rect x=\"480\" y=\"0\" width=\"1681\" height=\"1681\"/>\n",
       "  </clipPath>\n",
       "</defs>\n",
       "<path clip-path=\"url(#clip100)\" d=\"M350.284 1798.66 L2352.76 1798.66 L2352.76 47.2441 L350.284 47.2441  Z\" fill=\"#ffffff\" fill-rule=\"evenodd\" fill-opacity=\"1\"/>\n",
       "<defs>\n",
       "  <clipPath id=\"clip102\">\n",
       "    <rect x=\"350\" y=\"47\" width=\"2003\" height=\"1752\"/>\n",
       "  </clipPath>\n",
       "</defs>\n",
       "<polyline clip-path=\"url(#clip102)\" style=\"stroke:#000000; stroke-linecap:round; stroke-linejoin:round; stroke-width:2; stroke-opacity:0.1; fill:none\" points=\"650.716,1798.66 650.716,47.2441 \"/>\n",
       "<polyline clip-path=\"url(#clip102)\" style=\"stroke:#000000; stroke-linecap:round; stroke-linejoin:round; stroke-width:2; stroke-opacity:0.1; fill:none\" points=\"955.413,1798.66 955.413,47.2441 \"/>\n",
       "<polyline clip-path=\"url(#clip102)\" style=\"stroke:#000000; stroke-linecap:round; stroke-linejoin:round; stroke-width:2; stroke-opacity:0.1; fill:none\" points=\"1260.11,1798.66 1260.11,47.2441 \"/>\n",
       "<polyline clip-path=\"url(#clip102)\" style=\"stroke:#000000; stroke-linecap:round; stroke-linejoin:round; stroke-width:2; stroke-opacity:0.1; fill:none\" points=\"1564.81,1798.66 1564.81,47.2441 \"/>\n",
       "<polyline clip-path=\"url(#clip102)\" style=\"stroke:#000000; stroke-linecap:round; stroke-linejoin:round; stroke-width:2; stroke-opacity:0.1; fill:none\" points=\"1869.51,1798.66 1869.51,47.2441 \"/>\n",
       "<polyline clip-path=\"url(#clip102)\" style=\"stroke:#000000; stroke-linecap:round; stroke-linejoin:round; stroke-width:2; stroke-opacity:0.1; fill:none\" points=\"2174.2,1798.66 2174.2,47.2441 \"/>\n",
       "<polyline clip-path=\"url(#clip100)\" style=\"stroke:#000000; stroke-linecap:round; stroke-linejoin:round; stroke-width:4; stroke-opacity:1; fill:none\" points=\"350.284,1798.66 2352.76,1798.66 \"/>\n",
       "<polyline clip-path=\"url(#clip100)\" style=\"stroke:#000000; stroke-linecap:round; stroke-linejoin:round; stroke-width:4; stroke-opacity:1; fill:none\" points=\"650.716,1798.66 650.716,1779.76 \"/>\n",
       "<polyline clip-path=\"url(#clip100)\" style=\"stroke:#000000; stroke-linecap:round; stroke-linejoin:round; stroke-width:4; stroke-opacity:1; fill:none\" points=\"955.413,1798.66 955.413,1779.76 \"/>\n",
       "<polyline clip-path=\"url(#clip100)\" style=\"stroke:#000000; stroke-linecap:round; stroke-linejoin:round; stroke-width:4; stroke-opacity:1; fill:none\" points=\"1260.11,1798.66 1260.11,1779.76 \"/>\n",
       "<polyline clip-path=\"url(#clip100)\" style=\"stroke:#000000; stroke-linecap:round; stroke-linejoin:round; stroke-width:4; stroke-opacity:1; fill:none\" points=\"1564.81,1798.66 1564.81,1779.76 \"/>\n",
       "<polyline clip-path=\"url(#clip100)\" style=\"stroke:#000000; stroke-linecap:round; stroke-linejoin:round; stroke-width:4; stroke-opacity:1; fill:none\" points=\"1869.51,1798.66 1869.51,1779.76 \"/>\n",
       "<polyline clip-path=\"url(#clip100)\" style=\"stroke:#000000; stroke-linecap:round; stroke-linejoin:round; stroke-width:4; stroke-opacity:1; fill:none\" points=\"2174.2,1798.66 2174.2,1779.76 \"/>\n",
       "<path clip-path=\"url(#clip100)\" d=\"M625.404 1857.12 L633.043 1857.12 L633.043 1830.76 L624.732 1832.43 L624.732 1828.17 L632.996 1826.5 L637.672 1826.5 L637.672 1857.12 L645.311 1857.12 L645.311 1861.06 L625.404 1861.06 L625.404 1857.12 Z\" fill=\"#000000\" fill-rule=\"nonzero\" fill-opacity=\"1\" /><path clip-path=\"url(#clip100)\" d=\"M664.755 1829.58 Q661.144 1829.58 659.316 1833.14 Q657.51 1836.68 657.51 1843.81 Q657.51 1850.92 659.316 1854.49 Q661.144 1858.03 664.755 1858.03 Q668.39 1858.03 670.195 1854.49 Q672.024 1850.92 672.024 1843.81 Q672.024 1836.68 670.195 1833.14 Q668.39 1829.58 664.755 1829.58 M664.755 1825.87 Q670.565 1825.87 673.621 1830.48 Q676.7 1835.06 676.7 1843.81 Q676.7 1852.54 673.621 1857.15 Q670.565 1861.73 664.755 1861.73 Q658.945 1861.73 655.867 1857.15 Q652.811 1852.54 652.811 1843.81 Q652.811 1835.06 655.867 1830.48 Q658.945 1825.87 664.755 1825.87 Z\" fill=\"#000000\" fill-rule=\"nonzero\" fill-opacity=\"1\" /><path clip-path=\"url(#clip100)\" d=\"M934.187 1857.12 L950.506 1857.12 L950.506 1861.06 L928.562 1861.06 L928.562 1857.12 Q931.224 1854.37 935.807 1849.74 Q940.414 1845.09 941.594 1843.75 Q943.839 1841.22 944.719 1839.49 Q945.622 1837.73 945.622 1836.04 Q945.622 1833.28 943.677 1831.55 Q941.756 1829.81 938.654 1829.81 Q936.455 1829.81 934.002 1830.57 Q931.571 1831.34 928.793 1832.89 L928.793 1828.17 Q931.617 1827.03 934.071 1826.45 Q936.525 1825.87 938.562 1825.87 Q943.932 1825.87 947.127 1828.56 Q950.321 1831.25 950.321 1835.74 Q950.321 1837.87 949.511 1839.79 Q948.724 1841.68 946.617 1844.28 Q946.039 1844.95 942.937 1848.17 Q939.835 1851.36 934.187 1857.12 Z\" fill=\"#000000\" fill-rule=\"nonzero\" fill-opacity=\"1\" /><path clip-path=\"url(#clip100)\" d=\"M970.321 1829.58 Q966.71 1829.58 964.881 1833.14 Q963.075 1836.68 963.075 1843.81 Q963.075 1850.92 964.881 1854.49 Q966.71 1858.03 970.321 1858.03 Q973.955 1858.03 975.761 1854.49 Q977.589 1850.92 977.589 1843.81 Q977.589 1836.68 975.761 1833.14 Q973.955 1829.58 970.321 1829.58 M970.321 1825.87 Q976.131 1825.87 979.187 1830.48 Q982.265 1835.06 982.265 1843.81 Q982.265 1852.54 979.187 1857.15 Q976.131 1861.73 970.321 1861.73 Q964.511 1861.73 961.432 1857.15 Q958.376 1852.54 958.376 1843.81 Q958.376 1835.06 961.432 1830.48 Q964.511 1825.87 970.321 1825.87 Z\" fill=\"#000000\" fill-rule=\"nonzero\" fill-opacity=\"1\" /><path clip-path=\"url(#clip100)\" d=\"M1248.95 1842.43 Q1252.31 1843.14 1254.19 1845.41 Q1256.08 1847.68 1256.08 1851.01 Q1256.08 1856.13 1252.56 1858.93 Q1249.05 1861.73 1242.56 1861.73 Q1240.39 1861.73 1238.07 1861.29 Q1235.78 1860.87 1233.33 1860.02 L1233.33 1855.5 Q1235.27 1856.64 1237.59 1857.22 Q1239.9 1857.8 1242.43 1857.8 Q1246.82 1857.8 1249.12 1856.06 Q1251.43 1854.32 1251.43 1851.01 Q1251.43 1847.96 1249.28 1846.25 Q1247.15 1844.51 1243.33 1844.51 L1239.3 1844.51 L1239.3 1840.67 L1243.51 1840.67 Q1246.96 1840.67 1248.79 1839.3 Q1250.62 1837.91 1250.62 1835.32 Q1250.62 1832.66 1248.72 1831.25 Q1246.85 1829.81 1243.33 1829.81 Q1241.41 1829.81 1239.21 1830.23 Q1237.01 1830.64 1234.37 1831.52 L1234.37 1827.36 Q1237.03 1826.62 1239.35 1826.25 Q1241.69 1825.87 1243.75 1825.87 Q1249.07 1825.87 1252.17 1828.31 Q1255.27 1830.71 1255.27 1834.83 Q1255.27 1837.7 1253.63 1839.69 Q1251.99 1841.66 1248.95 1842.43 Z\" fill=\"#000000\" fill-rule=\"nonzero\" fill-opacity=\"1\" /><path clip-path=\"url(#clip100)\" d=\"M1274.95 1829.58 Q1271.34 1829.58 1269.51 1833.14 Q1267.7 1836.68 1267.7 1843.81 Q1267.7 1850.92 1269.51 1854.49 Q1271.34 1858.03 1274.95 1858.03 Q1278.58 1858.03 1280.39 1854.49 Q1282.22 1850.92 1282.22 1843.81 Q1282.22 1836.68 1280.39 1833.14 Q1278.58 1829.58 1274.95 1829.58 M1274.95 1825.87 Q1280.76 1825.87 1283.81 1830.48 Q1286.89 1835.06 1286.89 1843.81 Q1286.89 1852.54 1283.81 1857.15 Q1280.76 1861.73 1274.95 1861.73 Q1269.14 1861.73 1266.06 1857.15 Q1263 1852.54 1263 1843.81 Q1263 1835.06 1266.06 1830.48 Q1269.14 1825.87 1274.95 1825.87 Z\" fill=\"#000000\" fill-rule=\"nonzero\" fill-opacity=\"1\" /><path clip-path=\"url(#clip100)\" d=\"M1552.98 1830.57 L1541.17 1849.02 L1552.98 1849.02 L1552.98 1830.57 M1551.75 1826.5 L1557.63 1826.5 L1557.63 1849.02 L1562.56 1849.02 L1562.56 1852.91 L1557.63 1852.91 L1557.63 1861.06 L1552.98 1861.06 L1552.98 1852.91 L1537.38 1852.91 L1537.38 1848.4 L1551.75 1826.5 Z\" fill=\"#000000\" fill-rule=\"nonzero\" fill-opacity=\"1\" /><path clip-path=\"url(#clip100)\" d=\"M1580.29 1829.58 Q1576.68 1829.58 1574.85 1833.14 Q1573.05 1836.68 1573.05 1843.81 Q1573.05 1850.92 1574.85 1854.49 Q1576.68 1858.03 1580.29 1858.03 Q1583.93 1858.03 1585.73 1854.49 Q1587.56 1850.92 1587.56 1843.81 Q1587.56 1836.68 1585.73 1833.14 Q1583.93 1829.58 1580.29 1829.58 M1580.29 1825.87 Q1586.1 1825.87 1589.16 1830.48 Q1592.24 1835.06 1592.24 1843.81 Q1592.24 1852.54 1589.16 1857.15 Q1586.1 1861.73 1580.29 1861.73 Q1574.48 1861.73 1571.41 1857.15 Q1568.35 1852.54 1568.35 1843.81 Q1568.35 1835.06 1571.41 1830.48 Q1574.48 1825.87 1580.29 1825.87 Z\" fill=\"#000000\" fill-rule=\"nonzero\" fill-opacity=\"1\" /><path clip-path=\"url(#clip100)\" d=\"M1844.2 1826.5 L1862.56 1826.5 L1862.56 1830.44 L1848.49 1830.44 L1848.49 1838.91 Q1849.51 1838.56 1850.52 1838.4 Q1851.54 1838.21 1852.56 1838.21 Q1858.35 1838.21 1861.73 1841.38 Q1865.11 1844.56 1865.11 1849.97 Q1865.11 1855.55 1861.64 1858.65 Q1858.16 1861.73 1851.84 1861.73 Q1849.67 1861.73 1847.4 1861.36 Q1845.15 1860.99 1842.75 1860.25 L1842.75 1855.55 Q1844.83 1856.68 1847.05 1857.24 Q1849.27 1857.8 1851.75 1857.8 Q1855.76 1857.8 1858.09 1855.69 Q1860.43 1853.58 1860.43 1849.97 Q1860.43 1846.36 1858.09 1844.25 Q1855.76 1842.15 1851.75 1842.15 Q1849.88 1842.15 1848 1842.56 Q1846.15 1842.98 1844.2 1843.86 L1844.2 1826.5 Z\" fill=\"#000000\" fill-rule=\"nonzero\" fill-opacity=\"1\" /><path clip-path=\"url(#clip100)\" d=\"M1884.32 1829.58 Q1880.71 1829.58 1878.88 1833.14 Q1877.08 1836.68 1877.08 1843.81 Q1877.08 1850.92 1878.88 1854.49 Q1880.71 1858.03 1884.32 1858.03 Q1887.95 1858.03 1889.76 1854.49 Q1891.59 1850.92 1891.59 1843.81 Q1891.59 1836.68 1889.76 1833.14 Q1887.95 1829.58 1884.32 1829.58 M1884.32 1825.87 Q1890.13 1825.87 1893.19 1830.48 Q1896.26 1835.06 1896.26 1843.81 Q1896.26 1852.54 1893.19 1857.15 Q1890.13 1861.73 1884.32 1861.73 Q1878.51 1861.73 1875.43 1857.15 Q1872.38 1852.54 1872.38 1843.81 Q1872.38 1835.06 1875.43 1830.48 Q1878.51 1825.87 1884.32 1825.87 Z\" fill=\"#000000\" fill-rule=\"nonzero\" fill-opacity=\"1\" /><path clip-path=\"url(#clip100)\" d=\"M2159.61 1841.92 Q2156.46 1841.92 2154.61 1844.07 Q2152.78 1846.22 2152.78 1849.97 Q2152.78 1853.7 2154.61 1855.87 Q2156.46 1858.03 2159.61 1858.03 Q2162.76 1858.03 2164.59 1855.87 Q2166.44 1853.7 2166.44 1849.97 Q2166.44 1846.22 2164.59 1844.07 Q2162.76 1841.92 2159.61 1841.92 M2168.89 1827.26 L2168.89 1831.52 Q2167.13 1830.69 2165.33 1830.25 Q2163.54 1829.81 2161.78 1829.81 Q2157.15 1829.81 2154.7 1832.93 Q2152.27 1836.06 2151.92 1842.38 Q2153.29 1840.37 2155.35 1839.3 Q2157.41 1838.21 2159.89 1838.21 Q2165.09 1838.21 2168.1 1841.38 Q2171.14 1844.53 2171.14 1849.97 Q2171.14 1855.3 2167.99 1858.51 Q2164.84 1861.73 2159.61 1861.73 Q2153.61 1861.73 2150.44 1857.15 Q2147.27 1852.54 2147.27 1843.81 Q2147.27 1835.62 2151.16 1830.76 Q2155.05 1825.87 2161.6 1825.87 Q2163.36 1825.87 2165.14 1826.22 Q2166.95 1826.57 2168.89 1827.26 Z\" fill=\"#000000\" fill-rule=\"nonzero\" fill-opacity=\"1\" /><path clip-path=\"url(#clip100)\" d=\"M2189.19 1829.58 Q2185.58 1829.58 2183.75 1833.14 Q2181.95 1836.68 2181.95 1843.81 Q2181.95 1850.92 2183.75 1854.49 Q2185.58 1858.03 2189.19 1858.03 Q2192.83 1858.03 2194.63 1854.49 Q2196.46 1850.92 2196.46 1843.81 Q2196.46 1836.68 2194.63 1833.14 Q2192.83 1829.58 2189.19 1829.58 M2189.19 1825.87 Q2195 1825.87 2198.06 1830.48 Q2201.14 1835.06 2201.14 1843.81 Q2201.14 1852.54 2198.06 1857.15 Q2195 1861.73 2189.19 1861.73 Q2183.38 1861.73 2180.3 1857.15 Q2177.25 1852.54 2177.25 1843.81 Q2177.25 1835.06 2180.3 1830.48 Q2183.38 1825.87 2189.19 1825.87 Z\" fill=\"#000000\" fill-rule=\"nonzero\" fill-opacity=\"1\" /><path clip-path=\"url(#clip100)\" d=\"M1096.99 1896 L1105.64 1896 L1126.72 1935.76 L1126.72 1896 L1132.95 1896 L1132.95 1943.52 L1124.3 1943.52 L1103.23 1903.77 L1103.23 1943.52 L1096.99 1943.52 L1096.99 1896 Z\" fill=\"#000000\" fill-rule=\"nonzero\" fill-opacity=\"1\" /><path clip-path=\"url(#clip100)\" d=\"M1144.89 1929.46 L1144.89 1907.88 L1150.75 1907.88 L1150.75 1929.23 Q1150.75 1934.29 1152.72 1936.84 Q1154.69 1939.35 1158.64 1939.35 Q1163.38 1939.35 1166.12 1936.33 Q1168.89 1933.31 1168.89 1928.09 L1168.89 1907.88 L1174.74 1907.88 L1174.74 1943.52 L1168.89 1943.52 L1168.89 1938.05 Q1166.76 1941.3 1163.92 1942.89 Q1161.12 1944.45 1157.4 1944.45 Q1151.26 1944.45 1148.07 1940.63 Q1144.89 1936.81 1144.89 1929.46 M1159.63 1907.02 L1159.63 1907.02 Z\" fill=\"#000000\" fill-rule=\"nonzero\" fill-opacity=\"1\" /><path clip-path=\"url(#clip100)\" d=\"M1214.56 1914.72 Q1216.76 1910.77 1219.81 1908.89 Q1222.87 1907.02 1227.01 1907.02 Q1232.58 1907.02 1235.6 1910.93 Q1238.62 1914.81 1238.62 1922.01 L1238.62 1943.52 L1232.74 1943.52 L1232.74 1922.2 Q1232.74 1917.07 1230.92 1914.59 Q1229.11 1912.11 1225.38 1912.11 Q1220.83 1912.11 1218.19 1915.13 Q1215.55 1918.16 1215.55 1923.38 L1215.55 1943.52 L1209.66 1943.52 L1209.66 1922.2 Q1209.66 1917.04 1207.85 1914.59 Q1206.03 1912.11 1202.24 1912.11 Q1197.76 1912.11 1195.11 1915.16 Q1192.47 1918.19 1192.47 1923.38 L1192.47 1943.52 L1186.58 1943.52 L1186.58 1907.88 L1192.47 1907.88 L1192.47 1913.41 Q1194.48 1910.14 1197.28 1908.58 Q1200.08 1907.02 1203.93 1907.02 Q1207.81 1907.02 1210.52 1908.99 Q1213.26 1910.96 1214.56 1914.72 Z\" fill=\"#000000\" fill-rule=\"nonzero\" fill-opacity=\"1\" /><path clip-path=\"url(#clip100)\" d=\"M1275.9 1925.73 Q1275.9 1919.27 1273.22 1915.61 Q1270.58 1911.92 1265.93 1911.92 Q1261.29 1911.92 1258.61 1915.61 Q1255.97 1919.27 1255.97 1925.73 Q1255.97 1932.19 1258.61 1935.88 Q1261.29 1939.55 1265.93 1939.55 Q1270.58 1939.55 1273.22 1935.88 Q1275.9 1932.19 1275.9 1925.73 M1255.97 1913.29 Q1257.82 1910.1 1260.62 1908.58 Q1263.45 1907.02 1267.37 1907.02 Q1273.86 1907.02 1277.9 1912.17 Q1281.97 1917.33 1281.97 1925.73 Q1281.97 1934.13 1277.9 1939.29 Q1273.86 1944.45 1267.37 1944.45 Q1263.45 1944.45 1260.62 1942.92 Q1257.82 1941.36 1255.97 1938.18 L1255.97 1943.52 L1250.08 1943.52 L1250.08 1894 L1255.97 1894 L1255.97 1913.29 Z\" fill=\"#000000\" fill-rule=\"nonzero\" fill-opacity=\"1\" /><path clip-path=\"url(#clip100)\" d=\"M1322.17 1924.24 L1322.17 1927.1 L1295.25 1927.1 Q1295.63 1933.15 1298.88 1936.33 Q1302.15 1939.48 1307.98 1939.48 Q1311.35 1939.48 1314.5 1938.65 Q1317.69 1937.83 1320.81 1936.17 L1320.81 1941.71 Q1317.65 1943.05 1314.34 1943.75 Q1311.03 1944.45 1307.63 1944.45 Q1299.1 1944.45 1294.1 1939.48 Q1289.14 1934.52 1289.14 1926.05 Q1289.14 1917.3 1293.85 1912.17 Q1298.59 1907.02 1306.61 1907.02 Q1313.8 1907.02 1317.97 1911.66 Q1322.17 1916.28 1322.17 1924.24 M1316.32 1922.52 Q1316.25 1917.71 1313.61 1914.85 Q1311 1911.98 1306.67 1911.98 Q1301.77 1911.98 1298.81 1914.75 Q1295.88 1917.52 1295.44 1922.55 L1316.32 1922.52 Z\" fill=\"#000000\" fill-rule=\"nonzero\" fill-opacity=\"1\" /><path clip-path=\"url(#clip100)\" d=\"M1352.44 1913.35 Q1351.46 1912.78 1350.28 1912.52 Q1349.13 1912.24 1347.73 1912.24 Q1342.77 1912.24 1340.09 1915.48 Q1337.45 1918.7 1337.45 1924.75 L1337.45 1943.52 L1331.56 1943.52 L1331.56 1907.88 L1337.45 1907.88 L1337.45 1913.41 Q1339.3 1910.17 1342.26 1908.61 Q1345.22 1907.02 1349.45 1907.02 Q1350.06 1907.02 1350.79 1907.11 Q1351.52 1907.18 1352.41 1907.33 L1352.44 1913.35 Z\" fill=\"#000000\" fill-rule=\"nonzero\" fill-opacity=\"1\" /><path clip-path=\"url(#clip100)\" d=\"M1393.12 1911.98 Q1388.41 1911.98 1385.67 1915.67 Q1382.93 1919.33 1382.93 1925.73 Q1382.93 1932.13 1385.64 1935.82 Q1388.38 1939.48 1393.12 1939.48 Q1397.8 1939.48 1400.54 1935.79 Q1403.27 1932.1 1403.27 1925.73 Q1403.27 1919.4 1400.54 1915.71 Q1397.8 1911.98 1393.12 1911.98 M1393.12 1907.02 Q1400.76 1907.02 1405.12 1911.98 Q1409.48 1916.95 1409.48 1925.73 Q1409.48 1934.48 1405.12 1939.48 Q1400.76 1944.45 1393.12 1944.45 Q1385.45 1944.45 1381.09 1939.48 Q1376.76 1934.48 1376.76 1925.73 Q1376.76 1916.95 1381.09 1911.98 Q1385.45 1907.02 1393.12 1907.02 Z\" fill=\"#000000\" fill-rule=\"nonzero\" fill-opacity=\"1\" /><path clip-path=\"url(#clip100)\" d=\"M1437.23 1894 L1437.23 1898.87 L1431.63 1898.87 Q1428.48 1898.87 1427.24 1900.14 Q1426.03 1901.41 1426.03 1904.72 L1426.03 1907.88 L1435.67 1907.88 L1435.67 1912.43 L1426.03 1912.43 L1426.03 1943.52 L1420.14 1943.52 L1420.14 1912.43 L1414.54 1912.43 L1414.54 1907.88 L1420.14 1907.88 L1420.14 1905.39 Q1420.14 1899.44 1422.91 1896.74 Q1425.68 1894 1431.7 1894 L1437.23 1894 Z\" fill=\"#000000\" fill-rule=\"nonzero\" fill-opacity=\"1\" /><path clip-path=\"url(#clip100)\" d=\"M1483.51 1913.35 Q1482.53 1912.78 1481.35 1912.52 Q1480.2 1912.24 1478.8 1912.24 Q1473.84 1912.24 1471.16 1915.48 Q1468.52 1918.7 1468.52 1924.75 L1468.52 1943.52 L1462.63 1943.52 L1462.63 1907.88 L1468.52 1907.88 L1468.52 1913.41 Q1470.37 1910.17 1473.33 1908.61 Q1476.29 1907.02 1480.52 1907.02 Q1481.13 1907.02 1481.86 1907.11 Q1482.59 1907.18 1483.48 1907.33 L1483.51 1913.35 Z\" fill=\"#000000\" fill-rule=\"nonzero\" fill-opacity=\"1\" /><path clip-path=\"url(#clip100)\" d=\"M1502.04 1911.98 Q1497.33 1911.98 1494.59 1915.67 Q1491.85 1919.33 1491.85 1925.73 Q1491.85 1932.13 1494.56 1935.82 Q1497.29 1939.48 1502.04 1939.48 Q1506.72 1939.48 1509.45 1935.79 Q1512.19 1932.1 1512.19 1925.73 Q1512.19 1919.4 1509.45 1915.71 Q1506.72 1911.98 1502.04 1911.98 M1502.04 1907.02 Q1509.68 1907.02 1514.04 1911.98 Q1518.4 1916.95 1518.4 1925.73 Q1518.4 1934.48 1514.04 1939.48 Q1509.68 1944.45 1502.04 1944.45 Q1494.37 1944.45 1490.01 1939.48 Q1485.68 1934.48 1485.68 1925.73 Q1485.68 1916.95 1490.01 1911.98 Q1494.37 1907.02 1502.04 1907.02 Z\" fill=\"#000000\" fill-rule=\"nonzero\" fill-opacity=\"1\" /><path clip-path=\"url(#clip100)\" d=\"M1524.7 1907.88 L1530.56 1907.88 L1537.88 1935.69 L1545.16 1907.88 L1552.07 1907.88 L1559.39 1935.69 L1566.68 1907.88 L1572.54 1907.88 L1563.21 1943.52 L1556.3 1943.52 L1548.63 1914.31 L1540.93 1943.52 L1534.02 1943.52 L1524.7 1907.88 Z\" fill=\"#000000\" fill-rule=\"nonzero\" fill-opacity=\"1\" /><path clip-path=\"url(#clip100)\" d=\"M1604.14 1908.93 L1604.14 1914.46 Q1601.66 1913.19 1598.99 1912.55 Q1596.31 1911.92 1593.45 1911.92 Q1589.09 1911.92 1586.89 1913.25 Q1584.73 1914.59 1584.73 1917.27 Q1584.73 1919.3 1586.29 1920.48 Q1587.85 1921.63 1592.56 1922.68 L1594.56 1923.12 Q1600.8 1924.46 1603.41 1926.91 Q1606.05 1929.33 1606.05 1933.69 Q1606.05 1938.65 1602.11 1941.55 Q1598.19 1944.45 1591.32 1944.45 Q1588.45 1944.45 1585.33 1943.87 Q1582.25 1943.33 1578.81 1942.22 L1578.81 1936.17 Q1582.05 1937.86 1585.21 1938.72 Q1588.36 1939.55 1591.44 1939.55 Q1595.58 1939.55 1597.81 1938.14 Q1600.04 1936.71 1600.04 1934.13 Q1600.04 1931.75 1598.41 1930.47 Q1596.82 1929.2 1591.38 1928.02 L1589.34 1927.55 Q1583.9 1926.4 1581.48 1924.04 Q1579.06 1921.66 1579.06 1917.52 Q1579.06 1912.49 1582.63 1909.75 Q1586.19 1907.02 1592.75 1907.02 Q1596 1907.02 1598.86 1907.49 Q1601.72 1907.97 1604.14 1908.93 Z\" fill=\"#000000\" fill-rule=\"nonzero\" fill-opacity=\"1\" /><polyline clip-path=\"url(#clip102)\" style=\"stroke:#000000; stroke-linecap:round; stroke-linejoin:round; stroke-width:2; stroke-opacity:0.1; fill:none\" points=\"350.284,1749.13 2352.76,1749.13 \"/>\n",
       "<polyline clip-path=\"url(#clip102)\" style=\"stroke:#000000; stroke-linecap:round; stroke-linejoin:round; stroke-width:2; stroke-opacity:0.1; fill:none\" points=\"350.284,1359.03 2352.76,1359.03 \"/>\n",
       "<polyline clip-path=\"url(#clip102)\" style=\"stroke:#000000; stroke-linecap:round; stroke-linejoin:round; stroke-width:2; stroke-opacity:0.1; fill:none\" points=\"350.284,968.931 2352.76,968.931 \"/>\n",
       "<polyline clip-path=\"url(#clip102)\" style=\"stroke:#000000; stroke-linecap:round; stroke-linejoin:round; stroke-width:2; stroke-opacity:0.1; fill:none\" points=\"350.284,578.83 2352.76,578.83 \"/>\n",
       "<polyline clip-path=\"url(#clip102)\" style=\"stroke:#000000; stroke-linecap:round; stroke-linejoin:round; stroke-width:2; stroke-opacity:0.1; fill:none\" points=\"350.284,188.728 2352.76,188.728 \"/>\n",
       "<polyline clip-path=\"url(#clip100)\" style=\"stroke:#000000; stroke-linecap:round; stroke-linejoin:round; stroke-width:4; stroke-opacity:1; fill:none\" points=\"350.284,1798.66 350.284,47.2441 \"/>\n",
       "<polyline clip-path=\"url(#clip100)\" style=\"stroke:#000000; stroke-linecap:round; stroke-linejoin:round; stroke-width:4; stroke-opacity:1; fill:none\" points=\"350.284,1749.13 369.182,1749.13 \"/>\n",
       "<polyline clip-path=\"url(#clip100)\" style=\"stroke:#000000; stroke-linecap:round; stroke-linejoin:round; stroke-width:4; stroke-opacity:1; fill:none\" points=\"350.284,1359.03 369.182,1359.03 \"/>\n",
       "<polyline clip-path=\"url(#clip100)\" style=\"stroke:#000000; stroke-linecap:round; stroke-linejoin:round; stroke-width:4; stroke-opacity:1; fill:none\" points=\"350.284,968.931 369.182,968.931 \"/>\n",
       "<polyline clip-path=\"url(#clip100)\" style=\"stroke:#000000; stroke-linecap:round; stroke-linejoin:round; stroke-width:4; stroke-opacity:1; fill:none\" points=\"350.284,578.83 369.182,578.83 \"/>\n",
       "<polyline clip-path=\"url(#clip100)\" style=\"stroke:#000000; stroke-linecap:round; stroke-linejoin:round; stroke-width:4; stroke-opacity:1; fill:none\" points=\"350.284,188.728 369.182,188.728 \"/>\n",
       "<path clip-path=\"url(#clip100)\" d=\"M302.34 1734.93 Q298.729 1734.93 296.9 1738.5 Q295.095 1742.04 295.095 1749.17 Q295.095 1756.28 296.9 1759.84 Q298.729 1763.38 302.34 1763.38 Q305.974 1763.38 307.78 1759.84 Q309.609 1756.28 309.609 1749.17 Q309.609 1742.04 307.78 1738.5 Q305.974 1734.93 302.34 1734.93 M302.34 1731.23 Q308.15 1731.23 311.206 1735.84 Q314.284 1740.42 314.284 1749.17 Q314.284 1757.9 311.206 1762.5 Q308.15 1767.09 302.34 1767.09 Q296.53 1767.09 293.451 1762.5 Q290.396 1757.9 290.396 1749.17 Q290.396 1740.42 293.451 1735.84 Q296.53 1731.23 302.34 1731.23 Z\" fill=\"#000000\" fill-rule=\"nonzero\" fill-opacity=\"1\" /><path clip-path=\"url(#clip100)\" d=\"M132.923 1378.83 L149.242 1378.83 L149.242 1382.76 L127.298 1382.76 L127.298 1378.83 Q129.96 1376.07 134.543 1371.44 Q139.149 1366.79 140.33 1365.45 Q142.575 1362.92 143.455 1361.19 Q144.358 1359.43 144.358 1357.74 Q144.358 1354.98 142.413 1353.25 Q140.492 1351.51 137.39 1351.51 Q135.191 1351.51 132.737 1352.27 Q130.307 1353.04 127.529 1354.59 L127.529 1349.87 Q130.353 1348.73 132.807 1348.15 Q135.26 1347.58 137.298 1347.58 Q142.668 1347.58 145.862 1350.26 Q149.057 1352.95 149.057 1357.44 Q149.057 1359.57 148.247 1361.49 Q147.459 1363.39 145.353 1365.98 Q144.774 1366.65 141.672 1369.87 Q138.571 1373.06 132.923 1378.83 Z\" fill=\"#000000\" fill-rule=\"nonzero\" fill-opacity=\"1\" /><path clip-path=\"url(#clip100)\" d=\"M159.057 1376.88 L163.941 1376.88 L163.941 1382.76 L159.057 1382.76 L159.057 1376.88 Z\" fill=\"#000000\" fill-rule=\"nonzero\" fill-opacity=\"1\" /><path clip-path=\"url(#clip100)\" d=\"M184.126 1351.28 Q180.515 1351.28 178.686 1354.84 Q176.881 1358.39 176.881 1365.52 Q176.881 1372.62 178.686 1376.19 Q180.515 1379.73 184.126 1379.73 Q187.76 1379.73 189.566 1376.19 Q191.394 1372.62 191.394 1365.52 Q191.394 1358.39 189.566 1354.84 Q187.76 1351.28 184.126 1351.28 M184.126 1347.58 Q189.936 1347.58 192.992 1352.18 Q196.07 1356.77 196.07 1365.52 Q196.07 1374.24 192.992 1378.85 Q189.936 1383.43 184.126 1383.43 Q178.316 1383.43 175.237 1378.85 Q172.182 1374.24 172.182 1365.52 Q172.182 1356.77 175.237 1352.18 Q178.316 1347.58 184.126 1347.58 Z\" fill=\"#000000\" fill-rule=\"nonzero\" fill-opacity=\"1\" /><path clip-path=\"url(#clip100)\" d=\"M232.459 1357.3 L221.88 1367.92 L232.459 1378.5 L229.704 1381.3 L219.079 1370.68 L208.455 1381.3 L205.723 1378.5 L216.279 1367.92 L205.723 1357.3 L208.455 1354.5 L219.079 1365.12 L229.704 1354.5 L232.459 1357.3 Z\" fill=\"#000000\" fill-rule=\"nonzero\" fill-opacity=\"1\" /><path clip-path=\"url(#clip100)\" d=\"M244.82 1378.83 L252.459 1378.83 L252.459 1352.46 L244.149 1354.13 L244.149 1349.87 L252.413 1348.2 L257.089 1348.2 L257.089 1378.83 L264.727 1378.83 L264.727 1382.76 L244.82 1382.76 L244.82 1378.83 Z\" fill=\"#000000\" fill-rule=\"nonzero\" fill-opacity=\"1\" /><path clip-path=\"url(#clip100)\" d=\"M284.172 1351.28 Q280.561 1351.28 278.732 1354.84 Q276.926 1358.39 276.926 1365.52 Q276.926 1372.62 278.732 1376.19 Q280.561 1379.73 284.172 1379.73 Q287.806 1379.73 289.612 1376.19 Q291.44 1372.62 291.44 1365.52 Q291.44 1358.39 289.612 1354.84 Q287.806 1351.28 284.172 1351.28 M284.172 1347.58 Q289.982 1347.58 293.037 1352.18 Q296.116 1356.77 296.116 1365.52 Q296.116 1374.24 293.037 1378.85 Q289.982 1383.43 284.172 1383.43 Q278.362 1383.43 275.283 1378.85 Q272.227 1374.24 272.227 1365.52 Q272.227 1356.77 275.283 1352.18 Q278.362 1347.58 284.172 1347.58 Z\" fill=\"#000000\" fill-rule=\"nonzero\" fill-opacity=\"1\" /><path clip-path=\"url(#clip100)\" d=\"M297.301 1327.27 L312.216 1327.27 L312.216 1330.47 L300.78 1330.47 L300.78 1337.35 Q301.608 1337.07 302.436 1336.94 Q303.263 1336.79 304.091 1336.79 Q308.793 1336.79 311.538 1339.36 Q314.284 1341.94 314.284 1346.34 Q314.284 1350.87 311.463 1353.39 Q308.642 1355.9 303.508 1355.9 Q301.74 1355.9 299.896 1355.59 Q298.072 1355.29 296.116 1354.69 L296.116 1350.87 Q297.809 1351.8 299.614 1352.25 Q301.42 1352.7 303.432 1352.7 Q306.686 1352.7 308.586 1350.99 Q310.485 1349.28 310.485 1346.34 Q310.485 1343.41 308.586 1341.7 Q306.686 1339.98 303.432 1339.98 Q301.909 1339.98 300.385 1340.32 Q298.881 1340.66 297.301 1341.38 L297.301 1327.27 Z\" fill=\"#000000\" fill-rule=\"nonzero\" fill-opacity=\"1\" /><path clip-path=\"url(#clip100)\" d=\"M141.742 962.173 L129.936 980.622 L141.742 980.622 L141.742 962.173 M140.515 958.099 L146.395 958.099 L146.395 980.622 L151.325 980.622 L151.325 984.511 L146.395 984.511 L146.395 992.659 L141.742 992.659 L141.742 984.511 L126.14 984.511 L126.14 979.997 L140.515 958.099 Z\" fill=\"#000000\" fill-rule=\"nonzero\" fill-opacity=\"1\" /><path clip-path=\"url(#clip100)\" d=\"M159.057 986.779 L163.941 986.779 L163.941 992.659 L159.057 992.659 L159.057 986.779 Z\" fill=\"#000000\" fill-rule=\"nonzero\" fill-opacity=\"1\" /><path clip-path=\"url(#clip100)\" d=\"M184.126 961.178 Q180.515 961.178 178.686 964.742 Q176.881 968.284 176.881 975.414 Q176.881 982.52 178.686 986.085 Q180.515 989.626 184.126 989.626 Q187.76 989.626 189.566 986.085 Q191.394 982.52 191.394 975.414 Q191.394 968.284 189.566 964.742 Q187.76 961.178 184.126 961.178 M184.126 957.474 Q189.936 957.474 192.992 962.08 Q196.07 966.664 196.07 975.414 Q196.07 984.14 192.992 988.747 Q189.936 993.33 184.126 993.33 Q178.316 993.33 175.237 988.747 Q172.182 984.14 172.182 975.414 Q172.182 966.664 175.237 962.08 Q178.316 957.474 184.126 957.474 Z\" fill=\"#000000\" fill-rule=\"nonzero\" fill-opacity=\"1\" /><path clip-path=\"url(#clip100)\" d=\"M232.459 967.196 L221.88 977.821 L232.459 988.4 L229.704 991.201 L219.079 980.576 L208.455 991.201 L205.723 988.4 L216.279 977.821 L205.723 967.196 L208.455 964.395 L219.079 975.02 L229.704 964.395 L232.459 967.196 Z\" fill=\"#000000\" fill-rule=\"nonzero\" fill-opacity=\"1\" /><path clip-path=\"url(#clip100)\" d=\"M244.82 988.724 L252.459 988.724 L252.459 962.358 L244.149 964.025 L244.149 959.766 L252.413 958.099 L257.089 958.099 L257.089 988.724 L264.727 988.724 L264.727 992.659 L244.82 992.659 L244.82 988.724 Z\" fill=\"#000000\" fill-rule=\"nonzero\" fill-opacity=\"1\" /><path clip-path=\"url(#clip100)\" d=\"M284.172 961.178 Q280.561 961.178 278.732 964.742 Q276.926 968.284 276.926 975.414 Q276.926 982.52 278.732 986.085 Q280.561 989.626 284.172 989.626 Q287.806 989.626 289.612 986.085 Q291.44 982.52 291.44 975.414 Q291.44 968.284 289.612 964.742 Q287.806 961.178 284.172 961.178 M284.172 957.474 Q289.982 957.474 293.037 962.08 Q296.116 966.664 296.116 975.414 Q296.116 984.14 293.037 988.747 Q289.982 993.33 284.172 993.33 Q278.362 993.33 275.283 988.747 Q272.227 984.14 272.227 975.414 Q272.227 966.664 275.283 962.08 Q278.362 957.474 284.172 957.474 Z\" fill=\"#000000\" fill-rule=\"nonzero\" fill-opacity=\"1\" /><path clip-path=\"url(#clip100)\" d=\"M297.301 937.168 L312.216 937.168 L312.216 940.366 L300.78 940.366 L300.78 947.249 Q301.608 946.967 302.436 946.836 Q303.263 946.685 304.091 946.685 Q308.793 946.685 311.538 949.262 Q314.284 951.839 314.284 956.24 Q314.284 960.772 311.463 963.292 Q308.642 965.794 303.508 965.794 Q301.74 965.794 299.896 965.493 Q298.072 965.192 296.116 964.59 L296.116 960.772 Q297.809 961.694 299.614 962.145 Q301.42 962.597 303.432 962.597 Q306.686 962.597 308.586 960.885 Q310.485 959.174 310.485 956.24 Q310.485 953.306 308.586 951.594 Q306.686 949.883 303.432 949.883 Q301.909 949.883 300.385 950.221 Q298.881 950.56 297.301 951.274 L297.301 937.168 Z\" fill=\"#000000\" fill-rule=\"nonzero\" fill-opacity=\"1\" /><path clip-path=\"url(#clip100)\" d=\"M139.473 583.414 Q136.325 583.414 134.473 585.567 Q132.645 587.719 132.645 591.469 Q132.645 595.196 134.473 597.372 Q136.325 599.525 139.473 599.525 Q142.622 599.525 144.45 597.372 Q146.302 595.196 146.302 591.469 Q146.302 587.719 144.45 585.567 Q142.622 583.414 139.473 583.414 M148.756 568.761 L148.756 573.02 Q146.997 572.187 145.191 571.747 Q143.409 571.308 141.649 571.308 Q137.02 571.308 134.566 574.432 Q132.135 577.557 131.788 583.877 Q133.154 581.863 135.214 580.798 Q137.274 579.71 139.751 579.71 Q144.96 579.71 147.969 582.882 Q151.001 586.03 151.001 591.469 Q151.001 596.793 147.853 600.011 Q144.705 603.229 139.473 603.229 Q133.478 603.229 130.307 598.645 Q127.136 594.039 127.136 585.312 Q127.136 577.118 131.024 572.257 Q134.913 567.372 141.464 567.372 Q143.223 567.372 145.006 567.72 Q146.811 568.067 148.756 568.761 Z\" fill=\"#000000\" fill-rule=\"nonzero\" fill-opacity=\"1\" /><path clip-path=\"url(#clip100)\" d=\"M159.057 596.678 L163.941 596.678 L163.941 602.557 L159.057 602.557 L159.057 596.678 Z\" fill=\"#000000\" fill-rule=\"nonzero\" fill-opacity=\"1\" /><path clip-path=\"url(#clip100)\" d=\"M184.126 571.076 Q180.515 571.076 178.686 574.641 Q176.881 578.182 176.881 585.312 Q176.881 592.419 178.686 595.983 Q180.515 599.525 184.126 599.525 Q187.76 599.525 189.566 595.983 Q191.394 592.419 191.394 585.312 Q191.394 578.182 189.566 574.641 Q187.76 571.076 184.126 571.076 M184.126 567.372 Q189.936 567.372 192.992 571.979 Q196.07 576.562 196.07 585.312 Q196.07 594.039 192.992 598.645 Q189.936 603.229 184.126 603.229 Q178.316 603.229 175.237 598.645 Q172.182 594.039 172.182 585.312 Q172.182 576.562 175.237 571.979 Q178.316 567.372 184.126 567.372 Z\" fill=\"#000000\" fill-rule=\"nonzero\" fill-opacity=\"1\" /><path clip-path=\"url(#clip100)\" d=\"M232.459 577.095 L221.88 587.719 L232.459 598.298 L229.704 601.099 L219.079 590.474 L208.455 601.099 L205.723 598.298 L216.279 587.719 L205.723 577.095 L208.455 574.294 L219.079 584.919 L229.704 574.294 L232.459 577.095 Z\" fill=\"#000000\" fill-rule=\"nonzero\" fill-opacity=\"1\" /><path clip-path=\"url(#clip100)\" d=\"M244.82 598.622 L252.459 598.622 L252.459 572.257 L244.149 573.923 L244.149 569.664 L252.413 567.997 L257.089 567.997 L257.089 598.622 L264.727 598.622 L264.727 602.557 L244.82 602.557 L244.82 598.622 Z\" fill=\"#000000\" fill-rule=\"nonzero\" fill-opacity=\"1\" /><path clip-path=\"url(#clip100)\" d=\"M284.172 571.076 Q280.561 571.076 278.732 574.641 Q276.926 578.182 276.926 585.312 Q276.926 592.419 278.732 595.983 Q280.561 599.525 284.172 599.525 Q287.806 599.525 289.612 595.983 Q291.44 592.419 291.44 585.312 Q291.44 578.182 289.612 574.641 Q287.806 571.076 284.172 571.076 M284.172 567.372 Q289.982 567.372 293.037 571.979 Q296.116 576.562 296.116 585.312 Q296.116 594.039 293.037 598.645 Q289.982 603.229 284.172 603.229 Q278.362 603.229 275.283 598.645 Q272.227 594.039 272.227 585.312 Q272.227 576.562 275.283 571.979 Q278.362 567.372 284.172 567.372 Z\" fill=\"#000000\" fill-rule=\"nonzero\" fill-opacity=\"1\" /><path clip-path=\"url(#clip100)\" d=\"M297.301 547.067 L312.216 547.067 L312.216 550.264 L300.78 550.264 L300.78 557.148 Q301.608 556.866 302.436 556.734 Q303.263 556.584 304.091 556.584 Q308.793 556.584 311.538 559.16 Q314.284 561.737 314.284 566.138 Q314.284 570.671 311.463 573.191 Q308.642 575.692 303.508 575.692 Q301.74 575.692 299.896 575.391 Q298.072 575.091 296.116 574.489 L296.116 570.671 Q297.809 571.592 299.614 572.044 Q301.42 572.495 303.432 572.495 Q306.686 572.495 308.586 570.784 Q310.485 569.072 310.485 566.138 Q310.485 563.204 308.586 561.492 Q306.686 559.781 303.432 559.781 Q301.909 559.781 300.385 560.12 Q298.881 560.458 297.301 561.173 L297.301 547.067 Z\" fill=\"#000000\" fill-rule=\"nonzero\" fill-opacity=\"1\" /><path clip-path=\"url(#clip100)\" d=\"M138.895 196.044 Q135.561 196.044 133.64 197.826 Q131.742 199.609 131.742 202.734 Q131.742 205.859 133.64 207.641 Q135.561 209.423 138.895 209.423 Q142.228 209.423 144.149 207.641 Q146.071 205.835 146.071 202.734 Q146.071 199.609 144.149 197.826 Q142.251 196.044 138.895 196.044 M134.219 194.053 Q131.21 193.312 129.52 191.252 Q127.853 189.192 127.853 186.229 Q127.853 182.086 130.793 179.678 Q133.756 177.271 138.895 177.271 Q144.057 177.271 146.997 179.678 Q149.936 182.086 149.936 186.229 Q149.936 189.192 148.247 191.252 Q146.58 193.312 143.594 194.053 Q146.973 194.84 148.848 197.132 Q150.747 199.423 150.747 202.734 Q150.747 207.757 147.668 210.442 Q144.612 213.127 138.895 213.127 Q133.177 213.127 130.098 210.442 Q127.043 207.757 127.043 202.734 Q127.043 199.423 128.941 197.132 Q130.839 194.84 134.219 194.053 M132.506 186.669 Q132.506 189.354 134.173 190.859 Q135.862 192.363 138.895 192.363 Q141.904 192.363 143.594 190.859 Q145.307 189.354 145.307 186.669 Q145.307 183.984 143.594 182.479 Q141.904 180.974 138.895 180.974 Q135.862 180.974 134.173 182.479 Q132.506 183.984 132.506 186.669 Z\" fill=\"#000000\" fill-rule=\"nonzero\" fill-opacity=\"1\" /><path clip-path=\"url(#clip100)\" d=\"M159.057 206.576 L163.941 206.576 L163.941 212.456 L159.057 212.456 L159.057 206.576 Z\" fill=\"#000000\" fill-rule=\"nonzero\" fill-opacity=\"1\" /><path clip-path=\"url(#clip100)\" d=\"M184.126 180.974 Q180.515 180.974 178.686 184.539 Q176.881 188.081 176.881 195.211 Q176.881 202.317 178.686 205.882 Q180.515 209.423 184.126 209.423 Q187.76 209.423 189.566 205.882 Q191.394 202.317 191.394 195.211 Q191.394 188.081 189.566 184.539 Q187.76 180.974 184.126 180.974 M184.126 177.271 Q189.936 177.271 192.992 181.877 Q196.07 186.461 196.07 195.211 Q196.07 203.937 192.992 208.544 Q189.936 213.127 184.126 213.127 Q178.316 213.127 175.237 208.544 Q172.182 203.937 172.182 195.211 Q172.182 186.461 175.237 181.877 Q178.316 177.271 184.126 177.271 Z\" fill=\"#000000\" fill-rule=\"nonzero\" fill-opacity=\"1\" /><path clip-path=\"url(#clip100)\" d=\"M232.459 186.993 L221.88 197.618 L232.459 208.197 L229.704 210.997 L219.079 200.373 L208.455 210.997 L205.723 208.197 L216.279 197.618 L205.723 186.993 L208.455 184.192 L219.079 194.817 L229.704 184.192 L232.459 186.993 Z\" fill=\"#000000\" fill-rule=\"nonzero\" fill-opacity=\"1\" /><path clip-path=\"url(#clip100)\" d=\"M244.82 208.521 L252.459 208.521 L252.459 182.155 L244.149 183.822 L244.149 179.562 L252.413 177.896 L257.089 177.896 L257.089 208.521 L264.727 208.521 L264.727 212.456 L244.82 212.456 L244.82 208.521 Z\" fill=\"#000000\" fill-rule=\"nonzero\" fill-opacity=\"1\" /><path clip-path=\"url(#clip100)\" d=\"M284.172 180.974 Q280.561 180.974 278.732 184.539 Q276.926 188.081 276.926 195.211 Q276.926 202.317 278.732 205.882 Q280.561 209.423 284.172 209.423 Q287.806 209.423 289.612 205.882 Q291.44 202.317 291.44 195.211 Q291.44 188.081 289.612 184.539 Q287.806 180.974 284.172 180.974 M284.172 177.271 Q289.982 177.271 293.037 181.877 Q296.116 186.461 296.116 195.211 Q296.116 203.937 293.037 208.544 Q289.982 213.127 284.172 213.127 Q278.362 213.127 275.283 208.544 Q272.227 203.937 272.227 195.211 Q272.227 186.461 275.283 181.877 Q278.362 177.271 284.172 177.271 Z\" fill=\"#000000\" fill-rule=\"nonzero\" fill-opacity=\"1\" /><path clip-path=\"url(#clip100)\" d=\"M297.301 156.965 L312.216 156.965 L312.216 160.163 L300.78 160.163 L300.78 167.046 Q301.608 166.764 302.436 166.633 Q303.263 166.482 304.091 166.482 Q308.793 166.482 311.538 169.059 Q314.284 171.635 314.284 176.036 Q314.284 180.569 311.463 183.089 Q308.642 185.591 303.508 185.591 Q301.74 185.591 299.896 185.29 Q298.072 184.989 296.116 184.387 L296.116 180.569 Q297.809 181.491 299.614 181.942 Q301.42 182.393 303.432 182.393 Q306.686 182.393 308.586 180.682 Q310.485 178.97 310.485 176.036 Q310.485 173.102 308.586 171.391 Q306.686 169.679 303.432 169.679 Q301.909 169.679 300.385 170.018 Q298.881 170.357 297.301 171.071 L297.301 156.965 Z\" fill=\"#000000\" fill-rule=\"nonzero\" fill-opacity=\"1\" /><path clip-path=\"url(#clip100)\" d=\"M28.3642 1019.68 L28.3642 992.37 L33.775 992.37 L33.775 1013.25 L47.7796 1013.25 L47.7796 994.407 L53.1904 994.407 L53.1904 1013.25 L75.8842 1013.25 L75.8842 1019.68 L28.3642 1019.68 Z\" fill=\"#000000\" fill-rule=\"nonzero\" fill-opacity=\"1\" /><path clip-path=\"url(#clip100)\" d=\"M28.3642 982.185 L28.3642 975.756 L70.4733 975.756 L70.4733 952.616 L75.8842 952.616 L75.8842 982.185 L28.3642 982.185 Z\" fill=\"#000000\" fill-rule=\"nonzero\" fill-opacity=\"1\" /><path clip-path=\"url(#clip100)\" d=\"M32.7247 928.904 Q32.7247 935.906 37.9445 940.044 Q43.1644 944.15 52.1719 944.15 Q61.1475 944.15 66.3674 940.044 Q71.5873 935.906 71.5873 928.904 Q71.5873 921.902 66.3674 917.828 Q61.1475 913.722 52.1719 913.722 Q43.1644 913.722 37.9445 917.828 Q32.7247 921.902 32.7247 928.904 M27.5048 928.904 Q27.5048 918.91 34.2206 912.926 Q40.9046 906.942 52.1719 906.942 Q63.4074 906.942 70.1232 912.926 Q76.8072 918.91 76.8072 928.904 Q76.8072 938.93 70.1232 944.945 Q63.4392 950.929 52.1719 950.929 Q40.9046 950.929 34.2206 944.945 Q27.5048 938.93 27.5048 928.904 Z\" fill=\"#000000\" fill-rule=\"nonzero\" fill-opacity=\"1\" /><path clip-path=\"url(#clip100)\" d=\"M33.6477 890.455 L51.5035 890.455 L51.5035 882.371 Q51.5035 877.883 49.18 875.432 Q46.8565 872.981 42.5597 872.981 Q38.2947 872.981 35.9712 875.432 Q33.6477 877.883 33.6477 882.371 L33.6477 890.455 M28.3642 896.884 L28.3642 882.371 Q28.3642 874.382 31.9926 870.308 Q35.5892 866.202 42.5597 866.202 Q49.5938 866.202 53.1904 870.308 Q56.787 874.382 56.787 882.371 L56.787 890.455 L75.8842 890.455 L75.8842 896.884 L28.3642 896.884 Z\" fill=\"#000000\" fill-rule=\"nonzero\" fill-opacity=\"1\" /><path clip-path=\"url(#clip100)\" d=\"M29.9238 829.09 L36.194 829.09 Q34.4434 832.75 33.584 835.996 Q32.7247 839.243 32.7247 842.267 Q32.7247 847.518 34.7617 850.383 Q36.7987 853.216 40.5545 853.216 Q43.7055 853.216 45.3288 851.338 Q46.9202 849.428 47.9069 844.145 L48.7026 840.261 Q50.0712 833.068 53.5405 829.663 Q56.978 826.225 62.7708 826.225 Q69.6776 826.225 73.2424 830.872 Q76.8072 835.487 76.8072 844.431 Q76.8072 847.805 76.0433 851.624 Q75.2794 855.412 73.7835 859.486 L67.1631 859.486 Q69.3593 855.571 70.4733 851.815 Q71.5873 848.059 71.5873 844.431 Q71.5873 838.925 69.423 835.933 Q67.2586 832.941 63.2482 832.941 Q59.7471 832.941 57.7737 835.105 Q55.8004 837.238 54.8137 842.139 L54.0498 846.054 Q52.6175 853.247 49.562 856.462 Q46.5064 859.677 41.0637 859.677 Q34.7617 859.677 31.1332 855.253 Q27.5048 850.797 27.5048 842.999 Q27.5048 839.657 28.1095 836.187 Q28.7143 832.718 29.9238 829.09 Z\" fill=\"#000000\" fill-rule=\"nonzero\" fill-opacity=\"1\" /><polyline clip-path=\"url(#clip102)\" style=\"stroke:#ff0000; stroke-linecap:round; stroke-linejoin:round; stroke-width:4; stroke-opacity:1; fill:none\" points=\"406.958,1749.09 467.898,1748.95 589.777,1746.79 833.535,1724.97 1321.05,1539.54 2296.08,96.8125 \"/>\n",
       "<polyline clip-path=\"url(#clip102)\" style=\"stroke:#000000; stroke-linecap:round; stroke-linejoin:round; stroke-width:4; stroke-opacity:1; fill:none\" points=\"406.958,1749.09 406.958,1749.09 \"/>\n",
       "<polyline clip-path=\"url(#clip102)\" style=\"stroke:#000000; stroke-linecap:round; stroke-linejoin:round; stroke-width:4; stroke-opacity:1; fill:none\" points=\"467.898,1748.95 467.898,1748.95 \"/>\n",
       "<polyline clip-path=\"url(#clip102)\" style=\"stroke:#000000; stroke-linecap:round; stroke-linejoin:round; stroke-width:4; stroke-opacity:1; fill:none\" points=\"589.777,1746.79 589.777,1746.79 \"/>\n",
       "<polyline clip-path=\"url(#clip102)\" style=\"stroke:#000000; stroke-linecap:round; stroke-linejoin:round; stroke-width:4; stroke-opacity:1; fill:none\" points=\"833.535,1724.97 833.535,1724.97 \"/>\n",
       "<polyline clip-path=\"url(#clip102)\" style=\"stroke:#000000; stroke-linecap:round; stroke-linejoin:round; stroke-width:4; stroke-opacity:1; fill:none\" points=\"1321.05,1539.54 1321.05,1539.54 \"/>\n",
       "<polyline clip-path=\"url(#clip102)\" style=\"stroke:#000000; stroke-linecap:round; stroke-linejoin:round; stroke-width:4; stroke-opacity:1; fill:none\" points=\"2296.08,96.8125 2296.08,96.8125 \"/>\n",
       "<line clip-path=\"url(#clip102)\" x1=\"422.958\" y1=\"1749.09\" x2=\"390.958\" y2=\"1749.09\" style=\"stroke:#000000; stroke-width:4; stroke-opacity:1\"/>\n",
       "<line clip-path=\"url(#clip102)\" x1=\"422.958\" y1=\"1749.09\" x2=\"390.958\" y2=\"1749.09\" style=\"stroke:#000000; stroke-width:4; stroke-opacity:1\"/>\n",
       "<line clip-path=\"url(#clip102)\" x1=\"483.898\" y1=\"1748.95\" x2=\"451.898\" y2=\"1748.95\" style=\"stroke:#000000; stroke-width:4; stroke-opacity:1\"/>\n",
       "<line clip-path=\"url(#clip102)\" x1=\"483.898\" y1=\"1748.95\" x2=\"451.898\" y2=\"1748.95\" style=\"stroke:#000000; stroke-width:4; stroke-opacity:1\"/>\n",
       "<line clip-path=\"url(#clip102)\" x1=\"605.777\" y1=\"1746.79\" x2=\"573.777\" y2=\"1746.79\" style=\"stroke:#000000; stroke-width:4; stroke-opacity:1\"/>\n",
       "<line clip-path=\"url(#clip102)\" x1=\"605.777\" y1=\"1746.79\" x2=\"573.777\" y2=\"1746.79\" style=\"stroke:#000000; stroke-width:4; stroke-opacity:1\"/>\n",
       "<line clip-path=\"url(#clip102)\" x1=\"849.535\" y1=\"1724.97\" x2=\"817.535\" y2=\"1724.97\" style=\"stroke:#000000; stroke-width:4; stroke-opacity:1\"/>\n",
       "<line clip-path=\"url(#clip102)\" x1=\"849.535\" y1=\"1724.97\" x2=\"817.535\" y2=\"1724.97\" style=\"stroke:#000000; stroke-width:4; stroke-opacity:1\"/>\n",
       "<line clip-path=\"url(#clip102)\" x1=\"1337.05\" y1=\"1539.54\" x2=\"1305.05\" y2=\"1539.54\" style=\"stroke:#000000; stroke-width:4; stroke-opacity:1\"/>\n",
       "<line clip-path=\"url(#clip102)\" x1=\"1337.05\" y1=\"1539.54\" x2=\"1305.05\" y2=\"1539.54\" style=\"stroke:#000000; stroke-width:4; stroke-opacity:1\"/>\n",
       "<line clip-path=\"url(#clip102)\" x1=\"2312.08\" y1=\"96.8125\" x2=\"2280.08\" y2=\"96.8125\" style=\"stroke:#000000; stroke-width:4; stroke-opacity:1\"/>\n",
       "<line clip-path=\"url(#clip102)\" x1=\"2312.08\" y1=\"96.8125\" x2=\"2280.08\" y2=\"96.8125\" style=\"stroke:#000000; stroke-width:4; stroke-opacity:1\"/>\n",
       "<path clip-path=\"url(#clip100)\" d=\"M417.033 209.305 L734.548 209.305 L734.548 105.625 L417.033 105.625  Z\" fill=\"#ffffff\" fill-rule=\"evenodd\" fill-opacity=\"1\"/>\n",
       "<polyline clip-path=\"url(#clip100)\" style=\"stroke:#000000; stroke-linecap:round; stroke-linejoin:round; stroke-width:4; stroke-opacity:1; fill:none\" points=\"417.033,209.305 734.548,209.305 734.548,105.625 417.033,105.625 417.033,209.305 \"/>\n",
       "<polyline clip-path=\"url(#clip100)\" style=\"stroke:#ff0000; stroke-linecap:round; stroke-linejoin:round; stroke-width:4; stroke-opacity:1; fill:none\" points=\"439.283,157.465 572.781,157.465 \"/>\n",
       "<path clip-path=\"url(#clip100)\" d=\"M595.031 140.185 L614.892 140.185 L614.892 144.12 L599.707 144.12 L599.707 154.305 L613.41 154.305 L613.41 158.24 L599.707 158.24 L599.707 174.745 L595.031 174.745 L595.031 140.185 Z\" fill=\"#000000\" fill-rule=\"nonzero\" fill-opacity=\"1\" /><path clip-path=\"url(#clip100)\" d=\"M622.114 138.726 L626.373 138.726 L626.373 174.745 L622.114 174.745 L622.114 138.726 Z\" fill=\"#000000\" fill-rule=\"nonzero\" fill-opacity=\"1\" /><path clip-path=\"url(#clip100)\" d=\"M645.332 151.805 Q641.906 151.805 639.915 154.49 Q637.924 157.152 637.924 161.805 Q637.924 166.458 639.892 169.143 Q641.883 171.805 645.332 171.805 Q648.734 171.805 650.725 169.12 Q652.716 166.434 652.716 161.805 Q652.716 157.198 650.725 154.513 Q648.734 151.805 645.332 151.805 M645.332 148.194 Q650.887 148.194 654.058 151.805 Q657.23 155.416 657.23 161.805 Q657.23 168.171 654.058 171.805 Q650.887 175.416 645.332 175.416 Q639.753 175.416 636.582 171.805 Q633.433 168.171 633.433 161.805 Q633.433 155.416 636.582 151.805 Q639.753 148.194 645.332 148.194 Z\" fill=\"#000000\" fill-rule=\"nonzero\" fill-opacity=\"1\" /><path clip-path=\"url(#clip100)\" d=\"M668.41 170.856 L668.41 184.606 L664.128 184.606 L664.128 148.819 L668.41 148.819 L668.41 152.754 Q669.753 150.439 671.79 149.328 Q673.85 148.194 676.697 148.194 Q681.419 148.194 684.359 151.944 Q687.322 155.694 687.322 161.805 Q687.322 167.916 684.359 171.666 Q681.419 175.416 676.697 175.416 Q673.85 175.416 671.79 174.305 Q669.753 173.171 668.41 170.856 M682.901 161.805 Q682.901 157.106 680.956 154.444 Q679.035 151.759 675.655 151.759 Q672.276 151.759 670.331 154.444 Q668.41 157.106 668.41 161.805 Q668.41 166.504 670.331 169.189 Q672.276 171.851 675.655 171.851 Q679.035 171.851 680.956 169.189 Q682.901 166.504 682.901 161.805 Z\" fill=\"#000000\" fill-rule=\"nonzero\" fill-opacity=\"1\" /><path clip-path=\"url(#clip100)\" d=\"M710.91 149.583 L710.91 153.61 Q709.104 152.685 707.16 152.222 Q705.216 151.759 703.132 151.759 Q699.961 151.759 698.364 152.731 Q696.79 153.703 696.79 155.647 Q696.79 157.129 697.924 157.985 Q699.058 158.819 702.484 159.583 L703.942 159.907 Q708.479 160.879 710.378 162.661 Q712.299 164.421 712.299 167.592 Q712.299 171.203 709.428 173.309 Q706.581 175.416 701.581 175.416 Q699.498 175.416 697.229 174.999 Q694.984 174.606 692.484 173.796 L692.484 169.397 Q694.845 170.624 697.137 171.249 Q699.429 171.851 701.674 171.851 Q704.683 171.851 706.303 170.833 Q707.924 169.791 707.924 167.916 Q707.924 166.18 706.743 165.254 Q705.586 164.328 701.628 163.472 L700.146 163.124 Q696.188 162.291 694.429 160.578 Q692.669 158.842 692.669 155.833 Q692.669 152.175 695.262 150.185 Q697.854 148.194 702.623 148.194 Q704.984 148.194 707.067 148.541 Q709.151 148.888 710.91 149.583 Z\" fill=\"#000000\" fill-rule=\"nonzero\" fill-opacity=\"1\" /></svg>\n"
      ]
     },
     "execution_count": 21,
     "metadata": {},
     "output_type": "execute_result"
    }
   ],
   "source": [
    "plot(LU_time_statistics.size, LU_time_statistics.flops_mean, \n",
    "    size = (600, 500), color=\"red\",yerr=LU_time_statistics.flops_std,\n",
    "    yaxis = \"FLOPS\", xaxis = \"Number of rows\", label=\"Flops\")"
   ]
  },
  {
   "cell_type": "markdown",
   "id": "384cf4a6",
   "metadata": {},
   "source": [
    "### Złożoność obliczeniowa\n",
    "Podobnie jak w przypadku odwracania macierzy mamy do czynienia z złorzonością obliczeniową $O({n}^{\\log_2(7)})$\n"
   ]
  },
  {
   "cell_type": "markdown",
   "id": "5eceb1b5",
   "metadata": {},
   "source": [
    "### Porównanie z MATLABem"
   ]
  },
  {
   "cell_type": "markdown",
   "id": "be58f141",
   "metadata": {},
   "source": [
    "Kod w Matlab\n",
    "```Matlab\n",
    "A = [0.5488, 0.5929; \n",
    "    0.7094, 0.0734];\n",
    "    \n",
    "[L,U] = lu(A)\n",
    "\n",
    "fprintf('Macierz L:\\n');\n",
    "disp(L);\n",
    "\n",
    "fprintf('Macierz U:\\n');\n",
    "disp(U);\n",
    "\n",
    "fprintf('Macierz L * U:\\n');\n",
    "disp(L * U);\n",
    "```"
   ]
  },
  {
   "cell_type": "markdown",
   "id": "ab266ed5",
   "metadata": {},
   "source": [
    "#### Wyniki\n",
    "```\n",
    "Macierz L:\n",
    "   0.7736   1.0000\n",
    "   1.0000        0\n",
    "Macierz U:\n",
    "   0.7094   0.0734\n",
    "        0   0.5361\n",
    "Macierz L * U:\n",
    "   0.548800   0.592900\n",
    "   0.709400   0.073400\n",
    "```"
   ]
  },
  {
   "cell_type": "code",
   "execution_count": null,
   "id": "41f1f287",
   "metadata": {},
   "outputs": [],
   "source": [
    "A = [0.5488 0.5929; \n",
    "    0.7094 0.0734]\n",
    "\n",
    "L_U = matrix_LU_factor(A)\n",
    "display(L_U[1])\n",
    "display(L_U[2])\n",
    "display(prod(L_U))\n",
    "\n",
    "display(lu(A))"
   ]
  },
  {
   "cell_type": "markdown",
   "id": "de94409e",
   "metadata": {},
   "source": [
    "Otrzymane przez nas macierze nie są takie same poniewrz w Matlabie faktoryzacja LU zwraca L jako **przepermutowaną** macierz trujkątną dolną z jedynkami na przekątnej. Pomimo tego iloczyn macierzy L, U, wyliczonych naszą implementacją faktoryzacji oraz ta wyliczona przez wbudowaną funkcje w Madlab'e, jest równy macierzy A\n"
   ]
  },
  {
   "cell_type": "markdown",
   "id": "eff64066",
   "metadata": {},
   "source": [
    "#### Wnioski\n",
    "trudno porównać wyniki naszego algorytmu i innych ze względu na ilość różnych reprezentacji macierzy LU. Np to w której macierzy są jedynki na przekątnej (o ile są równe jeden)."
   ]
  },
  {
   "cell_type": "markdown",
   "id": "ffa223d6",
   "metadata": {},
   "source": [
    "## Rekursywne obliczanie wyznacznika"
   ]
  },
  {
   "cell_type": "markdown",
   "id": "ad728306",
   "metadata": {},
   "source": [
    "### Opis algorytmu\n",
    "Algorytm przyjmuję na wejściu macierz. Jego zadaniem jest obliczenie wyznacznika A. Robi to korzystając z rekurencyjnej metody znajdywania LU faktoryzacji:\n",
    "\n",
    "* Macierz L\n",
    "\n",
    "\\begin{bmatrix}\n",
    "l_{11} & 0 & \\dots & 0\\\\\n",
    "l_{21} & l_{22} & \\dots & 0\\\\\n",
    "\\vdots & \\vdots & \\ddots & \\vdots\\\\\n",
    "l_{n1} & l_{n2} & \\dots & l_{nn}\n",
    "\\end{bmatrix}\n",
    "\n",
    "* Macierz U\n",
    "\n",
    "\\begin{bmatrix}\n",
    "1 & u_{12} & \\dots & u_{1n}\\\\\n",
    "0 & 1 & \\dots & u_{2n}\\\\\n",
    "\\vdots & \\vdots & \\ddots & \\vdots\\\\\n",
    "0 & 0 & \\dots & 1\n",
    "\\end{bmatrix}\n",
    "\n",
    "#### Wyznacznik\n",
    "\n",
    "det(A) = \\[ \\prod_{i=1}^{n} l_{ii} \\]\n",
    "​\n",
    "\n",
    "### Pseudokod\n",
    "\n",
    "```\n",
    "return prod(l_{ii})\n",
    "```\n"
   ]
  },
  {
   "cell_type": "markdown",
   "id": "2091b40a",
   "metadata": {},
   "source": [
    "### Implementacja"
   ]
  },
  {
   "cell_type": "code",
   "execution_count": 22,
   "id": "6b0d4bd1",
   "metadata": {},
   "outputs": [
    {
     "data": {
      "text/plain": [
       "matrix_determinant (generic function with 1 method)"
      ]
     },
     "execution_count": 22,
     "metadata": {},
     "output_type": "execute_result"
    }
   ],
   "source": [
    "function matrix_determinant(A)\n",
    "    \"\"\"\n",
    "    :return determinant of matrix\n",
    "    A must be in shape (2^i, 2^i) where i is Natural\n",
    "    \"\"\"\n",
    "    \n",
    "    L, U = matrix_LU_factor(A)\n",
    "\n",
    "    diagonal = [L[i,i] for i in 1:size(A, 1)]\n",
    "    return prod(diagonal)\n",
    "end"
   ]
  },
  {
   "cell_type": "code",
   "execution_count": null,
   "id": "4de3c875",
   "metadata": {},
   "outputs": [],
   "source": [
    "# To check corectness\n",
    "# This implementation may be unstable\n",
    "eps = 10 ^ -5\n",
    "min_value = 0.00000001\n",
    "max_value = 1\n",
    "for j in 1:2\n",
    "    for i in 1:8\n",
    "        A = min_value .+ (max_value - min_value) * rand(2 ^ i, 2 ^ i)\n",
    "        \n",
    "        my_det_a = matrix_determinant(A)\n",
    "        det_a = det(A)\n",
    "    \n",
    "        if isapprox(my_det_a, det_a, atol=eps) == false\n",
    "            println(\"FALSE!!! my_det:$my_det_a, det(A):$det_a \\n\", size(A, 1))\n",
    "            \n",
    "        end\n",
    "    end\n",
    "end"
   ]
  },
  {
   "cell_type": "markdown",
   "id": "588076b0",
   "metadata": {},
   "source": [
    "### Pomiary"
   ]
  },
  {
   "cell_type": "code",
   "execution_count": 38,
   "id": "a7a95db7",
   "metadata": {},
   "outputs": [],
   "source": [
    "min_value = 0.00000001\n",
    "max_value = 1\n",
    "det_times = DataFrame(size = [], flops= [], time = [])\n",
    "\n",
    "for i in 1: 5\n",
    "    for size in 1: 6\n",
    "        A = min_value .+ (max_value - min_value) * rand(2 ^ size, 2 ^ size)\n",
    "        m_time = @elapsed matrix_LU_factor(A)\n",
    "        m_flops = @count_ops matrix_LU_factor($A)\n",
    "        push!(det_times, [2 ^ size, m_flops, m_time])\n",
    "    end\n",
    "end     "
   ]
  },
  {
   "cell_type": "code",
   "execution_count": 39,
   "id": "804ff588",
   "metadata": {},
   "outputs": [
    {
     "data": {
      "text/html": [
       "<div class=\"data-frame\"><p>30 rows × 3 columns</p><table class=\"data-frame\"><thead><tr><th></th><th>size</th><th>flops</th><th>time</th></tr><tr><th></th><th title=\"Any\">Any</th><th title=\"Any\">Any</th><th title=\"Any\">Any</th></tr></thead><tbody><tr><th>1</th><td>2</td><td>22</td><td>9.0e-6</td></tr><tr><th>2</th><td>4</td><td>96</td><td>5.19e-5</td></tr><tr><th>3</th><td>8</td><td>1200</td><td>0.0002063</td></tr><tr><th>4</th><td>16</td><td>12388</td><td>0.0016387</td></tr><tr><th>5</th><td>32</td><td>107456</td><td>0.0137173</td></tr><tr><th>6</th><td>64</td><td>847124</td><td>0.0973751</td></tr><tr><th>7</th><td>2</td><td>22</td><td>5.8e-6</td></tr><tr><th>8</th><td>4</td><td>96</td><td>4.27e-5</td></tr><tr><th>9</th><td>8</td><td>1200</td><td>0.000174</td></tr><tr><th>10</th><td>16</td><td>12388</td><td>0.0014651</td></tr><tr><th>11</th><td>32</td><td>107456</td><td>0.0109696</td></tr><tr><th>12</th><td>64</td><td>847124</td><td>0.0851061</td></tr><tr><th>13</th><td>2</td><td>22</td><td>5.7e-6</td></tr><tr><th>14</th><td>4</td><td>96</td><td>4.78e-5</td></tr><tr><th>15</th><td>8</td><td>1200</td><td>0.0002118</td></tr><tr><th>16</th><td>16</td><td>12388</td><td>0.001765</td></tr><tr><th>17</th><td>32</td><td>107456</td><td>0.0129723</td></tr><tr><th>18</th><td>64</td><td>847124</td><td>0.105077</td></tr><tr><th>19</th><td>2</td><td>22</td><td>5.3e-6</td></tr><tr><th>20</th><td>4</td><td>96</td><td>4.09e-5</td></tr><tr><th>21</th><td>8</td><td>1200</td><td>0.0002215</td></tr><tr><th>22</th><td>16</td><td>12388</td><td>0.0017212</td></tr><tr><th>23</th><td>32</td><td>107456</td><td>0.0105192</td></tr><tr><th>24</th><td>64</td><td>847124</td><td>0.080328</td></tr><tr><th>25</th><td>2</td><td>22</td><td>6.0e-6</td></tr><tr><th>26</th><td>4</td><td>96</td><td>3.68e-5</td></tr><tr><th>27</th><td>8</td><td>1200</td><td>0.0001818</td></tr><tr><th>28</th><td>16</td><td>12388</td><td>0.0014555</td></tr><tr><th>29</th><td>32</td><td>107456</td><td>0.0105118</td></tr><tr><th>30</th><td>64</td><td>847124</td><td>0.0961972</td></tr></tbody></table></div>"
      ],
      "text/latex": [
       "\\begin{tabular}{r|ccc}\n",
       "\t& size & flops & time\\\\\n",
       "\t\\hline\n",
       "\t& Any & Any & Any\\\\\n",
       "\t\\hline\n",
       "\t1 & 2 & 22 & 9.0e-6 \\\\\n",
       "\t2 & 4 & 96 & 5.19e-5 \\\\\n",
       "\t3 & 8 & 1200 & 0.0002063 \\\\\n",
       "\t4 & 16 & 12388 & 0.0016387 \\\\\n",
       "\t5 & 32 & 107456 & 0.0137173 \\\\\n",
       "\t6 & 64 & 847124 & 0.0973751 \\\\\n",
       "\t7 & 2 & 22 & 5.8e-6 \\\\\n",
       "\t8 & 4 & 96 & 4.27e-5 \\\\\n",
       "\t9 & 8 & 1200 & 0.000174 \\\\\n",
       "\t10 & 16 & 12388 & 0.0014651 \\\\\n",
       "\t11 & 32 & 107456 & 0.0109696 \\\\\n",
       "\t12 & 64 & 847124 & 0.0851061 \\\\\n",
       "\t13 & 2 & 22 & 5.7e-6 \\\\\n",
       "\t14 & 4 & 96 & 4.78e-5 \\\\\n",
       "\t15 & 8 & 1200 & 0.0002118 \\\\\n",
       "\t16 & 16 & 12388 & 0.001765 \\\\\n",
       "\t17 & 32 & 107456 & 0.0129723 \\\\\n",
       "\t18 & 64 & 847124 & 0.105077 \\\\\n",
       "\t19 & 2 & 22 & 5.3e-6 \\\\\n",
       "\t20 & 4 & 96 & 4.09e-5 \\\\\n",
       "\t21 & 8 & 1200 & 0.0002215 \\\\\n",
       "\t22 & 16 & 12388 & 0.0017212 \\\\\n",
       "\t23 & 32 & 107456 & 0.0105192 \\\\\n",
       "\t24 & 64 & 847124 & 0.080328 \\\\\n",
       "\t25 & 2 & 22 & 6.0e-6 \\\\\n",
       "\t26 & 4 & 96 & 3.68e-5 \\\\\n",
       "\t27 & 8 & 1200 & 0.0001818 \\\\\n",
       "\t28 & 16 & 12388 & 0.0014555 \\\\\n",
       "\t29 & 32 & 107456 & 0.0105118 \\\\\n",
       "\t30 & 64 & 847124 & 0.0961972 \\\\\n",
       "\\end{tabular}\n"
      ],
      "text/plain": [
       "\u001b[1m30×3 DataFrame\u001b[0m\n",
       "\u001b[1m Row \u001b[0m│\u001b[1m size \u001b[0m\u001b[1m flops  \u001b[0m\u001b[1m time      \u001b[0m\n",
       "\u001b[1m     \u001b[0m│\u001b[90m Any  \u001b[0m\u001b[90m Any    \u001b[0m\u001b[90m Any       \u001b[0m\n",
       "─────┼─────────────────────────\n",
       "   1 │ 2     22      9.0e-6\n",
       "   2 │ 4     96      5.19e-5\n",
       "   3 │ 8     1200    0.0002063\n",
       "   4 │ 16    12388   0.0016387\n",
       "   5 │ 32    107456  0.0137173\n",
       "   6 │ 64    847124  0.0973751\n",
       "   7 │ 2     22      5.8e-6\n",
       "   8 │ 4     96      4.27e-5\n",
       "   9 │ 8     1200    0.000174\n",
       "  10 │ 16    12388   0.0014651\n",
       "  11 │ 32    107456  0.0109696\n",
       "  ⋮  │  ⋮      ⋮         ⋮\n",
       "  21 │ 8     1200    0.0002215\n",
       "  22 │ 16    12388   0.0017212\n",
       "  23 │ 32    107456  0.0105192\n",
       "  24 │ 64    847124  0.080328\n",
       "  25 │ 2     22      6.0e-6\n",
       "  26 │ 4     96      3.68e-5\n",
       "  27 │ 8     1200    0.0001818\n",
       "  28 │ 16    12388   0.0014555\n",
       "  29 │ 32    107456  0.0105118\n",
       "  30 │ 64    847124  0.0961972\n",
       "\u001b[36m                 9 rows omitted\u001b[0m"
      ]
     },
     "metadata": {},
     "output_type": "display_data"
    }
   ],
   "source": [
    "for i in 1:nrow(det_times)\n",
    "    det_times[i, :flops] = det_times[i, :flops].add64 + det_times[i, :flops].sub64 + det_times[i, :flops].div64 + det_times[i, :flops].neg64 + det_times[i, :flops].mul64\n",
    "end\n",
    "display(det_times)"
   ]
  },
  {
   "cell_type": "code",
   "execution_count": 40,
   "id": "088718a2",
   "metadata": {},
   "outputs": [
    {
     "data": {
      "text/html": [
       "<div class=\"data-frame\"><p>6 rows × 5 columns</p><table class=\"data-frame\"><thead><tr><th></th><th>size</th><th>time_mean</th><th>flops_mean</th><th>time_std</th><th>flops_std</th></tr><tr><th></th><th title=\"Any\">Any</th><th title=\"Float64\">Float64</th><th title=\"Float64\">Float64</th><th title=\"Float64\">Float64</th><th title=\"Float64\">Float64</th></tr></thead><tbody><tr><th>1</th><td>2</td><td>6.36e-6</td><td>22.0</td><td>1.49766e-6</td><td>0.0</td></tr><tr><th>2</th><td>4</td><td>4.402e-5</td><td>96.0</td><td>5.91583e-6</td><td>0.0</td></tr><tr><th>3</th><td>8</td><td>0.00019908</td><td>1200.0</td><td>2.02743e-5</td><td>0.0</td></tr><tr><th>4</th><td>16</td><td>0.0016091</td><td>12388.0</td><td>0.000143245</td><td>0.0</td></tr><tr><th>5</th><td>32</td><td>0.011738</td><td>107456.0</td><td>0.00150172</td><td>0.0</td></tr><tr><th>6</th><td>64</td><td>0.0928166</td><td>847124.0</td><td>0.00997413</td><td>0.0</td></tr></tbody></table></div>"
      ],
      "text/latex": [
       "\\begin{tabular}{r|ccccc}\n",
       "\t& size & time\\_mean & flops\\_mean & time\\_std & flops\\_std\\\\\n",
       "\t\\hline\n",
       "\t& Any & Float64 & Float64 & Float64 & Float64\\\\\n",
       "\t\\hline\n",
       "\t1 & 2 & 6.36e-6 & 22.0 & 1.49766e-6 & 0.0 \\\\\n",
       "\t2 & 4 & 4.402e-5 & 96.0 & 5.91583e-6 & 0.0 \\\\\n",
       "\t3 & 8 & 0.00019908 & 1200.0 & 2.02743e-5 & 0.0 \\\\\n",
       "\t4 & 16 & 0.0016091 & 12388.0 & 0.000143245 & 0.0 \\\\\n",
       "\t5 & 32 & 0.011738 & 107456.0 & 0.00150172 & 0.0 \\\\\n",
       "\t6 & 64 & 0.0928166 & 847124.0 & 0.00997413 & 0.0 \\\\\n",
       "\\end{tabular}\n"
      ],
      "text/plain": [
       "\u001b[1m6×5 DataFrame\u001b[0m\n",
       "\u001b[1m Row \u001b[0m│\u001b[1m size \u001b[0m\u001b[1m time_mean  \u001b[0m\u001b[1m flops_mean \u001b[0m\u001b[1m time_std    \u001b[0m\u001b[1m flops_std \u001b[0m\n",
       "\u001b[1m     \u001b[0m│\u001b[90m Any  \u001b[0m\u001b[90m Float64    \u001b[0m\u001b[90m Float64    \u001b[0m\u001b[90m Float64     \u001b[0m\u001b[90m Float64   \u001b[0m\n",
       "─────┼──────────────────────────────────────────────────────\n",
       "   1 │ 2     6.36e-6           22.0  1.49766e-6         0.0\n",
       "   2 │ 4     4.402e-5          96.0  5.91583e-6         0.0\n",
       "   3 │ 8     0.00019908      1200.0  2.02743e-5         0.0\n",
       "   4 │ 16    0.0016091      12388.0  0.000143245        0.0\n",
       "   5 │ 32    0.011738      107456.0  0.00150172         0.0\n",
       "   6 │ 64    0.0928166     847124.0  0.00997413         0.0"
      ]
     },
     "execution_count": 40,
     "metadata": {},
     "output_type": "execute_result"
    }
   ],
   "source": [
    "det_time_group = groupby(det_times, [:size])\n",
    "det_time_statistics = combine(det_time_group, \"time\" => mean, \"flops\" => mean, \"time\" => std, \"flops\" => std)"
   ]
  },
  {
   "cell_type": "code",
   "execution_count": 41,
   "id": "2e5d1f27",
   "metadata": {},
   "outputs": [
    {
     "data": {
      "image/svg+xml": [
       "<?xml version=\"1.0\" encoding=\"utf-8\"?>\n",
       "<svg xmlns=\"http://www.w3.org/2000/svg\" xmlns:xlink=\"http://www.w3.org/1999/xlink\" width=\"600\" height=\"500\" viewBox=\"0 0 2400 2000\">\n",
       "<defs>\n",
       "  <clipPath id=\"clip220\">\n",
       "    <rect x=\"0\" y=\"0\" width=\"2400\" height=\"2000\"/>\n",
       "  </clipPath>\n",
       "</defs>\n",
       "<path clip-path=\"url(#clip220)\" d=\"M0 2000 L2400 2000 L2400 0 L0 0  Z\" fill=\"#ffffff\" fill-rule=\"evenodd\" fill-opacity=\"1\"/>\n",
       "<defs>\n",
       "  <clipPath id=\"clip221\">\n",
       "    <rect x=\"480\" y=\"0\" width=\"1681\" height=\"1681\"/>\n",
       "  </clipPath>\n",
       "</defs>\n",
       "<path clip-path=\"url(#clip220)\" d=\"M291.584 1798.66 L2352.76 1798.66 L2352.76 47.2441 L291.584 47.2441  Z\" fill=\"#ffffff\" fill-rule=\"evenodd\" fill-opacity=\"1\"/>\n",
       "<defs>\n",
       "  <clipPath id=\"clip222\">\n",
       "    <rect x=\"291\" y=\"47\" width=\"2062\" height=\"1752\"/>\n",
       "  </clipPath>\n",
       "</defs>\n",
       "<polyline clip-path=\"url(#clip222)\" style=\"stroke:#000000; stroke-linecap:round; stroke-linejoin:round; stroke-width:2; stroke-opacity:0.1; fill:none\" points=\"600.822,1798.66 600.822,47.2441 \"/>\n",
       "<polyline clip-path=\"url(#clip222)\" style=\"stroke:#000000; stroke-linecap:round; stroke-linejoin:round; stroke-width:2; stroke-opacity:0.1; fill:none\" points=\"914.452,1798.66 914.452,47.2441 \"/>\n",
       "<polyline clip-path=\"url(#clip222)\" style=\"stroke:#000000; stroke-linecap:round; stroke-linejoin:round; stroke-width:2; stroke-opacity:0.1; fill:none\" points=\"1228.08,1798.66 1228.08,47.2441 \"/>\n",
       "<polyline clip-path=\"url(#clip222)\" style=\"stroke:#000000; stroke-linecap:round; stroke-linejoin:round; stroke-width:2; stroke-opacity:0.1; fill:none\" points=\"1541.71,1798.66 1541.71,47.2441 \"/>\n",
       "<polyline clip-path=\"url(#clip222)\" style=\"stroke:#000000; stroke-linecap:round; stroke-linejoin:round; stroke-width:2; stroke-opacity:0.1; fill:none\" points=\"1855.34,1798.66 1855.34,47.2441 \"/>\n",
       "<polyline clip-path=\"url(#clip222)\" style=\"stroke:#000000; stroke-linecap:round; stroke-linejoin:round; stroke-width:2; stroke-opacity:0.1; fill:none\" points=\"2168.97,1798.66 2168.97,47.2441 \"/>\n",
       "<polyline clip-path=\"url(#clip220)\" style=\"stroke:#000000; stroke-linecap:round; stroke-linejoin:round; stroke-width:4; stroke-opacity:1; fill:none\" points=\"291.584,1798.66 2352.76,1798.66 \"/>\n",
       "<polyline clip-path=\"url(#clip220)\" style=\"stroke:#000000; stroke-linecap:round; stroke-linejoin:round; stroke-width:4; stroke-opacity:1; fill:none\" points=\"600.822,1798.66 600.822,1779.76 \"/>\n",
       "<polyline clip-path=\"url(#clip220)\" style=\"stroke:#000000; stroke-linecap:round; stroke-linejoin:round; stroke-width:4; stroke-opacity:1; fill:none\" points=\"914.452,1798.66 914.452,1779.76 \"/>\n",
       "<polyline clip-path=\"url(#clip220)\" style=\"stroke:#000000; stroke-linecap:round; stroke-linejoin:round; stroke-width:4; stroke-opacity:1; fill:none\" points=\"1228.08,1798.66 1228.08,1779.76 \"/>\n",
       "<polyline clip-path=\"url(#clip220)\" style=\"stroke:#000000; stroke-linecap:round; stroke-linejoin:round; stroke-width:4; stroke-opacity:1; fill:none\" points=\"1541.71,1798.66 1541.71,1779.76 \"/>\n",
       "<polyline clip-path=\"url(#clip220)\" style=\"stroke:#000000; stroke-linecap:round; stroke-linejoin:round; stroke-width:4; stroke-opacity:1; fill:none\" points=\"1855.34,1798.66 1855.34,1779.76 \"/>\n",
       "<polyline clip-path=\"url(#clip220)\" style=\"stroke:#000000; stroke-linecap:round; stroke-linejoin:round; stroke-width:4; stroke-opacity:1; fill:none\" points=\"2168.97,1798.66 2168.97,1779.76 \"/>\n",
       "<path clip-path=\"url(#clip220)\" d=\"M575.51 1857.12 L583.149 1857.12 L583.149 1830.76 L574.839 1832.43 L574.839 1828.17 L583.103 1826.5 L587.779 1826.5 L587.779 1857.12 L595.417 1857.12 L595.417 1861.06 L575.51 1861.06 L575.51 1857.12 Z\" fill=\"#000000\" fill-rule=\"nonzero\" fill-opacity=\"1\" /><path clip-path=\"url(#clip220)\" d=\"M614.862 1829.58 Q611.251 1829.58 609.422 1833.14 Q607.616 1836.68 607.616 1843.81 Q607.616 1850.92 609.422 1854.49 Q611.251 1858.03 614.862 1858.03 Q618.496 1858.03 620.301 1854.49 Q622.13 1850.92 622.13 1843.81 Q622.13 1836.68 620.301 1833.14 Q618.496 1829.58 614.862 1829.58 M614.862 1825.87 Q620.672 1825.87 623.727 1830.48 Q626.806 1835.06 626.806 1843.81 Q626.806 1852.54 623.727 1857.15 Q620.672 1861.73 614.862 1861.73 Q609.052 1861.73 605.973 1857.15 Q602.917 1852.54 602.917 1843.81 Q602.917 1835.06 605.973 1830.48 Q609.052 1825.87 614.862 1825.87 Z\" fill=\"#000000\" fill-rule=\"nonzero\" fill-opacity=\"1\" /><path clip-path=\"url(#clip220)\" d=\"M893.225 1857.12 L909.544 1857.12 L909.544 1861.06 L887.6 1861.06 L887.6 1857.12 Q890.262 1854.37 894.845 1849.74 Q899.452 1845.09 900.632 1843.75 Q902.878 1841.22 903.757 1839.49 Q904.66 1837.73 904.66 1836.04 Q904.66 1833.28 902.716 1831.55 Q900.794 1829.81 897.693 1829.81 Q895.494 1829.81 893.04 1830.57 Q890.609 1831.34 887.832 1832.89 L887.832 1828.17 Q890.656 1827.03 893.109 1826.45 Q895.563 1825.87 897.6 1825.87 Q902.97 1825.87 906.165 1828.56 Q909.359 1831.25 909.359 1835.74 Q909.359 1837.87 908.549 1839.79 Q907.762 1841.68 905.656 1844.28 Q905.077 1844.95 901.975 1848.17 Q898.873 1851.36 893.225 1857.12 Z\" fill=\"#000000\" fill-rule=\"nonzero\" fill-opacity=\"1\" /><path clip-path=\"url(#clip220)\" d=\"M929.359 1829.58 Q925.748 1829.58 923.919 1833.14 Q922.114 1836.68 922.114 1843.81 Q922.114 1850.92 923.919 1854.49 Q925.748 1858.03 929.359 1858.03 Q932.993 1858.03 934.799 1854.49 Q936.628 1850.92 936.628 1843.81 Q936.628 1836.68 934.799 1833.14 Q932.993 1829.58 929.359 1829.58 M929.359 1825.87 Q935.169 1825.87 938.225 1830.48 Q941.303 1835.06 941.303 1843.81 Q941.303 1852.54 938.225 1857.15 Q935.169 1861.73 929.359 1861.73 Q923.549 1861.73 920.47 1857.15 Q917.415 1852.54 917.415 1843.81 Q917.415 1835.06 920.47 1830.48 Q923.549 1825.87 929.359 1825.87 Z\" fill=\"#000000\" fill-rule=\"nonzero\" fill-opacity=\"1\" /><path clip-path=\"url(#clip220)\" d=\"M1216.92 1842.43 Q1220.28 1843.14 1222.16 1845.41 Q1224.05 1847.68 1224.05 1851.01 Q1224.05 1856.13 1220.53 1858.93 Q1217.02 1861.73 1210.53 1861.73 Q1208.36 1861.73 1206.04 1861.29 Q1203.75 1860.87 1201.3 1860.02 L1201.3 1855.5 Q1203.24 1856.64 1205.56 1857.22 Q1207.87 1857.8 1210.4 1857.8 Q1214.79 1857.8 1217.09 1856.06 Q1219.4 1854.32 1219.4 1851.01 Q1219.4 1847.96 1217.25 1846.25 Q1215.12 1844.51 1211.3 1844.51 L1207.27 1844.51 L1207.27 1840.67 L1211.48 1840.67 Q1214.93 1840.67 1216.76 1839.3 Q1218.59 1837.91 1218.59 1835.32 Q1218.59 1832.66 1216.69 1831.25 Q1214.82 1829.81 1211.3 1829.81 Q1209.38 1829.81 1207.18 1830.23 Q1204.98 1830.64 1202.34 1831.52 L1202.34 1827.36 Q1205 1826.62 1207.32 1826.25 Q1209.66 1825.87 1211.72 1825.87 Q1217.04 1825.87 1220.14 1828.31 Q1223.24 1830.71 1223.24 1834.83 Q1223.24 1837.7 1221.6 1839.69 Q1219.96 1841.66 1216.92 1842.43 Z\" fill=\"#000000\" fill-rule=\"nonzero\" fill-opacity=\"1\" /><path clip-path=\"url(#clip220)\" d=\"M1242.92 1829.58 Q1239.31 1829.58 1237.48 1833.14 Q1235.67 1836.68 1235.67 1843.81 Q1235.67 1850.92 1237.48 1854.49 Q1239.31 1858.03 1242.92 1858.03 Q1246.55 1858.03 1248.36 1854.49 Q1250.19 1850.92 1250.19 1843.81 Q1250.19 1836.68 1248.36 1833.14 Q1246.55 1829.58 1242.92 1829.58 M1242.92 1825.87 Q1248.73 1825.87 1251.78 1830.48 Q1254.86 1835.06 1254.86 1843.81 Q1254.86 1852.54 1251.78 1857.15 Q1248.73 1861.73 1242.92 1861.73 Q1237.11 1861.73 1234.03 1857.15 Q1230.97 1852.54 1230.97 1843.81 Q1230.97 1835.06 1234.03 1830.48 Q1237.11 1825.87 1242.92 1825.87 Z\" fill=\"#000000\" fill-rule=\"nonzero\" fill-opacity=\"1\" /><path clip-path=\"url(#clip220)\" d=\"M1529.88 1830.57 L1518.08 1849.02 L1529.88 1849.02 L1529.88 1830.57 M1528.65 1826.5 L1534.53 1826.5 L1534.53 1849.02 L1539.47 1849.02 L1539.47 1852.91 L1534.53 1852.91 L1534.53 1861.06 L1529.88 1861.06 L1529.88 1852.91 L1514.28 1852.91 L1514.28 1848.4 L1528.65 1826.5 Z\" fill=\"#000000\" fill-rule=\"nonzero\" fill-opacity=\"1\" /><path clip-path=\"url(#clip220)\" d=\"M1557.2 1829.58 Q1553.59 1829.58 1551.76 1833.14 Q1549.95 1836.68 1549.95 1843.81 Q1549.95 1850.92 1551.76 1854.49 Q1553.59 1858.03 1557.2 1858.03 Q1560.83 1858.03 1562.64 1854.49 Q1564.46 1850.92 1564.46 1843.81 Q1564.46 1836.68 1562.64 1833.14 Q1560.83 1829.58 1557.2 1829.58 M1557.2 1825.87 Q1563.01 1825.87 1566.06 1830.48 Q1569.14 1835.06 1569.14 1843.81 Q1569.14 1852.54 1566.06 1857.15 Q1563.01 1861.73 1557.2 1861.73 Q1551.39 1861.73 1548.31 1857.15 Q1545.25 1852.54 1545.25 1843.81 Q1545.25 1835.06 1548.31 1830.48 Q1551.39 1825.87 1557.2 1825.87 Z\" fill=\"#000000\" fill-rule=\"nonzero\" fill-opacity=\"1\" /><path clip-path=\"url(#clip220)\" d=\"M1830.04 1826.5 L1848.4 1826.5 L1848.4 1830.44 L1834.32 1830.44 L1834.32 1838.91 Q1835.34 1838.56 1836.36 1838.4 Q1837.38 1838.21 1838.4 1838.21 Q1844.18 1838.21 1847.56 1841.38 Q1850.94 1844.56 1850.94 1849.97 Q1850.94 1855.55 1847.47 1858.65 Q1844 1861.73 1837.68 1861.73 Q1835.5 1861.73 1833.23 1861.36 Q1830.99 1860.99 1828.58 1860.25 L1828.58 1855.55 Q1830.66 1856.68 1832.89 1857.24 Q1835.11 1857.8 1837.59 1857.8 Q1841.59 1857.8 1843.93 1855.69 Q1846.27 1853.58 1846.27 1849.97 Q1846.27 1846.36 1843.93 1844.25 Q1841.59 1842.15 1837.59 1842.15 Q1835.71 1842.15 1833.84 1842.56 Q1831.98 1842.98 1830.04 1843.86 L1830.04 1826.5 Z\" fill=\"#000000\" fill-rule=\"nonzero\" fill-opacity=\"1\" /><path clip-path=\"url(#clip220)\" d=\"M1870.15 1829.58 Q1866.54 1829.58 1864.71 1833.14 Q1862.91 1836.68 1862.91 1843.81 Q1862.91 1850.92 1864.71 1854.49 Q1866.54 1858.03 1870.15 1858.03 Q1873.79 1858.03 1875.59 1854.49 Q1877.42 1850.92 1877.42 1843.81 Q1877.42 1836.68 1875.59 1833.14 Q1873.79 1829.58 1870.15 1829.58 M1870.15 1825.87 Q1875.96 1825.87 1879.02 1830.48 Q1882.1 1835.06 1882.1 1843.81 Q1882.1 1852.54 1879.02 1857.15 Q1875.96 1861.73 1870.15 1861.73 Q1864.34 1861.73 1861.27 1857.15 Q1858.21 1852.54 1858.21 1843.81 Q1858.21 1835.06 1861.27 1830.48 Q1864.34 1825.87 1870.15 1825.87 Z\" fill=\"#000000\" fill-rule=\"nonzero\" fill-opacity=\"1\" /><path clip-path=\"url(#clip220)\" d=\"M2154.37 1841.92 Q2151.23 1841.92 2149.37 1844.07 Q2147.55 1846.22 2147.55 1849.97 Q2147.55 1853.7 2149.37 1855.87 Q2151.23 1858.03 2154.37 1858.03 Q2157.52 1858.03 2159.35 1855.87 Q2161.2 1853.7 2161.2 1849.97 Q2161.2 1846.22 2159.35 1844.07 Q2157.52 1841.92 2154.37 1841.92 M2163.66 1827.26 L2163.66 1831.52 Q2161.9 1830.69 2160.09 1830.25 Q2158.31 1829.81 2156.55 1829.81 Q2151.92 1829.81 2149.47 1832.93 Q2147.04 1836.06 2146.69 1842.38 Q2148.05 1840.37 2150.12 1839.3 Q2152.18 1838.21 2154.65 1838.21 Q2159.86 1838.21 2162.87 1841.38 Q2165.9 1844.53 2165.9 1849.97 Q2165.9 1855.3 2162.75 1858.51 Q2159.61 1861.73 2154.37 1861.73 Q2148.38 1861.73 2145.21 1857.15 Q2142.04 1852.54 2142.04 1843.81 Q2142.04 1835.62 2145.93 1830.76 Q2149.81 1825.87 2156.37 1825.87 Q2158.12 1825.87 2159.91 1826.22 Q2161.71 1826.57 2163.66 1827.26 Z\" fill=\"#000000\" fill-rule=\"nonzero\" fill-opacity=\"1\" /><path clip-path=\"url(#clip220)\" d=\"M2183.96 1829.58 Q2180.35 1829.58 2178.52 1833.14 Q2176.71 1836.68 2176.71 1843.81 Q2176.71 1850.92 2178.52 1854.49 Q2180.35 1858.03 2183.96 1858.03 Q2187.59 1858.03 2189.4 1854.49 Q2191.23 1850.92 2191.23 1843.81 Q2191.23 1836.68 2189.4 1833.14 Q2187.59 1829.58 2183.96 1829.58 M2183.96 1825.87 Q2189.77 1825.87 2192.82 1830.48 Q2195.9 1835.06 2195.9 1843.81 Q2195.9 1852.54 2192.82 1857.15 Q2189.77 1861.73 2183.96 1861.73 Q2178.15 1861.73 2175.07 1857.15 Q2172.01 1852.54 2172.01 1843.81 Q2172.01 1835.06 2175.07 1830.48 Q2178.15 1825.87 2183.96 1825.87 Z\" fill=\"#000000\" fill-rule=\"nonzero\" fill-opacity=\"1\" /><path clip-path=\"url(#clip220)\" d=\"M1067.64 1896 L1076.29 1896 L1097.36 1935.76 L1097.36 1896 L1103.6 1896 L1103.6 1943.52 L1094.95 1943.52 L1073.88 1903.77 L1073.88 1943.52 L1067.64 1943.52 L1067.64 1896 Z\" fill=\"#000000\" fill-rule=\"nonzero\" fill-opacity=\"1\" /><path clip-path=\"url(#clip220)\" d=\"M1115.54 1929.46 L1115.54 1907.88 L1121.4 1907.88 L1121.4 1929.23 Q1121.4 1934.29 1123.37 1936.84 Q1125.34 1939.35 1129.29 1939.35 Q1134.03 1939.35 1136.77 1936.33 Q1139.54 1933.31 1139.54 1928.09 L1139.54 1907.88 L1145.39 1907.88 L1145.39 1943.52 L1139.54 1943.52 L1139.54 1938.05 Q1137.41 1941.3 1134.57 1942.89 Q1131.77 1944.45 1128.05 1944.45 Q1121.9 1944.45 1118.72 1940.63 Q1115.54 1936.81 1115.54 1929.46 M1130.28 1907.02 L1130.28 1907.02 Z\" fill=\"#000000\" fill-rule=\"nonzero\" fill-opacity=\"1\" /><path clip-path=\"url(#clip220)\" d=\"M1185.21 1914.72 Q1187.41 1910.77 1190.46 1908.89 Q1193.52 1907.02 1197.66 1907.02 Q1203.23 1907.02 1206.25 1910.93 Q1209.27 1914.81 1209.27 1922.01 L1209.27 1943.52 L1203.39 1943.52 L1203.39 1922.2 Q1203.39 1917.07 1201.57 1914.59 Q1199.76 1912.11 1196.03 1912.11 Q1191.48 1912.11 1188.84 1915.13 Q1186.2 1918.16 1186.2 1923.38 L1186.2 1943.52 L1180.31 1943.52 L1180.31 1922.2 Q1180.31 1917.04 1178.5 1914.59 Q1176.68 1912.11 1172.89 1912.11 Q1168.41 1912.11 1165.76 1915.16 Q1163.12 1918.19 1163.12 1923.38 L1163.12 1943.52 L1157.23 1943.52 L1157.23 1907.88 L1163.12 1907.88 L1163.12 1913.41 Q1165.13 1910.14 1167.93 1908.58 Q1170.73 1907.02 1174.58 1907.02 Q1178.46 1907.02 1181.17 1908.99 Q1183.91 1910.96 1185.21 1914.72 Z\" fill=\"#000000\" fill-rule=\"nonzero\" fill-opacity=\"1\" /><path clip-path=\"url(#clip220)\" d=\"M1246.55 1925.73 Q1246.55 1919.27 1243.87 1915.61 Q1241.23 1911.92 1236.58 1911.92 Q1231.94 1911.92 1229.26 1915.61 Q1226.62 1919.27 1226.62 1925.73 Q1226.62 1932.19 1229.26 1935.88 Q1231.94 1939.55 1236.58 1939.55 Q1241.23 1939.55 1243.87 1935.88 Q1246.55 1932.19 1246.55 1925.73 M1226.62 1913.29 Q1228.47 1910.1 1231.27 1908.58 Q1234.1 1907.02 1238.02 1907.02 Q1244.51 1907.02 1248.55 1912.17 Q1252.62 1917.33 1252.62 1925.73 Q1252.62 1934.13 1248.55 1939.29 Q1244.51 1944.45 1238.02 1944.45 Q1234.1 1944.45 1231.27 1942.92 Q1228.47 1941.36 1226.62 1938.18 L1226.62 1943.52 L1220.73 1943.52 L1220.73 1894 L1226.62 1894 L1226.62 1913.29 Z\" fill=\"#000000\" fill-rule=\"nonzero\" fill-opacity=\"1\" /><path clip-path=\"url(#clip220)\" d=\"M1292.82 1924.24 L1292.82 1927.1 L1265.9 1927.1 Q1266.28 1933.15 1269.53 1936.33 Q1272.8 1939.48 1278.63 1939.48 Q1282 1939.48 1285.15 1938.65 Q1288.34 1937.83 1291.46 1936.17 L1291.46 1941.71 Q1288.3 1943.05 1284.99 1943.75 Q1281.68 1944.45 1278.28 1944.45 Q1269.75 1944.45 1264.75 1939.48 Q1259.79 1934.52 1259.79 1926.05 Q1259.79 1917.3 1264.5 1912.17 Q1269.24 1907.02 1277.26 1907.02 Q1284.45 1907.02 1288.62 1911.66 Q1292.82 1916.28 1292.82 1924.24 M1286.97 1922.52 Q1286.9 1917.71 1284.26 1914.85 Q1281.65 1911.98 1277.32 1911.98 Q1272.42 1911.98 1269.46 1914.75 Q1266.53 1917.52 1266.09 1922.55 L1286.97 1922.52 Z\" fill=\"#000000\" fill-rule=\"nonzero\" fill-opacity=\"1\" /><path clip-path=\"url(#clip220)\" d=\"M1323.09 1913.35 Q1322.11 1912.78 1320.93 1912.52 Q1319.78 1912.24 1318.38 1912.24 Q1313.42 1912.24 1310.74 1915.48 Q1308.1 1918.7 1308.1 1924.75 L1308.1 1943.52 L1302.21 1943.52 L1302.21 1907.88 L1308.1 1907.88 L1308.1 1913.41 Q1309.95 1910.17 1312.91 1908.61 Q1315.87 1907.02 1320.1 1907.02 Q1320.71 1907.02 1321.44 1907.11 Q1322.17 1907.18 1323.06 1907.33 L1323.09 1913.35 Z\" fill=\"#000000\" fill-rule=\"nonzero\" fill-opacity=\"1\" /><path clip-path=\"url(#clip220)\" d=\"M1363.77 1911.98 Q1359.06 1911.98 1356.32 1915.67 Q1353.58 1919.33 1353.58 1925.73 Q1353.58 1932.13 1356.29 1935.82 Q1359.03 1939.48 1363.77 1939.48 Q1368.45 1939.48 1371.19 1935.79 Q1373.92 1932.1 1373.92 1925.73 Q1373.92 1919.4 1371.19 1915.71 Q1368.45 1911.98 1363.77 1911.98 M1363.77 1907.02 Q1371.41 1907.02 1375.77 1911.98 Q1380.13 1916.95 1380.13 1925.73 Q1380.13 1934.48 1375.77 1939.48 Q1371.41 1944.45 1363.77 1944.45 Q1356.1 1944.45 1351.74 1939.48 Q1347.41 1934.48 1347.41 1925.73 Q1347.41 1916.95 1351.74 1911.98 Q1356.1 1907.02 1363.77 1907.02 Z\" fill=\"#000000\" fill-rule=\"nonzero\" fill-opacity=\"1\" /><path clip-path=\"url(#clip220)\" d=\"M1407.88 1894 L1407.88 1898.87 L1402.28 1898.87 Q1399.13 1898.87 1397.89 1900.14 Q1396.68 1901.41 1396.68 1904.72 L1396.68 1907.88 L1406.32 1907.88 L1406.32 1912.43 L1396.68 1912.43 L1396.68 1943.52 L1390.79 1943.52 L1390.79 1912.43 L1385.19 1912.43 L1385.19 1907.88 L1390.79 1907.88 L1390.79 1905.39 Q1390.79 1899.44 1393.56 1896.74 Q1396.33 1894 1402.35 1894 L1407.88 1894 Z\" fill=\"#000000\" fill-rule=\"nonzero\" fill-opacity=\"1\" /><path clip-path=\"url(#clip220)\" d=\"M1454.16 1913.35 Q1453.18 1912.78 1452 1912.52 Q1450.85 1912.24 1449.45 1912.24 Q1444.49 1912.24 1441.81 1915.48 Q1439.17 1918.7 1439.17 1924.75 L1439.17 1943.52 L1433.28 1943.52 L1433.28 1907.88 L1439.17 1907.88 L1439.17 1913.41 Q1441.02 1910.17 1443.98 1908.61 Q1446.94 1907.02 1451.17 1907.02 Q1451.78 1907.02 1452.51 1907.11 Q1453.24 1907.18 1454.13 1907.33 L1454.16 1913.35 Z\" fill=\"#000000\" fill-rule=\"nonzero\" fill-opacity=\"1\" /><path clip-path=\"url(#clip220)\" d=\"M1472.69 1911.98 Q1467.98 1911.98 1465.24 1915.67 Q1462.5 1919.33 1462.5 1925.73 Q1462.5 1932.13 1465.21 1935.82 Q1467.94 1939.48 1472.69 1939.48 Q1477.37 1939.48 1480.1 1935.79 Q1482.84 1932.1 1482.84 1925.73 Q1482.84 1919.4 1480.1 1915.71 Q1477.37 1911.98 1472.69 1911.98 M1472.69 1907.02 Q1480.33 1907.02 1484.69 1911.98 Q1489.05 1916.95 1489.05 1925.73 Q1489.05 1934.48 1484.69 1939.48 Q1480.33 1944.45 1472.69 1944.45 Q1465.02 1944.45 1460.66 1939.48 Q1456.33 1934.48 1456.33 1925.73 Q1456.33 1916.95 1460.66 1911.98 Q1465.02 1907.02 1472.69 1907.02 Z\" fill=\"#000000\" fill-rule=\"nonzero\" fill-opacity=\"1\" /><path clip-path=\"url(#clip220)\" d=\"M1495.35 1907.88 L1501.21 1907.88 L1508.53 1935.69 L1515.81 1907.88 L1522.72 1907.88 L1530.04 1935.69 L1537.33 1907.88 L1543.19 1907.88 L1533.86 1943.52 L1526.95 1943.52 L1519.28 1914.31 L1511.58 1943.52 L1504.67 1943.52 L1495.35 1907.88 Z\" fill=\"#000000\" fill-rule=\"nonzero\" fill-opacity=\"1\" /><path clip-path=\"url(#clip220)\" d=\"M1574.79 1908.93 L1574.79 1914.46 Q1572.31 1913.19 1569.64 1912.55 Q1566.96 1911.92 1564.1 1911.92 Q1559.74 1911.92 1557.54 1913.25 Q1555.38 1914.59 1555.38 1917.27 Q1555.38 1919.3 1556.94 1920.48 Q1558.5 1921.63 1563.21 1922.68 L1565.21 1923.12 Q1571.45 1924.46 1574.06 1926.91 Q1576.7 1929.33 1576.7 1933.69 Q1576.7 1938.65 1572.76 1941.55 Q1568.84 1944.45 1561.97 1944.45 Q1559.1 1944.45 1555.98 1943.87 Q1552.89 1943.33 1549.46 1942.22 L1549.46 1936.17 Q1552.7 1937.86 1555.85 1938.72 Q1559.01 1939.55 1562.09 1939.55 Q1566.23 1939.55 1568.46 1938.14 Q1570.69 1936.71 1570.69 1934.13 Q1570.69 1931.75 1569.06 1930.47 Q1567.47 1929.2 1562.03 1928.02 L1559.99 1927.55 Q1554.55 1926.4 1552.13 1924.04 Q1549.71 1921.66 1549.71 1917.52 Q1549.71 1912.49 1553.28 1909.75 Q1556.84 1907.02 1563.4 1907.02 Q1566.64 1907.02 1569.51 1907.49 Q1572.37 1907.97 1574.79 1908.93 Z\" fill=\"#000000\" fill-rule=\"nonzero\" fill-opacity=\"1\" /><polyline clip-path=\"url(#clip222)\" style=\"stroke:#000000; stroke-linecap:round; stroke-linejoin:round; stroke-width:2; stroke-opacity:0.1; fill:none\" points=\"291.584,1749.17 2352.76,1749.17 \"/>\n",
       "<polyline clip-path=\"url(#clip222)\" style=\"stroke:#000000; stroke-linecap:round; stroke-linejoin:round; stroke-width:2; stroke-opacity:0.1; fill:none\" points=\"291.584,1347.3 2352.76,1347.3 \"/>\n",
       "<polyline clip-path=\"url(#clip222)\" style=\"stroke:#000000; stroke-linecap:round; stroke-linejoin:round; stroke-width:2; stroke-opacity:0.1; fill:none\" points=\"291.584,945.421 2352.76,945.421 \"/>\n",
       "<polyline clip-path=\"url(#clip222)\" style=\"stroke:#000000; stroke-linecap:round; stroke-linejoin:round; stroke-width:2; stroke-opacity:0.1; fill:none\" points=\"291.584,543.547 2352.76,543.547 \"/>\n",
       "<polyline clip-path=\"url(#clip222)\" style=\"stroke:#000000; stroke-linecap:round; stroke-linejoin:round; stroke-width:2; stroke-opacity:0.1; fill:none\" points=\"291.584,141.673 2352.76,141.673 \"/>\n",
       "<polyline clip-path=\"url(#clip220)\" style=\"stroke:#000000; stroke-linecap:round; stroke-linejoin:round; stroke-width:4; stroke-opacity:1; fill:none\" points=\"291.584,1798.66 291.584,47.2441 \"/>\n",
       "<polyline clip-path=\"url(#clip220)\" style=\"stroke:#000000; stroke-linecap:round; stroke-linejoin:round; stroke-width:4; stroke-opacity:1; fill:none\" points=\"291.584,1749.17 310.482,1749.17 \"/>\n",
       "<polyline clip-path=\"url(#clip220)\" style=\"stroke:#000000; stroke-linecap:round; stroke-linejoin:round; stroke-width:4; stroke-opacity:1; fill:none\" points=\"291.584,1347.3 310.482,1347.3 \"/>\n",
       "<polyline clip-path=\"url(#clip220)\" style=\"stroke:#000000; stroke-linecap:round; stroke-linejoin:round; stroke-width:4; stroke-opacity:1; fill:none\" points=\"291.584,945.421 310.482,945.421 \"/>\n",
       "<polyline clip-path=\"url(#clip220)\" style=\"stroke:#000000; stroke-linecap:round; stroke-linejoin:round; stroke-width:4; stroke-opacity:1; fill:none\" points=\"291.584,543.547 310.482,543.547 \"/>\n",
       "<polyline clip-path=\"url(#clip220)\" style=\"stroke:#000000; stroke-linecap:round; stroke-linejoin:round; stroke-width:4; stroke-opacity:1; fill:none\" points=\"291.584,141.673 310.482,141.673 \"/>\n",
       "<path clip-path=\"url(#clip220)\" d=\"M138.085 1734.97 Q134.473 1734.97 132.645 1738.53 Q130.839 1742.07 130.839 1749.2 Q130.839 1756.31 132.645 1759.88 Q134.473 1763.42 138.085 1763.42 Q141.719 1763.42 143.524 1759.88 Q145.353 1756.31 145.353 1749.2 Q145.353 1742.07 143.524 1738.53 Q141.719 1734.97 138.085 1734.97 M138.085 1731.26 Q143.895 1731.26 146.95 1735.87 Q150.029 1740.45 150.029 1749.2 Q150.029 1757.93 146.95 1762.54 Q143.895 1767.12 138.085 1767.12 Q132.274 1767.12 129.196 1762.54 Q126.14 1757.93 126.14 1749.2 Q126.14 1740.45 129.196 1735.87 Q132.274 1731.26 138.085 1731.26 Z\" fill=\"#000000\" fill-rule=\"nonzero\" fill-opacity=\"1\" /><path clip-path=\"url(#clip220)\" d=\"M158.246 1760.57 L163.131 1760.57 L163.131 1766.45 L158.246 1766.45 L158.246 1760.57 Z\" fill=\"#000000\" fill-rule=\"nonzero\" fill-opacity=\"1\" /><path clip-path=\"url(#clip220)\" d=\"M183.316 1734.97 Q179.705 1734.97 177.876 1738.53 Q176.07 1742.07 176.07 1749.2 Q176.07 1756.31 177.876 1759.88 Q179.705 1763.42 183.316 1763.42 Q186.95 1763.42 188.756 1759.88 Q190.584 1756.31 190.584 1749.2 Q190.584 1742.07 188.756 1738.53 Q186.95 1734.97 183.316 1734.97 M183.316 1731.26 Q189.126 1731.26 192.181 1735.87 Q195.26 1740.45 195.26 1749.2 Q195.26 1757.93 192.181 1762.54 Q189.126 1767.12 183.316 1767.12 Q177.506 1767.12 174.427 1762.54 Q171.371 1757.93 171.371 1749.2 Q171.371 1740.45 174.427 1735.87 Q177.506 1731.26 183.316 1731.26 Z\" fill=\"#000000\" fill-rule=\"nonzero\" fill-opacity=\"1\" /><path clip-path=\"url(#clip220)\" d=\"M213.478 1734.97 Q209.867 1734.97 208.038 1738.53 Q206.232 1742.07 206.232 1749.2 Q206.232 1756.31 208.038 1759.88 Q209.867 1763.42 213.478 1763.42 Q217.112 1763.42 218.917 1759.88 Q220.746 1756.31 220.746 1749.2 Q220.746 1742.07 218.917 1738.53 Q217.112 1734.97 213.478 1734.97 M213.478 1731.26 Q219.288 1731.26 222.343 1735.87 Q225.422 1740.45 225.422 1749.2 Q225.422 1757.93 222.343 1762.54 Q219.288 1767.12 213.478 1767.12 Q207.667 1767.12 204.589 1762.54 Q201.533 1757.93 201.533 1749.2 Q201.533 1740.45 204.589 1735.87 Q207.667 1731.26 213.478 1731.26 Z\" fill=\"#000000\" fill-rule=\"nonzero\" fill-opacity=\"1\" /><path clip-path=\"url(#clip220)\" d=\"M243.64 1734.97 Q240.028 1734.97 238.2 1738.53 Q236.394 1742.07 236.394 1749.2 Q236.394 1756.31 238.2 1759.88 Q240.028 1763.42 243.64 1763.42 Q247.274 1763.42 249.079 1759.88 Q250.908 1756.31 250.908 1749.2 Q250.908 1742.07 249.079 1738.53 Q247.274 1734.97 243.64 1734.97 M243.64 1731.26 Q249.45 1731.26 252.505 1735.87 Q255.584 1740.45 255.584 1749.2 Q255.584 1757.93 252.505 1762.54 Q249.45 1767.12 243.64 1767.12 Q237.829 1767.12 234.751 1762.54 Q231.695 1757.93 231.695 1749.2 Q231.695 1740.45 234.751 1735.87 Q237.829 1731.26 243.64 1731.26 Z\" fill=\"#000000\" fill-rule=\"nonzero\" fill-opacity=\"1\" /><path clip-path=\"url(#clip220)\" d=\"M139.08 1333.09 Q135.469 1333.09 133.64 1336.66 Q131.835 1340.2 131.835 1347.33 Q131.835 1354.44 133.64 1358 Q135.469 1361.54 139.08 1361.54 Q142.714 1361.54 144.52 1358 Q146.348 1354.44 146.348 1347.33 Q146.348 1340.2 144.52 1336.66 Q142.714 1333.09 139.08 1333.09 M139.08 1329.39 Q144.89 1329.39 147.946 1334 Q151.024 1338.58 151.024 1347.33 Q151.024 1356.06 147.946 1360.66 Q144.89 1365.25 139.08 1365.25 Q133.27 1365.25 130.191 1360.66 Q127.136 1356.06 127.136 1347.33 Q127.136 1338.58 130.191 1334 Q133.27 1329.39 139.08 1329.39 Z\" fill=\"#000000\" fill-rule=\"nonzero\" fill-opacity=\"1\" /><path clip-path=\"url(#clip220)\" d=\"M159.242 1358.7 L164.126 1358.7 L164.126 1364.58 L159.242 1364.58 L159.242 1358.7 Z\" fill=\"#000000\" fill-rule=\"nonzero\" fill-opacity=\"1\" /><path clip-path=\"url(#clip220)\" d=\"M184.311 1333.09 Q180.7 1333.09 178.871 1336.66 Q177.066 1340.2 177.066 1347.33 Q177.066 1354.44 178.871 1358 Q180.7 1361.54 184.311 1361.54 Q187.945 1361.54 189.751 1358 Q191.58 1354.44 191.58 1347.33 Q191.58 1340.2 189.751 1336.66 Q187.945 1333.09 184.311 1333.09 M184.311 1329.39 Q190.121 1329.39 193.177 1334 Q196.256 1338.58 196.256 1347.33 Q196.256 1356.06 193.177 1360.66 Q190.121 1365.25 184.311 1365.25 Q178.501 1365.25 175.422 1360.66 Q172.367 1356.06 172.367 1347.33 Q172.367 1338.58 175.422 1334 Q178.501 1329.39 184.311 1329.39 Z\" fill=\"#000000\" fill-rule=\"nonzero\" fill-opacity=\"1\" /><path clip-path=\"url(#clip220)\" d=\"M208.501 1360.64 L224.82 1360.64 L224.82 1364.58 L202.876 1364.58 L202.876 1360.64 Q205.538 1357.89 210.121 1353.26 Q214.728 1348.6 215.908 1347.26 Q218.154 1344.74 219.033 1343 Q219.936 1341.24 219.936 1339.55 Q219.936 1336.8 217.992 1335.06 Q216.07 1333.33 212.968 1333.33 Q210.769 1333.33 208.316 1334.09 Q205.885 1334.85 203.107 1336.4 L203.107 1331.68 Q205.931 1330.55 208.385 1329.97 Q210.839 1329.39 212.876 1329.39 Q218.246 1329.39 221.441 1332.08 Q224.635 1334.76 224.635 1339.25 Q224.635 1341.38 223.825 1343.3 Q223.038 1345.2 220.931 1347.79 Q220.353 1348.46 217.251 1351.68 Q214.149 1354.88 208.501 1360.64 Z\" fill=\"#000000\" fill-rule=\"nonzero\" fill-opacity=\"1\" /><path clip-path=\"url(#clip220)\" d=\"M234.681 1330.02 L253.038 1330.02 L253.038 1333.95 L238.964 1333.95 L238.964 1342.42 Q239.982 1342.08 241.001 1341.91 Q242.019 1341.73 243.038 1341.73 Q248.825 1341.73 252.204 1344.9 Q255.584 1348.07 255.584 1353.49 Q255.584 1359.07 252.112 1362.17 Q248.64 1365.25 242.32 1365.25 Q240.144 1365.25 237.876 1364.88 Q235.63 1364.51 233.223 1363.77 L233.223 1359.07 Q235.306 1360.2 237.528 1360.76 Q239.751 1361.31 242.227 1361.31 Q246.232 1361.31 248.57 1359.21 Q250.908 1357.1 250.908 1353.49 Q250.908 1349.88 248.57 1347.77 Q246.232 1345.66 242.227 1345.66 Q240.353 1345.66 238.478 1346.08 Q236.626 1346.5 234.681 1347.38 L234.681 1330.02 Z\" fill=\"#000000\" fill-rule=\"nonzero\" fill-opacity=\"1\" /><path clip-path=\"url(#clip220)\" d=\"M138.085 931.22 Q134.473 931.22 132.645 934.785 Q130.839 938.327 130.839 945.456 Q130.839 952.563 132.645 956.127 Q134.473 959.669 138.085 959.669 Q141.719 959.669 143.524 956.127 Q145.353 952.563 145.353 945.456 Q145.353 938.327 143.524 934.785 Q141.719 931.22 138.085 931.22 M138.085 927.516 Q143.895 927.516 146.95 932.123 Q150.029 936.706 150.029 945.456 Q150.029 954.183 146.95 958.789 Q143.895 963.373 138.085 963.373 Q132.274 963.373 129.196 958.789 Q126.14 954.183 126.14 945.456 Q126.14 936.706 129.196 932.123 Q132.274 927.516 138.085 927.516 Z\" fill=\"#000000\" fill-rule=\"nonzero\" fill-opacity=\"1\" /><path clip-path=\"url(#clip220)\" d=\"M158.246 956.822 L163.131 956.822 L163.131 962.701 L158.246 962.701 L158.246 956.822 Z\" fill=\"#000000\" fill-rule=\"nonzero\" fill-opacity=\"1\" /><path clip-path=\"url(#clip220)\" d=\"M183.316 931.22 Q179.705 931.22 177.876 934.785 Q176.07 938.327 176.07 945.456 Q176.07 952.563 177.876 956.127 Q179.705 959.669 183.316 959.669 Q186.95 959.669 188.756 956.127 Q190.584 952.563 190.584 945.456 Q190.584 938.327 188.756 934.785 Q186.95 931.22 183.316 931.22 M183.316 927.516 Q189.126 927.516 192.181 932.123 Q195.26 936.706 195.26 945.456 Q195.26 954.183 192.181 958.789 Q189.126 963.373 183.316 963.373 Q177.506 963.373 174.427 958.789 Q171.371 954.183 171.371 945.456 Q171.371 936.706 174.427 932.123 Q177.506 927.516 183.316 927.516 Z\" fill=\"#000000\" fill-rule=\"nonzero\" fill-opacity=\"1\" /><path clip-path=\"url(#clip220)\" d=\"M203.524 928.141 L221.88 928.141 L221.88 932.077 L207.806 932.077 L207.806 940.549 Q208.825 940.202 209.843 940.04 Q210.862 939.854 211.88 939.854 Q217.667 939.854 221.047 943.026 Q224.427 946.197 224.427 951.614 Q224.427 957.192 220.954 960.294 Q217.482 963.373 211.163 963.373 Q208.987 963.373 206.718 963.002 Q204.473 962.632 202.066 961.891 L202.066 957.192 Q204.149 958.326 206.371 958.882 Q208.593 959.438 211.07 959.438 Q215.075 959.438 217.413 957.331 Q219.751 955.225 219.751 951.614 Q219.751 948.002 217.413 945.896 Q215.075 943.79 211.07 943.79 Q209.195 943.79 207.32 944.206 Q205.468 944.623 203.524 945.502 L203.524 928.141 Z\" fill=\"#000000\" fill-rule=\"nonzero\" fill-opacity=\"1\" /><path clip-path=\"url(#clip220)\" d=\"M243.64 931.22 Q240.028 931.22 238.2 934.785 Q236.394 938.327 236.394 945.456 Q236.394 952.563 238.2 956.127 Q240.028 959.669 243.64 959.669 Q247.274 959.669 249.079 956.127 Q250.908 952.563 250.908 945.456 Q250.908 938.327 249.079 934.785 Q247.274 931.22 243.64 931.22 M243.64 927.516 Q249.45 927.516 252.505 932.123 Q255.584 936.706 255.584 945.456 Q255.584 954.183 252.505 958.789 Q249.45 963.373 243.64 963.373 Q237.829 963.373 234.751 958.789 Q231.695 954.183 231.695 945.456 Q231.695 936.706 234.751 932.123 Q237.829 927.516 243.64 927.516 Z\" fill=\"#000000\" fill-rule=\"nonzero\" fill-opacity=\"1\" /><path clip-path=\"url(#clip220)\" d=\"M139.08 529.346 Q135.469 529.346 133.64 532.911 Q131.835 536.453 131.835 543.582 Q131.835 550.689 133.64 554.253 Q135.469 557.795 139.08 557.795 Q142.714 557.795 144.52 554.253 Q146.348 550.689 146.348 543.582 Q146.348 536.453 144.52 532.911 Q142.714 529.346 139.08 529.346 M139.08 525.642 Q144.89 525.642 147.946 530.249 Q151.024 534.832 151.024 543.582 Q151.024 552.309 147.946 556.915 Q144.89 561.499 139.08 561.499 Q133.27 561.499 130.191 556.915 Q127.136 552.309 127.136 543.582 Q127.136 534.832 130.191 530.249 Q133.27 525.642 139.08 525.642 Z\" fill=\"#000000\" fill-rule=\"nonzero\" fill-opacity=\"1\" /><path clip-path=\"url(#clip220)\" d=\"M159.242 554.948 L164.126 554.948 L164.126 560.827 L159.242 560.827 L159.242 554.948 Z\" fill=\"#000000\" fill-rule=\"nonzero\" fill-opacity=\"1\" /><path clip-path=\"url(#clip220)\" d=\"M184.311 529.346 Q180.7 529.346 178.871 532.911 Q177.066 536.453 177.066 543.582 Q177.066 550.689 178.871 554.253 Q180.7 557.795 184.311 557.795 Q187.945 557.795 189.751 554.253 Q191.58 550.689 191.58 543.582 Q191.58 536.453 189.751 532.911 Q187.945 529.346 184.311 529.346 M184.311 525.642 Q190.121 525.642 193.177 530.249 Q196.256 534.832 196.256 543.582 Q196.256 552.309 193.177 556.915 Q190.121 561.499 184.311 561.499 Q178.501 561.499 175.422 556.915 Q172.367 552.309 172.367 543.582 Q172.367 534.832 175.422 530.249 Q178.501 525.642 184.311 525.642 Z\" fill=\"#000000\" fill-rule=\"nonzero\" fill-opacity=\"1\" /><path clip-path=\"url(#clip220)\" d=\"M203.293 526.267 L225.515 526.267 L225.515 528.258 L212.968 560.827 L208.084 560.827 L219.89 530.203 L203.293 530.203 L203.293 526.267 Z\" fill=\"#000000\" fill-rule=\"nonzero\" fill-opacity=\"1\" /><path clip-path=\"url(#clip220)\" d=\"M234.681 526.267 L253.038 526.267 L253.038 530.203 L238.964 530.203 L238.964 538.675 Q239.982 538.328 241.001 538.165 Q242.019 537.98 243.038 537.98 Q248.825 537.98 252.204 541.152 Q255.584 544.323 255.584 549.739 Q255.584 555.318 252.112 558.42 Q248.64 561.499 242.32 561.499 Q240.144 561.499 237.876 561.128 Q235.63 560.758 233.223 560.017 L233.223 555.318 Q235.306 556.452 237.528 557.008 Q239.751 557.564 242.227 557.564 Q246.232 557.564 248.57 555.457 Q250.908 553.351 250.908 549.739 Q250.908 546.128 248.57 544.022 Q246.232 541.915 242.227 541.915 Q240.353 541.915 238.478 542.332 Q236.626 542.749 234.681 543.628 L234.681 526.267 Z\" fill=\"#000000\" fill-rule=\"nonzero\" fill-opacity=\"1\" /><path clip-path=\"url(#clip220)\" d=\"M138.085 127.472 Q134.473 127.472 132.645 131.037 Q130.839 134.578 130.839 141.708 Q130.839 148.814 132.645 152.379 Q134.473 155.921 138.085 155.921 Q141.719 155.921 143.524 152.379 Q145.353 148.814 145.353 141.708 Q145.353 134.578 143.524 131.037 Q141.719 127.472 138.085 127.472 M138.085 123.768 Q143.895 123.768 146.95 128.375 Q150.029 132.958 150.029 141.708 Q150.029 150.435 146.95 155.041 Q143.895 159.625 138.085 159.625 Q132.274 159.625 129.196 155.041 Q126.14 150.435 126.14 141.708 Q126.14 132.958 129.196 128.375 Q132.274 123.768 138.085 123.768 Z\" fill=\"#000000\" fill-rule=\"nonzero\" fill-opacity=\"1\" /><path clip-path=\"url(#clip220)\" d=\"M158.246 153.074 L163.131 153.074 L163.131 158.953 L158.246 158.953 L158.246 153.074 Z\" fill=\"#000000\" fill-rule=\"nonzero\" fill-opacity=\"1\" /><path clip-path=\"url(#clip220)\" d=\"M174.126 155.018 L181.765 155.018 L181.765 128.653 L173.455 130.319 L173.455 126.06 L181.719 124.393 L186.394 124.393 L186.394 155.018 L194.033 155.018 L194.033 158.953 L174.126 158.953 L174.126 155.018 Z\" fill=\"#000000\" fill-rule=\"nonzero\" fill-opacity=\"1\" /><path clip-path=\"url(#clip220)\" d=\"M213.478 127.472 Q209.867 127.472 208.038 131.037 Q206.232 134.578 206.232 141.708 Q206.232 148.814 208.038 152.379 Q209.867 155.921 213.478 155.921 Q217.112 155.921 218.917 152.379 Q220.746 148.814 220.746 141.708 Q220.746 134.578 218.917 131.037 Q217.112 127.472 213.478 127.472 M213.478 123.768 Q219.288 123.768 222.343 128.375 Q225.422 132.958 225.422 141.708 Q225.422 150.435 222.343 155.041 Q219.288 159.625 213.478 159.625 Q207.667 159.625 204.589 155.041 Q201.533 150.435 201.533 141.708 Q201.533 132.958 204.589 128.375 Q207.667 123.768 213.478 123.768 Z\" fill=\"#000000\" fill-rule=\"nonzero\" fill-opacity=\"1\" /><path clip-path=\"url(#clip220)\" d=\"M243.64 127.472 Q240.028 127.472 238.2 131.037 Q236.394 134.578 236.394 141.708 Q236.394 148.814 238.2 152.379 Q240.028 155.921 243.64 155.921 Q247.274 155.921 249.079 152.379 Q250.908 148.814 250.908 141.708 Q250.908 134.578 249.079 131.037 Q247.274 127.472 243.64 127.472 M243.64 123.768 Q249.45 123.768 252.505 128.375 Q255.584 132.958 255.584 141.708 Q255.584 150.435 252.505 155.041 Q249.45 159.625 243.64 159.625 Q237.829 159.625 234.751 155.041 Q231.695 150.435 231.695 141.708 Q231.695 132.958 234.751 128.375 Q237.829 123.768 243.64 123.768 Z\" fill=\"#000000\" fill-rule=\"nonzero\" fill-opacity=\"1\" /><path clip-path=\"url(#clip220)\" d=\"M28.3642 1040.89 L28.3642 1000.69 L33.775 1000.69 L33.775 1017.56 L75.8842 1017.56 L75.8842 1024.02 L33.775 1024.02 L33.775 1040.89 L28.3642 1040.89 Z\" fill=\"#000000\" fill-rule=\"nonzero\" fill-opacity=\"1\" /><path clip-path=\"url(#clip220)\" d=\"M28.3642 994.487 L28.3642 988.057 L75.8842 988.057 L75.8842 994.487 L28.3642 994.487 Z\" fill=\"#000000\" fill-rule=\"nonzero\" fill-opacity=\"1\" /><path clip-path=\"url(#clip220)\" d=\"M28.3642 975.262 L28.3642 965.682 L60.7019 953.555 L28.3642 941.365 L28.3642 931.784 L75.8842 931.784 L75.8842 938.055 L34.157 938.055 L66.7494 950.309 L66.7494 956.77 L34.157 969.024 L75.8842 969.024 L75.8842 975.262 L28.3642 975.262 Z\" fill=\"#000000\" fill-rule=\"nonzero\" fill-opacity=\"1\" /><path clip-path=\"url(#clip220)\" d=\"M28.3642 919.021 L28.3642 888.975 L33.775 888.975 L33.775 912.592 L47.8432 912.592 L47.8432 889.962 L53.2541 889.962 L53.2541 912.592 L70.4733 912.592 L70.4733 888.402 L75.8842 888.402 L75.8842 919.021 L28.3642 919.021 Z\" fill=\"#000000\" fill-rule=\"nonzero\" fill-opacity=\"1\" /><path clip-path=\"url(#clip220)\" d=\"M26.359 878.631 L26.359 865.135 L30.9104 865.135 L30.9104 872.774 L79.9264 872.774 L79.9264 865.135 L84.4779 865.135 L84.4779 878.631 L26.359 878.631 Z\" fill=\"#000000\" fill-rule=\"nonzero\" fill-opacity=\"1\" /><path clip-path=\"url(#clip220)\" d=\"M41.2865 829.933 L46.8247 829.933 Q45.5516 832.416 44.915 835.089 Q44.2784 837.763 44.2784 840.627 Q44.2784 844.988 45.6152 847.184 Q46.952 849.348 49.6256 849.348 Q51.6626 849.348 52.8403 847.789 Q53.9861 846.229 55.0365 841.519 L55.4821 839.513 Q56.8189 833.275 59.2697 830.665 Q61.6886 828.023 66.0491 828.023 Q71.0144 828.023 73.9108 831.97 Q76.8072 835.885 76.8072 842.76 Q76.8072 845.625 76.2343 848.744 Q75.6932 851.831 74.5792 855.269 L68.5318 855.269 Q70.2187 852.022 71.078 848.871 Q71.9056 845.72 71.9056 842.633 Q71.9056 838.495 70.5051 836.267 Q69.0729 834.039 66.4947 834.039 Q64.1076 834.039 62.8345 835.662 Q61.5613 837.254 60.3837 842.696 L59.9062 844.733 Q58.7604 850.176 56.4051 852.595 Q54.018 855.014 49.8802 855.014 Q44.8513 855.014 42.1141 851.449 Q39.3768 847.884 39.3768 841.328 Q39.3768 838.081 39.8543 835.217 Q40.3317 832.352 41.2865 829.933 Z\" fill=\"#000000\" fill-rule=\"nonzero\" fill-opacity=\"1\" /><path clip-path=\"url(#clip220)\" d=\"M26.359 805.011 L84.4779 805.011 L84.4779 818.507 L79.9264 818.507 L79.9264 810.9 L30.9104 810.9 L30.9104 818.507 L26.359 818.507 L26.359 805.011 Z\" fill=\"#000000\" fill-rule=\"nonzero\" fill-opacity=\"1\" /><polyline clip-path=\"url(#clip222)\" style=\"stroke:#009af9; stroke-linecap:round; stroke-linejoin:round; stroke-width:4; stroke-opacity:1; fill:none\" points=\"349.919,1749.07 412.645,1748.46 538.097,1745.97 789,1723.3 1290.81,1560.48 2294.42,257.146 \"/>\n",
       "<polyline clip-path=\"url(#clip222)\" style=\"stroke:#000000; stroke-linecap:round; stroke-linejoin:round; stroke-width:4; stroke-opacity:1; fill:none\" points=\"349.919,1749.09 349.919,1749.04 \"/>\n",
       "<polyline clip-path=\"url(#clip222)\" style=\"stroke:#000000; stroke-linecap:round; stroke-linejoin:round; stroke-width:4; stroke-opacity:1; fill:none\" points=\"412.645,1748.56 412.645,1748.37 \"/>\n",
       "<polyline clip-path=\"url(#clip222)\" style=\"stroke:#000000; stroke-linecap:round; stroke-linejoin:round; stroke-width:4; stroke-opacity:1; fill:none\" points=\"538.097,1746.3 538.097,1745.64 \"/>\n",
       "<polyline clip-path=\"url(#clip222)\" style=\"stroke:#000000; stroke-linecap:round; stroke-linejoin:round; stroke-width:4; stroke-opacity:1; fill:none\" points=\"789,1725.61 789,1721 \"/>\n",
       "<polyline clip-path=\"url(#clip222)\" style=\"stroke:#000000; stroke-linecap:round; stroke-linejoin:round; stroke-width:4; stroke-opacity:1; fill:none\" points=\"1290.81,1584.62 1290.81,1536.34 \"/>\n",
       "<polyline clip-path=\"url(#clip222)\" style=\"stroke:#000000; stroke-linecap:round; stroke-linejoin:round; stroke-width:4; stroke-opacity:1; fill:none\" points=\"2294.42,417.48 2294.42,96.8125 \"/>\n",
       "<line clip-path=\"url(#clip222)\" x1=\"365.919\" y1=\"1749.09\" x2=\"333.919\" y2=\"1749.09\" style=\"stroke:#000000; stroke-width:4; stroke-opacity:1\"/>\n",
       "<line clip-path=\"url(#clip222)\" x1=\"365.919\" y1=\"1749.04\" x2=\"333.919\" y2=\"1749.04\" style=\"stroke:#000000; stroke-width:4; stroke-opacity:1\"/>\n",
       "<line clip-path=\"url(#clip222)\" x1=\"428.645\" y1=\"1748.56\" x2=\"396.645\" y2=\"1748.56\" style=\"stroke:#000000; stroke-width:4; stroke-opacity:1\"/>\n",
       "<line clip-path=\"url(#clip222)\" x1=\"428.645\" y1=\"1748.37\" x2=\"396.645\" y2=\"1748.37\" style=\"stroke:#000000; stroke-width:4; stroke-opacity:1\"/>\n",
       "<line clip-path=\"url(#clip222)\" x1=\"554.097\" y1=\"1746.3\" x2=\"522.097\" y2=\"1746.3\" style=\"stroke:#000000; stroke-width:4; stroke-opacity:1\"/>\n",
       "<line clip-path=\"url(#clip222)\" x1=\"554.097\" y1=\"1745.64\" x2=\"522.097\" y2=\"1745.64\" style=\"stroke:#000000; stroke-width:4; stroke-opacity:1\"/>\n",
       "<line clip-path=\"url(#clip222)\" x1=\"805\" y1=\"1725.61\" x2=\"773\" y2=\"1725.61\" style=\"stroke:#000000; stroke-width:4; stroke-opacity:1\"/>\n",
       "<line clip-path=\"url(#clip222)\" x1=\"805\" y1=\"1721\" x2=\"773\" y2=\"1721\" style=\"stroke:#000000; stroke-width:4; stroke-opacity:1\"/>\n",
       "<line clip-path=\"url(#clip222)\" x1=\"1306.81\" y1=\"1584.62\" x2=\"1274.81\" y2=\"1584.62\" style=\"stroke:#000000; stroke-width:4; stroke-opacity:1\"/>\n",
       "<line clip-path=\"url(#clip222)\" x1=\"1306.81\" y1=\"1536.34\" x2=\"1274.81\" y2=\"1536.34\" style=\"stroke:#000000; stroke-width:4; stroke-opacity:1\"/>\n",
       "<line clip-path=\"url(#clip222)\" x1=\"2310.42\" y1=\"417.48\" x2=\"2278.42\" y2=\"417.48\" style=\"stroke:#000000; stroke-width:4; stroke-opacity:1\"/>\n",
       "<line clip-path=\"url(#clip222)\" x1=\"2310.42\" y1=\"96.8125\" x2=\"2278.42\" y2=\"96.8125\" style=\"stroke:#000000; stroke-width:4; stroke-opacity:1\"/>\n",
       "<path clip-path=\"url(#clip220)\" d=\"M360.29 209.305 L680.04 209.305 L680.04 105.625 L360.29 105.625  Z\" fill=\"#ffffff\" fill-rule=\"evenodd\" fill-opacity=\"1\"/>\n",
       "<polyline clip-path=\"url(#clip220)\" style=\"stroke:#000000; stroke-linecap:round; stroke-linejoin:round; stroke-width:4; stroke-opacity:1; fill:none\" points=\"360.29,209.305 680.04,209.305 680.04,105.625 360.29,105.625 360.29,209.305 \"/>\n",
       "<polyline clip-path=\"url(#clip220)\" style=\"stroke:#009af9; stroke-linecap:round; stroke-linejoin:round; stroke-width:4; stroke-opacity:1; fill:none\" points=\"383.192,157.465 520.603,157.465 \"/>\n",
       "<path clip-path=\"url(#clip220)\" d=\"M543.505 140.185 L572.741 140.185 L572.741 144.12 L560.472 144.12 L560.472 174.745 L555.773 174.745 L555.773 144.12 L543.505 144.12 L543.505 140.185 Z\" fill=\"#000000\" fill-rule=\"nonzero\" fill-opacity=\"1\" /><path clip-path=\"url(#clip220)\" d=\"M575.611 148.819 L579.87 148.819 L579.87 174.745 L575.611 174.745 L575.611 148.819 M575.611 138.726 L579.87 138.726 L579.87 144.12 L575.611 144.12 L575.611 138.726 Z\" fill=\"#000000\" fill-rule=\"nonzero\" fill-opacity=\"1\" /><path clip-path=\"url(#clip220)\" d=\"M608.968 153.796 Q610.565 150.925 612.787 149.56 Q615.009 148.194 618.018 148.194 Q622.069 148.194 624.268 151.041 Q626.467 153.865 626.467 159.097 L626.467 174.745 L622.185 174.745 L622.185 159.235 Q622.185 155.509 620.866 153.703 Q619.546 151.898 616.838 151.898 Q613.528 151.898 611.606 154.097 Q609.685 156.296 609.685 160.092 L609.685 174.745 L605.403 174.745 L605.403 159.235 Q605.403 155.485 604.083 153.703 Q602.764 151.898 600.009 151.898 Q596.745 151.898 594.824 154.12 Q592.903 156.319 592.903 160.092 L592.903 174.745 L588.62 174.745 L588.62 148.819 L592.903 148.819 L592.903 152.847 Q594.361 150.462 596.398 149.328 Q598.435 148.194 601.236 148.194 Q604.06 148.194 606.028 149.629 Q608.018 151.064 608.968 153.796 Z\" fill=\"#000000\" fill-rule=\"nonzero\" fill-opacity=\"1\" /><path clip-path=\"url(#clip220)\" d=\"M657.139 160.717 L657.139 162.8 L637.555 162.8 Q637.833 167.198 640.194 169.513 Q642.578 171.805 646.815 171.805 Q649.268 171.805 651.56 171.203 Q653.875 170.601 656.143 169.397 L656.143 173.425 Q653.852 174.397 651.444 174.907 Q649.037 175.416 646.56 175.416 Q640.356 175.416 636.722 171.805 Q633.111 168.194 633.111 162.036 Q633.111 155.671 636.537 151.944 Q639.986 148.194 645.819 148.194 Q651.051 148.194 654.083 151.573 Q657.139 154.93 657.139 160.717 M652.879 159.467 Q652.833 155.972 650.912 153.888 Q649.014 151.805 645.865 151.805 Q642.301 151.805 640.148 153.819 Q638.018 155.833 637.694 159.49 L652.879 159.467 Z\" fill=\"#000000\" fill-rule=\"nonzero\" fill-opacity=\"1\" /></svg>\n"
      ]
     },
     "execution_count": 41,
     "metadata": {},
     "output_type": "execute_result"
    }
   ],
   "source": [
    "plot(det_time_statistics.size, det_time_statistics.time_mean, \n",
    "    size = (600, 500), yerr=det_time_statistics.time_std,\n",
    "    yaxis = \"TIME[s]\", xaxis = \"Number of rows\", label=\"Time\")"
   ]
  },
  {
   "cell_type": "code",
   "execution_count": 42,
   "id": "68ea2777",
   "metadata": {},
   "outputs": [
    {
     "data": {
      "image/svg+xml": [
       "<?xml version=\"1.0\" encoding=\"utf-8\"?>\n",
       "<svg xmlns=\"http://www.w3.org/2000/svg\" xmlns:xlink=\"http://www.w3.org/1999/xlink\" width=\"600\" height=\"500\" viewBox=\"0 0 2400 2000\">\n",
       "<defs>\n",
       "  <clipPath id=\"clip260\">\n",
       "    <rect x=\"0\" y=\"0\" width=\"2400\" height=\"2000\"/>\n",
       "  </clipPath>\n",
       "</defs>\n",
       "<path clip-path=\"url(#clip260)\" d=\"M0 2000 L2400 2000 L2400 0 L0 0  Z\" fill=\"#ffffff\" fill-rule=\"evenodd\" fill-opacity=\"1\"/>\n",
       "<defs>\n",
       "  <clipPath id=\"clip261\">\n",
       "    <rect x=\"480\" y=\"0\" width=\"1681\" height=\"1681\"/>\n",
       "  </clipPath>\n",
       "</defs>\n",
       "<path clip-path=\"url(#clip260)\" d=\"M350.284 1798.66 L2352.76 1798.66 L2352.76 47.2441 L350.284 47.2441  Z\" fill=\"#ffffff\" fill-rule=\"evenodd\" fill-opacity=\"1\"/>\n",
       "<defs>\n",
       "  <clipPath id=\"clip262\">\n",
       "    <rect x=\"350\" y=\"47\" width=\"2003\" height=\"1752\"/>\n",
       "  </clipPath>\n",
       "</defs>\n",
       "<polyline clip-path=\"url(#clip262)\" style=\"stroke:#000000; stroke-linecap:round; stroke-linejoin:round; stroke-width:2; stroke-opacity:0.1; fill:none\" points=\"650.716,1798.66 650.716,47.2441 \"/>\n",
       "<polyline clip-path=\"url(#clip262)\" style=\"stroke:#000000; stroke-linecap:round; stroke-linejoin:round; stroke-width:2; stroke-opacity:0.1; fill:none\" points=\"955.413,1798.66 955.413,47.2441 \"/>\n",
       "<polyline clip-path=\"url(#clip262)\" style=\"stroke:#000000; stroke-linecap:round; stroke-linejoin:round; stroke-width:2; stroke-opacity:0.1; fill:none\" points=\"1260.11,1798.66 1260.11,47.2441 \"/>\n",
       "<polyline clip-path=\"url(#clip262)\" style=\"stroke:#000000; stroke-linecap:round; stroke-linejoin:round; stroke-width:2; stroke-opacity:0.1; fill:none\" points=\"1564.81,1798.66 1564.81,47.2441 \"/>\n",
       "<polyline clip-path=\"url(#clip262)\" style=\"stroke:#000000; stroke-linecap:round; stroke-linejoin:round; stroke-width:2; stroke-opacity:0.1; fill:none\" points=\"1869.51,1798.66 1869.51,47.2441 \"/>\n",
       "<polyline clip-path=\"url(#clip262)\" style=\"stroke:#000000; stroke-linecap:round; stroke-linejoin:round; stroke-width:2; stroke-opacity:0.1; fill:none\" points=\"2174.2,1798.66 2174.2,47.2441 \"/>\n",
       "<polyline clip-path=\"url(#clip260)\" style=\"stroke:#000000; stroke-linecap:round; stroke-linejoin:round; stroke-width:4; stroke-opacity:1; fill:none\" points=\"350.284,1798.66 2352.76,1798.66 \"/>\n",
       "<polyline clip-path=\"url(#clip260)\" style=\"stroke:#000000; stroke-linecap:round; stroke-linejoin:round; stroke-width:4; stroke-opacity:1; fill:none\" points=\"650.716,1798.66 650.716,1779.76 \"/>\n",
       "<polyline clip-path=\"url(#clip260)\" style=\"stroke:#000000; stroke-linecap:round; stroke-linejoin:round; stroke-width:4; stroke-opacity:1; fill:none\" points=\"955.413,1798.66 955.413,1779.76 \"/>\n",
       "<polyline clip-path=\"url(#clip260)\" style=\"stroke:#000000; stroke-linecap:round; stroke-linejoin:round; stroke-width:4; stroke-opacity:1; fill:none\" points=\"1260.11,1798.66 1260.11,1779.76 \"/>\n",
       "<polyline clip-path=\"url(#clip260)\" style=\"stroke:#000000; stroke-linecap:round; stroke-linejoin:round; stroke-width:4; stroke-opacity:1; fill:none\" points=\"1564.81,1798.66 1564.81,1779.76 \"/>\n",
       "<polyline clip-path=\"url(#clip260)\" style=\"stroke:#000000; stroke-linecap:round; stroke-linejoin:round; stroke-width:4; stroke-opacity:1; fill:none\" points=\"1869.51,1798.66 1869.51,1779.76 \"/>\n",
       "<polyline clip-path=\"url(#clip260)\" style=\"stroke:#000000; stroke-linecap:round; stroke-linejoin:round; stroke-width:4; stroke-opacity:1; fill:none\" points=\"2174.2,1798.66 2174.2,1779.76 \"/>\n",
       "<path clip-path=\"url(#clip260)\" d=\"M625.404 1857.12 L633.043 1857.12 L633.043 1830.76 L624.732 1832.43 L624.732 1828.17 L632.996 1826.5 L637.672 1826.5 L637.672 1857.12 L645.311 1857.12 L645.311 1861.06 L625.404 1861.06 L625.404 1857.12 Z\" fill=\"#000000\" fill-rule=\"nonzero\" fill-opacity=\"1\" /><path clip-path=\"url(#clip260)\" d=\"M664.755 1829.58 Q661.144 1829.58 659.316 1833.14 Q657.51 1836.68 657.51 1843.81 Q657.51 1850.92 659.316 1854.49 Q661.144 1858.03 664.755 1858.03 Q668.39 1858.03 670.195 1854.49 Q672.024 1850.92 672.024 1843.81 Q672.024 1836.68 670.195 1833.14 Q668.39 1829.58 664.755 1829.58 M664.755 1825.87 Q670.565 1825.87 673.621 1830.48 Q676.7 1835.06 676.7 1843.81 Q676.7 1852.54 673.621 1857.15 Q670.565 1861.73 664.755 1861.73 Q658.945 1861.73 655.867 1857.15 Q652.811 1852.54 652.811 1843.81 Q652.811 1835.06 655.867 1830.48 Q658.945 1825.87 664.755 1825.87 Z\" fill=\"#000000\" fill-rule=\"nonzero\" fill-opacity=\"1\" /><path clip-path=\"url(#clip260)\" d=\"M934.187 1857.12 L950.506 1857.12 L950.506 1861.06 L928.562 1861.06 L928.562 1857.12 Q931.224 1854.37 935.807 1849.74 Q940.414 1845.09 941.594 1843.75 Q943.839 1841.22 944.719 1839.49 Q945.622 1837.73 945.622 1836.04 Q945.622 1833.28 943.677 1831.55 Q941.756 1829.81 938.654 1829.81 Q936.455 1829.81 934.002 1830.57 Q931.571 1831.34 928.793 1832.89 L928.793 1828.17 Q931.617 1827.03 934.071 1826.45 Q936.525 1825.87 938.562 1825.87 Q943.932 1825.87 947.127 1828.56 Q950.321 1831.25 950.321 1835.74 Q950.321 1837.87 949.511 1839.79 Q948.724 1841.68 946.617 1844.28 Q946.039 1844.95 942.937 1848.17 Q939.835 1851.36 934.187 1857.12 Z\" fill=\"#000000\" fill-rule=\"nonzero\" fill-opacity=\"1\" /><path clip-path=\"url(#clip260)\" d=\"M970.321 1829.58 Q966.71 1829.58 964.881 1833.14 Q963.075 1836.68 963.075 1843.81 Q963.075 1850.92 964.881 1854.49 Q966.71 1858.03 970.321 1858.03 Q973.955 1858.03 975.761 1854.49 Q977.589 1850.92 977.589 1843.81 Q977.589 1836.68 975.761 1833.14 Q973.955 1829.58 970.321 1829.58 M970.321 1825.87 Q976.131 1825.87 979.187 1830.48 Q982.265 1835.06 982.265 1843.81 Q982.265 1852.54 979.187 1857.15 Q976.131 1861.73 970.321 1861.73 Q964.511 1861.73 961.432 1857.15 Q958.376 1852.54 958.376 1843.81 Q958.376 1835.06 961.432 1830.48 Q964.511 1825.87 970.321 1825.87 Z\" fill=\"#000000\" fill-rule=\"nonzero\" fill-opacity=\"1\" /><path clip-path=\"url(#clip260)\" d=\"M1248.95 1842.43 Q1252.31 1843.14 1254.19 1845.41 Q1256.08 1847.68 1256.08 1851.01 Q1256.08 1856.13 1252.56 1858.93 Q1249.05 1861.73 1242.56 1861.73 Q1240.39 1861.73 1238.07 1861.29 Q1235.78 1860.87 1233.33 1860.02 L1233.33 1855.5 Q1235.27 1856.64 1237.59 1857.22 Q1239.9 1857.8 1242.43 1857.8 Q1246.82 1857.8 1249.12 1856.06 Q1251.43 1854.32 1251.43 1851.01 Q1251.43 1847.96 1249.28 1846.25 Q1247.15 1844.51 1243.33 1844.51 L1239.3 1844.51 L1239.3 1840.67 L1243.51 1840.67 Q1246.96 1840.67 1248.79 1839.3 Q1250.62 1837.91 1250.62 1835.32 Q1250.62 1832.66 1248.72 1831.25 Q1246.85 1829.81 1243.33 1829.81 Q1241.41 1829.81 1239.21 1830.23 Q1237.01 1830.64 1234.37 1831.52 L1234.37 1827.36 Q1237.03 1826.62 1239.35 1826.25 Q1241.69 1825.87 1243.75 1825.87 Q1249.07 1825.87 1252.17 1828.31 Q1255.27 1830.71 1255.27 1834.83 Q1255.27 1837.7 1253.63 1839.69 Q1251.99 1841.66 1248.95 1842.43 Z\" fill=\"#000000\" fill-rule=\"nonzero\" fill-opacity=\"1\" /><path clip-path=\"url(#clip260)\" d=\"M1274.95 1829.58 Q1271.34 1829.58 1269.51 1833.14 Q1267.7 1836.68 1267.7 1843.81 Q1267.7 1850.92 1269.51 1854.49 Q1271.34 1858.03 1274.95 1858.03 Q1278.58 1858.03 1280.39 1854.49 Q1282.22 1850.92 1282.22 1843.81 Q1282.22 1836.68 1280.39 1833.14 Q1278.58 1829.58 1274.95 1829.58 M1274.95 1825.87 Q1280.76 1825.87 1283.81 1830.48 Q1286.89 1835.06 1286.89 1843.81 Q1286.89 1852.54 1283.81 1857.15 Q1280.76 1861.73 1274.95 1861.73 Q1269.14 1861.73 1266.06 1857.15 Q1263 1852.54 1263 1843.81 Q1263 1835.06 1266.06 1830.48 Q1269.14 1825.87 1274.95 1825.87 Z\" fill=\"#000000\" fill-rule=\"nonzero\" fill-opacity=\"1\" /><path clip-path=\"url(#clip260)\" d=\"M1552.98 1830.57 L1541.17 1849.02 L1552.98 1849.02 L1552.98 1830.57 M1551.75 1826.5 L1557.63 1826.5 L1557.63 1849.02 L1562.56 1849.02 L1562.56 1852.91 L1557.63 1852.91 L1557.63 1861.06 L1552.98 1861.06 L1552.98 1852.91 L1537.38 1852.91 L1537.38 1848.4 L1551.75 1826.5 Z\" fill=\"#000000\" fill-rule=\"nonzero\" fill-opacity=\"1\" /><path clip-path=\"url(#clip260)\" d=\"M1580.29 1829.58 Q1576.68 1829.58 1574.85 1833.14 Q1573.05 1836.68 1573.05 1843.81 Q1573.05 1850.92 1574.85 1854.49 Q1576.68 1858.03 1580.29 1858.03 Q1583.93 1858.03 1585.73 1854.49 Q1587.56 1850.92 1587.56 1843.81 Q1587.56 1836.68 1585.73 1833.14 Q1583.93 1829.58 1580.29 1829.58 M1580.29 1825.87 Q1586.1 1825.87 1589.16 1830.48 Q1592.24 1835.06 1592.24 1843.81 Q1592.24 1852.54 1589.16 1857.15 Q1586.1 1861.73 1580.29 1861.73 Q1574.48 1861.73 1571.41 1857.15 Q1568.35 1852.54 1568.35 1843.81 Q1568.35 1835.06 1571.41 1830.48 Q1574.48 1825.87 1580.29 1825.87 Z\" fill=\"#000000\" fill-rule=\"nonzero\" fill-opacity=\"1\" /><path clip-path=\"url(#clip260)\" d=\"M1844.2 1826.5 L1862.56 1826.5 L1862.56 1830.44 L1848.49 1830.44 L1848.49 1838.91 Q1849.51 1838.56 1850.52 1838.4 Q1851.54 1838.21 1852.56 1838.21 Q1858.35 1838.21 1861.73 1841.38 Q1865.11 1844.56 1865.11 1849.97 Q1865.11 1855.55 1861.64 1858.65 Q1858.16 1861.73 1851.84 1861.73 Q1849.67 1861.73 1847.4 1861.36 Q1845.15 1860.99 1842.75 1860.25 L1842.75 1855.55 Q1844.83 1856.68 1847.05 1857.24 Q1849.27 1857.8 1851.75 1857.8 Q1855.76 1857.8 1858.09 1855.69 Q1860.43 1853.58 1860.43 1849.97 Q1860.43 1846.36 1858.09 1844.25 Q1855.76 1842.15 1851.75 1842.15 Q1849.88 1842.15 1848 1842.56 Q1846.15 1842.98 1844.2 1843.86 L1844.2 1826.5 Z\" fill=\"#000000\" fill-rule=\"nonzero\" fill-opacity=\"1\" /><path clip-path=\"url(#clip260)\" d=\"M1884.32 1829.58 Q1880.71 1829.58 1878.88 1833.14 Q1877.08 1836.68 1877.08 1843.81 Q1877.08 1850.92 1878.88 1854.49 Q1880.71 1858.03 1884.32 1858.03 Q1887.95 1858.03 1889.76 1854.49 Q1891.59 1850.92 1891.59 1843.81 Q1891.59 1836.68 1889.76 1833.14 Q1887.95 1829.58 1884.32 1829.58 M1884.32 1825.87 Q1890.13 1825.87 1893.19 1830.48 Q1896.26 1835.06 1896.26 1843.81 Q1896.26 1852.54 1893.19 1857.15 Q1890.13 1861.73 1884.32 1861.73 Q1878.51 1861.73 1875.43 1857.15 Q1872.38 1852.54 1872.38 1843.81 Q1872.38 1835.06 1875.43 1830.48 Q1878.51 1825.87 1884.32 1825.87 Z\" fill=\"#000000\" fill-rule=\"nonzero\" fill-opacity=\"1\" /><path clip-path=\"url(#clip260)\" d=\"M2159.61 1841.92 Q2156.46 1841.92 2154.61 1844.07 Q2152.78 1846.22 2152.78 1849.97 Q2152.78 1853.7 2154.61 1855.87 Q2156.46 1858.03 2159.61 1858.03 Q2162.76 1858.03 2164.59 1855.87 Q2166.44 1853.7 2166.44 1849.97 Q2166.44 1846.22 2164.59 1844.07 Q2162.76 1841.92 2159.61 1841.92 M2168.89 1827.26 L2168.89 1831.52 Q2167.13 1830.69 2165.33 1830.25 Q2163.54 1829.81 2161.78 1829.81 Q2157.15 1829.81 2154.7 1832.93 Q2152.27 1836.06 2151.92 1842.38 Q2153.29 1840.37 2155.35 1839.3 Q2157.41 1838.21 2159.89 1838.21 Q2165.09 1838.21 2168.1 1841.38 Q2171.14 1844.53 2171.14 1849.97 Q2171.14 1855.3 2167.99 1858.51 Q2164.84 1861.73 2159.61 1861.73 Q2153.61 1861.73 2150.44 1857.15 Q2147.27 1852.54 2147.27 1843.81 Q2147.27 1835.62 2151.16 1830.76 Q2155.05 1825.87 2161.6 1825.87 Q2163.36 1825.87 2165.14 1826.22 Q2166.95 1826.57 2168.89 1827.26 Z\" fill=\"#000000\" fill-rule=\"nonzero\" fill-opacity=\"1\" /><path clip-path=\"url(#clip260)\" d=\"M2189.19 1829.58 Q2185.58 1829.58 2183.75 1833.14 Q2181.95 1836.68 2181.95 1843.81 Q2181.95 1850.92 2183.75 1854.49 Q2185.58 1858.03 2189.19 1858.03 Q2192.83 1858.03 2194.63 1854.49 Q2196.46 1850.92 2196.46 1843.81 Q2196.46 1836.68 2194.63 1833.14 Q2192.83 1829.58 2189.19 1829.58 M2189.19 1825.87 Q2195 1825.87 2198.06 1830.48 Q2201.14 1835.06 2201.14 1843.81 Q2201.14 1852.54 2198.06 1857.15 Q2195 1861.73 2189.19 1861.73 Q2183.38 1861.73 2180.3 1857.15 Q2177.25 1852.54 2177.25 1843.81 Q2177.25 1835.06 2180.3 1830.48 Q2183.38 1825.87 2189.19 1825.87 Z\" fill=\"#000000\" fill-rule=\"nonzero\" fill-opacity=\"1\" /><path clip-path=\"url(#clip260)\" d=\"M1096.99 1896 L1105.64 1896 L1126.72 1935.76 L1126.72 1896 L1132.95 1896 L1132.95 1943.52 L1124.3 1943.52 L1103.23 1903.77 L1103.23 1943.52 L1096.99 1943.52 L1096.99 1896 Z\" fill=\"#000000\" fill-rule=\"nonzero\" fill-opacity=\"1\" /><path clip-path=\"url(#clip260)\" d=\"M1144.89 1929.46 L1144.89 1907.88 L1150.75 1907.88 L1150.75 1929.23 Q1150.75 1934.29 1152.72 1936.84 Q1154.69 1939.35 1158.64 1939.35 Q1163.38 1939.35 1166.12 1936.33 Q1168.89 1933.31 1168.89 1928.09 L1168.89 1907.88 L1174.74 1907.88 L1174.74 1943.52 L1168.89 1943.52 L1168.89 1938.05 Q1166.76 1941.3 1163.92 1942.89 Q1161.12 1944.45 1157.4 1944.45 Q1151.26 1944.45 1148.07 1940.63 Q1144.89 1936.81 1144.89 1929.46 M1159.63 1907.02 L1159.63 1907.02 Z\" fill=\"#000000\" fill-rule=\"nonzero\" fill-opacity=\"1\" /><path clip-path=\"url(#clip260)\" d=\"M1214.56 1914.72 Q1216.76 1910.77 1219.81 1908.89 Q1222.87 1907.02 1227.01 1907.02 Q1232.58 1907.02 1235.6 1910.93 Q1238.62 1914.81 1238.62 1922.01 L1238.62 1943.52 L1232.74 1943.52 L1232.74 1922.2 Q1232.74 1917.07 1230.92 1914.59 Q1229.11 1912.11 1225.38 1912.11 Q1220.83 1912.11 1218.19 1915.13 Q1215.55 1918.16 1215.55 1923.38 L1215.55 1943.52 L1209.66 1943.52 L1209.66 1922.2 Q1209.66 1917.04 1207.85 1914.59 Q1206.03 1912.11 1202.24 1912.11 Q1197.76 1912.11 1195.11 1915.16 Q1192.47 1918.19 1192.47 1923.38 L1192.47 1943.52 L1186.58 1943.52 L1186.58 1907.88 L1192.47 1907.88 L1192.47 1913.41 Q1194.48 1910.14 1197.28 1908.58 Q1200.08 1907.02 1203.93 1907.02 Q1207.81 1907.02 1210.52 1908.99 Q1213.26 1910.96 1214.56 1914.72 Z\" fill=\"#000000\" fill-rule=\"nonzero\" fill-opacity=\"1\" /><path clip-path=\"url(#clip260)\" d=\"M1275.9 1925.73 Q1275.9 1919.27 1273.22 1915.61 Q1270.58 1911.92 1265.93 1911.92 Q1261.29 1911.92 1258.61 1915.61 Q1255.97 1919.27 1255.97 1925.73 Q1255.97 1932.19 1258.61 1935.88 Q1261.29 1939.55 1265.93 1939.55 Q1270.58 1939.55 1273.22 1935.88 Q1275.9 1932.19 1275.9 1925.73 M1255.97 1913.29 Q1257.82 1910.1 1260.62 1908.58 Q1263.45 1907.02 1267.37 1907.02 Q1273.86 1907.02 1277.9 1912.17 Q1281.97 1917.33 1281.97 1925.73 Q1281.97 1934.13 1277.9 1939.29 Q1273.86 1944.45 1267.37 1944.45 Q1263.45 1944.45 1260.62 1942.92 Q1257.82 1941.36 1255.97 1938.18 L1255.97 1943.52 L1250.08 1943.52 L1250.08 1894 L1255.97 1894 L1255.97 1913.29 Z\" fill=\"#000000\" fill-rule=\"nonzero\" fill-opacity=\"1\" /><path clip-path=\"url(#clip260)\" d=\"M1322.17 1924.24 L1322.17 1927.1 L1295.25 1927.1 Q1295.63 1933.15 1298.88 1936.33 Q1302.15 1939.48 1307.98 1939.48 Q1311.35 1939.48 1314.5 1938.65 Q1317.69 1937.83 1320.81 1936.17 L1320.81 1941.71 Q1317.65 1943.05 1314.34 1943.75 Q1311.03 1944.45 1307.63 1944.45 Q1299.1 1944.45 1294.1 1939.48 Q1289.14 1934.52 1289.14 1926.05 Q1289.14 1917.3 1293.85 1912.17 Q1298.59 1907.02 1306.61 1907.02 Q1313.8 1907.02 1317.97 1911.66 Q1322.17 1916.28 1322.17 1924.24 M1316.32 1922.52 Q1316.25 1917.71 1313.61 1914.85 Q1311 1911.98 1306.67 1911.98 Q1301.77 1911.98 1298.81 1914.75 Q1295.88 1917.52 1295.44 1922.55 L1316.32 1922.52 Z\" fill=\"#000000\" fill-rule=\"nonzero\" fill-opacity=\"1\" /><path clip-path=\"url(#clip260)\" d=\"M1352.44 1913.35 Q1351.46 1912.78 1350.28 1912.52 Q1349.13 1912.24 1347.73 1912.24 Q1342.77 1912.24 1340.09 1915.48 Q1337.45 1918.7 1337.45 1924.75 L1337.45 1943.52 L1331.56 1943.52 L1331.56 1907.88 L1337.45 1907.88 L1337.45 1913.41 Q1339.3 1910.17 1342.26 1908.61 Q1345.22 1907.02 1349.45 1907.02 Q1350.06 1907.02 1350.79 1907.11 Q1351.52 1907.18 1352.41 1907.33 L1352.44 1913.35 Z\" fill=\"#000000\" fill-rule=\"nonzero\" fill-opacity=\"1\" /><path clip-path=\"url(#clip260)\" d=\"M1393.12 1911.98 Q1388.41 1911.98 1385.67 1915.67 Q1382.93 1919.33 1382.93 1925.73 Q1382.93 1932.13 1385.64 1935.82 Q1388.38 1939.48 1393.12 1939.48 Q1397.8 1939.48 1400.54 1935.79 Q1403.27 1932.1 1403.27 1925.73 Q1403.27 1919.4 1400.54 1915.71 Q1397.8 1911.98 1393.12 1911.98 M1393.12 1907.02 Q1400.76 1907.02 1405.12 1911.98 Q1409.48 1916.95 1409.48 1925.73 Q1409.48 1934.48 1405.12 1939.48 Q1400.76 1944.45 1393.12 1944.45 Q1385.45 1944.45 1381.09 1939.48 Q1376.76 1934.48 1376.76 1925.73 Q1376.76 1916.95 1381.09 1911.98 Q1385.45 1907.02 1393.12 1907.02 Z\" fill=\"#000000\" fill-rule=\"nonzero\" fill-opacity=\"1\" /><path clip-path=\"url(#clip260)\" d=\"M1437.23 1894 L1437.23 1898.87 L1431.63 1898.87 Q1428.48 1898.87 1427.24 1900.14 Q1426.03 1901.41 1426.03 1904.72 L1426.03 1907.88 L1435.67 1907.88 L1435.67 1912.43 L1426.03 1912.43 L1426.03 1943.52 L1420.14 1943.52 L1420.14 1912.43 L1414.54 1912.43 L1414.54 1907.88 L1420.14 1907.88 L1420.14 1905.39 Q1420.14 1899.44 1422.91 1896.74 Q1425.68 1894 1431.7 1894 L1437.23 1894 Z\" fill=\"#000000\" fill-rule=\"nonzero\" fill-opacity=\"1\" /><path clip-path=\"url(#clip260)\" d=\"M1483.51 1913.35 Q1482.53 1912.78 1481.35 1912.52 Q1480.2 1912.24 1478.8 1912.24 Q1473.84 1912.24 1471.16 1915.48 Q1468.52 1918.7 1468.52 1924.75 L1468.52 1943.52 L1462.63 1943.52 L1462.63 1907.88 L1468.52 1907.88 L1468.52 1913.41 Q1470.37 1910.17 1473.33 1908.61 Q1476.29 1907.02 1480.52 1907.02 Q1481.13 1907.02 1481.86 1907.11 Q1482.59 1907.18 1483.48 1907.33 L1483.51 1913.35 Z\" fill=\"#000000\" fill-rule=\"nonzero\" fill-opacity=\"1\" /><path clip-path=\"url(#clip260)\" d=\"M1502.04 1911.98 Q1497.33 1911.98 1494.59 1915.67 Q1491.85 1919.33 1491.85 1925.73 Q1491.85 1932.13 1494.56 1935.82 Q1497.29 1939.48 1502.04 1939.48 Q1506.72 1939.48 1509.45 1935.79 Q1512.19 1932.1 1512.19 1925.73 Q1512.19 1919.4 1509.45 1915.71 Q1506.72 1911.98 1502.04 1911.98 M1502.04 1907.02 Q1509.68 1907.02 1514.04 1911.98 Q1518.4 1916.95 1518.4 1925.73 Q1518.4 1934.48 1514.04 1939.48 Q1509.68 1944.45 1502.04 1944.45 Q1494.37 1944.45 1490.01 1939.48 Q1485.68 1934.48 1485.68 1925.73 Q1485.68 1916.95 1490.01 1911.98 Q1494.37 1907.02 1502.04 1907.02 Z\" fill=\"#000000\" fill-rule=\"nonzero\" fill-opacity=\"1\" /><path clip-path=\"url(#clip260)\" d=\"M1524.7 1907.88 L1530.56 1907.88 L1537.88 1935.69 L1545.16 1907.88 L1552.07 1907.88 L1559.39 1935.69 L1566.68 1907.88 L1572.54 1907.88 L1563.21 1943.52 L1556.3 1943.52 L1548.63 1914.31 L1540.93 1943.52 L1534.02 1943.52 L1524.7 1907.88 Z\" fill=\"#000000\" fill-rule=\"nonzero\" fill-opacity=\"1\" /><path clip-path=\"url(#clip260)\" d=\"M1604.14 1908.93 L1604.14 1914.46 Q1601.66 1913.19 1598.99 1912.55 Q1596.31 1911.92 1593.45 1911.92 Q1589.09 1911.92 1586.89 1913.25 Q1584.73 1914.59 1584.73 1917.27 Q1584.73 1919.3 1586.29 1920.48 Q1587.85 1921.63 1592.56 1922.68 L1594.56 1923.12 Q1600.8 1924.46 1603.41 1926.91 Q1606.05 1929.33 1606.05 1933.69 Q1606.05 1938.65 1602.11 1941.55 Q1598.19 1944.45 1591.32 1944.45 Q1588.45 1944.45 1585.33 1943.87 Q1582.25 1943.33 1578.81 1942.22 L1578.81 1936.17 Q1582.05 1937.86 1585.21 1938.72 Q1588.36 1939.55 1591.44 1939.55 Q1595.58 1939.55 1597.81 1938.14 Q1600.04 1936.71 1600.04 1934.13 Q1600.04 1931.75 1598.41 1930.47 Q1596.82 1929.2 1591.38 1928.02 L1589.34 1927.55 Q1583.9 1926.4 1581.48 1924.04 Q1579.06 1921.66 1579.06 1917.52 Q1579.06 1912.49 1582.63 1909.75 Q1586.19 1907.02 1592.75 1907.02 Q1596 1907.02 1598.86 1907.49 Q1601.72 1907.97 1604.14 1908.93 Z\" fill=\"#000000\" fill-rule=\"nonzero\" fill-opacity=\"1\" /><polyline clip-path=\"url(#clip262)\" style=\"stroke:#000000; stroke-linecap:round; stroke-linejoin:round; stroke-width:2; stroke-opacity:0.1; fill:none\" points=\"350.284,1749.13 2352.76,1749.13 \"/>\n",
       "<polyline clip-path=\"url(#clip262)\" style=\"stroke:#000000; stroke-linecap:round; stroke-linejoin:round; stroke-width:2; stroke-opacity:0.1; fill:none\" points=\"350.284,1359.03 2352.76,1359.03 \"/>\n",
       "<polyline clip-path=\"url(#clip262)\" style=\"stroke:#000000; stroke-linecap:round; stroke-linejoin:round; stroke-width:2; stroke-opacity:0.1; fill:none\" points=\"350.284,968.931 2352.76,968.931 \"/>\n",
       "<polyline clip-path=\"url(#clip262)\" style=\"stroke:#000000; stroke-linecap:round; stroke-linejoin:round; stroke-width:2; stroke-opacity:0.1; fill:none\" points=\"350.284,578.83 2352.76,578.83 \"/>\n",
       "<polyline clip-path=\"url(#clip262)\" style=\"stroke:#000000; stroke-linecap:round; stroke-linejoin:round; stroke-width:2; stroke-opacity:0.1; fill:none\" points=\"350.284,188.728 2352.76,188.728 \"/>\n",
       "<polyline clip-path=\"url(#clip260)\" style=\"stroke:#000000; stroke-linecap:round; stroke-linejoin:round; stroke-width:4; stroke-opacity:1; fill:none\" points=\"350.284,1798.66 350.284,47.2441 \"/>\n",
       "<polyline clip-path=\"url(#clip260)\" style=\"stroke:#000000; stroke-linecap:round; stroke-linejoin:round; stroke-width:4; stroke-opacity:1; fill:none\" points=\"350.284,1749.13 369.182,1749.13 \"/>\n",
       "<polyline clip-path=\"url(#clip260)\" style=\"stroke:#000000; stroke-linecap:round; stroke-linejoin:round; stroke-width:4; stroke-opacity:1; fill:none\" points=\"350.284,1359.03 369.182,1359.03 \"/>\n",
       "<polyline clip-path=\"url(#clip260)\" style=\"stroke:#000000; stroke-linecap:round; stroke-linejoin:round; stroke-width:4; stroke-opacity:1; fill:none\" points=\"350.284,968.931 369.182,968.931 \"/>\n",
       "<polyline clip-path=\"url(#clip260)\" style=\"stroke:#000000; stroke-linecap:round; stroke-linejoin:round; stroke-width:4; stroke-opacity:1; fill:none\" points=\"350.284,578.83 369.182,578.83 \"/>\n",
       "<polyline clip-path=\"url(#clip260)\" style=\"stroke:#000000; stroke-linecap:round; stroke-linejoin:round; stroke-width:4; stroke-opacity:1; fill:none\" points=\"350.284,188.728 369.182,188.728 \"/>\n",
       "<path clip-path=\"url(#clip260)\" d=\"M302.34 1734.93 Q298.729 1734.93 296.9 1738.5 Q295.095 1742.04 295.095 1749.17 Q295.095 1756.28 296.9 1759.84 Q298.729 1763.38 302.34 1763.38 Q305.974 1763.38 307.78 1759.84 Q309.609 1756.28 309.609 1749.17 Q309.609 1742.04 307.78 1738.5 Q305.974 1734.93 302.34 1734.93 M302.34 1731.23 Q308.15 1731.23 311.206 1735.84 Q314.284 1740.42 314.284 1749.17 Q314.284 1757.9 311.206 1762.5 Q308.15 1767.09 302.34 1767.09 Q296.53 1767.09 293.451 1762.5 Q290.396 1757.9 290.396 1749.17 Q290.396 1740.42 293.451 1735.84 Q296.53 1731.23 302.34 1731.23 Z\" fill=\"#000000\" fill-rule=\"nonzero\" fill-opacity=\"1\" /><path clip-path=\"url(#clip260)\" d=\"M132.923 1378.83 L149.242 1378.83 L149.242 1382.76 L127.298 1382.76 L127.298 1378.83 Q129.96 1376.07 134.543 1371.44 Q139.149 1366.79 140.33 1365.45 Q142.575 1362.92 143.455 1361.19 Q144.358 1359.43 144.358 1357.74 Q144.358 1354.98 142.413 1353.25 Q140.492 1351.51 137.39 1351.51 Q135.191 1351.51 132.737 1352.27 Q130.307 1353.04 127.529 1354.59 L127.529 1349.87 Q130.353 1348.73 132.807 1348.15 Q135.26 1347.58 137.298 1347.58 Q142.668 1347.58 145.862 1350.26 Q149.057 1352.95 149.057 1357.44 Q149.057 1359.57 148.247 1361.49 Q147.459 1363.39 145.353 1365.98 Q144.774 1366.65 141.672 1369.87 Q138.571 1373.06 132.923 1378.83 Z\" fill=\"#000000\" fill-rule=\"nonzero\" fill-opacity=\"1\" /><path clip-path=\"url(#clip260)\" d=\"M159.057 1376.88 L163.941 1376.88 L163.941 1382.76 L159.057 1382.76 L159.057 1376.88 Z\" fill=\"#000000\" fill-rule=\"nonzero\" fill-opacity=\"1\" /><path clip-path=\"url(#clip260)\" d=\"M184.126 1351.28 Q180.515 1351.28 178.686 1354.84 Q176.881 1358.39 176.881 1365.52 Q176.881 1372.62 178.686 1376.19 Q180.515 1379.73 184.126 1379.73 Q187.76 1379.73 189.566 1376.19 Q191.394 1372.62 191.394 1365.52 Q191.394 1358.39 189.566 1354.84 Q187.76 1351.28 184.126 1351.28 M184.126 1347.58 Q189.936 1347.58 192.992 1352.18 Q196.07 1356.77 196.07 1365.52 Q196.07 1374.24 192.992 1378.85 Q189.936 1383.43 184.126 1383.43 Q178.316 1383.43 175.237 1378.85 Q172.182 1374.24 172.182 1365.52 Q172.182 1356.77 175.237 1352.18 Q178.316 1347.58 184.126 1347.58 Z\" fill=\"#000000\" fill-rule=\"nonzero\" fill-opacity=\"1\" /><path clip-path=\"url(#clip260)\" d=\"M232.459 1357.3 L221.88 1367.92 L232.459 1378.5 L229.704 1381.3 L219.079 1370.68 L208.455 1381.3 L205.723 1378.5 L216.279 1367.92 L205.723 1357.3 L208.455 1354.5 L219.079 1365.12 L229.704 1354.5 L232.459 1357.3 Z\" fill=\"#000000\" fill-rule=\"nonzero\" fill-opacity=\"1\" /><path clip-path=\"url(#clip260)\" d=\"M244.82 1378.83 L252.459 1378.83 L252.459 1352.46 L244.149 1354.13 L244.149 1349.87 L252.413 1348.2 L257.089 1348.2 L257.089 1378.83 L264.727 1378.83 L264.727 1382.76 L244.82 1382.76 L244.82 1378.83 Z\" fill=\"#000000\" fill-rule=\"nonzero\" fill-opacity=\"1\" /><path clip-path=\"url(#clip260)\" d=\"M284.172 1351.28 Q280.561 1351.28 278.732 1354.84 Q276.926 1358.39 276.926 1365.52 Q276.926 1372.62 278.732 1376.19 Q280.561 1379.73 284.172 1379.73 Q287.806 1379.73 289.612 1376.19 Q291.44 1372.62 291.44 1365.52 Q291.44 1358.39 289.612 1354.84 Q287.806 1351.28 284.172 1351.28 M284.172 1347.58 Q289.982 1347.58 293.037 1352.18 Q296.116 1356.77 296.116 1365.52 Q296.116 1374.24 293.037 1378.85 Q289.982 1383.43 284.172 1383.43 Q278.362 1383.43 275.283 1378.85 Q272.227 1374.24 272.227 1365.52 Q272.227 1356.77 275.283 1352.18 Q278.362 1347.58 284.172 1347.58 Z\" fill=\"#000000\" fill-rule=\"nonzero\" fill-opacity=\"1\" /><path clip-path=\"url(#clip260)\" d=\"M297.301 1327.27 L312.216 1327.27 L312.216 1330.47 L300.78 1330.47 L300.78 1337.35 Q301.608 1337.07 302.436 1336.94 Q303.263 1336.79 304.091 1336.79 Q308.793 1336.79 311.538 1339.36 Q314.284 1341.94 314.284 1346.34 Q314.284 1350.87 311.463 1353.39 Q308.642 1355.9 303.508 1355.9 Q301.74 1355.9 299.896 1355.59 Q298.072 1355.29 296.116 1354.69 L296.116 1350.87 Q297.809 1351.8 299.614 1352.25 Q301.42 1352.7 303.432 1352.7 Q306.686 1352.7 308.586 1350.99 Q310.485 1349.28 310.485 1346.34 Q310.485 1343.41 308.586 1341.7 Q306.686 1339.98 303.432 1339.98 Q301.909 1339.98 300.385 1340.32 Q298.881 1340.66 297.301 1341.38 L297.301 1327.27 Z\" fill=\"#000000\" fill-rule=\"nonzero\" fill-opacity=\"1\" /><path clip-path=\"url(#clip260)\" d=\"M141.742 962.173 L129.936 980.622 L141.742 980.622 L141.742 962.173 M140.515 958.099 L146.395 958.099 L146.395 980.622 L151.325 980.622 L151.325 984.511 L146.395 984.511 L146.395 992.659 L141.742 992.659 L141.742 984.511 L126.14 984.511 L126.14 979.997 L140.515 958.099 Z\" fill=\"#000000\" fill-rule=\"nonzero\" fill-opacity=\"1\" /><path clip-path=\"url(#clip260)\" d=\"M159.057 986.779 L163.941 986.779 L163.941 992.659 L159.057 992.659 L159.057 986.779 Z\" fill=\"#000000\" fill-rule=\"nonzero\" fill-opacity=\"1\" /><path clip-path=\"url(#clip260)\" d=\"M184.126 961.178 Q180.515 961.178 178.686 964.742 Q176.881 968.284 176.881 975.414 Q176.881 982.52 178.686 986.085 Q180.515 989.626 184.126 989.626 Q187.76 989.626 189.566 986.085 Q191.394 982.52 191.394 975.414 Q191.394 968.284 189.566 964.742 Q187.76 961.178 184.126 961.178 M184.126 957.474 Q189.936 957.474 192.992 962.08 Q196.07 966.664 196.07 975.414 Q196.07 984.14 192.992 988.747 Q189.936 993.33 184.126 993.33 Q178.316 993.33 175.237 988.747 Q172.182 984.14 172.182 975.414 Q172.182 966.664 175.237 962.08 Q178.316 957.474 184.126 957.474 Z\" fill=\"#000000\" fill-rule=\"nonzero\" fill-opacity=\"1\" /><path clip-path=\"url(#clip260)\" d=\"M232.459 967.196 L221.88 977.821 L232.459 988.4 L229.704 991.201 L219.079 980.576 L208.455 991.201 L205.723 988.4 L216.279 977.821 L205.723 967.196 L208.455 964.395 L219.079 975.02 L229.704 964.395 L232.459 967.196 Z\" fill=\"#000000\" fill-rule=\"nonzero\" fill-opacity=\"1\" /><path clip-path=\"url(#clip260)\" d=\"M244.82 988.724 L252.459 988.724 L252.459 962.358 L244.149 964.025 L244.149 959.766 L252.413 958.099 L257.089 958.099 L257.089 988.724 L264.727 988.724 L264.727 992.659 L244.82 992.659 L244.82 988.724 Z\" fill=\"#000000\" fill-rule=\"nonzero\" fill-opacity=\"1\" /><path clip-path=\"url(#clip260)\" d=\"M284.172 961.178 Q280.561 961.178 278.732 964.742 Q276.926 968.284 276.926 975.414 Q276.926 982.52 278.732 986.085 Q280.561 989.626 284.172 989.626 Q287.806 989.626 289.612 986.085 Q291.44 982.52 291.44 975.414 Q291.44 968.284 289.612 964.742 Q287.806 961.178 284.172 961.178 M284.172 957.474 Q289.982 957.474 293.037 962.08 Q296.116 966.664 296.116 975.414 Q296.116 984.14 293.037 988.747 Q289.982 993.33 284.172 993.33 Q278.362 993.33 275.283 988.747 Q272.227 984.14 272.227 975.414 Q272.227 966.664 275.283 962.08 Q278.362 957.474 284.172 957.474 Z\" fill=\"#000000\" fill-rule=\"nonzero\" fill-opacity=\"1\" /><path clip-path=\"url(#clip260)\" d=\"M297.301 937.168 L312.216 937.168 L312.216 940.366 L300.78 940.366 L300.78 947.249 Q301.608 946.967 302.436 946.836 Q303.263 946.685 304.091 946.685 Q308.793 946.685 311.538 949.262 Q314.284 951.839 314.284 956.24 Q314.284 960.772 311.463 963.292 Q308.642 965.794 303.508 965.794 Q301.74 965.794 299.896 965.493 Q298.072 965.192 296.116 964.59 L296.116 960.772 Q297.809 961.694 299.614 962.145 Q301.42 962.597 303.432 962.597 Q306.686 962.597 308.586 960.885 Q310.485 959.174 310.485 956.24 Q310.485 953.306 308.586 951.594 Q306.686 949.883 303.432 949.883 Q301.909 949.883 300.385 950.221 Q298.881 950.56 297.301 951.274 L297.301 937.168 Z\" fill=\"#000000\" fill-rule=\"nonzero\" fill-opacity=\"1\" /><path clip-path=\"url(#clip260)\" d=\"M139.473 583.414 Q136.325 583.414 134.473 585.567 Q132.645 587.719 132.645 591.469 Q132.645 595.196 134.473 597.372 Q136.325 599.525 139.473 599.525 Q142.622 599.525 144.45 597.372 Q146.302 595.196 146.302 591.469 Q146.302 587.719 144.45 585.567 Q142.622 583.414 139.473 583.414 M148.756 568.761 L148.756 573.02 Q146.997 572.187 145.191 571.747 Q143.409 571.308 141.649 571.308 Q137.02 571.308 134.566 574.432 Q132.135 577.557 131.788 583.877 Q133.154 581.863 135.214 580.798 Q137.274 579.71 139.751 579.71 Q144.96 579.71 147.969 582.882 Q151.001 586.03 151.001 591.469 Q151.001 596.793 147.853 600.011 Q144.705 603.229 139.473 603.229 Q133.478 603.229 130.307 598.645 Q127.136 594.039 127.136 585.312 Q127.136 577.118 131.024 572.257 Q134.913 567.372 141.464 567.372 Q143.223 567.372 145.006 567.72 Q146.811 568.067 148.756 568.761 Z\" fill=\"#000000\" fill-rule=\"nonzero\" fill-opacity=\"1\" /><path clip-path=\"url(#clip260)\" d=\"M159.057 596.678 L163.941 596.678 L163.941 602.557 L159.057 602.557 L159.057 596.678 Z\" fill=\"#000000\" fill-rule=\"nonzero\" fill-opacity=\"1\" /><path clip-path=\"url(#clip260)\" d=\"M184.126 571.076 Q180.515 571.076 178.686 574.641 Q176.881 578.182 176.881 585.312 Q176.881 592.419 178.686 595.983 Q180.515 599.525 184.126 599.525 Q187.76 599.525 189.566 595.983 Q191.394 592.419 191.394 585.312 Q191.394 578.182 189.566 574.641 Q187.76 571.076 184.126 571.076 M184.126 567.372 Q189.936 567.372 192.992 571.979 Q196.07 576.562 196.07 585.312 Q196.07 594.039 192.992 598.645 Q189.936 603.229 184.126 603.229 Q178.316 603.229 175.237 598.645 Q172.182 594.039 172.182 585.312 Q172.182 576.562 175.237 571.979 Q178.316 567.372 184.126 567.372 Z\" fill=\"#000000\" fill-rule=\"nonzero\" fill-opacity=\"1\" /><path clip-path=\"url(#clip260)\" d=\"M232.459 577.095 L221.88 587.719 L232.459 598.298 L229.704 601.099 L219.079 590.474 L208.455 601.099 L205.723 598.298 L216.279 587.719 L205.723 577.095 L208.455 574.294 L219.079 584.919 L229.704 574.294 L232.459 577.095 Z\" fill=\"#000000\" fill-rule=\"nonzero\" fill-opacity=\"1\" /><path clip-path=\"url(#clip260)\" d=\"M244.82 598.622 L252.459 598.622 L252.459 572.257 L244.149 573.923 L244.149 569.664 L252.413 567.997 L257.089 567.997 L257.089 598.622 L264.727 598.622 L264.727 602.557 L244.82 602.557 L244.82 598.622 Z\" fill=\"#000000\" fill-rule=\"nonzero\" fill-opacity=\"1\" /><path clip-path=\"url(#clip260)\" d=\"M284.172 571.076 Q280.561 571.076 278.732 574.641 Q276.926 578.182 276.926 585.312 Q276.926 592.419 278.732 595.983 Q280.561 599.525 284.172 599.525 Q287.806 599.525 289.612 595.983 Q291.44 592.419 291.44 585.312 Q291.44 578.182 289.612 574.641 Q287.806 571.076 284.172 571.076 M284.172 567.372 Q289.982 567.372 293.037 571.979 Q296.116 576.562 296.116 585.312 Q296.116 594.039 293.037 598.645 Q289.982 603.229 284.172 603.229 Q278.362 603.229 275.283 598.645 Q272.227 594.039 272.227 585.312 Q272.227 576.562 275.283 571.979 Q278.362 567.372 284.172 567.372 Z\" fill=\"#000000\" fill-rule=\"nonzero\" fill-opacity=\"1\" /><path clip-path=\"url(#clip260)\" d=\"M297.301 547.067 L312.216 547.067 L312.216 550.264 L300.78 550.264 L300.78 557.148 Q301.608 556.866 302.436 556.734 Q303.263 556.584 304.091 556.584 Q308.793 556.584 311.538 559.16 Q314.284 561.737 314.284 566.138 Q314.284 570.671 311.463 573.191 Q308.642 575.692 303.508 575.692 Q301.74 575.692 299.896 575.391 Q298.072 575.091 296.116 574.489 L296.116 570.671 Q297.809 571.592 299.614 572.044 Q301.42 572.495 303.432 572.495 Q306.686 572.495 308.586 570.784 Q310.485 569.072 310.485 566.138 Q310.485 563.204 308.586 561.492 Q306.686 559.781 303.432 559.781 Q301.909 559.781 300.385 560.12 Q298.881 560.458 297.301 561.173 L297.301 547.067 Z\" fill=\"#000000\" fill-rule=\"nonzero\" fill-opacity=\"1\" /><path clip-path=\"url(#clip260)\" d=\"M138.895 196.044 Q135.561 196.044 133.64 197.826 Q131.742 199.609 131.742 202.734 Q131.742 205.859 133.64 207.641 Q135.561 209.423 138.895 209.423 Q142.228 209.423 144.149 207.641 Q146.071 205.835 146.071 202.734 Q146.071 199.609 144.149 197.826 Q142.251 196.044 138.895 196.044 M134.219 194.053 Q131.21 193.312 129.52 191.252 Q127.853 189.192 127.853 186.229 Q127.853 182.086 130.793 179.678 Q133.756 177.271 138.895 177.271 Q144.057 177.271 146.997 179.678 Q149.936 182.086 149.936 186.229 Q149.936 189.192 148.247 191.252 Q146.58 193.312 143.594 194.053 Q146.973 194.84 148.848 197.132 Q150.747 199.423 150.747 202.734 Q150.747 207.757 147.668 210.442 Q144.612 213.127 138.895 213.127 Q133.177 213.127 130.098 210.442 Q127.043 207.757 127.043 202.734 Q127.043 199.423 128.941 197.132 Q130.839 194.84 134.219 194.053 M132.506 186.669 Q132.506 189.354 134.173 190.859 Q135.862 192.363 138.895 192.363 Q141.904 192.363 143.594 190.859 Q145.307 189.354 145.307 186.669 Q145.307 183.984 143.594 182.479 Q141.904 180.974 138.895 180.974 Q135.862 180.974 134.173 182.479 Q132.506 183.984 132.506 186.669 Z\" fill=\"#000000\" fill-rule=\"nonzero\" fill-opacity=\"1\" /><path clip-path=\"url(#clip260)\" d=\"M159.057 206.576 L163.941 206.576 L163.941 212.456 L159.057 212.456 L159.057 206.576 Z\" fill=\"#000000\" fill-rule=\"nonzero\" fill-opacity=\"1\" /><path clip-path=\"url(#clip260)\" d=\"M184.126 180.974 Q180.515 180.974 178.686 184.539 Q176.881 188.081 176.881 195.211 Q176.881 202.317 178.686 205.882 Q180.515 209.423 184.126 209.423 Q187.76 209.423 189.566 205.882 Q191.394 202.317 191.394 195.211 Q191.394 188.081 189.566 184.539 Q187.76 180.974 184.126 180.974 M184.126 177.271 Q189.936 177.271 192.992 181.877 Q196.07 186.461 196.07 195.211 Q196.07 203.937 192.992 208.544 Q189.936 213.127 184.126 213.127 Q178.316 213.127 175.237 208.544 Q172.182 203.937 172.182 195.211 Q172.182 186.461 175.237 181.877 Q178.316 177.271 184.126 177.271 Z\" fill=\"#000000\" fill-rule=\"nonzero\" fill-opacity=\"1\" /><path clip-path=\"url(#clip260)\" d=\"M232.459 186.993 L221.88 197.618 L232.459 208.197 L229.704 210.997 L219.079 200.373 L208.455 210.997 L205.723 208.197 L216.279 197.618 L205.723 186.993 L208.455 184.192 L219.079 194.817 L229.704 184.192 L232.459 186.993 Z\" fill=\"#000000\" fill-rule=\"nonzero\" fill-opacity=\"1\" /><path clip-path=\"url(#clip260)\" d=\"M244.82 208.521 L252.459 208.521 L252.459 182.155 L244.149 183.822 L244.149 179.562 L252.413 177.896 L257.089 177.896 L257.089 208.521 L264.727 208.521 L264.727 212.456 L244.82 212.456 L244.82 208.521 Z\" fill=\"#000000\" fill-rule=\"nonzero\" fill-opacity=\"1\" /><path clip-path=\"url(#clip260)\" d=\"M284.172 180.974 Q280.561 180.974 278.732 184.539 Q276.926 188.081 276.926 195.211 Q276.926 202.317 278.732 205.882 Q280.561 209.423 284.172 209.423 Q287.806 209.423 289.612 205.882 Q291.44 202.317 291.44 195.211 Q291.44 188.081 289.612 184.539 Q287.806 180.974 284.172 180.974 M284.172 177.271 Q289.982 177.271 293.037 181.877 Q296.116 186.461 296.116 195.211 Q296.116 203.937 293.037 208.544 Q289.982 213.127 284.172 213.127 Q278.362 213.127 275.283 208.544 Q272.227 203.937 272.227 195.211 Q272.227 186.461 275.283 181.877 Q278.362 177.271 284.172 177.271 Z\" fill=\"#000000\" fill-rule=\"nonzero\" fill-opacity=\"1\" /><path clip-path=\"url(#clip260)\" d=\"M297.301 156.965 L312.216 156.965 L312.216 160.163 L300.78 160.163 L300.78 167.046 Q301.608 166.764 302.436 166.633 Q303.263 166.482 304.091 166.482 Q308.793 166.482 311.538 169.059 Q314.284 171.635 314.284 176.036 Q314.284 180.569 311.463 183.089 Q308.642 185.591 303.508 185.591 Q301.74 185.591 299.896 185.29 Q298.072 184.989 296.116 184.387 L296.116 180.569 Q297.809 181.491 299.614 181.942 Q301.42 182.393 303.432 182.393 Q306.686 182.393 308.586 180.682 Q310.485 178.97 310.485 176.036 Q310.485 173.102 308.586 171.391 Q306.686 169.679 303.432 169.679 Q301.909 169.679 300.385 170.018 Q298.881 170.357 297.301 171.071 L297.301 156.965 Z\" fill=\"#000000\" fill-rule=\"nonzero\" fill-opacity=\"1\" /><path clip-path=\"url(#clip260)\" d=\"M28.3642 1019.68 L28.3642 992.37 L33.775 992.37 L33.775 1013.25 L47.7796 1013.25 L47.7796 994.407 L53.1904 994.407 L53.1904 1013.25 L75.8842 1013.25 L75.8842 1019.68 L28.3642 1019.68 Z\" fill=\"#000000\" fill-rule=\"nonzero\" fill-opacity=\"1\" /><path clip-path=\"url(#clip260)\" d=\"M28.3642 982.185 L28.3642 975.756 L70.4733 975.756 L70.4733 952.616 L75.8842 952.616 L75.8842 982.185 L28.3642 982.185 Z\" fill=\"#000000\" fill-rule=\"nonzero\" fill-opacity=\"1\" /><path clip-path=\"url(#clip260)\" d=\"M32.7247 928.904 Q32.7247 935.906 37.9445 940.044 Q43.1644 944.15 52.1719 944.15 Q61.1475 944.15 66.3674 940.044 Q71.5873 935.906 71.5873 928.904 Q71.5873 921.902 66.3674 917.828 Q61.1475 913.722 52.1719 913.722 Q43.1644 913.722 37.9445 917.828 Q32.7247 921.902 32.7247 928.904 M27.5048 928.904 Q27.5048 918.91 34.2206 912.926 Q40.9046 906.942 52.1719 906.942 Q63.4074 906.942 70.1232 912.926 Q76.8072 918.91 76.8072 928.904 Q76.8072 938.93 70.1232 944.945 Q63.4392 950.929 52.1719 950.929 Q40.9046 950.929 34.2206 944.945 Q27.5048 938.93 27.5048 928.904 Z\" fill=\"#000000\" fill-rule=\"nonzero\" fill-opacity=\"1\" /><path clip-path=\"url(#clip260)\" d=\"M33.6477 890.455 L51.5035 890.455 L51.5035 882.371 Q51.5035 877.883 49.18 875.432 Q46.8565 872.981 42.5597 872.981 Q38.2947 872.981 35.9712 875.432 Q33.6477 877.883 33.6477 882.371 L33.6477 890.455 M28.3642 896.884 L28.3642 882.371 Q28.3642 874.382 31.9926 870.308 Q35.5892 866.202 42.5597 866.202 Q49.5938 866.202 53.1904 870.308 Q56.787 874.382 56.787 882.371 L56.787 890.455 L75.8842 890.455 L75.8842 896.884 L28.3642 896.884 Z\" fill=\"#000000\" fill-rule=\"nonzero\" fill-opacity=\"1\" /><path clip-path=\"url(#clip260)\" d=\"M29.9238 829.09 L36.194 829.09 Q34.4434 832.75 33.584 835.996 Q32.7247 839.243 32.7247 842.267 Q32.7247 847.518 34.7617 850.383 Q36.7987 853.216 40.5545 853.216 Q43.7055 853.216 45.3288 851.338 Q46.9202 849.428 47.9069 844.145 L48.7026 840.261 Q50.0712 833.068 53.5405 829.663 Q56.978 826.225 62.7708 826.225 Q69.6776 826.225 73.2424 830.872 Q76.8072 835.487 76.8072 844.431 Q76.8072 847.805 76.0433 851.624 Q75.2794 855.412 73.7835 859.486 L67.1631 859.486 Q69.3593 855.571 70.4733 851.815 Q71.5873 848.059 71.5873 844.431 Q71.5873 838.925 69.423 835.933 Q67.2586 832.941 63.2482 832.941 Q59.7471 832.941 57.7737 835.105 Q55.8004 837.238 54.8137 842.139 L54.0498 846.054 Q52.6175 853.247 49.562 856.462 Q46.5064 859.677 41.0637 859.677 Q34.7617 859.677 31.1332 855.253 Q27.5048 850.797 27.5048 842.999 Q27.5048 839.657 28.1095 836.187 Q28.7143 832.718 29.9238 829.09 Z\" fill=\"#000000\" fill-rule=\"nonzero\" fill-opacity=\"1\" /><polyline clip-path=\"url(#clip262)\" style=\"stroke:#ff0000; stroke-linecap:round; stroke-linejoin:round; stroke-width:4; stroke-opacity:1; fill:none\" points=\"406.958,1749.09 467.898,1748.95 589.777,1746.79 833.535,1724.97 1321.05,1539.54 2296.08,96.8125 \"/>\n",
       "<polyline clip-path=\"url(#clip262)\" style=\"stroke:#000000; stroke-linecap:round; stroke-linejoin:round; stroke-width:4; stroke-opacity:1; fill:none\" points=\"406.958,1749.09 406.958,1749.09 \"/>\n",
       "<polyline clip-path=\"url(#clip262)\" style=\"stroke:#000000; stroke-linecap:round; stroke-linejoin:round; stroke-width:4; stroke-opacity:1; fill:none\" points=\"467.898,1748.95 467.898,1748.95 \"/>\n",
       "<polyline clip-path=\"url(#clip262)\" style=\"stroke:#000000; stroke-linecap:round; stroke-linejoin:round; stroke-width:4; stroke-opacity:1; fill:none\" points=\"589.777,1746.79 589.777,1746.79 \"/>\n",
       "<polyline clip-path=\"url(#clip262)\" style=\"stroke:#000000; stroke-linecap:round; stroke-linejoin:round; stroke-width:4; stroke-opacity:1; fill:none\" points=\"833.535,1724.97 833.535,1724.97 \"/>\n",
       "<polyline clip-path=\"url(#clip262)\" style=\"stroke:#000000; stroke-linecap:round; stroke-linejoin:round; stroke-width:4; stroke-opacity:1; fill:none\" points=\"1321.05,1539.54 1321.05,1539.54 \"/>\n",
       "<polyline clip-path=\"url(#clip262)\" style=\"stroke:#000000; stroke-linecap:round; stroke-linejoin:round; stroke-width:4; stroke-opacity:1; fill:none\" points=\"2296.08,96.8125 2296.08,96.8125 \"/>\n",
       "<line clip-path=\"url(#clip262)\" x1=\"422.958\" y1=\"1749.09\" x2=\"390.958\" y2=\"1749.09\" style=\"stroke:#000000; stroke-width:4; stroke-opacity:1\"/>\n",
       "<line clip-path=\"url(#clip262)\" x1=\"422.958\" y1=\"1749.09\" x2=\"390.958\" y2=\"1749.09\" style=\"stroke:#000000; stroke-width:4; stroke-opacity:1\"/>\n",
       "<line clip-path=\"url(#clip262)\" x1=\"483.898\" y1=\"1748.95\" x2=\"451.898\" y2=\"1748.95\" style=\"stroke:#000000; stroke-width:4; stroke-opacity:1\"/>\n",
       "<line clip-path=\"url(#clip262)\" x1=\"483.898\" y1=\"1748.95\" x2=\"451.898\" y2=\"1748.95\" style=\"stroke:#000000; stroke-width:4; stroke-opacity:1\"/>\n",
       "<line clip-path=\"url(#clip262)\" x1=\"605.777\" y1=\"1746.79\" x2=\"573.777\" y2=\"1746.79\" style=\"stroke:#000000; stroke-width:4; stroke-opacity:1\"/>\n",
       "<line clip-path=\"url(#clip262)\" x1=\"605.777\" y1=\"1746.79\" x2=\"573.777\" y2=\"1746.79\" style=\"stroke:#000000; stroke-width:4; stroke-opacity:1\"/>\n",
       "<line clip-path=\"url(#clip262)\" x1=\"849.535\" y1=\"1724.97\" x2=\"817.535\" y2=\"1724.97\" style=\"stroke:#000000; stroke-width:4; stroke-opacity:1\"/>\n",
       "<line clip-path=\"url(#clip262)\" x1=\"849.535\" y1=\"1724.97\" x2=\"817.535\" y2=\"1724.97\" style=\"stroke:#000000; stroke-width:4; stroke-opacity:1\"/>\n",
       "<line clip-path=\"url(#clip262)\" x1=\"1337.05\" y1=\"1539.54\" x2=\"1305.05\" y2=\"1539.54\" style=\"stroke:#000000; stroke-width:4; stroke-opacity:1\"/>\n",
       "<line clip-path=\"url(#clip262)\" x1=\"1337.05\" y1=\"1539.54\" x2=\"1305.05\" y2=\"1539.54\" style=\"stroke:#000000; stroke-width:4; stroke-opacity:1\"/>\n",
       "<line clip-path=\"url(#clip262)\" x1=\"2312.08\" y1=\"96.8125\" x2=\"2280.08\" y2=\"96.8125\" style=\"stroke:#000000; stroke-width:4; stroke-opacity:1\"/>\n",
       "<line clip-path=\"url(#clip262)\" x1=\"2312.08\" y1=\"96.8125\" x2=\"2280.08\" y2=\"96.8125\" style=\"stroke:#000000; stroke-width:4; stroke-opacity:1\"/>\n",
       "<path clip-path=\"url(#clip260)\" d=\"M417.033 209.305 L734.548 209.305 L734.548 105.625 L417.033 105.625  Z\" fill=\"#ffffff\" fill-rule=\"evenodd\" fill-opacity=\"1\"/>\n",
       "<polyline clip-path=\"url(#clip260)\" style=\"stroke:#000000; stroke-linecap:round; stroke-linejoin:round; stroke-width:4; stroke-opacity:1; fill:none\" points=\"417.033,209.305 734.548,209.305 734.548,105.625 417.033,105.625 417.033,209.305 \"/>\n",
       "<polyline clip-path=\"url(#clip260)\" style=\"stroke:#ff0000; stroke-linecap:round; stroke-linejoin:round; stroke-width:4; stroke-opacity:1; fill:none\" points=\"439.283,157.465 572.781,157.465 \"/>\n",
       "<path clip-path=\"url(#clip260)\" d=\"M595.031 140.185 L614.892 140.185 L614.892 144.12 L599.707 144.12 L599.707 154.305 L613.41 154.305 L613.41 158.24 L599.707 158.24 L599.707 174.745 L595.031 174.745 L595.031 140.185 Z\" fill=\"#000000\" fill-rule=\"nonzero\" fill-opacity=\"1\" /><path clip-path=\"url(#clip260)\" d=\"M622.114 138.726 L626.373 138.726 L626.373 174.745 L622.114 174.745 L622.114 138.726 Z\" fill=\"#000000\" fill-rule=\"nonzero\" fill-opacity=\"1\" /><path clip-path=\"url(#clip260)\" d=\"M645.332 151.805 Q641.906 151.805 639.915 154.49 Q637.924 157.152 637.924 161.805 Q637.924 166.458 639.892 169.143 Q641.883 171.805 645.332 171.805 Q648.734 171.805 650.725 169.12 Q652.716 166.434 652.716 161.805 Q652.716 157.198 650.725 154.513 Q648.734 151.805 645.332 151.805 M645.332 148.194 Q650.887 148.194 654.058 151.805 Q657.23 155.416 657.23 161.805 Q657.23 168.171 654.058 171.805 Q650.887 175.416 645.332 175.416 Q639.753 175.416 636.582 171.805 Q633.433 168.171 633.433 161.805 Q633.433 155.416 636.582 151.805 Q639.753 148.194 645.332 148.194 Z\" fill=\"#000000\" fill-rule=\"nonzero\" fill-opacity=\"1\" /><path clip-path=\"url(#clip260)\" d=\"M668.41 170.856 L668.41 184.606 L664.128 184.606 L664.128 148.819 L668.41 148.819 L668.41 152.754 Q669.753 150.439 671.79 149.328 Q673.85 148.194 676.697 148.194 Q681.419 148.194 684.359 151.944 Q687.322 155.694 687.322 161.805 Q687.322 167.916 684.359 171.666 Q681.419 175.416 676.697 175.416 Q673.85 175.416 671.79 174.305 Q669.753 173.171 668.41 170.856 M682.901 161.805 Q682.901 157.106 680.956 154.444 Q679.035 151.759 675.655 151.759 Q672.276 151.759 670.331 154.444 Q668.41 157.106 668.41 161.805 Q668.41 166.504 670.331 169.189 Q672.276 171.851 675.655 171.851 Q679.035 171.851 680.956 169.189 Q682.901 166.504 682.901 161.805 Z\" fill=\"#000000\" fill-rule=\"nonzero\" fill-opacity=\"1\" /><path clip-path=\"url(#clip260)\" d=\"M710.91 149.583 L710.91 153.61 Q709.104 152.685 707.16 152.222 Q705.216 151.759 703.132 151.759 Q699.961 151.759 698.364 152.731 Q696.79 153.703 696.79 155.647 Q696.79 157.129 697.924 157.985 Q699.058 158.819 702.484 159.583 L703.942 159.907 Q708.479 160.879 710.378 162.661 Q712.299 164.421 712.299 167.592 Q712.299 171.203 709.428 173.309 Q706.581 175.416 701.581 175.416 Q699.498 175.416 697.229 174.999 Q694.984 174.606 692.484 173.796 L692.484 169.397 Q694.845 170.624 697.137 171.249 Q699.429 171.851 701.674 171.851 Q704.683 171.851 706.303 170.833 Q707.924 169.791 707.924 167.916 Q707.924 166.18 706.743 165.254 Q705.586 164.328 701.628 163.472 L700.146 163.124 Q696.188 162.291 694.429 160.578 Q692.669 158.842 692.669 155.833 Q692.669 152.175 695.262 150.185 Q697.854 148.194 702.623 148.194 Q704.984 148.194 707.067 148.541 Q709.151 148.888 710.91 149.583 Z\" fill=\"#000000\" fill-rule=\"nonzero\" fill-opacity=\"1\" /></svg>\n"
      ]
     },
     "execution_count": 42,
     "metadata": {},
     "output_type": "execute_result"
    }
   ],
   "source": [
    "plot(det_time_statistics.size, det_time_statistics.flops_mean, \n",
    "    size = (600, 500), color=\"red\",yerr=det_time_statistics.flops_std,\n",
    "    yaxis = \"FLOPS\", xaxis = \"Number of rows\", label=\"Flops\")"
   ]
  },
  {
   "cell_type": "markdown",
   "id": "26b6c14a",
   "metadata": {},
   "source": [
    "### Złożoność obliczeniowa\n",
    "\n",
    "Złożoność obliczeniowa wyliczania wyznacznika ściśle zalerzy od złożoności urzytej metody LU faktoryzacji dlatego też złożoność tego algorytmu wynosi $O({n}^{\\log_2(7)} + n) = $O({n}^{\\log_2(7)})$$\n"
   ]
  },
  {
   "cell_type": "markdown",
   "id": "08f2e2a4",
   "metadata": {},
   "source": [
    "### Porównanie z MATLABem"
   ]
  },
  {
   "cell_type": "markdown",
   "id": "821ed905",
   "metadata": {},
   "source": [
    "Kod w Matlab\n",
    "```Matlab\n",
    "A = [0.5488, 0.5929; \n",
    "    0.7094, 0.0734];\n",
    "    \n",
    "det_A = det(A)\n",
    "\n",
    "fprintf('Wyznacznik A:\\n');\n",
    "disp(det_A);\n",
    "```"
   ]
  },
  {
   "cell_type": "markdown",
   "id": "53195e56",
   "metadata": {},
   "source": [
    "#### Wyniki\n",
    "```\n",
    "det_A = -0.3803\n",
    "Wyznacznik A:\n",
    "-0.3803\n",
    "```"
   ]
  },
  {
   "cell_type": "code",
   "execution_count": null,
   "id": "77c47d69",
   "metadata": {},
   "outputs": [],
   "source": [
    "A = [0.5488 0.5929; \n",
    "    0.7094 0.0734]\n",
    "\n",
    "det_A = matrix_determinant(A)\n",
    "display(det_A)\n",
    "\n",
    "# display(det(A))"
   ]
  },
  {
   "cell_type": "markdown",
   "id": "3aafdc22",
   "metadata": {},
   "source": [
    "Otrzymane przez nas wyniki zgadzają się z matlabem\n"
   ]
  }
 ],
 "metadata": {
  "kernelspec": {
   "display_name": "Julia 1.8.5",
   "language": "julia",
   "name": "julia-1.8"
  },
  "language_info": {
   "file_extension": ".jl",
   "mimetype": "application/julia",
   "name": "julia",
   "version": "1.8.5"
  }
 },
 "nbformat": 4,
 "nbformat_minor": 5
}
